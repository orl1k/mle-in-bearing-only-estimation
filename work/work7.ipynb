{
 "metadata": {
  "language_info": {
   "codemirror_mode": {
    "name": "ipython",
    "version": 3
   },
   "file_extension": ".py",
   "mimetype": "text/x-python",
   "name": "python",
   "nbconvert_exporter": "python",
   "pygments_lexer": "ipython3",
   "version": "3.9.4"
  },
  "orig_nbformat": 2,
  "kernelspec": {
   "name": "python394jvsc74a57bd041eac51e58bc56b7e72645fd2a426397a0dabf158fb6895686ff6280c78d9f5d",
   "display_name": "Python 3.9.4 64-bit"
  },
  "metadata": {
   "interpreter": {
    "hash": "41eac51e58bc56b7e72645fd2a426397a0dabf158fb6895686ff6280c78d9f5d"
   }
  }
 },
 "nbformat": 4,
 "nbformat_minor": 2,
 "cells": [
  {
   "cell_type": "code",
   "execution_count": 1,
   "metadata": {},
   "outputs": [],
   "source": [
    "import sys\n",
    "import time\n",
    "import numpy as np\n",
    "import pandas as pd\n",
    "sys.path.append(\"..\")\n",
    "from tma.model import Model\n",
    "from tma.objects import Target, Observer\n",
    "from tma.algorithms import Algorithms, Swarm\n",
    "from tma.helper_functions import df_to_docx\n",
    "from pathlib import Path\n",
    "from datetime import datetime\n",
    "from functools import partial"
   ]
  },
  {
   "source": [
    "Создаем модель наблюдателя:"
   ],
   "cell_type": "markdown",
   "metadata": {}
  },
  {
   "cell_type": "code",
   "execution_count": 9,
   "metadata": {},
   "outputs": [
    {
     "output_type": "stream",
     "name": "stdout",
     "text": [
      "Время последнего моделирования: 18/05/2021 18:14\n\nНаблюдатель имеет начальные параметры (0.0, 0.0, 0.0, 3.0)\nНаблюдатель движется прямо по курсу 0.0° 120с\nНаблюдатель перешёл на курс 270.0° (угловая скорость 0.5) за 180с\nНаблюдатель движется прямо по курсу 270.0° 180с\nНаблюдатель перешёл на курс 90.0° (угловая скорость 0.5) за 360с\nНаблюдатель движется прямо по курсу 90.0° 120с\n"
     ]
    }
   ],
   "source": [
    "print(\"Время последнего моделирования:\", datetime.now().strftime(\"%d/%m/%Y %H:%M\\n\"))\n",
    "\n",
    "observer_x, observer_y, observer_course, observer_velocity = 0.0, 0.0, 0.0, 3.0\n",
    "observer = Observer(observer_x, observer_y, observer_course,\n",
    "                observer_velocity, verbose=True)\n",
    "\n",
    "observer.forward_movement(2 * 60)\n",
    "observer.change_course(270, 'left', omega=0.5)\n",
    "observer.forward_movement(3 * 60)\n",
    "observer.change_course(90, 'right', omega=0.5)\n",
    "observer.forward_movement(2 * 60)"
   ]
  },
  {
   "cell_type": "code",
   "execution_count": 10,
   "metadata": {},
   "outputs": [
    {
     "output_type": "display_data",
     "data": {
      "text/plain": "<Figure size 432x288 with 1 Axes>",
      "image/svg+xml": "<?xml version=\"1.0\" encoding=\"utf-8\" standalone=\"no\"?>\r\n<!DOCTYPE svg PUBLIC \"-//W3C//DTD SVG 1.1//EN\"\r\n  \"http://www.w3.org/Graphics/SVG/1.1/DTD/svg11.dtd\">\r\n<!-- Created with matplotlib (https://matplotlib.org/) -->\r\n<svg height=\"248.518125pt\" version=\"1.1\" viewBox=\"0 0 264.29 248.518125\" width=\"264.29pt\" xmlns=\"http://www.w3.org/2000/svg\" xmlns:xlink=\"http://www.w3.org/1999/xlink\">\r\n <metadata>\r\n  <rdf:RDF xmlns:cc=\"http://creativecommons.org/ns#\" xmlns:dc=\"http://purl.org/dc/elements/1.1/\" xmlns:rdf=\"http://www.w3.org/1999/02/22-rdf-syntax-ns#\">\r\n   <cc:Work>\r\n    <dc:type rdf:resource=\"http://purl.org/dc/dcmitype/StillImage\"/>\r\n    <dc:date>2021-05-18T18:14:08.738141</dc:date>\r\n    <dc:format>image/svg+xml</dc:format>\r\n    <dc:creator>\r\n     <cc:Agent>\r\n      <dc:title>Matplotlib v3.3.4, https://matplotlib.org/</dc:title>\r\n     </cc:Agent>\r\n    </dc:creator>\r\n   </cc:Work>\r\n  </rdf:RDF>\r\n </metadata>\r\n <defs>\r\n  <style type=\"text/css\">*{stroke-linecap:butt;stroke-linejoin:round;}</style>\r\n </defs>\r\n <g id=\"figure_1\">\r\n  <g id=\"patch_1\">\r\n   <path d=\"M 0 248.518125 \r\nL 264.29 248.518125 \r\nL 264.29 0 \r\nL 0 0 \r\nz\r\n\" style=\"fill:none;\"/>\r\n  </g>\r\n  <g id=\"axes_1\">\r\n   <g id=\"patch_2\">\r\n    <path d=\"M 39.65 224.64 \r\nL 257.09 224.64 \r\nL 257.09 7.2 \r\nL 39.65 7.2 \r\nz\r\n\" style=\"fill:#ffffff;\"/>\r\n   </g>\r\n   <g id=\"matplotlib.axis_1\">\r\n    <g id=\"xtick_1\">\r\n     <g id=\"line2d_1\">\r\n      <defs>\r\n       <path d=\"M 0 0 \r\nL 0 3.5 \r\n\" id=\"m13f92380fc\" style=\"stroke:#000000;stroke-width:0.8;\"/>\r\n      </defs>\r\n      <g>\r\n       <use style=\"stroke:#000000;stroke-width:0.8;\" x=\"45.185882\" xlink:href=\"#m13f92380fc\" y=\"224.64\"/>\r\n      </g>\r\n     </g>\r\n     <g id=\"text_1\">\r\n      <!-- −1250 -->\r\n      <g transform=\"translate(28.271038 239.238437)scale(0.1 -0.1)\">\r\n       <defs>\r\n        <path d=\"M 10.59375 35.5 \r\nL 73.1875 35.5 \r\nL 73.1875 27.203125 \r\nL 10.59375 27.203125 \r\nz\r\n\" id=\"DejaVuSans-8722\"/>\r\n        <path d=\"M 12.40625 8.296875 \r\nL 28.515625 8.296875 \r\nL 28.515625 63.921875 \r\nL 10.984375 60.40625 \r\nL 10.984375 69.390625 \r\nL 28.421875 72.90625 \r\nL 38.28125 72.90625 \r\nL 38.28125 8.296875 \r\nL 54.390625 8.296875 \r\nL 54.390625 0 \r\nL 12.40625 0 \r\nz\r\n\" id=\"DejaVuSans-49\"/>\r\n        <path d=\"M 19.1875 8.296875 \r\nL 53.609375 8.296875 \r\nL 53.609375 0 \r\nL 7.328125 0 \r\nL 7.328125 8.296875 \r\nQ 12.9375 14.109375 22.625 23.890625 \r\nQ 32.328125 33.6875 34.8125 36.53125 \r\nQ 39.546875 41.84375 41.421875 45.53125 \r\nQ 43.3125 49.21875 43.3125 52.78125 \r\nQ 43.3125 58.59375 39.234375 62.25 \r\nQ 35.15625 65.921875 28.609375 65.921875 \r\nQ 23.96875 65.921875 18.8125 64.3125 \r\nQ 13.671875 62.703125 7.8125 59.421875 \r\nL 7.8125 69.390625 \r\nQ 13.765625 71.78125 18.9375 73 \r\nQ 24.125 74.21875 28.421875 74.21875 \r\nQ 39.75 74.21875 46.484375 68.546875 \r\nQ 53.21875 62.890625 53.21875 53.421875 \r\nQ 53.21875 48.921875 51.53125 44.890625 \r\nQ 49.859375 40.875 45.40625 35.40625 \r\nQ 44.1875 33.984375 37.640625 27.21875 \r\nQ 31.109375 20.453125 19.1875 8.296875 \r\nz\r\n\" id=\"DejaVuSans-50\"/>\r\n        <path d=\"M 10.796875 72.90625 \r\nL 49.515625 72.90625 \r\nL 49.515625 64.59375 \r\nL 19.828125 64.59375 \r\nL 19.828125 46.734375 \r\nQ 21.96875 47.46875 24.109375 47.828125 \r\nQ 26.265625 48.1875 28.421875 48.1875 \r\nQ 40.625 48.1875 47.75 41.5 \r\nQ 54.890625 34.8125 54.890625 23.390625 \r\nQ 54.890625 11.625 47.5625 5.09375 \r\nQ 40.234375 -1.421875 26.90625 -1.421875 \r\nQ 22.3125 -1.421875 17.546875 -0.640625 \r\nQ 12.796875 0.140625 7.71875 1.703125 \r\nL 7.71875 11.625 \r\nQ 12.109375 9.234375 16.796875 8.0625 \r\nQ 21.484375 6.890625 26.703125 6.890625 \r\nQ 35.15625 6.890625 40.078125 11.328125 \r\nQ 45.015625 15.765625 45.015625 23.390625 \r\nQ 45.015625 31 40.078125 35.4375 \r\nQ 35.15625 39.890625 26.703125 39.890625 \r\nQ 22.75 39.890625 18.8125 39.015625 \r\nQ 14.890625 38.140625 10.796875 36.28125 \r\nz\r\n\" id=\"DejaVuSans-53\"/>\r\n        <path d=\"M 31.78125 66.40625 \r\nQ 24.171875 66.40625 20.328125 58.90625 \r\nQ 16.5 51.421875 16.5 36.375 \r\nQ 16.5 21.390625 20.328125 13.890625 \r\nQ 24.171875 6.390625 31.78125 6.390625 \r\nQ 39.453125 6.390625 43.28125 13.890625 \r\nQ 47.125 21.390625 47.125 36.375 \r\nQ 47.125 51.421875 43.28125 58.90625 \r\nQ 39.453125 66.40625 31.78125 66.40625 \r\nz\r\nM 31.78125 74.21875 \r\nQ 44.046875 74.21875 50.515625 64.515625 \r\nQ 56.984375 54.828125 56.984375 36.375 \r\nQ 56.984375 17.96875 50.515625 8.265625 \r\nQ 44.046875 -1.421875 31.78125 -1.421875 \r\nQ 19.53125 -1.421875 13.0625 8.265625 \r\nQ 6.59375 17.96875 6.59375 36.375 \r\nQ 6.59375 54.828125 13.0625 64.515625 \r\nQ 19.53125 74.21875 31.78125 74.21875 \r\nz\r\n\" id=\"DejaVuSans-48\"/>\r\n       </defs>\r\n       <use xlink:href=\"#DejaVuSans-8722\"/>\r\n       <use x=\"83.789062\" xlink:href=\"#DejaVuSans-49\"/>\r\n       <use x=\"147.412109\" xlink:href=\"#DejaVuSans-50\"/>\r\n       <use x=\"211.035156\" xlink:href=\"#DejaVuSans-53\"/>\r\n       <use x=\"274.658203\" xlink:href=\"#DejaVuSans-48\"/>\r\n      </g>\r\n     </g>\r\n    </g>\r\n    <g id=\"xtick_2\">\r\n     <g id=\"line2d_2\">\r\n      <g>\r\n       <use style=\"stroke:#000000;stroke-width:0.8;\" x=\"80.743199\" xlink:href=\"#m13f92380fc\" y=\"224.64\"/>\r\n      </g>\r\n     </g>\r\n     <g id=\"text_2\">\r\n      <!-- −1000 -->\r\n      <g transform=\"translate(63.828356 239.238437)scale(0.1 -0.1)\">\r\n       <use xlink:href=\"#DejaVuSans-8722\"/>\r\n       <use x=\"83.789062\" xlink:href=\"#DejaVuSans-49\"/>\r\n       <use x=\"147.412109\" xlink:href=\"#DejaVuSans-48\"/>\r\n       <use x=\"211.035156\" xlink:href=\"#DejaVuSans-48\"/>\r\n       <use x=\"274.658203\" xlink:href=\"#DejaVuSans-48\"/>\r\n      </g>\r\n     </g>\r\n    </g>\r\n    <g id=\"xtick_3\">\r\n     <g id=\"line2d_3\">\r\n      <g>\r\n       <use style=\"stroke:#000000;stroke-width:0.8;\" x=\"116.300517\" xlink:href=\"#m13f92380fc\" y=\"224.64\"/>\r\n      </g>\r\n     </g>\r\n     <g id=\"text_3\">\r\n      <!-- −750 -->\r\n      <g transform=\"translate(102.566923 239.238437)scale(0.1 -0.1)\">\r\n       <defs>\r\n        <path d=\"M 8.203125 72.90625 \r\nL 55.078125 72.90625 \r\nL 55.078125 68.703125 \r\nL 28.609375 0 \r\nL 18.3125 0 \r\nL 43.21875 64.59375 \r\nL 8.203125 64.59375 \r\nz\r\n\" id=\"DejaVuSans-55\"/>\r\n       </defs>\r\n       <use xlink:href=\"#DejaVuSans-8722\"/>\r\n       <use x=\"83.789062\" xlink:href=\"#DejaVuSans-55\"/>\r\n       <use x=\"147.412109\" xlink:href=\"#DejaVuSans-53\"/>\r\n       <use x=\"211.035156\" xlink:href=\"#DejaVuSans-48\"/>\r\n      </g>\r\n     </g>\r\n    </g>\r\n    <g id=\"xtick_4\">\r\n     <g id=\"line2d_4\">\r\n      <g>\r\n       <use style=\"stroke:#000000;stroke-width:0.8;\" x=\"151.857835\" xlink:href=\"#m13f92380fc\" y=\"224.64\"/>\r\n      </g>\r\n     </g>\r\n     <g id=\"text_4\">\r\n      <!-- −500 -->\r\n      <g transform=\"translate(138.124241 239.238437)scale(0.1 -0.1)\">\r\n       <use xlink:href=\"#DejaVuSans-8722\"/>\r\n       <use x=\"83.789062\" xlink:href=\"#DejaVuSans-53\"/>\r\n       <use x=\"147.412109\" xlink:href=\"#DejaVuSans-48\"/>\r\n       <use x=\"211.035156\" xlink:href=\"#DejaVuSans-48\"/>\r\n      </g>\r\n     </g>\r\n    </g>\r\n    <g id=\"xtick_5\">\r\n     <g id=\"line2d_5\">\r\n      <g>\r\n       <use style=\"stroke:#000000;stroke-width:0.8;\" x=\"187.415152\" xlink:href=\"#m13f92380fc\" y=\"224.64\"/>\r\n      </g>\r\n     </g>\r\n     <g id=\"text_5\">\r\n      <!-- −250 -->\r\n      <g transform=\"translate(173.681559 239.238437)scale(0.1 -0.1)\">\r\n       <use xlink:href=\"#DejaVuSans-8722\"/>\r\n       <use x=\"83.789062\" xlink:href=\"#DejaVuSans-50\"/>\r\n       <use x=\"147.412109\" xlink:href=\"#DejaVuSans-53\"/>\r\n       <use x=\"211.035156\" xlink:href=\"#DejaVuSans-48\"/>\r\n      </g>\r\n     </g>\r\n    </g>\r\n    <g id=\"xtick_6\">\r\n     <g id=\"line2d_6\">\r\n      <g>\r\n       <use style=\"stroke:#000000;stroke-width:0.8;\" x=\"222.97247\" xlink:href=\"#m13f92380fc\" y=\"224.64\"/>\r\n      </g>\r\n     </g>\r\n     <g id=\"text_6\">\r\n      <!-- 0 -->\r\n      <g transform=\"translate(219.79122 239.238437)scale(0.1 -0.1)\">\r\n       <use xlink:href=\"#DejaVuSans-48\"/>\r\n      </g>\r\n     </g>\r\n    </g>\r\n   </g>\r\n   <g id=\"matplotlib.axis_2\">\r\n    <g id=\"ytick_1\">\r\n     <g id=\"line2d_7\">\r\n      <defs>\r\n       <path d=\"M 0 0 \r\nL -3.5 0 \r\n\" id=\"mf520a2c430\" style=\"stroke:#000000;stroke-width:0.8;\"/>\r\n      </defs>\r\n      <g>\r\n       <use style=\"stroke:#000000;stroke-width:0.8;\" x=\"39.65\" xlink:href=\"#mf520a2c430\" y=\"214.756364\"/>\r\n      </g>\r\n     </g>\r\n     <g id=\"text_7\">\r\n      <!-- 0 -->\r\n      <g transform=\"translate(26.2875 218.555582)scale(0.1 -0.1)\">\r\n       <use xlink:href=\"#DejaVuSans-48\"/>\r\n      </g>\r\n     </g>\r\n    </g>\r\n    <g id=\"ytick_2\">\r\n     <g id=\"line2d_8\">\r\n      <g>\r\n       <use style=\"stroke:#000000;stroke-width:0.8;\" x=\"39.65\" xlink:href=\"#mf520a2c430\" y=\"186.31051\"/>\r\n      </g>\r\n     </g>\r\n     <g id=\"text_8\">\r\n      <!-- 200 -->\r\n      <g transform=\"translate(13.5625 190.109728)scale(0.1 -0.1)\">\r\n       <use xlink:href=\"#DejaVuSans-50\"/>\r\n       <use x=\"63.623047\" xlink:href=\"#DejaVuSans-48\"/>\r\n       <use x=\"127.246094\" xlink:href=\"#DejaVuSans-48\"/>\r\n      </g>\r\n     </g>\r\n    </g>\r\n    <g id=\"ytick_3\">\r\n     <g id=\"line2d_9\">\r\n      <g>\r\n       <use style=\"stroke:#000000;stroke-width:0.8;\" x=\"39.65\" xlink:href=\"#mf520a2c430\" y=\"157.864655\"/>\r\n      </g>\r\n     </g>\r\n     <g id=\"text_9\">\r\n      <!-- 400 -->\r\n      <g transform=\"translate(13.5625 161.663874)scale(0.1 -0.1)\">\r\n       <defs>\r\n        <path d=\"M 37.796875 64.3125 \r\nL 12.890625 25.390625 \r\nL 37.796875 25.390625 \r\nz\r\nM 35.203125 72.90625 \r\nL 47.609375 72.90625 \r\nL 47.609375 25.390625 \r\nL 58.015625 25.390625 \r\nL 58.015625 17.1875 \r\nL 47.609375 17.1875 \r\nL 47.609375 0 \r\nL 37.796875 0 \r\nL 37.796875 17.1875 \r\nL 4.890625 17.1875 \r\nL 4.890625 26.703125 \r\nz\r\n\" id=\"DejaVuSans-52\"/>\r\n       </defs>\r\n       <use xlink:href=\"#DejaVuSans-52\"/>\r\n       <use x=\"63.623047\" xlink:href=\"#DejaVuSans-48\"/>\r\n       <use x=\"127.246094\" xlink:href=\"#DejaVuSans-48\"/>\r\n      </g>\r\n     </g>\r\n    </g>\r\n    <g id=\"ytick_4\">\r\n     <g id=\"line2d_10\">\r\n      <g>\r\n       <use style=\"stroke:#000000;stroke-width:0.8;\" x=\"39.65\" xlink:href=\"#mf520a2c430\" y=\"129.418801\"/>\r\n      </g>\r\n     </g>\r\n     <g id=\"text_10\">\r\n      <!-- 600 -->\r\n      <g transform=\"translate(13.5625 133.21802)scale(0.1 -0.1)\">\r\n       <defs>\r\n        <path d=\"M 33.015625 40.375 \r\nQ 26.375 40.375 22.484375 35.828125 \r\nQ 18.609375 31.296875 18.609375 23.390625 \r\nQ 18.609375 15.53125 22.484375 10.953125 \r\nQ 26.375 6.390625 33.015625 6.390625 \r\nQ 39.65625 6.390625 43.53125 10.953125 \r\nQ 47.40625 15.53125 47.40625 23.390625 \r\nQ 47.40625 31.296875 43.53125 35.828125 \r\nQ 39.65625 40.375 33.015625 40.375 \r\nz\r\nM 52.59375 71.296875 \r\nL 52.59375 62.3125 \r\nQ 48.875 64.0625 45.09375 64.984375 \r\nQ 41.3125 65.921875 37.59375 65.921875 \r\nQ 27.828125 65.921875 22.671875 59.328125 \r\nQ 17.53125 52.734375 16.796875 39.40625 \r\nQ 19.671875 43.65625 24.015625 45.921875 \r\nQ 28.375 48.1875 33.59375 48.1875 \r\nQ 44.578125 48.1875 50.953125 41.515625 \r\nQ 57.328125 34.859375 57.328125 23.390625 \r\nQ 57.328125 12.15625 50.6875 5.359375 \r\nQ 44.046875 -1.421875 33.015625 -1.421875 \r\nQ 20.359375 -1.421875 13.671875 8.265625 \r\nQ 6.984375 17.96875 6.984375 36.375 \r\nQ 6.984375 53.65625 15.1875 63.9375 \r\nQ 23.390625 74.21875 37.203125 74.21875 \r\nQ 40.921875 74.21875 44.703125 73.484375 \r\nQ 48.484375 72.75 52.59375 71.296875 \r\nz\r\n\" id=\"DejaVuSans-54\"/>\r\n       </defs>\r\n       <use xlink:href=\"#DejaVuSans-54\"/>\r\n       <use x=\"63.623047\" xlink:href=\"#DejaVuSans-48\"/>\r\n       <use x=\"127.246094\" xlink:href=\"#DejaVuSans-48\"/>\r\n      </g>\r\n     </g>\r\n    </g>\r\n    <g id=\"ytick_5\">\r\n     <g id=\"line2d_11\">\r\n      <g>\r\n       <use style=\"stroke:#000000;stroke-width:0.8;\" x=\"39.65\" xlink:href=\"#mf520a2c430\" y=\"100.972947\"/>\r\n      </g>\r\n     </g>\r\n     <g id=\"text_11\">\r\n      <!-- 800 -->\r\n      <g transform=\"translate(13.5625 104.772166)scale(0.1 -0.1)\">\r\n       <defs>\r\n        <path d=\"M 31.78125 34.625 \r\nQ 24.75 34.625 20.71875 30.859375 \r\nQ 16.703125 27.09375 16.703125 20.515625 \r\nQ 16.703125 13.921875 20.71875 10.15625 \r\nQ 24.75 6.390625 31.78125 6.390625 \r\nQ 38.8125 6.390625 42.859375 10.171875 \r\nQ 46.921875 13.96875 46.921875 20.515625 \r\nQ 46.921875 27.09375 42.890625 30.859375 \r\nQ 38.875 34.625 31.78125 34.625 \r\nz\r\nM 21.921875 38.8125 \r\nQ 15.578125 40.375 12.03125 44.71875 \r\nQ 8.5 49.078125 8.5 55.328125 \r\nQ 8.5 64.0625 14.71875 69.140625 \r\nQ 20.953125 74.21875 31.78125 74.21875 \r\nQ 42.671875 74.21875 48.875 69.140625 \r\nQ 55.078125 64.0625 55.078125 55.328125 \r\nQ 55.078125 49.078125 51.53125 44.71875 \r\nQ 48 40.375 41.703125 38.8125 \r\nQ 48.828125 37.15625 52.796875 32.3125 \r\nQ 56.78125 27.484375 56.78125 20.515625 \r\nQ 56.78125 9.90625 50.3125 4.234375 \r\nQ 43.84375 -1.421875 31.78125 -1.421875 \r\nQ 19.734375 -1.421875 13.25 4.234375 \r\nQ 6.78125 9.90625 6.78125 20.515625 \r\nQ 6.78125 27.484375 10.78125 32.3125 \r\nQ 14.796875 37.15625 21.921875 38.8125 \r\nz\r\nM 18.3125 54.390625 \r\nQ 18.3125 48.734375 21.84375 45.5625 \r\nQ 25.390625 42.390625 31.78125 42.390625 \r\nQ 38.140625 42.390625 41.71875 45.5625 \r\nQ 45.3125 48.734375 45.3125 54.390625 \r\nQ 45.3125 60.0625 41.71875 63.234375 \r\nQ 38.140625 66.40625 31.78125 66.40625 \r\nQ 25.390625 66.40625 21.84375 63.234375 \r\nQ 18.3125 60.0625 18.3125 54.390625 \r\nz\r\n\" id=\"DejaVuSans-56\"/>\r\n       </defs>\r\n       <use xlink:href=\"#DejaVuSans-56\"/>\r\n       <use x=\"63.623047\" xlink:href=\"#DejaVuSans-48\"/>\r\n       <use x=\"127.246094\" xlink:href=\"#DejaVuSans-48\"/>\r\n      </g>\r\n     </g>\r\n    </g>\r\n    <g id=\"ytick_6\">\r\n     <g id=\"line2d_12\">\r\n      <g>\r\n       <use style=\"stroke:#000000;stroke-width:0.8;\" x=\"39.65\" xlink:href=\"#mf520a2c430\" y=\"72.527093\"/>\r\n      </g>\r\n     </g>\r\n     <g id=\"text_12\">\r\n      <!-- 1000 -->\r\n      <g transform=\"translate(7.2 76.326312)scale(0.1 -0.1)\">\r\n       <use xlink:href=\"#DejaVuSans-49\"/>\r\n       <use x=\"63.623047\" xlink:href=\"#DejaVuSans-48\"/>\r\n       <use x=\"127.246094\" xlink:href=\"#DejaVuSans-48\"/>\r\n       <use x=\"190.869141\" xlink:href=\"#DejaVuSans-48\"/>\r\n      </g>\r\n     </g>\r\n    </g>\r\n    <g id=\"ytick_7\">\r\n     <g id=\"line2d_13\">\r\n      <g>\r\n       <use style=\"stroke:#000000;stroke-width:0.8;\" x=\"39.65\" xlink:href=\"#mf520a2c430\" y=\"44.081239\"/>\r\n      </g>\r\n     </g>\r\n     <g id=\"text_13\">\r\n      <!-- 1200 -->\r\n      <g transform=\"translate(7.2 47.880458)scale(0.1 -0.1)\">\r\n       <use xlink:href=\"#DejaVuSans-49\"/>\r\n       <use x=\"63.623047\" xlink:href=\"#DejaVuSans-50\"/>\r\n       <use x=\"127.246094\" xlink:href=\"#DejaVuSans-48\"/>\r\n       <use x=\"190.869141\" xlink:href=\"#DejaVuSans-48\"/>\r\n      </g>\r\n     </g>\r\n    </g>\r\n    <g id=\"ytick_8\">\r\n     <g id=\"line2d_14\">\r\n      <g>\r\n       <use style=\"stroke:#000000;stroke-width:0.8;\" x=\"39.65\" xlink:href=\"#mf520a2c430\" y=\"15.635385\"/>\r\n      </g>\r\n     </g>\r\n     <g id=\"text_14\">\r\n      <!-- 1400 -->\r\n      <g transform=\"translate(7.2 19.434604)scale(0.1 -0.1)\">\r\n       <use xlink:href=\"#DejaVuSans-49\"/>\r\n       <use x=\"63.623047\" xlink:href=\"#DejaVuSans-52\"/>\r\n       <use x=\"127.246094\" xlink:href=\"#DejaVuSans-48\"/>\r\n       <use x=\"190.869141\" xlink:href=\"#DejaVuSans-48\"/>\r\n      </g>\r\n     </g>\r\n    </g>\r\n   </g>\r\n   <g id=\"line2d_15\">\r\n    <path clip-path=\"url(#p1faf75557b)\" d=\"M 222.97247 214.756364 \r\nL 222.868248 160.569286 \r\nL 222.526324 157.173637 \r\nL 221.948364 153.810111 \r\nL 221.137185 150.495096 \r\nL 220.096738 147.24474 \r\nL 218.832092 144.07488 \r\nL 217.349409 141.000959 \r\nL 215.655911 138.037953 \r\nL 213.75985 135.200296 \r\nL 211.670462 132.501815 \r\nL 209.397928 129.955655 \r\nL 206.953318 127.574222 \r\nL 204.348543 125.369117 \r\nL 201.596293 123.351084 \r\nL 198.709976 121.529953 \r\nL 195.703654 119.914598 \r\nL 192.591974 118.512889 \r\nL 189.390096 117.331653 \r\nL 186.113618 116.376647 \r\nL 182.778504 115.652523 \r\nL 179.401002 115.162809 \r\nL 175.997567 114.90989 \r\nL 172.157864 114.872659 \r\nL 94.076268 114.768436 \r\nL 90.68062 114.426513 \r\nL 87.317094 113.848553 \r\nL 84.002078 113.037374 \r\nL 80.751723 111.996927 \r\nL 77.581863 110.732281 \r\nL 74.507942 109.249598 \r\nL 71.544935 107.5561 \r\nL 68.707279 105.660039 \r\nL 66.008798 103.570651 \r\nL 63.462638 101.298117 \r\nL 61.081205 98.853507 \r\nL 58.8761 96.248732 \r\nL 56.858066 93.496481 \r\nL 55.036936 90.610164 \r\nL 53.421581 87.603843 \r\nL 52.019871 84.492163 \r\nL 50.838636 81.290285 \r\nL 49.88363 78.013807 \r\nL 49.159506 74.678693 \r\nL 48.669791 71.301191 \r\nL 48.416872 67.897755 \r\nL 48.401981 64.484968 \r\nL 48.62519 61.079455 \r\nL 49.085412 57.697808 \r\nL 49.780405 54.356501 \r\nL 50.706782 51.071815 \r\nL 51.860031 47.85975 \r\nL 53.234533 44.735957 \r\nL 54.823592 41.715653 \r\nL 56.619465 38.813554 \r\nL 58.613404 36.043798 \r\nL 60.795695 33.419879 \r\nL 63.155704 30.954581 \r\nL 65.681936 28.659914 \r\nL 68.362081 26.547057 \r\nL 71.183083 24.626305 \r\nL 74.131199 22.907015 \r\nL 77.192064 21.397564 \r\nL 80.350767 20.105304 \r\nL 83.59192 19.036532 \r\nL 86.89973 18.196455 \r\nL 90.258084 17.589166 \r\nL 93.65062 17.217623 \r\nL 97.060809 17.083636 \r\nL 148.690034 17.083636 \r\nL 148.690034 17.083636 \r\n\" style=\"fill:none;stroke:#0000ff;stroke-dasharray:5.55,2.4;stroke-dashoffset:0;stroke-opacity:0.5;stroke-width:1.5;\"/>\r\n   </g>\r\n   <g id=\"patch_3\">\r\n    <path d=\"M 39.65 224.64 \r\nL 39.65 7.2 \r\n\" style=\"fill:none;stroke:#000000;stroke-linecap:square;stroke-linejoin:miter;stroke-width:0.8;\"/>\r\n   </g>\r\n   <g id=\"patch_4\">\r\n    <path d=\"M 257.09 224.64 \r\nL 257.09 7.2 \r\n\" style=\"fill:none;stroke:#000000;stroke-linecap:square;stroke-linejoin:miter;stroke-width:0.8;\"/>\r\n   </g>\r\n   <g id=\"patch_5\">\r\n    <path d=\"M 39.65 224.64 \r\nL 257.09 224.64 \r\n\" style=\"fill:none;stroke:#000000;stroke-linecap:square;stroke-linejoin:miter;stroke-width:0.8;\"/>\r\n   </g>\r\n   <g id=\"patch_6\">\r\n    <path d=\"M 39.65 7.2 \r\nL 257.09 7.2 \r\n\" style=\"fill:none;stroke:#000000;stroke-linecap:square;stroke-linejoin:miter;stroke-width:0.8;\"/>\r\n   </g>\r\n  </g>\r\n </g>\r\n <defs>\r\n  <clipPath id=\"p1faf75557b\">\r\n   <rect height=\"217.44\" width=\"217.44\" x=\"39.65\" y=\"7.2\"/>\r\n  </clipPath>\r\n </defs>\r\n</svg>\r\n",
      "image/png": "[encoded data removed]"
     },
     "metadata": {
      "needs_background": "light"
     }
    }
   ],
   "source": [
    "from tma.plot import plot_trajectory\n",
    "plot_trajectory(observer)"
   ]
  },
  {
   "source": [
    "Задаем априорные данные, вектор дистанций, вектор СКО"
   ],
   "cell_type": "markdown",
   "metadata": {}
  },
  {
   "cell_type": "code",
   "execution_count": 4,
   "metadata": {},
   "outputs": [],
   "source": [
    "p0 = [0.0, 25.0, 90.0, 7.0]\n",
    "std_arr = [0.0, 0.1, 0.2, 0.3, 0.5, 1.0]\n",
    "d_ranges = [(10, 20), (20, 30), (30, 40), (40, 50), (10, 50)]\n",
    "def target_func(d1, d2, seed=None):\n",
    "    rng = np.random.RandomState(seed)\n",
    "    b = 0\n",
    "    d = rng.uniform(d1, d2)\n",
    "    c = rng.uniform(0, 180)\n",
    "    v = rng.uniform(5, 15)\n",
    "    return [b, d, c, v]\n",
    "result_df = pd.DataFrame(columns=[\n",
    "                                'Диапазон Д0', 'СКО', \n",
    "                                'Рэф1', 'Рэф2', 'Рэф3', 'Рэф4', 'Рэф5', \n",
    "                                'Ка', 'Вычисления', 'Вычисления макс', 'Итерации', \n",
    "                                'Итерации макс', 'Время', 'Время макс',\n",
    "                                ])\n",
    "mean_columns = ['Ка', 'Вычисления', 'Итерации', 'Время']\n",
    "max_columns = ['Вычисления', 'Итерации', 'Время']\n",
    "new_max_columns = [i + ' макс' for i in max_columns]\n",
    "Path(\"../tests/test7\").mkdir(parents=True, exist_ok=True)"
   ]
  },
  {
   "source": [
    "Запускаем множество моделей для каждого СКО"
   ],
   "cell_type": "markdown",
   "metadata": {}
  },
  {
   "cell_type": "code",
   "execution_count": 5,
   "metadata": {},
   "outputs": [
    {
     "output_type": "stream",
     "name": "stdout",
     "text": [
      "Wall time: 26.8 s\n"
     ]
    }
   ],
   "source": [
    "%%time\n",
    "model = Model(observer)\n",
    "for d_range in d_ranges:\n",
    "    for std in std_arr:  \n",
    "        f = partial(target_func, *d_range)\n",
    "        model.noise_std = np.radians(std)\n",
    "        swarm = Swarm(model)\n",
    "        swarm.set_algorithm('ММП')\n",
    "        swarm.set_target_func(f)\n",
    "        swarm.set_initial(p0)\n",
    "        r = swarm.run()\n",
    "        df = swarm.get_df(r)\n",
    "        df.to_excel('../tests/test7/' '2г, ' + str(d_range) + ', ' + str(std) + '.xlsx', index=False)\n",
    "        res = pd.DataFrame({'СКО': [std], 'Диапазон Д0': [d_range]})\n",
    "        for i in range(5):\n",
    "            res['Рэф' + str(i + 1)] = [df['Успех'].apply(lambda x: x[i]).mean(axis=0)]\n",
    "        res[mean_columns] = df[mean_columns].mean(axis=0)\n",
    "        res[new_max_columns] = df[max_columns].apply(max, axis=0)\n",
    "        result_df = result_df.append(res)"
   ]
  },
  {
   "cell_type": "code",
   "execution_count": 6,
   "metadata": {},
   "outputs": [],
   "source": [
    "result_df['Ка'] = result_df['Ка'].apply(np.sqrt)\n",
    "result_df.rename(columns={'Ка': 'КKa'}, inplace=True)\n",
    "result_df.reset_index(drop=True, inplace=True)"
   ]
  },
  {
   "cell_type": "code",
   "execution_count": 7,
   "metadata": {},
   "outputs": [
    {
     "output_type": "execute_result",
     "data": {
      "text/plain": [
       "   Диапазон Д0  СКО  Рэф1  Рэф2  Рэф3  Рэф4  Рэф5   КKa Вычисления  \\\n",
       "0     (10, 20)  0.0  1.00  1.00  1.00  1.00  1.00  0.00         18   \n",
       "1     (10, 20)  0.1  0.95  0.99  0.99  1.00  1.00  0.10         18   \n",
       "2     (10, 20)  0.2  0.82  0.97  0.97  0.99  0.99  0.20         17   \n",
       "3     (10, 20)  0.3  0.71  0.88  0.89  0.97  0.99  0.30         18   \n",
       "4     (10, 20)  0.5  0.46  0.76  0.76  0.87  0.94  0.50         18   \n",
       "5     (10, 20)  1.0  0.26  0.49  0.50  0.69  0.76  1.00         18   \n",
       "6     (20, 30)  0.0  1.00  1.00  1.00  1.00  1.00  0.00         11   \n",
       "7     (20, 30)  0.1  0.87  0.99  0.99  0.99  0.99  0.10         11   \n",
       "8     (20, 30)  0.2  0.64  0.88  0.88  0.97  0.99  0.20         11   \n",
       "9     (20, 30)  0.3  0.47  0.75  0.76  0.88  0.95  0.30         11   \n",
       "10    (20, 30)  0.5  0.27  0.57  0.60  0.71  0.80  0.50         11   \n",
       "11    (20, 30)  1.0  0.11  0.26  0.31  0.41  0.57  1.00         12   \n",
       "12    (30, 40)  0.0  1.00  1.00  1.00  1.00  1.00  0.00         11   \n",
       "13    (30, 40)  0.1  0.79  0.96  0.96  0.99  0.99  0.10         11   \n",
       "14    (30, 40)  0.2  0.48  0.79  0.80  0.89  0.95  0.20         11   \n",
       "15    (30, 40)  0.3  0.28  0.57  0.60  0.76  0.87  0.30         11   \n",
       "16    (30, 40)  0.5  0.11  0.35  0.40  0.51  0.68  0.50         11   \n",
       "17    (30, 40)  1.0  0.07  0.13  0.13  0.21  0.34  1.00         11   \n",
       "18    (40, 50)  0.0  1.00  1.00  1.00  1.00  1.00  0.00         11   \n",
       "19    (40, 50)  0.1  0.58  0.86  0.86  0.96  0.99  0.10         11   \n",
       "20    (40, 50)  0.2  0.29  0.59  0.61  0.79  0.88  0.20         11   \n",
       "21    (40, 50)  0.3  0.15  0.42  0.46  0.58  0.76  0.30         11   \n",
       "22    (40, 50)  0.5  0.08  0.23  0.26  0.36  0.49  0.50         11   \n",
       "23    (40, 50)  1.0  0.03  0.08  0.09  0.13  0.20  1.00         11   \n",
       "24    (10, 50)  0.0  1.00  1.00  1.00  1.00  1.00  0.00         13   \n",
       "25    (10, 50)  0.1  0.80  0.96  0.96  0.99  0.99  0.10         13   \n",
       "26    (10, 50)  0.2  0.58  0.80  0.81  0.89  0.95  0.20         13   \n",
       "27    (10, 50)  0.3  0.44  0.69  0.69  0.80  0.89  0.30         13   \n",
       "28    (10, 50)  0.5  0.24  0.51  0.54  0.64  0.73  0.50         13   \n",
       "29    (10, 50)  1.0  0.06  0.25  0.27  0.39  0.51  1.00         13   \n",
       "\n",
       "   Вычисления макс Итерации Итерации макс   Время Время макс  \n",
       "0               31       15            24  0.0038     0.0090  \n",
       "1               31       14            24  0.0036     0.0075  \n",
       "2               31       14            24  0.0042     0.0100  \n",
       "3               31       14            24  0.0039     0.0091  \n",
       "4               31       14            24  0.0047     0.0183  \n",
       "5               31       15            24  0.0047     0.0186  \n",
       "6               24       10            19  0.0030     0.0119  \n",
       "7               24       10            19  0.0026     0.0046  \n",
       "8               24       10            19  0.0027     0.0110  \n",
       "9               24       10            19  0.0028     0.0068  \n",
       "10              25       10            20  0.0029     0.0100  \n",
       "11              26       10            21  0.0033     0.0128  \n",
       "12              14       10            13  0.0025     0.0054  \n",
       "13              14       10            13  0.0028     0.0089  \n",
       "14              14       10            13  0.0024     0.0042  \n",
       "15              14       10            13  0.0024     0.0044  \n",
       "16              14       10            13  0.0024     0.0039  \n",
       "17              15       10            14  0.0024     0.0034  \n",
       "18              13       10            12  0.0025     0.0044  \n",
       "19              13       10            12  0.0025     0.0076  \n",
       "20              14       10            13  0.0026     0.0077  \n",
       "21              14       10            13  0.0026     0.0064  \n",
       "22              14       10            13  0.0025     0.0053  \n",
       "23              19       10            18  0.0023     0.0039  \n",
       "24              28       11            22  0.0029     0.0072  \n",
       "25              28       11            22  0.0029     0.0070  \n",
       "26              28       11            22  0.0028     0.0062  \n",
       "27              28       11            22  0.0026     0.0053  \n",
       "28              28       11            22  0.0028     0.0052  \n",
       "29              27       11            21  0.0027     0.0055  "
      ],
      "text/html": "<div>\n<style scoped>\n    .dataframe tbody tr th:only-of-type {\n        vertical-align: middle;\n    }\n\n    .dataframe tbody tr th {\n        vertical-align: top;\n    }\n\n    .dataframe thead th {\n        text-align: right;\n    }\n</style>\n<table border=\"1\" class=\"dataframe\">\n  <thead>\n    <tr style=\"text-align: right;\">\n      <th></th>\n      <th>Диапазон Д0</th>\n      <th>СКО</th>\n      <th>Рэф1</th>\n      <th>Рэф2</th>\n      <th>Рэф3</th>\n      <th>Рэф4</th>\n      <th>Рэф5</th>\n      <th>КKa</th>\n      <th>Вычисления</th>\n      <th>Вычисления макс</th>\n      <th>Итерации</th>\n      <th>Итерации макс</th>\n      <th>Время</th>\n      <th>Время макс</th>\n    </tr>\n  </thead>\n  <tbody>\n    <tr>\n      <th>0</th>\n      <td>(10, 20)</td>\n      <td>0.0</td>\n      <td>1.00</td>\n      <td>1.00</td>\n      <td>1.00</td>\n      <td>1.00</td>\n      <td>1.00</td>\n      <td>0.00</td>\n      <td>18</td>\n      <td>31</td>\n      <td>15</td>\n      <td>24</td>\n      <td>0.0038</td>\n      <td>0.0090</td>\n    </tr>\n    <tr>\n      <th>1</th>\n      <td>(10, 20)</td>\n      <td>0.1</td>\n      <td>0.95</td>\n      <td>0.99</td>\n      <td>0.99</td>\n      <td>1.00</td>\n      <td>1.00</td>\n      <td>0.10</td>\n      <td>18</td>\n      <td>31</td>\n      <td>14</td>\n      <td>24</td>\n      <td>0.0036</td>\n      <td>0.0075</td>\n    </tr>\n    <tr>\n      <th>2</th>\n      <td>(10, 20)</td>\n      <td>0.2</td>\n      <td>0.82</td>\n      <td>0.97</td>\n      <td>0.97</td>\n      <td>0.99</td>\n      <td>0.99</td>\n      <td>0.20</td>\n      <td>17</td>\n      <td>31</td>\n      <td>14</td>\n      <td>24</td>\n      <td>0.0042</td>\n      <td>0.0100</td>\n    </tr>\n    <tr>\n      <th>3</th>\n      <td>(10, 20)</td>\n      <td>0.3</td>\n      <td>0.71</td>\n      <td>0.88</td>\n      <td>0.89</td>\n      <td>0.97</td>\n      <td>0.99</td>\n      <td>0.30</td>\n      <td>18</td>\n      <td>31</td>\n      <td>14</td>\n      <td>24</td>\n      <td>0.0039</td>\n      <td>0.0091</td>\n    </tr>\n    <tr>\n      <th>4</th>\n      <td>(10, 20)</td>\n      <td>0.5</td>\n      <td>0.46</td>\n      <td>0.76</td>\n      <td>0.76</td>\n      <td>0.87</td>\n      <td>0.94</td>\n      <td>0.50</td>\n      <td>18</td>\n      <td>31</td>\n      <td>14</td>\n      <td>24</td>\n      <td>0.0047</td>\n      <td>0.0183</td>\n    </tr>\n    <tr>\n      <th>5</th>\n      <td>(10, 20)</td>\n      <td>1.0</td>\n      <td>0.26</td>\n      <td>0.49</td>\n      <td>0.50</td>\n      <td>0.69</td>\n      <td>0.76</td>\n      <td>1.00</td>\n      <td>18</td>\n      <td>31</td>\n      <td>15</td>\n      <td>24</td>\n      <td>0.0047</td>\n      <td>0.0186</td>\n    </tr>\n    <tr>\n      <th>6</th>\n      <td>(20, 30)</td>\n      <td>0.0</td>\n      <td>1.00</td>\n      <td>1.00</td>\n      <td>1.00</td>\n      <td>1.00</td>\n      <td>1.00</td>\n      <td>0.00</td>\n      <td>11</td>\n      <td>24</td>\n      <td>10</td>\n      <td>19</td>\n      <td>0.0030</td>\n      <td>0.0119</td>\n    </tr>\n    <tr>\n      <th>7</th>\n      <td>(20, 30)</td>\n      <td>0.1</td>\n      <td>0.87</td>\n      <td>0.99</td>\n      <td>0.99</td>\n      <td>0.99</td>\n      <td>0.99</td>\n      <td>0.10</td>\n      <td>11</td>\n      <td>24</td>\n      <td>10</td>\n      <td>19</td>\n      <td>0.0026</td>\n      <td>0.0046</td>\n    </tr>\n    <tr>\n      <th>8</th>\n      <td>(20, 30)</td>\n      <td>0.2</td>\n      <td>0.64</td>\n      <td>0.88</td>\n      <td>0.88</td>\n      <td>0.97</td>\n      <td>0.99</td>\n      <td>0.20</td>\n      <td>11</td>\n      <td>24</td>\n      <td>10</td>\n      <td>19</td>\n      <td>0.0027</td>\n      <td>0.0110</td>\n    </tr>\n    <tr>\n      <th>9</th>\n      <td>(20, 30)</td>\n      <td>0.3</td>\n      <td>0.47</td>\n      <td>0.75</td>\n      <td>0.76</td>\n      <td>0.88</td>\n      <td>0.95</td>\n      <td>0.30</td>\n      <td>11</td>\n      <td>24</td>\n      <td>10</td>\n      <td>19</td>\n      <td>0.0028</td>\n      <td>0.0068</td>\n    </tr>\n    <tr>\n      <th>10</th>\n      <td>(20, 30)</td>\n      <td>0.5</td>\n      <td>0.27</td>\n      <td>0.57</td>\n      <td>0.60</td>\n      <td>0.71</td>\n      <td>0.80</td>\n      <td>0.50</td>\n      <td>11</td>\n      <td>25</td>\n      <td>10</td>\n      <td>20</td>\n      <td>0.0029</td>\n      <td>0.0100</td>\n    </tr>\n    <tr>\n      <th>11</th>\n      <td>(20, 30)</td>\n      <td>1.0</td>\n      <td>0.11</td>\n      <td>0.26</td>\n      <td>0.31</td>\n      <td>0.41</td>\n      <td>0.57</td>\n      <td>1.00</td>\n      <td>12</td>\n      <td>26</td>\n      <td>10</td>\n      <td>21</td>\n      <td>0.0033</td>\n      <td>0.0128</td>\n    </tr>\n    <tr>\n      <th>12</th>\n      <td>(30, 40)</td>\n      <td>0.0</td>\n      <td>1.00</td>\n      <td>1.00</td>\n      <td>1.00</td>\n      <td>1.00</td>\n      <td>1.00</td>\n      <td>0.00</td>\n      <td>11</td>\n      <td>14</td>\n      <td>10</td>\n      <td>13</td>\n      <td>0.0025</td>\n      <td>0.0054</td>\n    </tr>\n    <tr>\n      <th>13</th>\n      <td>(30, 40)</td>\n      <td>0.1</td>\n      <td>0.79</td>\n      <td>0.96</td>\n      <td>0.96</td>\n      <td>0.99</td>\n      <td>0.99</td>\n      <td>0.10</td>\n      <td>11</td>\n      <td>14</td>\n      <td>10</td>\n      <td>13</td>\n      <td>0.0028</td>\n      <td>0.0089</td>\n    </tr>\n    <tr>\n      <th>14</th>\n      <td>(30, 40)</td>\n      <td>0.2</td>\n      <td>0.48</td>\n      <td>0.79</td>\n      <td>0.80</td>\n      <td>0.89</td>\n      <td>0.95</td>\n      <td>0.20</td>\n      <td>11</td>\n      <td>14</td>\n      <td>10</td>\n      <td>13</td>\n      <td>0.0024</td>\n      <td>0.0042</td>\n    </tr>\n    <tr>\n      <th>15</th>\n      <td>(30, 40)</td>\n      <td>0.3</td>\n      <td>0.28</td>\n      <td>0.57</td>\n      <td>0.60</td>\n      <td>0.76</td>\n      <td>0.87</td>\n      <td>0.30</td>\n      <td>11</td>\n      <td>14</td>\n      <td>10</td>\n      <td>13</td>\n      <td>0.0024</td>\n      <td>0.0044</td>\n    </tr>\n    <tr>\n      <th>16</th>\n      <td>(30, 40)</td>\n      <td>0.5</td>\n      <td>0.11</td>\n      <td>0.35</td>\n      <td>0.40</td>\n      <td>0.51</td>\n      <td>0.68</td>\n      <td>0.50</td>\n      <td>11</td>\n      <td>14</td>\n      <td>10</td>\n      <td>13</td>\n      <td>0.0024</td>\n      <td>0.0039</td>\n    </tr>\n    <tr>\n      <th>17</th>\n      <td>(30, 40)</td>\n      <td>1.0</td>\n      <td>0.07</td>\n      <td>0.13</td>\n      <td>0.13</td>\n      <td>0.21</td>\n      <td>0.34</td>\n      <td>1.00</td>\n      <td>11</td>\n      <td>15</td>\n      <td>10</td>\n      <td>14</td>\n      <td>0.0024</td>\n      <td>0.0034</td>\n    </tr>\n    <tr>\n      <th>18</th>\n      <td>(40, 50)</td>\n      <td>0.0</td>\n      <td>1.00</td>\n      <td>1.00</td>\n      <td>1.00</td>\n      <td>1.00</td>\n      <td>1.00</td>\n      <td>0.00</td>\n      <td>11</td>\n      <td>13</td>\n      <td>10</td>\n      <td>12</td>\n      <td>0.0025</td>\n      <td>0.0044</td>\n    </tr>\n    <tr>\n      <th>19</th>\n      <td>(40, 50)</td>\n      <td>0.1</td>\n      <td>0.58</td>\n      <td>0.86</td>\n      <td>0.86</td>\n      <td>0.96</td>\n      <td>0.99</td>\n      <td>0.10</td>\n      <td>11</td>\n      <td>13</td>\n      <td>10</td>\n      <td>12</td>\n      <td>0.0025</td>\n      <td>0.0076</td>\n    </tr>\n    <tr>\n      <th>20</th>\n      <td>(40, 50)</td>\n      <td>0.2</td>\n      <td>0.29</td>\n      <td>0.59</td>\n      <td>0.61</td>\n      <td>0.79</td>\n      <td>0.88</td>\n      <td>0.20</td>\n      <td>11</td>\n      <td>14</td>\n      <td>10</td>\n      <td>13</td>\n      <td>0.0026</td>\n      <td>0.0077</td>\n    </tr>\n    <tr>\n      <th>21</th>\n      <td>(40, 50)</td>\n      <td>0.3</td>\n      <td>0.15</td>\n      <td>0.42</td>\n      <td>0.46</td>\n      <td>0.58</td>\n      <td>0.76</td>\n      <td>0.30</td>\n      <td>11</td>\n      <td>14</td>\n      <td>10</td>\n      <td>13</td>\n      <td>0.0026</td>\n      <td>0.0064</td>\n    </tr>\n    <tr>\n      <th>22</th>\n      <td>(40, 50)</td>\n      <td>0.5</td>\n      <td>0.08</td>\n      <td>0.23</td>\n      <td>0.26</td>\n      <td>0.36</td>\n      <td>0.49</td>\n      <td>0.50</td>\n      <td>11</td>\n      <td>14</td>\n      <td>10</td>\n      <td>13</td>\n      <td>0.0025</td>\n      <td>0.0053</td>\n    </tr>\n    <tr>\n      <th>23</th>\n      <td>(40, 50)</td>\n      <td>1.0</td>\n      <td>0.03</td>\n      <td>0.08</td>\n      <td>0.09</td>\n      <td>0.13</td>\n      <td>0.20</td>\n      <td>1.00</td>\n      <td>11</td>\n      <td>19</td>\n      <td>10</td>\n      <td>18</td>\n      <td>0.0023</td>\n      <td>0.0039</td>\n    </tr>\n    <tr>\n      <th>24</th>\n      <td>(10, 50)</td>\n      <td>0.0</td>\n      <td>1.00</td>\n      <td>1.00</td>\n      <td>1.00</td>\n      <td>1.00</td>\n      <td>1.00</td>\n      <td>0.00</td>\n      <td>13</td>\n      <td>28</td>\n      <td>11</td>\n      <td>22</td>\n      <td>0.0029</td>\n      <td>0.0072</td>\n    </tr>\n    <tr>\n      <th>25</th>\n      <td>(10, 50)</td>\n      <td>0.1</td>\n      <td>0.80</td>\n      <td>0.96</td>\n      <td>0.96</td>\n      <td>0.99</td>\n      <td>0.99</td>\n      <td>0.10</td>\n      <td>13</td>\n      <td>28</td>\n      <td>11</td>\n      <td>22</td>\n      <td>0.0029</td>\n      <td>0.0070</td>\n    </tr>\n    <tr>\n      <th>26</th>\n      <td>(10, 50)</td>\n      <td>0.2</td>\n      <td>0.58</td>\n      <td>0.80</td>\n      <td>0.81</td>\n      <td>0.89</td>\n      <td>0.95</td>\n      <td>0.20</td>\n      <td>13</td>\n      <td>28</td>\n      <td>11</td>\n      <td>22</td>\n      <td>0.0028</td>\n      <td>0.0062</td>\n    </tr>\n    <tr>\n      <th>27</th>\n      <td>(10, 50)</td>\n      <td>0.3</td>\n      <td>0.44</td>\n      <td>0.69</td>\n      <td>0.69</td>\n      <td>0.80</td>\n      <td>0.89</td>\n      <td>0.30</td>\n      <td>13</td>\n      <td>28</td>\n      <td>11</td>\n      <td>22</td>\n      <td>0.0026</td>\n      <td>0.0053</td>\n    </tr>\n    <tr>\n      <th>28</th>\n      <td>(10, 50)</td>\n      <td>0.5</td>\n      <td>0.24</td>\n      <td>0.51</td>\n      <td>0.54</td>\n      <td>0.64</td>\n      <td>0.73</td>\n      <td>0.50</td>\n      <td>13</td>\n      <td>28</td>\n      <td>11</td>\n      <td>22</td>\n      <td>0.0028</td>\n      <td>0.0052</td>\n    </tr>\n    <tr>\n      <th>29</th>\n      <td>(10, 50)</td>\n      <td>1.0</td>\n      <td>0.06</td>\n      <td>0.25</td>\n      <td>0.27</td>\n      <td>0.39</td>\n      <td>0.51</td>\n      <td>1.00</td>\n      <td>13</td>\n      <td>27</td>\n      <td>11</td>\n      <td>21</td>\n      <td>0.0027</td>\n      <td>0.0055</td>\n    </tr>\n  </tbody>\n</table>\n</div>"
     },
     "metadata": {},
     "execution_count": 7
    }
   ],
   "source": [
    "display_df = result_df.copy()\n",
    "precisions = {\n",
    "                'КKa' : '{0:.2f}', \n",
    "                'Вычисления' : '{0:.0f}', \n",
    "                'Вычисления макс': '{0:.0f}',\n",
    "                'Итерации' : '{0:.0f}', \n",
    "                'Итерации макс' : '{0:.0f}', \n",
    "                'Время' : '{0:.4f}', \n",
    "                'Время макс' : '{0:.4f}',\n",
    "            }\n",
    "for col, precision in precisions.items():\n",
    "    display_df[col] = display_df[col].apply(lambda x: precision.format(x))\n",
    "df_to_docx(display_df, f'../tests/test7/Сводная таблица 2г.docx')\n",
    "display_df"
   ]
  },
  {
   "cell_type": "code",
   "execution_count": null,
   "metadata": {},
   "outputs": [],
   "source": []
  }
 ]
}