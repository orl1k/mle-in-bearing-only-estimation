{
 "metadata": {
  "language_info": {
   "codemirror_mode": {
    "name": "ipython",
    "version": 3
   },
   "file_extension": ".py",
   "mimetype": "text/x-python",
   "name": "python",
   "nbconvert_exporter": "python",
   "pygments_lexer": "ipython3",
   "version": "3.9.4"
  },
  "orig_nbformat": 2,
  "kernelspec": {
   "name": "python394jvsc74a57bd041eac51e58bc56b7e72645fd2a426397a0dabf158fb6895686ff6280c78d9f5d",
   "display_name": "Python 3.9.4 64-bit"
  },
  "metadata": {
   "interpreter": {
    "hash": "41eac51e58bc56b7e72645fd2a426397a0dabf158fb6895686ff6280c78d9f5d"
   }
  }
 },
 "nbformat": 4,
 "nbformat_minor": 2,
 "cells": [
  {
   "cell_type": "code",
   "execution_count": 1,
   "metadata": {},
   "outputs": [],
   "source": [
    "import sys\r\n",
    "import time\r\n",
    "import numpy as np\r\n",
    "import pandas as pd\r\n",
    "sys.path.append(\"..\")\r\n",
    "from scipy import stats\r\n",
    "from tma.model import Model\r\n",
    "from tma.object import Object\r\n",
    "from tma.functions import get_df\r\n",
    "from tma.algorithms import swarm\r\n",
    "from pathlib import Path\r\n",
    "from datetime import datetime"
   ]
  },
  {
   "source": [
    "Создаем модели наблюдателя и объекта:"
   ],
   "cell_type": "markdown",
   "metadata": {}
  },
  {
   "cell_type": "code",
   "execution_count": 2,
   "metadata": {},
   "outputs": [
    {
     "output_type": "stream",
     "name": "stdout",
     "text": [
      "Наблюдатель движется прямо по курсу 0.0° 180с\nНаблюдатель перешёл на курс 270.0° за 180с\nНаблюдатель движется прямо по курсу 270.0° 300с\nНаблюдатель перешёл на курс 90.0° за 360с\nНаблюдатель движется прямо по курсу 90.0° 180с\nОбъект движется прямо по курсу 45.0° 1200с\n"
     ]
    }
   ],
   "source": [
    "observer_x, observer_y, observer_course, observer_velocity = 0., 0., 0., 5.\n",
    "observer = Object(\n",
    "    \"Наблюдатель\",\n",
    "    observer_x,\n",
    "    observer_y,\n",
    "    observer_course,\n",
    "    observer_velocity,\n",
    "    verbose=True,\n",
    ")\n",
    "\n",
    "target_bearing, target_distance, target_course, target_velocity = (\n",
    "    0.,\n",
    "    20.,\n",
    "    45.,\n",
    "    10.,\n",
    ")\n",
    "\n",
    "target = Object(\n",
    "    \"Объект\",\n",
    "    target_bearing,\n",
    "    target_distance,\n",
    "    target_course,\n",
    "    target_velocity,\n",
    "    observer,\n",
    "    mode=\"bdcv\",\n",
    "    verbose=True,\n",
    ")\n",
    "\n",
    "observer.forward_movement(3 * 60)\n",
    "observer.change_course(270, \"left\", omega=0.5)\n",
    "observer.forward_movement(5 * 60)\n",
    "observer.change_course(90, \"right\", omega=0.5)\n",
    "observer.forward_movement(3 * 60)\n",
    "\n",
    "target.forward_movement(len(observer.coords[0]) - 1)"
   ]
  },
  {
   "cell_type": "code",
   "execution_count": 3,
   "metadata": {},
   "outputs": [],
   "source": [
    "model = Model(observer, target=target, noise_std=np.radians(0.1))"
   ]
  },
  {
   "cell_type": "code",
   "execution_count": 4,
   "metadata": {},
   "outputs": [
    {
     "output_type": "execute_result",
     "data": {
      "text/plain": [
       "{'ММП scipy': {'Истинные параметры': array([ 0., 20., 45., 10.]),\n",
       "  'Полученные параметры': array([359.99517063,  19.96181552,  45.14972828,   9.92319542]),\n",
       "  'Начальное приближение': array([45.        ,  1.41421356, 45.        ,  1.41421356]),\n",
       "  'Текущие значения': [20.468402895100734,\n",
       "   27.612210950893108,\n",
       "   20.47216040342932,\n",
       "   27.479045834691178],\n",
       "  'СКО параметров': array([0.00535495, 0.07089626, 0.04602002, 0.06822117]),\n",
       "  'Ка, Кб, Кс': [0.010500670480662336, 0.03192154538433496, [1, 1, 1, 1]],\n",
       "  'Время работы': [0.004731099999986554],\n",
       "  'Число вычислений функции, число итераций': [51, nan]}}"
      ]
     },
     "metadata": {},
     "execution_count": 4
    }
   ],
   "source": [
    "from tma.algorithms import mle_algorithm_v1, mle_algorithm_v2\n",
    "mle_algorithm_v1(model, p0=[1, 1, 1, 1])"
   ]
  },
  {
   "cell_type": "code",
   "execution_count": 5,
   "metadata": {},
   "outputs": [
    {
     "output_type": "execute_result",
     "data": {
      "text/plain": [
       "{'ММП': {'Истинные параметры': array([ 0., 20., 45., 10.]),\n",
       "  'Полученные параметры': array([359.99518038,  19.96180624,  45.14979236,   9.92315632]),\n",
       "  'Начальное приближение': array([45.        ,  1.41421356, 45.        ,  1.41421356]),\n",
       "  'Текущие значения': [20.468402895100734,\n",
       "   27.612210950893108,\n",
       "   20.472158203832294,\n",
       "   27.478990140895625],\n",
       "  'СКО параметров': array([0.00520838, 0.0689545 , 0.04475956, 0.06635283]),\n",
       "  'Ка, Кб, Кс': [0.010500670474073302, 0.03193573215669681, [1, 1, 1, 1]],\n",
       "  'Время работы': [0.0037985999999818887],\n",
       "  'Число вычислений функции, число итераций': [10, 9]}}"
      ]
     },
     "metadata": {},
     "execution_count": 5
    }
   ],
   "source": [
    "mle_algorithm_v2(model, p0=[1, 1, 1, 1])"
   ]
  },
  {
   "cell_type": "code",
   "execution_count": 6,
   "metadata": {},
   "outputs": [
    {
     "output_type": "display_data",
     "data": {
      "text/plain": "   П0_ист  Д0_ист  К0_ист  V0_ист  П0_расч  Д0_расч  К0_расч  V0_расч  П0_апр  \\\n0     0.0   29.70  128.73   11.03   359.98    29.81   128.40    11.09    45.0   \n0     0.0   29.70  128.73   11.03   359.98    29.81   128.40    11.09    45.0   \n0     0.0   23.77  129.66    5.00   360.00    23.69   129.91     4.98    45.0   \n0     0.0   23.77  129.66    5.00   360.00    23.69   129.91     4.98    45.0   \n0     0.0   24.62    4.67   10.50     0.01    24.86     4.79    10.25    45.0   \n0     0.0   24.62    4.67   10.50     0.01    24.86     4.79    10.25    45.0   \n0     0.0   29.79  127.47    7.91     0.02    29.64   128.29     7.88    45.0   \n0     0.0   29.79  127.47    7.91     0.02    29.64   128.29     7.88    45.0   \n0     0.0   48.52   98.50   14.73     0.00    48.35    98.78    14.64    45.0   \n0     0.0   48.52   98.50   14.73     0.00    48.35    98.78    14.64    45.0   \n\n   Д0_апр  К0_апр  V0_апр  Птек_ист  Дтек_ист  Птек_расч  Дтек_расч  СКО X  \\\n0    1.41    45.0    1.41     31.44     22.03      31.46      22.20   0.01   \n0    1.41    45.0    1.41     31.44     22.03      31.46      22.20   0.01   \n0    1.41    45.0    1.41     18.49     18.26      18.47      18.18   0.01   \n0    1.41    45.0    1.41     18.49     18.26      18.47      18.18   0.01   \n0    1.41    45.0    1.41      3.63     34.63       3.65      34.57   0.01   \n0    1.41    45.0    1.41      3.63     34.63       3.65      34.57   0.01   \n0    1.41    45.0    1.41     22.14     23.10      22.12      22.85   0.01   \n0    1.41    45.0    1.41     22.14     23.10      22.12      22.85   0.01   \n0    1.41    45.0    1.41     23.31     47.13      23.29      46.88   0.01   \n0    1.41    45.0    1.41     23.31     47.13      23.29      46.88   0.01   \n\n   СКО Y  СКО VX  СКО VY    Ка    Кб     t  Nf Iter  \n0   0.13    0.07    0.04  0.01  0.04  0.01  72  NaN  \n0   0.13    0.07    0.03  0.01  0.04  0.01  25   19  \n0   0.06    0.03    0.05  0.01  0.03  0.01  63  NaN  \n0   0.06    0.03    0.05  0.01  0.03  0.00  12   10  \n0   0.17    0.02    0.27  0.01  0.07  0.00  46  NaN  \n0   0.16    0.02    0.26  0.01  0.07  0.00   9    8  \n0   0.12    0.05    0.05  0.01  0.05  0.00  72  NaN  \n0   0.11    0.05    0.05  0.01  0.05  0.00  17   13  \n0   0.37    0.16    0.10  0.01  0.03  0.00  61  NaN  \n0   0.38    0.17    0.10  0.01  0.03  0.00  15   13  ",
      "text/html": "<div>\n<style scoped>\n    .dataframe tbody tr th:only-of-type {\n        vertical-align: middle;\n    }\n\n    .dataframe tbody tr th {\n        vertical-align: top;\n    }\n\n    .dataframe thead th {\n        text-align: right;\n    }\n</style>\n<table border=\"1\" class=\"dataframe\">\n  <thead>\n    <tr style=\"text-align: right;\">\n      <th></th>\n      <th>П0_ист</th>\n      <th>Д0_ист</th>\n      <th>К0_ист</th>\n      <th>V0_ист</th>\n      <th>П0_расч</th>\n      <th>Д0_расч</th>\n      <th>К0_расч</th>\n      <th>V0_расч</th>\n      <th>П0_апр</th>\n      <th>Д0_апр</th>\n      <th>К0_апр</th>\n      <th>V0_апр</th>\n      <th>Птек_ист</th>\n      <th>Дтек_ист</th>\n      <th>Птек_расч</th>\n      <th>Дтек_расч</th>\n      <th>СКО X</th>\n      <th>СКО Y</th>\n      <th>СКО VX</th>\n      <th>СКО VY</th>\n      <th>Ка</th>\n      <th>Кб</th>\n      <th>t</th>\n      <th>Nf</th>\n      <th>Iter</th>\n    </tr>\n  </thead>\n  <tbody>\n    <tr>\n      <th>0</th>\n      <td>0.0</td>\n      <td>29.70</td>\n      <td>128.73</td>\n      <td>11.03</td>\n      <td>359.98</td>\n      <td>29.81</td>\n      <td>128.40</td>\n      <td>11.09</td>\n      <td>45.0</td>\n      <td>1.41</td>\n      <td>45.0</td>\n      <td>1.41</td>\n      <td>31.44</td>\n      <td>22.03</td>\n      <td>31.46</td>\n      <td>22.20</td>\n      <td>0.01</td>\n      <td>0.13</td>\n      <td>0.07</td>\n      <td>0.04</td>\n      <td>0.01</td>\n      <td>0.04</td>\n      <td>0.01</td>\n      <td>72</td>\n      <td>NaN</td>\n    </tr>\n    <tr>\n      <th>0</th>\n      <td>0.0</td>\n      <td>29.70</td>\n      <td>128.73</td>\n      <td>11.03</td>\n      <td>359.98</td>\n      <td>29.81</td>\n      <td>128.40</td>\n      <td>11.09</td>\n      <td>45.0</td>\n      <td>1.41</td>\n      <td>45.0</td>\n      <td>1.41</td>\n      <td>31.44</td>\n      <td>22.03</td>\n      <td>31.46</td>\n      <td>22.20</td>\n      <td>0.01</td>\n      <td>0.13</td>\n      <td>0.07</td>\n      <td>0.03</td>\n      <td>0.01</td>\n      <td>0.04</td>\n      <td>0.01</td>\n      <td>25</td>\n      <td>19</td>\n    </tr>\n    <tr>\n      <th>0</th>\n      <td>0.0</td>\n      <td>23.77</td>\n      <td>129.66</td>\n      <td>5.00</td>\n      <td>360.00</td>\n      <td>23.69</td>\n      <td>129.91</td>\n      <td>4.98</td>\n      <td>45.0</td>\n      <td>1.41</td>\n      <td>45.0</td>\n      <td>1.41</td>\n      <td>18.49</td>\n      <td>18.26</td>\n      <td>18.47</td>\n      <td>18.18</td>\n      <td>0.01</td>\n      <td>0.06</td>\n      <td>0.03</td>\n      <td>0.05</td>\n      <td>0.01</td>\n      <td>0.03</td>\n      <td>0.01</td>\n      <td>63</td>\n      <td>NaN</td>\n    </tr>\n    <tr>\n      <th>0</th>\n      <td>0.0</td>\n      <td>23.77</td>\n      <td>129.66</td>\n      <td>5.00</td>\n      <td>360.00</td>\n      <td>23.69</td>\n      <td>129.91</td>\n      <td>4.98</td>\n      <td>45.0</td>\n      <td>1.41</td>\n      <td>45.0</td>\n      <td>1.41</td>\n      <td>18.49</td>\n      <td>18.26</td>\n      <td>18.47</td>\n      <td>18.18</td>\n      <td>0.01</td>\n      <td>0.06</td>\n      <td>0.03</td>\n      <td>0.05</td>\n      <td>0.01</td>\n      <td>0.03</td>\n      <td>0.00</td>\n      <td>12</td>\n      <td>10</td>\n    </tr>\n    <tr>\n      <th>0</th>\n      <td>0.0</td>\n      <td>24.62</td>\n      <td>4.67</td>\n      <td>10.50</td>\n      <td>0.01</td>\n      <td>24.86</td>\n      <td>4.79</td>\n      <td>10.25</td>\n      <td>45.0</td>\n      <td>1.41</td>\n      <td>45.0</td>\n      <td>1.41</td>\n      <td>3.63</td>\n      <td>34.63</td>\n      <td>3.65</td>\n      <td>34.57</td>\n      <td>0.01</td>\n      <td>0.17</td>\n      <td>0.02</td>\n      <td>0.27</td>\n      <td>0.01</td>\n      <td>0.07</td>\n      <td>0.00</td>\n      <td>46</td>\n      <td>NaN</td>\n    </tr>\n    <tr>\n      <th>0</th>\n      <td>0.0</td>\n      <td>24.62</td>\n      <td>4.67</td>\n      <td>10.50</td>\n      <td>0.01</td>\n      <td>24.86</td>\n      <td>4.79</td>\n      <td>10.25</td>\n      <td>45.0</td>\n      <td>1.41</td>\n      <td>45.0</td>\n      <td>1.41</td>\n      <td>3.63</td>\n      <td>34.63</td>\n      <td>3.65</td>\n      <td>34.57</td>\n      <td>0.01</td>\n      <td>0.16</td>\n      <td>0.02</td>\n      <td>0.26</td>\n      <td>0.01</td>\n      <td>0.07</td>\n      <td>0.00</td>\n      <td>9</td>\n      <td>8</td>\n    </tr>\n    <tr>\n      <th>0</th>\n      <td>0.0</td>\n      <td>29.79</td>\n      <td>127.47</td>\n      <td>7.91</td>\n      <td>0.02</td>\n      <td>29.64</td>\n      <td>128.29</td>\n      <td>7.88</td>\n      <td>45.0</td>\n      <td>1.41</td>\n      <td>45.0</td>\n      <td>1.41</td>\n      <td>22.14</td>\n      <td>23.10</td>\n      <td>22.12</td>\n      <td>22.85</td>\n      <td>0.01</td>\n      <td>0.12</td>\n      <td>0.05</td>\n      <td>0.05</td>\n      <td>0.01</td>\n      <td>0.05</td>\n      <td>0.00</td>\n      <td>72</td>\n      <td>NaN</td>\n    </tr>\n    <tr>\n      <th>0</th>\n      <td>0.0</td>\n      <td>29.79</td>\n      <td>127.47</td>\n      <td>7.91</td>\n      <td>0.02</td>\n      <td>29.64</td>\n      <td>128.29</td>\n      <td>7.88</td>\n      <td>45.0</td>\n      <td>1.41</td>\n      <td>45.0</td>\n      <td>1.41</td>\n      <td>22.14</td>\n      <td>23.10</td>\n      <td>22.12</td>\n      <td>22.85</td>\n      <td>0.01</td>\n      <td>0.11</td>\n      <td>0.05</td>\n      <td>0.05</td>\n      <td>0.01</td>\n      <td>0.05</td>\n      <td>0.00</td>\n      <td>17</td>\n      <td>13</td>\n    </tr>\n    <tr>\n      <th>0</th>\n      <td>0.0</td>\n      <td>48.52</td>\n      <td>98.50</td>\n      <td>14.73</td>\n      <td>0.00</td>\n      <td>48.35</td>\n      <td>98.78</td>\n      <td>14.64</td>\n      <td>45.0</td>\n      <td>1.41</td>\n      <td>45.0</td>\n      <td>1.41</td>\n      <td>23.31</td>\n      <td>47.13</td>\n      <td>23.29</td>\n      <td>46.88</td>\n      <td>0.01</td>\n      <td>0.37</td>\n      <td>0.16</td>\n      <td>0.10</td>\n      <td>0.01</td>\n      <td>0.03</td>\n      <td>0.00</td>\n      <td>61</td>\n      <td>NaN</td>\n    </tr>\n    <tr>\n      <th>0</th>\n      <td>0.0</td>\n      <td>48.52</td>\n      <td>98.50</td>\n      <td>14.73</td>\n      <td>0.00</td>\n      <td>48.35</td>\n      <td>98.78</td>\n      <td>14.64</td>\n      <td>45.0</td>\n      <td>1.41</td>\n      <td>45.0</td>\n      <td>1.41</td>\n      <td>23.31</td>\n      <td>47.13</td>\n      <td>23.29</td>\n      <td>46.88</td>\n      <td>0.01</td>\n      <td>0.38</td>\n      <td>0.17</td>\n      <td>0.10</td>\n      <td>0.01</td>\n      <td>0.03</td>\n      <td>0.00</td>\n      <td>15</td>\n      <td>13</td>\n    </tr>\n  </tbody>\n</table>\n</div>"
     },
     "metadata": {}
    }
   ],
   "source": [
    "df = get_df([mle_algorithm_v1(model, p0=[1, 1, 1, 1])])\n",
    "df.drop(0, axis=0, inplace=True)\n",
    "for i in range(5):\n",
    "    model.new_target(seed=i)\n",
    "    df = df.append(get_df([mle_algorithm_v1(model, p0=[1, 1, 1, 1])]))\n",
    "    df = df.append(get_df([mle_algorithm_v2(model, p0=[1, 1, 1, 1])]))\n",
    "with pd.option_context('display.max_rows', None, 'display.max_columns', None):\n",
    "    display(df.round(2).drop('Успех', axis=1))"
   ]
  }
 ]
}