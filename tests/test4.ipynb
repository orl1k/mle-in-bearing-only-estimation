{
 "metadata": {
  "language_info": {
   "codemirror_mode": {
    "name": "ipython",
    "version": 3
   },
   "file_extension": ".py",
   "mimetype": "text/x-python",
   "name": "python",
   "nbconvert_exporter": "python",
   "pygments_lexer": "ipython3",
   "version": "3.9.4"
  },
  "orig_nbformat": 2,
  "kernelspec": {
   "name": "python394jvsc74a57bd041eac51e58bc56b7e72645fd2a426397a0dabf158fb6895686ff6280c78d9f5d",
   "display_name": "Python 3.9.4 64-bit"
  },
  "metadata": {
   "interpreter": {
    "hash": "41eac51e58bc56b7e72645fd2a426397a0dabf158fb6895686ff6280c78d9f5d"
   }
  }
 },
 "nbformat": 4,
 "nbformat_minor": 2,
 "cells": [
  {
   "cell_type": "code",
   "execution_count": 1,
   "metadata": {},
   "outputs": [],
   "source": [
    "import sys\n",
    "import time\n",
    "import warnings\n",
    "sys.path.append(\"..\")\n",
    "warnings.filterwarnings('ignore')\n",
    "import numpy as np\n",
    "import pandas as pd\n",
    "import seaborn as sns\n",
    "\n",
    "from tma.object import Object\n",
    "from tma.functions import get_df\n",
    "from tma.model import Model\n",
    "from tma.algorithms import swarm\n",
    "\n",
    "import matplotlib.pyplot as plt\n",
    "from pathlib import Path\n",
    "from datetime import datetime"
   ]
  },
  {
   "source": [
    "Создаем модель наблюдателя:"
   ],
   "cell_type": "markdown",
   "metadata": {}
  },
  {
   "cell_type": "code",
   "execution_count": 2,
   "metadata": {},
   "outputs": [
    {
     "output_type": "stream",
     "name": "stdout",
     "text": [
      "Время последнего моделирования: 10/04/2021 20:35\nНаблюдатель движется прямо по курсу 0.0° 180с\nНаблюдатель перешёл на курс 270.0° за 180с\nНаблюдатель движется прямо по курсу 270.0° 300с\nНаблюдатель перешёл на курс 90.0° за 360с\nНаблюдатель движется прямо по курсу 90.0° 180с\n"
     ]
    }
   ],
   "source": [
    "print(\"Время последнего моделирования:\", datetime.now().strftime(\"%d/%m/%Y %H:%M\\n\"))\n",
    "\n",
    "observer_x, observer_y, observer_course, observer_velocity = 0.0, 0.0, 0.0, 5.0\n",
    "observer = Object(\n",
    "    \"Наблюдатель\",\n",
    "    observer_x,\n",
    "    observer_y,\n",
    "    observer_course,\n",
    "    observer_velocity,\n",
    "    verbose=True,\n",
    ")\n",
    "\n",
    "observer.forward_movement(3 * 60)\n",
    "observer.change_course(270, 'left', omega=0.5)\n",
    "observer.forward_movement(5 * 60)\n",
    "observer.change_course(90, 'right', omega=0.5)\n",
    "observer.forward_movement(3 * 60)"
   ]
  },
  {
   "cell_type": "code",
   "execution_count": 3,
   "metadata": {},
   "outputs": [],
   "source": [
    "# sns.set_style(\"white\")\n",
    "# for end_time in end_time_arr:\n",
    "#     tma = TMA(observer, target, end_t=end_time, noise_std=np.radians(0.3))\n",
    "#     dict_results = tma.swarm(n=500, p0=p0, seeded=True, fixed_target=True)\n",
    "#     df = get_df(dict_results)\n",
    "#     b_c = df.loc[1, 'Птек_ист']\n",
    "#     d_c = df.loc[1, 'Дтек_ист']\n",
    "#     sc1 = [b_c - 0.5, d_c * 0.85, 45 - 10, 10 * 0.9]\n",
    "#     sc2 = [b_c + 0.5, d_c * 1.15, 45 + 10, 10 * 1.1]\n",
    "#     xlim1 = [b_c - 0.6, d_c * 0.7, 45 - 15, 10 * 0.7]\n",
    "#     xlim2 = [b_c + 0.6, d_c * 1.3, 45 + 15, 10 * 1.3]\n",
    "#     fig, ax = plt.subplots(1, 4, figsize = (15, 3))\n",
    "#     columns = ['Птек_расч', 'Дтек_расч', 'К0_расч', 'V0_расч']\n",
    "#     for i, col in enumerate(columns):\n",
    "#         ax[i].set(xlim=(xlim1[i], xlim2[i]))\n",
    "#         sns.histplot(df[col], ax=ax[i], color=\"#496595\");\n",
    "#         ax[i].axvline(x=sc1[i], color=\"#3f4d63\")\n",
    "#         ax[i].axvline(x=sc2[i], color=\"#3f4d63\")\n",
    "#         ax[i].text(sc1[i], ax[i].get_ylim()[1] * 1.02, 'Рэф', rotation=30)\n",
    "#         ax[i].text(sc2[i], ax[i].get_ylim()[1] * 1.02, 'Рэф', rotation=30)\n",
    "#         ax[i].set_ylabel('Распеделение')\n",
    "#         sns.despine()\n",
    "\n",
    "#     print('Расчетное время = {}, Рэф = {}'.format(end_time, df['Успех'].apply(lambda x: x[2]).mean(axis=0)))\n",
    "#     plt.show();"
   ]
  },
  {
   "cell_type": "code",
   "execution_count": 4,
   "metadata": {},
   "outputs": [],
   "source": [
    "# start_t = 420\n",
    "# tau = 2\n",
    "# end_t = len(observer.coords[0]) - 1\n",
    "# t = range(start_t, end_t + 1, tau)\n",
    "# columns = ['П0_расч', 'Д0_расч', 'К0_расч', 'V0_расч']\n",
    "# std_arr = [0.01, 0.1, 0.2, 0.3, 0.5, 1.]\n",
    "# fig, ax = plt.subplots(6, 4, figsize=(25, 40))\n",
    "# for i, std in enumerate(std_arr):\n",
    "#     tma = TMA(observer, target, noise_std=np.radians(std), seed=1, tau=tau)\n",
    "#     r = tma.dynamic_mle([0., 25., 7., 0.])\n",
    "#     df = get_df(r)\n",
    "#     df['П0_расч'] = df['П0_расч'].apply(lambda x: x - 360 if x > 180 else x)\n",
    "#     v = [0., 20., 45., 10.]\n",
    "#     for j, col in enumerate(columns):\n",
    "#         sns.lineplot(x=t[:120], y=df[col][:120], ax=ax[i, j], size=0.2, legend=False);\n",
    "#         sns.lineplot(x=t[120:270], y=df[col][120:270], ax=ax[i, j], size=0.2, legend=False);\n",
    "#         sns.lineplot(x=t[270:], y=df[col][270:], ax=ax[i, j], size=0.2, legend=False);\n",
    "#         ax[i, j].axhline(v[j], linestyle='--', linewidth=1.5)\n",
    "#         ax[i, j].set_xlabel('Время')\n",
    "#         ax[i, j].set_title('CКО = {}°'.format(std))\n",
    "#         ax[i, j].ticklabel_format(useOffset=False)"
   ]
  },
  {
   "cell_type": "code",
   "execution_count": 5,
   "metadata": {},
   "outputs": [],
   "source": [
    "p0 = [0., 25., 90., 7.]\n",
    "std_arr = [0., 0.1, 0.2, 0.3, 0.5, 1.]\n",
    "def target_func(seed=None):\n",
    "    rng = np.random.RandomState(seed)\n",
    "    b = 0\n",
    "    d = rng.uniform(5, 50)\n",
    "    c = rng.uniform(0, 180)\n",
    "    v = rng.uniform(3, 15)\n",
    "    return [b, d, c, v]\n",
    "result_df = pd.DataFrame(columns=['Algorithm', 'std', 'sr_0', 'sr_1', 'sr_2', 'sr_3', 'Ка', 'Nf', 'Nf_max', 'Iter', 'Iter_max', 't', 't_max'])\n",
    "mean_columns = ['Ка', 'Nf', 'Iter', 't']\n",
    "max_columns = ['Nf', 'Iter', 't']\n",
    "Path(\"../tests/test4/\").mkdir(parents=True, exist_ok=True)"
   ]
  },
  {
   "cell_type": "code",
   "execution_count": 6,
   "metadata": {
    "tags": []
   },
   "outputs": [
    {
     "output_type": "stream",
     "name": "stdout",
     "text": [
      "Wall time: 11min 40s\n"
     ]
    }
   ],
   "source": [
    "%%time\n",
    "model = Model(observer)\n",
    "for std in std_arr:\n",
    "    model.noise_std = np.radians(std)\n",
    "    dict_results = swarm(\n",
    "        model,\n",
    "        algorithm_name=\"ММП в реальном времени\",\n",
    "        n=1000,\n",
    "        target_func=target_func,\n",
    "        p0=p0,\n",
    "        seeded=True,\n",
    "    )\n",
    "    df = get_df(dict_results)\n",
    "    for i in range(3):\n",
    "        res = pd.DataFrame({'Algorithm': \"ММП в реальном времени\", 'std': [std]})\n",
    "        dfi = df.iloc[i::3, :].copy()\n",
    "        for j in range(4):\n",
    "            res['sr_' + str(j)] = [dfi['Успех'].apply(lambda x: x[j]).mean(axis=0)]\n",
    "        res[mean_columns] = dfi[mean_columns].mean(axis=0)\n",
    "        res[['Nf_max', 'Iter_max', 't_max']] = dfi[max_columns].apply(max, axis=0)\n",
    "        result_df = result_df.append(res)"
   ]
  },
  {
   "cell_type": "code",
   "execution_count": 7,
   "metadata": {},
   "outputs": [],
   "source": [
    "result_df.reset_index(drop=True)\n",
    "result_df['Ка'] = result_df['Ка'].apply(np.sqrt)\n",
    "result_df.to_excel('../tests/test4/dynamic_results.xlsx', index=False)"
   ]
  },
  {
   "cell_type": "code",
   "execution_count": 8,
   "metadata": {},
   "outputs": [],
   "source": [
    "result_df = pd.read_excel('../tests/test4/dynamic_results.xlsx')\n",
    "display_df = result_df.copy()\n",
    "precisions = {'Ка' : '{0:.2f}', 'Nf' : '{0:.0f}', 'Nf_max': '{0:.0f}',\\\n",
    "'Iter' : '{0:.0f}', 'Iter_max' : '{0:.0f}', 't' : '{0:.4f}', 't_max' : '{0:.4f}'}\n",
    "for col, precision in precisions.items():\n",
    "    display_df[col] = display_df[col].apply(lambda x: precision.format(x))\n",
    "display_df.rename(columns={'Algorithm':'Алгоритм', 'std':'СКО', 'sr_0':'Рэф1', 'sr_1':'Рэф2', 'sr_2':'Рэф3', 'sr_3':'Рэф4', 'Ка':'sqrt(Ка)'}, inplace=True)"
   ]
  },
  {
   "cell_type": "code",
   "execution_count": 9,
   "metadata": {},
   "outputs": [
    {
     "output_type": "execute_result",
     "data": {
      "text/plain": [
       "                  Алгоритм  СКО   Рэф1   Рэф2   Рэф3   Рэф4 sqrt(Ка)  Nf  \\\n",
       "0   ММП в реальном времени  0.0  0.982  0.996  0.996  0.999     0.00  14   \n",
       "1   ММП в реальном времени  0.0  1.000  1.000  1.000  1.000     0.00   3   \n",
       "2   ММП в реальном времени  0.0  1.000  1.000  1.000  1.000     0.00   4   \n",
       "3   ММП в реальном времени  0.1  0.235  0.362  0.366  0.422     0.10  14   \n",
       "4   ММП в реальном времени  0.1  0.631  0.803  0.805  0.854     0.10  10   \n",
       "5   ММП в реальном времени  0.1  0.931  0.980  0.980  0.991     0.10   7   \n",
       "6   ММП в реальном времени  0.2  0.127  0.233  0.238  0.276     0.20  14   \n",
       "7   ММП в реальном времени  0.2  0.439  0.632  0.636  0.707     0.20  10   \n",
       "8   ММП в реальном времени  0.2  0.857  0.931  0.931  0.960     0.20   8   \n",
       "9   ММП в реальном времени  0.3  0.094  0.161  0.168  0.214     0.30  15   \n",
       "10  ММП в реальном времени  0.3  0.329  0.517  0.521  0.601     0.30  10   \n",
       "11  ММП в реальном времени  0.3  0.755  0.891  0.891  0.924     0.30   8   \n",
       "12  ММП в реальном времени  0.5  0.055  0.108  0.112  0.145     0.50  15   \n",
       "13  ММП в реальном времени  0.5  0.208  0.367  0.380  0.458     0.50  10   \n",
       "14  ММП в реальном времени  0.5  0.609  0.790  0.791  0.847     0.51  10   \n",
       "15  ММП в реальном времени  1.0  0.032  0.059  0.063  0.083     0.99  17   \n",
       "16  ММП в реальном времени  1.0  0.096  0.196  0.209  0.267     1.00  10   \n",
       "17  ММП в реальном времени  1.0  0.353  0.566  0.580  0.644     1.02  11   \n",
       "\n",
       "   Nf_max Iter Iter_max       t   t_max  \n",
       "0      32   12       24  0.0035  0.0418  \n",
       "1      11    2       10  0.0010  0.0539  \n",
       "2       9    3        8  0.0013  0.0389  \n",
       "3      32   12       24  0.0034  0.0428  \n",
       "4      13    9       12  0.0025  0.0270  \n",
       "5      13    6       12  0.0024  0.0216  \n",
       "6      32   12       24  0.0032  0.0231  \n",
       "7      21    9       18  0.0026  0.0255  \n",
       "8      34    7       23  0.0023  0.0079  \n",
       "9      32   13       24  0.0034  0.0536  \n",
       "10     29    9       22  0.0027  0.0359  \n",
       "11     44    7       30  0.0025  0.0390  \n",
       "12     32   13       29  0.0034  0.0167  \n",
       "13     26    9       21  0.0026  0.0083  \n",
       "14    127    8       80  0.0027  0.0275  \n",
       "15     43   15       38  0.0040  0.0433  \n",
       "16     26    9       25  0.0027  0.0209  \n",
       "17    110    9       69  0.0033  0.0327  "
      ],
      "text/html": "<div>\n<style scoped>\n    .dataframe tbody tr th:only-of-type {\n        vertical-align: middle;\n    }\n\n    .dataframe tbody tr th {\n        vertical-align: top;\n    }\n\n    .dataframe thead th {\n        text-align: right;\n    }\n</style>\n<table border=\"1\" class=\"dataframe\">\n  <thead>\n    <tr style=\"text-align: right;\">\n      <th></th>\n      <th>Алгоритм</th>\n      <th>СКО</th>\n      <th>Рэф1</th>\n      <th>Рэф2</th>\n      <th>Рэф3</th>\n      <th>Рэф4</th>\n      <th>sqrt(Ка)</th>\n      <th>Nf</th>\n      <th>Nf_max</th>\n      <th>Iter</th>\n      <th>Iter_max</th>\n      <th>t</th>\n      <th>t_max</th>\n    </tr>\n  </thead>\n  <tbody>\n    <tr>\n      <th>0</th>\n      <td>ММП в реальном времени</td>\n      <td>0.0</td>\n      <td>0.982</td>\n      <td>0.996</td>\n      <td>0.996</td>\n      <td>0.999</td>\n      <td>0.00</td>\n      <td>14</td>\n      <td>32</td>\n      <td>12</td>\n      <td>24</td>\n      <td>0.0035</td>\n      <td>0.0418</td>\n    </tr>\n    <tr>\n      <th>1</th>\n      <td>ММП в реальном времени</td>\n      <td>0.0</td>\n      <td>1.000</td>\n      <td>1.000</td>\n      <td>1.000</td>\n      <td>1.000</td>\n      <td>0.00</td>\n      <td>3</td>\n      <td>11</td>\n      <td>2</td>\n      <td>10</td>\n      <td>0.0010</td>\n      <td>0.0539</td>\n    </tr>\n    <tr>\n      <th>2</th>\n      <td>ММП в реальном времени</td>\n      <td>0.0</td>\n      <td>1.000</td>\n      <td>1.000</td>\n      <td>1.000</td>\n      <td>1.000</td>\n      <td>0.00</td>\n      <td>4</td>\n      <td>9</td>\n      <td>3</td>\n      <td>8</td>\n      <td>0.0013</td>\n      <td>0.0389</td>\n    </tr>\n    <tr>\n      <th>3</th>\n      <td>ММП в реальном времени</td>\n      <td>0.1</td>\n      <td>0.235</td>\n      <td>0.362</td>\n      <td>0.366</td>\n      <td>0.422</td>\n      <td>0.10</td>\n      <td>14</td>\n      <td>32</td>\n      <td>12</td>\n      <td>24</td>\n      <td>0.0034</td>\n      <td>0.0428</td>\n    </tr>\n    <tr>\n      <th>4</th>\n      <td>ММП в реальном времени</td>\n      <td>0.1</td>\n      <td>0.631</td>\n      <td>0.803</td>\n      <td>0.805</td>\n      <td>0.854</td>\n      <td>0.10</td>\n      <td>10</td>\n      <td>13</td>\n      <td>9</td>\n      <td>12</td>\n      <td>0.0025</td>\n      <td>0.0270</td>\n    </tr>\n    <tr>\n      <th>5</th>\n      <td>ММП в реальном времени</td>\n      <td>0.1</td>\n      <td>0.931</td>\n      <td>0.980</td>\n      <td>0.980</td>\n      <td>0.991</td>\n      <td>0.10</td>\n      <td>7</td>\n      <td>13</td>\n      <td>6</td>\n      <td>12</td>\n      <td>0.0024</td>\n      <td>0.0216</td>\n    </tr>\n    <tr>\n      <th>6</th>\n      <td>ММП в реальном времени</td>\n      <td>0.2</td>\n      <td>0.127</td>\n      <td>0.233</td>\n      <td>0.238</td>\n      <td>0.276</td>\n      <td>0.20</td>\n      <td>14</td>\n      <td>32</td>\n      <td>12</td>\n      <td>24</td>\n      <td>0.0032</td>\n      <td>0.0231</td>\n    </tr>\n    <tr>\n      <th>7</th>\n      <td>ММП в реальном времени</td>\n      <td>0.2</td>\n      <td>0.439</td>\n      <td>0.632</td>\n      <td>0.636</td>\n      <td>0.707</td>\n      <td>0.20</td>\n      <td>10</td>\n      <td>21</td>\n      <td>9</td>\n      <td>18</td>\n      <td>0.0026</td>\n      <td>0.0255</td>\n    </tr>\n    <tr>\n      <th>8</th>\n      <td>ММП в реальном времени</td>\n      <td>0.2</td>\n      <td>0.857</td>\n      <td>0.931</td>\n      <td>0.931</td>\n      <td>0.960</td>\n      <td>0.20</td>\n      <td>8</td>\n      <td>34</td>\n      <td>7</td>\n      <td>23</td>\n      <td>0.0023</td>\n      <td>0.0079</td>\n    </tr>\n    <tr>\n      <th>9</th>\n      <td>ММП в реальном времени</td>\n      <td>0.3</td>\n      <td>0.094</td>\n      <td>0.161</td>\n      <td>0.168</td>\n      <td>0.214</td>\n      <td>0.30</td>\n      <td>15</td>\n      <td>32</td>\n      <td>13</td>\n      <td>24</td>\n      <td>0.0034</td>\n      <td>0.0536</td>\n    </tr>\n    <tr>\n      <th>10</th>\n      <td>ММП в реальном времени</td>\n      <td>0.3</td>\n      <td>0.329</td>\n      <td>0.517</td>\n      <td>0.521</td>\n      <td>0.601</td>\n      <td>0.30</td>\n      <td>10</td>\n      <td>29</td>\n      <td>9</td>\n      <td>22</td>\n      <td>0.0027</td>\n      <td>0.0359</td>\n    </tr>\n    <tr>\n      <th>11</th>\n      <td>ММП в реальном времени</td>\n      <td>0.3</td>\n      <td>0.755</td>\n      <td>0.891</td>\n      <td>0.891</td>\n      <td>0.924</td>\n      <td>0.30</td>\n      <td>8</td>\n      <td>44</td>\n      <td>7</td>\n      <td>30</td>\n      <td>0.0025</td>\n      <td>0.0390</td>\n    </tr>\n    <tr>\n      <th>12</th>\n      <td>ММП в реальном времени</td>\n      <td>0.5</td>\n      <td>0.055</td>\n      <td>0.108</td>\n      <td>0.112</td>\n      <td>0.145</td>\n      <td>0.50</td>\n      <td>15</td>\n      <td>32</td>\n      <td>13</td>\n      <td>29</td>\n      <td>0.0034</td>\n      <td>0.0167</td>\n    </tr>\n    <tr>\n      <th>13</th>\n      <td>ММП в реальном времени</td>\n      <td>0.5</td>\n      <td>0.208</td>\n      <td>0.367</td>\n      <td>0.380</td>\n      <td>0.458</td>\n      <td>0.50</td>\n      <td>10</td>\n      <td>26</td>\n      <td>9</td>\n      <td>21</td>\n      <td>0.0026</td>\n      <td>0.0083</td>\n    </tr>\n    <tr>\n      <th>14</th>\n      <td>ММП в реальном времени</td>\n      <td>0.5</td>\n      <td>0.609</td>\n      <td>0.790</td>\n      <td>0.791</td>\n      <td>0.847</td>\n      <td>0.51</td>\n      <td>10</td>\n      <td>127</td>\n      <td>8</td>\n      <td>80</td>\n      <td>0.0027</td>\n      <td>0.0275</td>\n    </tr>\n    <tr>\n      <th>15</th>\n      <td>ММП в реальном времени</td>\n      <td>1.0</td>\n      <td>0.032</td>\n      <td>0.059</td>\n      <td>0.063</td>\n      <td>0.083</td>\n      <td>0.99</td>\n      <td>17</td>\n      <td>43</td>\n      <td>15</td>\n      <td>38</td>\n      <td>0.0040</td>\n      <td>0.0433</td>\n    </tr>\n    <tr>\n      <th>16</th>\n      <td>ММП в реальном времени</td>\n      <td>1.0</td>\n      <td>0.096</td>\n      <td>0.196</td>\n      <td>0.209</td>\n      <td>0.267</td>\n      <td>1.00</td>\n      <td>10</td>\n      <td>26</td>\n      <td>9</td>\n      <td>25</td>\n      <td>0.0027</td>\n      <td>0.0209</td>\n    </tr>\n    <tr>\n      <th>17</th>\n      <td>ММП в реальном времени</td>\n      <td>1.0</td>\n      <td>0.353</td>\n      <td>0.566</td>\n      <td>0.580</td>\n      <td>0.644</td>\n      <td>1.02</td>\n      <td>11</td>\n      <td>110</td>\n      <td>9</td>\n      <td>69</td>\n      <td>0.0033</td>\n      <td>0.0327</td>\n    </tr>\n  </tbody>\n</table>\n</div>"
     },
     "metadata": {},
     "execution_count": 9
    }
   ],
   "source": [
    "display_df"
   ]
  },
  {
   "cell_type": "code",
   "execution_count": 10,
   "metadata": {},
   "outputs": [],
   "source": [
    "import docx\n",
    "doc = docx.Document()\n",
    "t = doc.add_table(display_df.shape[0]+1, display_df.shape[1])\n",
    "for j in range(display_df.shape[-1]):\n",
    "    t.cell(0,j).text = display_df.columns[j]\n",
    "for i in range(display_df.shape[0]):\n",
    "    for j in range(display_df.shape[-1]):\n",
    "        t.cell(i+1,j).text = str(display_df.values[i,j])\n",
    "doc.save('../tests/test4/Сводная таблица.docx')"
   ]
  }
 ]
}