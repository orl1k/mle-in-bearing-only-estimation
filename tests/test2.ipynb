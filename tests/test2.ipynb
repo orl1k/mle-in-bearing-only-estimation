{
 "metadata": {
  "language_info": {
   "codemirror_mode": {
    "name": "ipython",
    "version": 3
   },
   "file_extension": ".py",
   "mimetype": "text/x-python",
   "name": "python",
   "nbconvert_exporter": "python",
   "pygments_lexer": "ipython3",
   "version": "3.9.2-final"
  },
  "orig_nbformat": 2,
  "kernelspec": {
   "name": "python3",
   "display_name": "Python 3.9.2 64-bit",
   "metadata": {
    "interpreter": {
     "hash": "41eac51e58bc56b7e72645fd2a426397a0dabf158fb6895686ff6280c78d9f5d"
    }
   }
  }
 },
 "nbformat": 4,
 "nbformat_minor": 2,
 "cells": [
  {
   "cell_type": "code",
   "execution_count": 58,
   "metadata": {},
   "outputs": [],
   "source": [
    "import sys\n",
    "sys.path.append(\"..\")\n",
    "import numpy as np\n",
    "import pandas as pd\n",
    "import seaborn as sns\n",
    "from matplotlib import pyplot as plt\n",
    "from project.ship import Ship\n",
    "from project.tests import Tests\n",
    "from project.botma import TMA\n",
    "import time\n",
    "from pathlib import Path\n",
    "from datetime import datetime"
   ]
  },
  {
   "cell_type": "code",
   "execution_count": 2,
   "metadata": {},
   "outputs": [
    {
     "output_type": "stream",
     "name": "stdout",
     "text": [
      "Время последнего моделирования: 26/03/2021 20:02\nНаблюдатель движется прямо по курсу 0.0° 180с\nНаблюдатель перешёл на курс 270.0° за 180с\nНаблюдатель движется прямо по курсу 270.0° 300с\nНаблюдатель перешёл на курс 90.0° за 360с\nНаблюдатель движется прямо по курсу 90.0° 180с\n"
     ]
    }
   ],
   "source": [
    "tests = Tests('test1')\n",
    "print(\"Время последнего моделирования:\", datetime.now().strftime(\"%d/%m/%Y %H:%M\"))\n",
    "\n",
    "# Создаем наблюдателя\n",
    "observer_x, observer_y, observer_course, observer_velocity = 0, 0, 0, 5\n",
    "observer = Ship('Наблюдатель', observer_x, observer_y, observer_course,\n",
    "                observer_velocity, verbose=True)\n",
    "\n",
    "# Моделирование траектории наблюдателя\n",
    "observer.forward_movement(3 * 60)\n",
    "observer.change_course(270, 'left', omega=0.5)\n",
    "observer.forward_movement(5 * 60)\n",
    "observer.change_course(90, 'right', omega=0.5)\n",
    "observer.forward_movement(3 * 60)"
   ]
  },
  {
   "cell_type": "code",
   "execution_count": 3,
   "metadata": {},
   "outputs": [],
   "source": [
    "p0 = [0., 25., 90., 7.]\n",
    "d_arr = [10., 20., 30., 40.]\n",
    "std_arr = [0., 0.1, 0.2, 0.3, 0.5, 1.]\n",
    "alg_arr = ['ММП v2', 'Метод N пеленгов']\n",
    "def target_func(seed=None):\n",
    "            rng = np.random.RandomState(seed)\n",
    "            b = 0\n",
    "            d = rng.uniform(5, 50)\n",
    "            c = rng.uniform(0, 180)\n",
    "            v = rng.uniform(3, 15)\n",
    "            return [b, d, c, v]\n",
    "result_df = pd.DataFrame(columns=['Algorithm', 'std', 'sr_0', 'sr_1', 'sr_2', 'sr_3', 'Ка', 'Nf', 'Nf_max', 'Iter', 'Iter_max', 't', 't_max'])\n",
    "mean_columns = ['Ка', 'Nf', 'Iter', 't']\n",
    "max_columns = ['Nf', 'Iter', 't']"
   ]
  },
  {
   "cell_type": "code",
   "execution_count": 4,
   "metadata": {
    "tags": []
   },
   "outputs": [
    {
     "output_type": "stream",
     "name": "stderr",
     "text": [
      "..\\project\\botma.py:175: RuntimeWarning: invalid value encountered in sqrt\n",
      "  perr = np.sqrt(np.diag(res[1]))\n",
      "Wall time: 29min 12s\n"
     ]
    }
   ],
   "source": [
    "%%time\n",
    "tma = TMA(observer)\n",
    "for std in std_arr:\n",
    "    tma.standart_deviation = np.radians(std)\n",
    "    for alg in alg_arr:\n",
    "        dict_results = tma.swarm(algorithm_name=alg, n=10000, target_func=target_func, p0=p0, seeded=True)\n",
    "        df = tests.get_df(dict_results)\n",
    "        tests.save_df(df, name='../tests/test2/' + str(alg) + ' ' + str(std) + '.xlsx')\n",
    "        res = pd.DataFrame({'Algorithm': [alg], 'std': [std]})\n",
    "        for i in range(4):\n",
    "            res['sr_' + str(i)] = [df['Успех'].apply(lambda x: x[i]).mean(axis=0)]\n",
    "        res[mean_columns] = df[mean_columns].mean(axis=0)\n",
    "        res[['Nf_max', 'Iter_max', 't_max']] = df[max_columns].apply(max, axis=0)\n",
    "        result_df = result_df.append(res)"
   ]
  },
  {
   "cell_type": "code",
   "execution_count": 5,
   "metadata": {},
   "outputs": [],
   "source": [
    "result_df.reset_index(drop=True)\n",
    "Path(\"../tests/test2\").mkdir(parents=True, exist_ok=True)\n",
    "tests.save_df(result_df, name='../tests/test2/results2.xlsx')"
   ]
  },
  {
   "cell_type": "code",
   "execution_count": 6,
   "metadata": {},
   "outputs": [],
   "source": [
    "display_df = result_df.copy()\n",
    "precisions = {'Ка' : '{0:.2f}', 'Nf' : '{0:.0f}', 'Nf_max': '{0:.0f}',\\\n",
    "'Iter' : '{0:.0f}', 'Iter_max' : '{0:.0f}', 't' : '{0:.4f}', 't_max' : '{0:.4f}'}\n",
    "for col, precision in precisions.items():\n",
    "    display_df[col] = display_df[col].apply(lambda x: precision.format(x))"
   ]
  },
  {
   "cell_type": "code",
   "execution_count": 8,
   "metadata": {},
   "outputs": [
    {
     "output_type": "execute_result",
     "data": {
      "text/plain": [
       "          Algorithm  std    sr_0    sr_1    sr_2    sr_3     Ка   Nf Nf_max  \\\n",
       "0            ММП v2  0.0  0.9999  0.9999  0.9999  0.9999   0.08   10     51   \n",
       "0  Метод N пеленгов  0.0  1.0000  1.0000  1.0000  1.0000   0.00  nan    nan   \n",
       "0            ММП v2  0.1  0.9418  0.9828  0.9828  0.9924   0.09   10     54   \n",
       "0  Метод N пеленгов  0.1  0.5602  0.7582  0.7592  0.8478   0.01  nan    nan   \n",
       "0            ММП v2  0.2  0.8619  0.9417  0.9417  0.9677   0.12   10     60   \n",
       "0  Метод N пеленгов  0.2  0.3067  0.5167  0.5240  0.6141   0.05  nan    nan   \n",
       "0            ММП v2  0.3  0.7819  0.8998  0.8999  0.9363   0.17   10     57   \n",
       "0  Метод N пеленгов  0.3  0.1887  0.3514  0.3579  0.4422   0.11  nan    nan   \n",
       "0            ММП v2  0.5  0.6355  0.8220  0.8230  0.8770   0.33   10     55   \n",
       "0  Метод N пеленгов  0.5  0.0485  0.1462  0.1481  0.2284   0.38  nan    nan   \n",
       "0            ММП v2  1.0  0.3798  0.6350  0.6510  0.7385   1.07   10     58   \n",
       "0  Метод N пеленгов  1.0  0.0014  0.0112  0.0143  0.0213  22.31  nan    nan   \n",
       "\n",
       "  Iter Iter_max       t   t_max  \n",
       "0    9       36  0.0028  0.0436  \n",
       "0  nan      nan  0.0002  0.0083  \n",
       "0    9       38  0.0022  0.0153  \n",
       "0  nan      nan  0.0002  0.0099  \n",
       "0    9       42  0.0022  0.0331  \n",
       "0  nan      nan  0.0002  0.0082  \n",
       "0    9       40  0.0022  0.0102  \n",
       "0  nan      nan  0.0002  0.0086  \n",
       "0    9       39  0.0023  0.0273  \n",
       "0  nan      nan  0.0002  0.0085  \n",
       "0    9       41  0.0023  0.0261  \n",
       "0  nan      nan  0.0002  0.0027  "
      ],
      "text/html": "<div>\n<style scoped>\n    .dataframe tbody tr th:only-of-type {\n        vertical-align: middle;\n    }\n\n    .dataframe tbody tr th {\n        vertical-align: top;\n    }\n\n    .dataframe thead th {\n        text-align: right;\n    }\n</style>\n<table border=\"1\" class=\"dataframe\">\n  <thead>\n    <tr style=\"text-align: right;\">\n      <th></th>\n      <th>Algorithm</th>\n      <th>std</th>\n      <th>sr_0</th>\n      <th>sr_1</th>\n      <th>sr_2</th>\n      <th>sr_3</th>\n      <th>Ка</th>\n      <th>Nf</th>\n      <th>Nf_max</th>\n      <th>Iter</th>\n      <th>Iter_max</th>\n      <th>t</th>\n      <th>t_max</th>\n    </tr>\n  </thead>\n  <tbody>\n    <tr>\n      <th>0</th>\n      <td>ММП v2</td>\n      <td>0.0</td>\n      <td>0.9999</td>\n      <td>0.9999</td>\n      <td>0.9999</td>\n      <td>0.9999</td>\n      <td>0.08</td>\n      <td>10</td>\n      <td>51</td>\n      <td>9</td>\n      <td>36</td>\n      <td>0.0028</td>\n      <td>0.0436</td>\n    </tr>\n    <tr>\n      <th>0</th>\n      <td>Метод N пеленгов</td>\n      <td>0.0</td>\n      <td>1.0000</td>\n      <td>1.0000</td>\n      <td>1.0000</td>\n      <td>1.0000</td>\n      <td>0.00</td>\n      <td>nan</td>\n      <td>nan</td>\n      <td>nan</td>\n      <td>nan</td>\n      <td>0.0002</td>\n      <td>0.0083</td>\n    </tr>\n    <tr>\n      <th>0</th>\n      <td>ММП v2</td>\n      <td>0.1</td>\n      <td>0.9418</td>\n      <td>0.9828</td>\n      <td>0.9828</td>\n      <td>0.9924</td>\n      <td>0.09</td>\n      <td>10</td>\n      <td>54</td>\n      <td>9</td>\n      <td>38</td>\n      <td>0.0022</td>\n      <td>0.0153</td>\n    </tr>\n    <tr>\n      <th>0</th>\n      <td>Метод N пеленгов</td>\n      <td>0.1</td>\n      <td>0.5602</td>\n      <td>0.7582</td>\n      <td>0.7592</td>\n      <td>0.8478</td>\n      <td>0.01</td>\n      <td>nan</td>\n      <td>nan</td>\n      <td>nan</td>\n      <td>nan</td>\n      <td>0.0002</td>\n      <td>0.0099</td>\n    </tr>\n    <tr>\n      <th>0</th>\n      <td>ММП v2</td>\n      <td>0.2</td>\n      <td>0.8619</td>\n      <td>0.9417</td>\n      <td>0.9417</td>\n      <td>0.9677</td>\n      <td>0.12</td>\n      <td>10</td>\n      <td>60</td>\n      <td>9</td>\n      <td>42</td>\n      <td>0.0022</td>\n      <td>0.0331</td>\n    </tr>\n    <tr>\n      <th>0</th>\n      <td>Метод N пеленгов</td>\n      <td>0.2</td>\n      <td>0.3067</td>\n      <td>0.5167</td>\n      <td>0.5240</td>\n      <td>0.6141</td>\n      <td>0.05</td>\n      <td>nan</td>\n      <td>nan</td>\n      <td>nan</td>\n      <td>nan</td>\n      <td>0.0002</td>\n      <td>0.0082</td>\n    </tr>\n    <tr>\n      <th>0</th>\n      <td>ММП v2</td>\n      <td>0.3</td>\n      <td>0.7819</td>\n      <td>0.8998</td>\n      <td>0.8999</td>\n      <td>0.9363</td>\n      <td>0.17</td>\n      <td>10</td>\n      <td>57</td>\n      <td>9</td>\n      <td>40</td>\n      <td>0.0022</td>\n      <td>0.0102</td>\n    </tr>\n    <tr>\n      <th>0</th>\n      <td>Метод N пеленгов</td>\n      <td>0.3</td>\n      <td>0.1887</td>\n      <td>0.3514</td>\n      <td>0.3579</td>\n      <td>0.4422</td>\n      <td>0.11</td>\n      <td>nan</td>\n      <td>nan</td>\n      <td>nan</td>\n      <td>nan</td>\n      <td>0.0002</td>\n      <td>0.0086</td>\n    </tr>\n    <tr>\n      <th>0</th>\n      <td>ММП v2</td>\n      <td>0.5</td>\n      <td>0.6355</td>\n      <td>0.8220</td>\n      <td>0.8230</td>\n      <td>0.8770</td>\n      <td>0.33</td>\n      <td>10</td>\n      <td>55</td>\n      <td>9</td>\n      <td>39</td>\n      <td>0.0023</td>\n      <td>0.0273</td>\n    </tr>\n    <tr>\n      <th>0</th>\n      <td>Метод N пеленгов</td>\n      <td>0.5</td>\n      <td>0.0485</td>\n      <td>0.1462</td>\n      <td>0.1481</td>\n      <td>0.2284</td>\n      <td>0.38</td>\n      <td>nan</td>\n      <td>nan</td>\n      <td>nan</td>\n      <td>nan</td>\n      <td>0.0002</td>\n      <td>0.0085</td>\n    </tr>\n    <tr>\n      <th>0</th>\n      <td>ММП v2</td>\n      <td>1.0</td>\n      <td>0.3798</td>\n      <td>0.6350</td>\n      <td>0.6510</td>\n      <td>0.7385</td>\n      <td>1.07</td>\n      <td>10</td>\n      <td>58</td>\n      <td>9</td>\n      <td>41</td>\n      <td>0.0023</td>\n      <td>0.0261</td>\n    </tr>\n    <tr>\n      <th>0</th>\n      <td>Метод N пеленгов</td>\n      <td>1.0</td>\n      <td>0.0014</td>\n      <td>0.0112</td>\n      <td>0.0143</td>\n      <td>0.0213</td>\n      <td>22.31</td>\n      <td>nan</td>\n      <td>nan</td>\n      <td>nan</td>\n      <td>nan</td>\n      <td>0.0002</td>\n      <td>0.0027</td>\n    </tr>\n  </tbody>\n</table>\n</div>"
     },
     "metadata": {},
     "execution_count": 8
    }
   ],
   "source": [
    "display_df"
   ]
  }
 ]
}