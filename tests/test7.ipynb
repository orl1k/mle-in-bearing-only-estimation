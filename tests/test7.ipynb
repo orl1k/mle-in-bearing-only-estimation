{
 "metadata": {
  "language_info": {
   "codemirror_mode": {
    "name": "ipython",
    "version": 3
   },
   "file_extension": ".py",
   "mimetype": "text/x-python",
   "name": "python",
   "nbconvert_exporter": "python",
   "pygments_lexer": "ipython3",
   "version": "3.9.4"
  },
  "orig_nbformat": 2,
  "kernelspec": {
   "name": "python394jvsc74a57bd041eac51e58bc56b7e72645fd2a426397a0dabf158fb6895686ff6280c78d9f5d",
   "display_name": "Python 3.9.4 64-bit"
  },
  "metadata": {
   "interpreter": {
    "hash": "41eac51e58bc56b7e72645fd2a426397a0dabf158fb6895686ff6280c78d9f5d"
   }
  }
 },
 "nbformat": 4,
 "nbformat_minor": 2,
 "cells": [
  {
   "cell_type": "code",
   "execution_count": 1,
   "metadata": {},
   "outputs": [],
   "source": [
    "import sys\n",
    "import time\n",
    "import numpy as np\n",
    "import pandas as pd\n",
    "sys.path.append(\"..\")\n",
    "from scipy import stats\n",
    "from tma.model import Model\n",
    "from tma.object import Object\n",
    "from tma.functions import get_df\n",
    "from tma.algorithms import swarm\n",
    "from pathlib import Path\n",
    "from datetime import datetime"
   ]
  },
  {
   "source": [
    "Создаем модель наблюдателя:"
   ],
   "cell_type": "markdown",
   "metadata": {}
  },
  {
   "cell_type": "code",
   "execution_count": 2,
   "metadata": {},
   "outputs": [
    {
     "output_type": "stream",
     "name": "stdout",
     "text": [
      "Время последнего моделирования: 27/04/2021 23:09\n\nНаблюдатель движется прямо по курсу 0.0° 180с\nНаблюдатель перешёл на курс 270.0° за 300с\nНаблюдатель движется прямо по курсу 270.0° 300с\nНаблюдатель перешёл на курс 90.0° за 600с\nНаблюдатель движется прямо по курсу 90.0° 120с\n"
     ]
    }
   ],
   "source": [
    "print(\"Время последнего моделирования:\", datetime.now().strftime(\"%d/%m/%Y %H:%M\\n\"))\n",
    "\n",
    "observer_x, observer_y, observer_course, observer_velocity = 0., 0., 0., 2.\n",
    "observer = Object('Наблюдатель', observer_x, observer_y, observer_course,\n",
    "                observer_velocity, verbose=True)\n",
    "\n",
    "observer.forward_movement(3 * 60)\n",
    "observer.change_course(270, 'left', omega=0.3)\n",
    "observer.forward_movement(5 * 60)\n",
    "observer.change_course(90.1, 'right', omega=0.3)\n",
    "observer.forward_movement(2 * 60)"
   ]
  },
  {
   "cell_type": "code",
   "execution_count": 3,
   "metadata": {},
   "outputs": [
    {
     "output_type": "display_data",
     "data": {
      "text/plain": "<Figure size 432x288 with 1 Axes>",
      "image/svg+xml": "<?xml version=\"1.0\" encoding=\"utf-8\" standalone=\"no\"?>\r\n<!DOCTYPE svg PUBLIC \"-//W3C//DTD SVG 1.1//EN\"\r\n  \"http://www.w3.org/Graphics/SVG/1.1/DTD/svg11.dtd\">\r\n<!-- Created with matplotlib (https://matplotlib.org/) -->\r\n<svg height=\"248.518125pt\" version=\"1.1\" viewBox=\"0 0 264.29 248.518125\" width=\"264.29pt\" xmlns=\"http://www.w3.org/2000/svg\" xmlns:xlink=\"http://www.w3.org/1999/xlink\">\r\n <metadata>\r\n  <rdf:RDF xmlns:cc=\"http://creativecommons.org/ns#\" xmlns:dc=\"http://purl.org/dc/elements/1.1/\" xmlns:rdf=\"http://www.w3.org/1999/02/22-rdf-syntax-ns#\">\r\n   <cc:Work>\r\n    <dc:type rdf:resource=\"http://purl.org/dc/dcmitype/StillImage\"/>\r\n    <dc:date>2021-04-27T23:09:21.019361</dc:date>\r\n    <dc:format>image/svg+xml</dc:format>\r\n    <dc:creator>\r\n     <cc:Agent>\r\n      <dc:title>Matplotlib v3.3.4, https://matplotlib.org/</dc:title>\r\n     </cc:Agent>\r\n    </dc:creator>\r\n   </cc:Work>\r\n  </rdf:RDF>\r\n </metadata>\r\n <defs>\r\n  <style type=\"text/css\">*{stroke-linecap:butt;stroke-linejoin:round;}</style>\r\n </defs>\r\n <g id=\"figure_1\">\r\n  <g id=\"patch_1\">\r\n   <path d=\"M 0 248.518125 \r\nL 264.29 248.518125 \r\nL 264.29 0 \r\nL 0 0 \r\nz\r\n\" style=\"fill:none;\"/>\r\n  </g>\r\n  <g id=\"axes_1\">\r\n   <g id=\"patch_2\">\r\n    <path d=\"M 39.65 224.64 \r\nL 257.09 224.64 \r\nL 257.09 7.2 \r\nL 39.65 7.2 \r\nz\r\n\" style=\"fill:#ffffff;\"/>\r\n   </g>\r\n   <g id=\"matplotlib.axis_1\">\r\n    <g id=\"xtick_1\">\r\n     <g id=\"line2d_1\">\r\n      <defs>\r\n       <path d=\"M 0 0 \r\nL 0 3.5 \r\n\" id=\"mc9b7aac649\" style=\"stroke:#000000;stroke-width:0.8;\"/>\r\n      </defs>\r\n      <g>\r\n       <use style=\"stroke:#000000;stroke-width:0.8;\" x=\"63.57426\" xlink:href=\"#mc9b7aac649\" y=\"224.64\"/>\r\n      </g>\r\n     </g>\r\n     <g id=\"text_1\">\r\n      <!-- −1250 -->\r\n      <g transform=\"translate(46.659416 239.238437)scale(0.1 -0.1)\">\r\n       <defs>\r\n        <path d=\"M 10.59375 35.5 \r\nL 73.1875 35.5 \r\nL 73.1875 27.203125 \r\nL 10.59375 27.203125 \r\nz\r\n\" id=\"DejaVuSans-8722\"/>\r\n        <path d=\"M 12.40625 8.296875 \r\nL 28.515625 8.296875 \r\nL 28.515625 63.921875 \r\nL 10.984375 60.40625 \r\nL 10.984375 69.390625 \r\nL 28.421875 72.90625 \r\nL 38.28125 72.90625 \r\nL 38.28125 8.296875 \r\nL 54.390625 8.296875 \r\nL 54.390625 0 \r\nL 12.40625 0 \r\nz\r\n\" id=\"DejaVuSans-49\"/>\r\n        <path d=\"M 19.1875 8.296875 \r\nL 53.609375 8.296875 \r\nL 53.609375 0 \r\nL 7.328125 0 \r\nL 7.328125 8.296875 \r\nQ 12.9375 14.109375 22.625 23.890625 \r\nQ 32.328125 33.6875 34.8125 36.53125 \r\nQ 39.546875 41.84375 41.421875 45.53125 \r\nQ 43.3125 49.21875 43.3125 52.78125 \r\nQ 43.3125 58.59375 39.234375 62.25 \r\nQ 35.15625 65.921875 28.609375 65.921875 \r\nQ 23.96875 65.921875 18.8125 64.3125 \r\nQ 13.671875 62.703125 7.8125 59.421875 \r\nL 7.8125 69.390625 \r\nQ 13.765625 71.78125 18.9375 73 \r\nQ 24.125 74.21875 28.421875 74.21875 \r\nQ 39.75 74.21875 46.484375 68.546875 \r\nQ 53.21875 62.890625 53.21875 53.421875 \r\nQ 53.21875 48.921875 51.53125 44.890625 \r\nQ 49.859375 40.875 45.40625 35.40625 \r\nQ 44.1875 33.984375 37.640625 27.21875 \r\nQ 31.109375 20.453125 19.1875 8.296875 \r\nz\r\n\" id=\"DejaVuSans-50\"/>\r\n        <path d=\"M 10.796875 72.90625 \r\nL 49.515625 72.90625 \r\nL 49.515625 64.59375 \r\nL 19.828125 64.59375 \r\nL 19.828125 46.734375 \r\nQ 21.96875 47.46875 24.109375 47.828125 \r\nQ 26.265625 48.1875 28.421875 48.1875 \r\nQ 40.625 48.1875 47.75 41.5 \r\nQ 54.890625 34.8125 54.890625 23.390625 \r\nQ 54.890625 11.625 47.5625 5.09375 \r\nQ 40.234375 -1.421875 26.90625 -1.421875 \r\nQ 22.3125 -1.421875 17.546875 -0.640625 \r\nQ 12.796875 0.140625 7.71875 1.703125 \r\nL 7.71875 11.625 \r\nQ 12.109375 9.234375 16.796875 8.0625 \r\nQ 21.484375 6.890625 26.703125 6.890625 \r\nQ 35.15625 6.890625 40.078125 11.328125 \r\nQ 45.015625 15.765625 45.015625 23.390625 \r\nQ 45.015625 31 40.078125 35.4375 \r\nQ 35.15625 39.890625 26.703125 39.890625 \r\nQ 22.75 39.890625 18.8125 39.015625 \r\nQ 14.890625 38.140625 10.796875 36.28125 \r\nz\r\n\" id=\"DejaVuSans-53\"/>\r\n        <path d=\"M 31.78125 66.40625 \r\nQ 24.171875 66.40625 20.328125 58.90625 \r\nQ 16.5 51.421875 16.5 36.375 \r\nQ 16.5 21.390625 20.328125 13.890625 \r\nQ 24.171875 6.390625 31.78125 6.390625 \r\nQ 39.453125 6.390625 43.28125 13.890625 \r\nQ 47.125 21.390625 47.125 36.375 \r\nQ 47.125 51.421875 43.28125 58.90625 \r\nQ 39.453125 66.40625 31.78125 66.40625 \r\nz\r\nM 31.78125 74.21875 \r\nQ 44.046875 74.21875 50.515625 64.515625 \r\nQ 56.984375 54.828125 56.984375 36.375 \r\nQ 56.984375 17.96875 50.515625 8.265625 \r\nQ 44.046875 -1.421875 31.78125 -1.421875 \r\nQ 19.53125 -1.421875 13.0625 8.265625 \r\nQ 6.59375 17.96875 6.59375 36.375 \r\nQ 6.59375 54.828125 13.0625 64.515625 \r\nQ 19.53125 74.21875 31.78125 74.21875 \r\nz\r\n\" id=\"DejaVuSans-48\"/>\r\n       </defs>\r\n       <use xlink:href=\"#DejaVuSans-8722\"/>\r\n       <use x=\"83.789062\" xlink:href=\"#DejaVuSans-49\"/>\r\n       <use x=\"147.412109\" xlink:href=\"#DejaVuSans-50\"/>\r\n       <use x=\"211.035156\" xlink:href=\"#DejaVuSans-53\"/>\r\n       <use x=\"274.658203\" xlink:href=\"#DejaVuSans-48\"/>\r\n      </g>\r\n     </g>\r\n    </g>\r\n    <g id=\"xtick_2\">\r\n     <g id=\"line2d_2\">\r\n      <g>\r\n       <use style=\"stroke:#000000;stroke-width:0.8;\" x=\"96.41216\" xlink:href=\"#mc9b7aac649\" y=\"224.64\"/>\r\n      </g>\r\n     </g>\r\n     <g id=\"text_2\">\r\n      <!-- −1000 -->\r\n      <g transform=\"translate(79.497316 239.238437)scale(0.1 -0.1)\">\r\n       <use xlink:href=\"#DejaVuSans-8722\"/>\r\n       <use x=\"83.789062\" xlink:href=\"#DejaVuSans-49\"/>\r\n       <use x=\"147.412109\" xlink:href=\"#DejaVuSans-48\"/>\r\n       <use x=\"211.035156\" xlink:href=\"#DejaVuSans-48\"/>\r\n       <use x=\"274.658203\" xlink:href=\"#DejaVuSans-48\"/>\r\n      </g>\r\n     </g>\r\n    </g>\r\n    <g id=\"xtick_3\">\r\n     <g id=\"line2d_3\">\r\n      <g>\r\n       <use style=\"stroke:#000000;stroke-width:0.8;\" x=\"129.25006\" xlink:href=\"#mc9b7aac649\" y=\"224.64\"/>\r\n      </g>\r\n     </g>\r\n     <g id=\"text_3\">\r\n      <!-- −750 -->\r\n      <g transform=\"translate(115.516466 239.238437)scale(0.1 -0.1)\">\r\n       <defs>\r\n        <path d=\"M 8.203125 72.90625 \r\nL 55.078125 72.90625 \r\nL 55.078125 68.703125 \r\nL 28.609375 0 \r\nL 18.3125 0 \r\nL 43.21875 64.59375 \r\nL 8.203125 64.59375 \r\nz\r\n\" id=\"DejaVuSans-55\"/>\r\n       </defs>\r\n       <use xlink:href=\"#DejaVuSans-8722\"/>\r\n       <use x=\"83.789062\" xlink:href=\"#DejaVuSans-55\"/>\r\n       <use x=\"147.412109\" xlink:href=\"#DejaVuSans-53\"/>\r\n       <use x=\"211.035156\" xlink:href=\"#DejaVuSans-48\"/>\r\n      </g>\r\n     </g>\r\n    </g>\r\n    <g id=\"xtick_4\">\r\n     <g id=\"line2d_4\">\r\n      <g>\r\n       <use style=\"stroke:#000000;stroke-width:0.8;\" x=\"162.08796\" xlink:href=\"#mc9b7aac649\" y=\"224.64\"/>\r\n      </g>\r\n     </g>\r\n     <g id=\"text_4\">\r\n      <!-- −500 -->\r\n      <g transform=\"translate(148.354366 239.238437)scale(0.1 -0.1)\">\r\n       <use xlink:href=\"#DejaVuSans-8722\"/>\r\n       <use x=\"83.789062\" xlink:href=\"#DejaVuSans-53\"/>\r\n       <use x=\"147.412109\" xlink:href=\"#DejaVuSans-48\"/>\r\n       <use x=\"211.035156\" xlink:href=\"#DejaVuSans-48\"/>\r\n      </g>\r\n     </g>\r\n    </g>\r\n    <g id=\"xtick_5\">\r\n     <g id=\"line2d_5\">\r\n      <g>\r\n       <use style=\"stroke:#000000;stroke-width:0.8;\" x=\"194.92586\" xlink:href=\"#mc9b7aac649\" y=\"224.64\"/>\r\n      </g>\r\n     </g>\r\n     <g id=\"text_5\">\r\n      <!-- −250 -->\r\n      <g transform=\"translate(181.192266 239.238437)scale(0.1 -0.1)\">\r\n       <use xlink:href=\"#DejaVuSans-8722\"/>\r\n       <use x=\"83.789062\" xlink:href=\"#DejaVuSans-50\"/>\r\n       <use x=\"147.412109\" xlink:href=\"#DejaVuSans-53\"/>\r\n       <use x=\"211.035156\" xlink:href=\"#DejaVuSans-48\"/>\r\n      </g>\r\n     </g>\r\n    </g>\r\n    <g id=\"xtick_6\">\r\n     <g id=\"line2d_6\">\r\n      <g>\r\n       <use style=\"stroke:#000000;stroke-width:0.8;\" x=\"227.76376\" xlink:href=\"#mc9b7aac649\" y=\"224.64\"/>\r\n      </g>\r\n     </g>\r\n     <g id=\"text_6\">\r\n      <!-- 0 -->\r\n      <g transform=\"translate(224.58251 239.238437)scale(0.1 -0.1)\">\r\n       <use xlink:href=\"#DejaVuSans-48\"/>\r\n      </g>\r\n     </g>\r\n    </g>\r\n   </g>\r\n   <g id=\"matplotlib.axis_2\">\r\n    <g id=\"ytick_1\">\r\n     <g id=\"line2d_7\">\r\n      <defs>\r\n       <path d=\"M 0 0 \r\nL -3.5 0 \r\n\" id=\"m49a1806a03\" style=\"stroke:#000000;stroke-width:0.8;\"/>\r\n      </defs>\r\n      <g>\r\n       <use style=\"stroke:#000000;stroke-width:0.8;\" x=\"39.65\" xlink:href=\"#m49a1806a03\" y=\"214.756364\"/>\r\n      </g>\r\n     </g>\r\n     <g id=\"text_7\">\r\n      <!-- 0 -->\r\n      <g transform=\"translate(26.2875 218.555582)scale(0.1 -0.1)\">\r\n       <use xlink:href=\"#DejaVuSans-48\"/>\r\n      </g>\r\n     </g>\r\n    </g>\r\n    <g id=\"ytick_2\">\r\n     <g id=\"line2d_8\">\r\n      <g>\r\n       <use style=\"stroke:#000000;stroke-width:0.8;\" x=\"39.65\" xlink:href=\"#m49a1806a03\" y=\"188.486044\"/>\r\n      </g>\r\n     </g>\r\n     <g id=\"text_8\">\r\n      <!-- 200 -->\r\n      <g transform=\"translate(13.5625 192.285262)scale(0.1 -0.1)\">\r\n       <use xlink:href=\"#DejaVuSans-50\"/>\r\n       <use x=\"63.623047\" xlink:href=\"#DejaVuSans-48\"/>\r\n       <use x=\"127.246094\" xlink:href=\"#DejaVuSans-48\"/>\r\n      </g>\r\n     </g>\r\n    </g>\r\n    <g id=\"ytick_3\">\r\n     <g id=\"line2d_9\">\r\n      <g>\r\n       <use style=\"stroke:#000000;stroke-width:0.8;\" x=\"39.65\" xlink:href=\"#m49a1806a03\" y=\"162.215724\"/>\r\n      </g>\r\n     </g>\r\n     <g id=\"text_9\">\r\n      <!-- 400 -->\r\n      <g transform=\"translate(13.5625 166.014942)scale(0.1 -0.1)\">\r\n       <defs>\r\n        <path d=\"M 37.796875 64.3125 \r\nL 12.890625 25.390625 \r\nL 37.796875 25.390625 \r\nz\r\nM 35.203125 72.90625 \r\nL 47.609375 72.90625 \r\nL 47.609375 25.390625 \r\nL 58.015625 25.390625 \r\nL 58.015625 17.1875 \r\nL 47.609375 17.1875 \r\nL 47.609375 0 \r\nL 37.796875 0 \r\nL 37.796875 17.1875 \r\nL 4.890625 17.1875 \r\nL 4.890625 26.703125 \r\nz\r\n\" id=\"DejaVuSans-52\"/>\r\n       </defs>\r\n       <use xlink:href=\"#DejaVuSans-52\"/>\r\n       <use x=\"63.623047\" xlink:href=\"#DejaVuSans-48\"/>\r\n       <use x=\"127.246094\" xlink:href=\"#DejaVuSans-48\"/>\r\n      </g>\r\n     </g>\r\n    </g>\r\n    <g id=\"ytick_4\">\r\n     <g id=\"line2d_10\">\r\n      <g>\r\n       <use style=\"stroke:#000000;stroke-width:0.8;\" x=\"39.65\" xlink:href=\"#m49a1806a03\" y=\"135.945403\"/>\r\n      </g>\r\n     </g>\r\n     <g id=\"text_10\">\r\n      <!-- 600 -->\r\n      <g transform=\"translate(13.5625 139.744622)scale(0.1 -0.1)\">\r\n       <defs>\r\n        <path d=\"M 33.015625 40.375 \r\nQ 26.375 40.375 22.484375 35.828125 \r\nQ 18.609375 31.296875 18.609375 23.390625 \r\nQ 18.609375 15.53125 22.484375 10.953125 \r\nQ 26.375 6.390625 33.015625 6.390625 \r\nQ 39.65625 6.390625 43.53125 10.953125 \r\nQ 47.40625 15.53125 47.40625 23.390625 \r\nQ 47.40625 31.296875 43.53125 35.828125 \r\nQ 39.65625 40.375 33.015625 40.375 \r\nz\r\nM 52.59375 71.296875 \r\nL 52.59375 62.3125 \r\nQ 48.875 64.0625 45.09375 64.984375 \r\nQ 41.3125 65.921875 37.59375 65.921875 \r\nQ 27.828125 65.921875 22.671875 59.328125 \r\nQ 17.53125 52.734375 16.796875 39.40625 \r\nQ 19.671875 43.65625 24.015625 45.921875 \r\nQ 28.375 48.1875 33.59375 48.1875 \r\nQ 44.578125 48.1875 50.953125 41.515625 \r\nQ 57.328125 34.859375 57.328125 23.390625 \r\nQ 57.328125 12.15625 50.6875 5.359375 \r\nQ 44.046875 -1.421875 33.015625 -1.421875 \r\nQ 20.359375 -1.421875 13.671875 8.265625 \r\nQ 6.984375 17.96875 6.984375 36.375 \r\nQ 6.984375 53.65625 15.1875 63.9375 \r\nQ 23.390625 74.21875 37.203125 74.21875 \r\nQ 40.921875 74.21875 44.703125 73.484375 \r\nQ 48.484375 72.75 52.59375 71.296875 \r\nz\r\n\" id=\"DejaVuSans-54\"/>\r\n       </defs>\r\n       <use xlink:href=\"#DejaVuSans-54\"/>\r\n       <use x=\"63.623047\" xlink:href=\"#DejaVuSans-48\"/>\r\n       <use x=\"127.246094\" xlink:href=\"#DejaVuSans-48\"/>\r\n      </g>\r\n     </g>\r\n    </g>\r\n    <g id=\"ytick_5\">\r\n     <g id=\"line2d_11\">\r\n      <g>\r\n       <use style=\"stroke:#000000;stroke-width:0.8;\" x=\"39.65\" xlink:href=\"#m49a1806a03\" y=\"109.675083\"/>\r\n      </g>\r\n     </g>\r\n     <g id=\"text_11\">\r\n      <!-- 800 -->\r\n      <g transform=\"translate(13.5625 113.474302)scale(0.1 -0.1)\">\r\n       <defs>\r\n        <path d=\"M 31.78125 34.625 \r\nQ 24.75 34.625 20.71875 30.859375 \r\nQ 16.703125 27.09375 16.703125 20.515625 \r\nQ 16.703125 13.921875 20.71875 10.15625 \r\nQ 24.75 6.390625 31.78125 6.390625 \r\nQ 38.8125 6.390625 42.859375 10.171875 \r\nQ 46.921875 13.96875 46.921875 20.515625 \r\nQ 46.921875 27.09375 42.890625 30.859375 \r\nQ 38.875 34.625 31.78125 34.625 \r\nz\r\nM 21.921875 38.8125 \r\nQ 15.578125 40.375 12.03125 44.71875 \r\nQ 8.5 49.078125 8.5 55.328125 \r\nQ 8.5 64.0625 14.71875 69.140625 \r\nQ 20.953125 74.21875 31.78125 74.21875 \r\nQ 42.671875 74.21875 48.875 69.140625 \r\nQ 55.078125 64.0625 55.078125 55.328125 \r\nQ 55.078125 49.078125 51.53125 44.71875 \r\nQ 48 40.375 41.703125 38.8125 \r\nQ 48.828125 37.15625 52.796875 32.3125 \r\nQ 56.78125 27.484375 56.78125 20.515625 \r\nQ 56.78125 9.90625 50.3125 4.234375 \r\nQ 43.84375 -1.421875 31.78125 -1.421875 \r\nQ 19.734375 -1.421875 13.25 4.234375 \r\nQ 6.78125 9.90625 6.78125 20.515625 \r\nQ 6.78125 27.484375 10.78125 32.3125 \r\nQ 14.796875 37.15625 21.921875 38.8125 \r\nz\r\nM 18.3125 54.390625 \r\nQ 18.3125 48.734375 21.84375 45.5625 \r\nQ 25.390625 42.390625 31.78125 42.390625 \r\nQ 38.140625 42.390625 41.71875 45.5625 \r\nQ 45.3125 48.734375 45.3125 54.390625 \r\nQ 45.3125 60.0625 41.71875 63.234375 \r\nQ 38.140625 66.40625 31.78125 66.40625 \r\nQ 25.390625 66.40625 21.84375 63.234375 \r\nQ 18.3125 60.0625 18.3125 54.390625 \r\nz\r\n\" id=\"DejaVuSans-56\"/>\r\n       </defs>\r\n       <use xlink:href=\"#DejaVuSans-56\"/>\r\n       <use x=\"63.623047\" xlink:href=\"#DejaVuSans-48\"/>\r\n       <use x=\"127.246094\" xlink:href=\"#DejaVuSans-48\"/>\r\n      </g>\r\n     </g>\r\n    </g>\r\n    <g id=\"ytick_6\">\r\n     <g id=\"line2d_12\">\r\n      <g>\r\n       <use style=\"stroke:#000000;stroke-width:0.8;\" x=\"39.65\" xlink:href=\"#m49a1806a03\" y=\"83.404763\"/>\r\n      </g>\r\n     </g>\r\n     <g id=\"text_12\">\r\n      <!-- 1000 -->\r\n      <g transform=\"translate(7.2 87.203982)scale(0.1 -0.1)\">\r\n       <use xlink:href=\"#DejaVuSans-49\"/>\r\n       <use x=\"63.623047\" xlink:href=\"#DejaVuSans-48\"/>\r\n       <use x=\"127.246094\" xlink:href=\"#DejaVuSans-48\"/>\r\n       <use x=\"190.869141\" xlink:href=\"#DejaVuSans-48\"/>\r\n      </g>\r\n     </g>\r\n    </g>\r\n    <g id=\"ytick_7\">\r\n     <g id=\"line2d_13\">\r\n      <g>\r\n       <use style=\"stroke:#000000;stroke-width:0.8;\" x=\"39.65\" xlink:href=\"#m49a1806a03\" y=\"57.134443\"/>\r\n      </g>\r\n     </g>\r\n     <g id=\"text_13\">\r\n      <!-- 1200 -->\r\n      <g transform=\"translate(7.2 60.933662)scale(0.1 -0.1)\">\r\n       <use xlink:href=\"#DejaVuSans-49\"/>\r\n       <use x=\"63.623047\" xlink:href=\"#DejaVuSans-50\"/>\r\n       <use x=\"127.246094\" xlink:href=\"#DejaVuSans-48\"/>\r\n       <use x=\"190.869141\" xlink:href=\"#DejaVuSans-48\"/>\r\n      </g>\r\n     </g>\r\n    </g>\r\n    <g id=\"ytick_8\">\r\n     <g id=\"line2d_14\">\r\n      <g>\r\n       <use style=\"stroke:#000000;stroke-width:0.8;\" x=\"39.65\" xlink:href=\"#m49a1806a03\" y=\"30.864123\"/>\r\n      </g>\r\n     </g>\r\n     <g id=\"text_14\">\r\n      <!-- 1400 -->\r\n      <g transform=\"translate(7.2 34.663342)scale(0.1 -0.1)\">\r\n       <use xlink:href=\"#DejaVuSans-49\"/>\r\n       <use x=\"63.623047\" xlink:href=\"#DejaVuSans-52\"/>\r\n       <use x=\"127.246094\" xlink:href=\"#DejaVuSans-48\"/>\r\n       <use x=\"190.869141\" xlink:href=\"#DejaVuSans-48\"/>\r\n      </g>\r\n     </g>\r\n    </g>\r\n   </g>\r\n   <g id=\"line2d_15\">\r\n    <path clip-path=\"url(#pd0d6cee4c9)\" d=\"M 227.76376 214.756364 \r\nL 227.656509 164.319689 \r\nL 227.317383 160.922086 \r\nL 226.747953 157.555416 \r\nL 225.950857 154.235272 \r\nL 224.929786 150.977032 \r\nL 223.68947 147.795785 \r\nL 222.235652 144.706265 \r\nL 220.575067 141.722782 \r\nL 218.715405 138.859153 \r\nL 216.665278 136.128641 \r\nL 214.434182 133.543891 \r\nL 212.032451 131.116876 \r\nL 209.471207 128.858836 \r\nL 206.762313 126.780229 \r\nL 203.918315 124.890681 \r\nL 200.952384 123.198944 \r\nL 197.878258 121.712853 \r\nL 194.710174 120.439292 \r\nL 191.462805 119.384157 \r\nL 188.15119 118.552337 \r\nL 184.790668 117.947684 \r\nL 181.396802 117.572998 \r\nL 177.98531 117.430014 \r\nL 156.706355 117.428638 \r\nL 95.498849 117.321387 \r\nL 92.101246 116.982261 \r\nL 88.734576 116.412831 \r\nL 85.414432 115.615735 \r\nL 82.156192 114.594664 \r\nL 78.974945 113.354348 \r\nL 75.885425 111.900531 \r\nL 72.901942 110.239945 \r\nL 70.038313 108.380283 \r\nL 67.3078 106.330156 \r\nL 64.723051 104.09906 \r\nL 62.296036 101.697329 \r\nL 60.037996 99.136085 \r\nL 57.959388 96.427191 \r\nL 56.069841 93.583193 \r\nL 54.378104 90.617262 \r\nL 52.892013 87.543136 \r\nL 51.618452 84.375052 \r\nL 50.563317 81.127683 \r\nL 49.731497 77.816068 \r\nL 49.126844 74.455546 \r\nL 48.752157 71.06168 \r\nL 48.609174 67.650188 \r\nL 48.698554 64.236872 \r\nL 49.019886 60.83754 \r\nL 49.57168 57.467934 \r\nL 50.351381 54.143663 \r\nL 51.355378 50.88012 \r\nL 52.57902 47.692423 \r\nL 54.016641 44.595334 \r\nL 55.661582 41.603197 \r\nL 57.506225 38.72987 \r\nL 59.542027 35.98866 \r\nL 61.759558 33.392265 \r\nL 64.148549 30.952707 \r\nL 66.697935 28.681288 \r\nL 69.395909 26.588525 \r\nL 72.229974 24.684112 \r\nL 75.187006 22.976869 \r\nL 78.253309 21.474702 \r\nL 81.414681 20.18457 \r\nL 84.656481 19.112447 \r\nL 87.963695 18.263299 \r\nL 91.321006 17.641058 \r\nL 94.712863 17.248607 \r\nL 98.123559 17.087763 \r\nL 108.894372 17.083636 \r\nL 130.436035 17.083636 \r\nL 130.436035 17.083636 \r\n\" style=\"fill:none;stroke:#0000ff;stroke-dasharray:5.55,2.4;stroke-dashoffset:0;stroke-opacity:0.5;stroke-width:1.5;\"/>\r\n   </g>\r\n   <g id=\"patch_3\">\r\n    <path d=\"M 39.65 224.64 \r\nL 39.65 7.2 \r\n\" style=\"fill:none;stroke:#000000;stroke-linecap:square;stroke-linejoin:miter;stroke-width:0.8;\"/>\r\n   </g>\r\n   <g id=\"patch_4\">\r\n    <path d=\"M 257.09 224.64 \r\nL 257.09 7.2 \r\n\" style=\"fill:none;stroke:#000000;stroke-linecap:square;stroke-linejoin:miter;stroke-width:0.8;\"/>\r\n   </g>\r\n   <g id=\"patch_5\">\r\n    <path d=\"M 39.65 224.64 \r\nL 257.09 224.64 \r\n\" style=\"fill:none;stroke:#000000;stroke-linecap:square;stroke-linejoin:miter;stroke-width:0.8;\"/>\r\n   </g>\r\n   <g id=\"patch_6\">\r\n    <path d=\"M 39.65 7.2 \r\nL 257.09 7.2 \r\n\" style=\"fill:none;stroke:#000000;stroke-linecap:square;stroke-linejoin:miter;stroke-width:0.8;\"/>\r\n   </g>\r\n  </g>\r\n </g>\r\n <defs>\r\n  <clipPath id=\"pd0d6cee4c9\">\r\n   <rect height=\"217.44\" width=\"217.44\" x=\"39.65\" y=\"7.2\"/>\r\n  </clipPath>\r\n </defs>\r\n</svg>\r\n",
      "image/png": "[encoded data removed]"
     },
     "metadata": {
      "needs_background": "light"
     }
    }
   ],
   "source": [
    "from tma.plot import plot_trajectory\n",
    "plot_trajectory(observer)"
   ]
  },
  {
   "source": [
    "Задаем априорные данные, вектор дистанций, вектор СКО"
   ],
   "cell_type": "markdown",
   "metadata": {}
  },
  {
   "cell_type": "code",
   "execution_count": 4,
   "metadata": {},
   "outputs": [],
   "source": [
    "p0 = [0., 25., 90., 7.]\n",
    "std_arr = [0., 0.1, 0.2, 0.3, 0.5, 1.]\n",
    "def target_func(seed=None):\n",
    "            rng = np.random.RandomState(seed)\n",
    "            b = 0\n",
    "            d = rng.uniform(40, 50)\n",
    "            c = rng.uniform(0, 180)\n",
    "            v = rng.uniform(3, 15)\n",
    "            return [b, d, c, v]\n",
    "result_df = pd.DataFrame(columns=['Algorithm', 'std', 'sr_0', 'sr_1', 'sr_2', 'sr_3', 'Ка', 'Nf', 'Nf_max', 'Iter', 'Iter_max', 't', 't_max'])\n",
    "mean_columns = ['Ка', 'Nf', 'Iter', 't']\n",
    "max_columns = ['Nf', 'Iter', 't']"
   ]
  },
  {
   "cell_type": "code",
   "execution_count": 5,
   "metadata": {},
   "outputs": [
    {
     "output_type": "stream",
     "name": "stdout",
     "text": [
      "Wall time: 1min 59s\n"
     ]
    }
   ],
   "source": [
    "%%time\n",
    "model = Model(observer)\n",
    "for std in std_arr:\n",
    "    model.noise_std = np.radians(std)\n",
    "    dict_results = swarm(model, algorithm_name='ММП', n=1000, target_func=target_func, p0=p0, seeded=True)\n",
    "    df = get_df(dict_results)\n",
    "    df.to_excel('../tests/test7/' + str('ММП') + ' ' + str(std) + '.xlsx', index=False)\n",
    "    res = pd.DataFrame({'Algorithm': ['ММП'], 'std': [std]})\n",
    "    for i in range(4):\n",
    "        res['sr_' + str(i)] = [df['Успех'].apply(lambda x: x[i]).mean(axis=0)]\n",
    "    res[mean_columns] = df[mean_columns].mean(axis=0)\n",
    "    res[['Nf_max', 'Iter_max', 't_max']] = df[max_columns].apply(max, axis=0)\n",
    "    result_df = result_df.append(res)"
   ]
  },
  {
   "cell_type": "code",
   "execution_count": 6,
   "metadata": {},
   "outputs": [],
   "source": [
    "result_df['Ка'] = result_df['Ка'].apply(np.sqrt)\n",
    "result_df.rename(columns={'Ка': 'sr_Ka'}, inplace=True)\n",
    "result_df.reset_index(drop=True)\n",
    "Path(\"../tests/test7\").mkdir(parents=True, exist_ok=True)\n",
    "result_df.to_excel('../tests/test7/results4.xlsx', index=False)"
   ]
  },
  {
   "cell_type": "code",
   "execution_count": 7,
   "metadata": {},
   "outputs": [
    {
     "output_type": "execute_result",
     "data": {
      "text/plain": [
       "  Algorithm  std   sr_0   sr_1   sr_2   sr_3 sr_Ka  Nf Nf_max Iter Iter_max  \\\n",
       "0       ММП  0.0  1.000  1.000  1.000  1.000  0.00  10     14    9       13   \n",
       "0       ММП  0.1  0.841  0.946  0.946  0.975  0.10  10     14    9       13   \n",
       "0       ММП  0.2  0.611  0.841  0.841  0.910  0.20  10     14    9       13   \n",
       "0       ММП  0.3  0.417  0.725  0.738  0.831  0.30  10     14    9       13   \n",
       "0       ММП  0.5  0.238  0.521  0.556  0.676  0.50  10     14    9       13   \n",
       "0       ММП  1.0  0.071  0.241  0.267  0.361  1.00  10     16    9       15   \n",
       "\n",
       "        t   t_max  \n",
       "0  0.0029  0.0286  \n",
       "0  0.0030  0.0227  \n",
       "0  0.0029  0.0131  \n",
       "0  0.0029  0.0383  \n",
       "0  0.0031  0.0245  \n",
       "0  0.0029  0.0180  "
      ],
      "text/html": "<div>\n<style scoped>\n    .dataframe tbody tr th:only-of-type {\n        vertical-align: middle;\n    }\n\n    .dataframe tbody tr th {\n        vertical-align: top;\n    }\n\n    .dataframe thead th {\n        text-align: right;\n    }\n</style>\n<table border=\"1\" class=\"dataframe\">\n  <thead>\n    <tr style=\"text-align: right;\">\n      <th></th>\n      <th>Algorithm</th>\n      <th>std</th>\n      <th>sr_0</th>\n      <th>sr_1</th>\n      <th>sr_2</th>\n      <th>sr_3</th>\n      <th>sr_Ka</th>\n      <th>Nf</th>\n      <th>Nf_max</th>\n      <th>Iter</th>\n      <th>Iter_max</th>\n      <th>t</th>\n      <th>t_max</th>\n    </tr>\n  </thead>\n  <tbody>\n    <tr>\n      <th>0</th>\n      <td>ММП</td>\n      <td>0.0</td>\n      <td>1.000</td>\n      <td>1.000</td>\n      <td>1.000</td>\n      <td>1.000</td>\n      <td>0.00</td>\n      <td>10</td>\n      <td>14</td>\n      <td>9</td>\n      <td>13</td>\n      <td>0.0029</td>\n      <td>0.0286</td>\n    </tr>\n    <tr>\n      <th>0</th>\n      <td>ММП</td>\n      <td>0.1</td>\n      <td>0.841</td>\n      <td>0.946</td>\n      <td>0.946</td>\n      <td>0.975</td>\n      <td>0.10</td>\n      <td>10</td>\n      <td>14</td>\n      <td>9</td>\n      <td>13</td>\n      <td>0.0030</td>\n      <td>0.0227</td>\n    </tr>\n    <tr>\n      <th>0</th>\n      <td>ММП</td>\n      <td>0.2</td>\n      <td>0.611</td>\n      <td>0.841</td>\n      <td>0.841</td>\n      <td>0.910</td>\n      <td>0.20</td>\n      <td>10</td>\n      <td>14</td>\n      <td>9</td>\n      <td>13</td>\n      <td>0.0029</td>\n      <td>0.0131</td>\n    </tr>\n    <tr>\n      <th>0</th>\n      <td>ММП</td>\n      <td>0.3</td>\n      <td>0.417</td>\n      <td>0.725</td>\n      <td>0.738</td>\n      <td>0.831</td>\n      <td>0.30</td>\n      <td>10</td>\n      <td>14</td>\n      <td>9</td>\n      <td>13</td>\n      <td>0.0029</td>\n      <td>0.0383</td>\n    </tr>\n    <tr>\n      <th>0</th>\n      <td>ММП</td>\n      <td>0.5</td>\n      <td>0.238</td>\n      <td>0.521</td>\n      <td>0.556</td>\n      <td>0.676</td>\n      <td>0.50</td>\n      <td>10</td>\n      <td>14</td>\n      <td>9</td>\n      <td>13</td>\n      <td>0.0031</td>\n      <td>0.0245</td>\n    </tr>\n    <tr>\n      <th>0</th>\n      <td>ММП</td>\n      <td>1.0</td>\n      <td>0.071</td>\n      <td>0.241</td>\n      <td>0.267</td>\n      <td>0.361</td>\n      <td>1.00</td>\n      <td>10</td>\n      <td>16</td>\n      <td>9</td>\n      <td>15</td>\n      <td>0.0029</td>\n      <td>0.0180</td>\n    </tr>\n  </tbody>\n</table>\n</div>"
     },
     "metadata": {},
     "execution_count": 7
    }
   ],
   "source": [
    "display_df = result_df.copy()\n",
    "precisions = {'sr_Ka' : '{0:.2f}', 'Nf' : '{0:.0f}', 'Nf_max': '{0:.0f}',\\\n",
    "'Iter' : '{0:.0f}', 'Iter_max' : '{0:.0f}', 't' : '{0:.4f}', 't_max' : '{0:.4f}'}\n",
    "for col, precision in precisions.items():\n",
    "    display_df[col] = display_df[col].apply(lambda x: precision.format(x))\n",
    "display_df"
   ]
  },
  {
   "source": [
    "Сохраняем сводную таблицу в dcox"
   ],
   "cell_type": "markdown",
   "metadata": {}
  },
  {
   "cell_type": "code",
   "execution_count": 8,
   "metadata": {},
   "outputs": [],
   "source": [
    "import docx\n",
    "doc = docx.Document()\n",
    "t = doc.add_table(display_df.shape[0]+1, display_df.shape[1])\n",
    "for j in range(display_df.shape[-1]):\n",
    "    t.cell(0,j).text = display_df.columns[j]\n",
    "for i in range(display_df.shape[0]):\n",
    "    for j in range(display_df.shape[-1]):\n",
    "        t.cell(i+1,j).text = str(display_df.values[i,j])\n",
    "doc.save('../tests/test7/Сводная таблица 40-50.docx')"
   ]
  }
 ]
}