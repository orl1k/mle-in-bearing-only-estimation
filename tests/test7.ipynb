{
 "metadata": {
  "language_info": {
   "codemirror_mode": {
    "name": "ipython",
    "version": 3
   },
   "file_extension": ".py",
   "mimetype": "text/x-python",
   "name": "python",
   "nbconvert_exporter": "python",
   "pygments_lexer": "ipython3",
   "version": "3.9.4"
  },
  "orig_nbformat": 2,
  "kernelspec": {
   "name": "python394jvsc74a57bd041eac51e58bc56b7e72645fd2a426397a0dabf158fb6895686ff6280c78d9f5d",
   "display_name": "Python 3.9.4 64-bit"
  },
  "metadata": {
   "interpreter": {
    "hash": "41eac51e58bc56b7e72645fd2a426397a0dabf158fb6895686ff6280c78d9f5d"
   }
  }
 },
 "nbformat": 4,
 "nbformat_minor": 2,
 "cells": [
  {
   "cell_type": "code",
   "execution_count": 1,
   "metadata": {},
   "outputs": [],
   "source": [
    "import sys\n",
    "import time\n",
    "import numpy as np\n",
    "import pandas as pd\n",
    "sys.path.append(\"..\")\n",
    "from scipy import stats\n",
    "from tma.model import Model\n",
    "from tma.object import Object\n",
    "from tma.functions import get_df, df_to_docx\n",
    "from tma.algorithms import swarm\n",
    "from pathlib import Path\n",
    "from datetime import datetime\n",
    "from functools import partial"
   ]
  },
  {
   "source": [
    "Создаем модель наблюдателя:"
   ],
   "cell_type": "markdown",
   "metadata": {}
  },
  {
   "cell_type": "code",
   "execution_count": 2,
   "metadata": {},
   "outputs": [
    {
     "output_type": "stream",
     "name": "stdout",
     "text": [
      "Время последнего моделирования: 08/05/2021 21:51\n\nНаблюдатель движется прямо по курсу 0.0° 120с\nНаблюдатель перешёл на курс 270.0° за 100с\nНаблюдатель движется прямо по курсу 270.0° 180с\nНаблюдатель перешёл на курс 89.99999999999997° за 200с\nНаблюдатель движется прямо по курсу 90.0° 120с\n"
     ]
    }
   ],
   "source": [
    "print(\"Время последнего моделирования:\", datetime.now().strftime(\"%d/%m/%Y %H:%M\\n\"))\n",
    "\n",
    "observer_x, observer_y, observer_course, observer_velocity = 0.0, 0.0, 0.0, 6.0\n",
    "observer = Object('Наблюдатель', observer_x, observer_y, observer_course,\n",
    "                observer_velocity, verbose=True)\n",
    "\n",
    "observer.forward_movement(2 * 60)\n",
    "observer.change_course(270, 'left', omega=0.9)\n",
    "observer.forward_movement(3 * 60)\n",
    "observer.change_course(90, 'right', omega=0.9)\n",
    "observer.forward_movement(2 * 60)"
   ]
  },
  {
   "cell_type": "code",
   "execution_count": 3,
   "metadata": {},
   "outputs": [
    {
     "output_type": "display_data",
     "data": {
      "text/plain": "<Figure size 432x288 with 1 Axes>",
      "image/svg+xml": "<?xml version=\"1.0\" encoding=\"utf-8\" standalone=\"no\"?>\r\n<!DOCTYPE svg PUBLIC \"-//W3C//DTD SVG 1.1//EN\"\r\n  \"http://www.w3.org/Graphics/SVG/1.1/DTD/svg11.dtd\">\r\n<!-- Created with matplotlib (https://matplotlib.org/) -->\r\n<svg height=\"248.518125pt\" version=\"1.1\" viewBox=\"0 0 264.29 248.518125\" width=\"264.29pt\" xmlns=\"http://www.w3.org/2000/svg\" xmlns:xlink=\"http://www.w3.org/1999/xlink\">\r\n <metadata>\r\n  <rdf:RDF xmlns:cc=\"http://creativecommons.org/ns#\" xmlns:dc=\"http://purl.org/dc/elements/1.1/\" xmlns:rdf=\"http://www.w3.org/1999/02/22-rdf-syntax-ns#\">\r\n   <cc:Work>\r\n    <dc:type rdf:resource=\"http://purl.org/dc/dcmitype/StillImage\"/>\r\n    <dc:date>2021-05-08T21:51:23.852226</dc:date>\r\n    <dc:format>image/svg+xml</dc:format>\r\n    <dc:creator>\r\n     <cc:Agent>\r\n      <dc:title>Matplotlib v3.3.4, https://matplotlib.org/</dc:title>\r\n     </cc:Agent>\r\n    </dc:creator>\r\n   </cc:Work>\r\n  </rdf:RDF>\r\n </metadata>\r\n <defs>\r\n  <style type=\"text/css\">*{stroke-linecap:butt;stroke-linejoin:round;}</style>\r\n </defs>\r\n <g id=\"figure_1\">\r\n  <g id=\"patch_1\">\r\n   <path d=\"M 0 248.518125 \r\nL 264.29 248.518125 \r\nL 264.29 0 \r\nL 0 0 \r\nz\r\n\" style=\"fill:none;\"/>\r\n  </g>\r\n  <g id=\"axes_1\">\r\n   <g id=\"patch_2\">\r\n    <path d=\"M 39.65 224.64 \r\nL 257.09 224.64 \r\nL 257.09 7.2 \r\nL 39.65 7.2 \r\nz\r\n\" style=\"fill:#ffffff;\"/>\r\n   </g>\r\n   <g id=\"matplotlib.axis_1\">\r\n    <g id=\"xtick_1\">\r\n     <g id=\"line2d_1\">\r\n      <defs>\r\n       <path d=\"M 0 0 \r\nL 0 3.5 \r\n\" id=\"m1e48c10975\" style=\"stroke:#000000;stroke-width:0.8;\"/>\r\n      </defs>\r\n      <g>\r\n       <use style=\"stroke:#000000;stroke-width:0.8;\" x=\"85.927456\" xlink:href=\"#m1e48c10975\" y=\"224.64\"/>\r\n      </g>\r\n     </g>\r\n     <g id=\"text_1\">\r\n      <!-- −1500 -->\r\n      <g transform=\"translate(69.012612 239.238437)scale(0.1 -0.1)\">\r\n       <defs>\r\n        <path d=\"M 10.59375 35.5 \r\nL 73.1875 35.5 \r\nL 73.1875 27.203125 \r\nL 10.59375 27.203125 \r\nz\r\n\" id=\"DejaVuSans-8722\"/>\r\n        <path d=\"M 12.40625 8.296875 \r\nL 28.515625 8.296875 \r\nL 28.515625 63.921875 \r\nL 10.984375 60.40625 \r\nL 10.984375 69.390625 \r\nL 28.421875 72.90625 \r\nL 38.28125 72.90625 \r\nL 38.28125 8.296875 \r\nL 54.390625 8.296875 \r\nL 54.390625 0 \r\nL 12.40625 0 \r\nz\r\n\" id=\"DejaVuSans-49\"/>\r\n        <path d=\"M 10.796875 72.90625 \r\nL 49.515625 72.90625 \r\nL 49.515625 64.59375 \r\nL 19.828125 64.59375 \r\nL 19.828125 46.734375 \r\nQ 21.96875 47.46875 24.109375 47.828125 \r\nQ 26.265625 48.1875 28.421875 48.1875 \r\nQ 40.625 48.1875 47.75 41.5 \r\nQ 54.890625 34.8125 54.890625 23.390625 \r\nQ 54.890625 11.625 47.5625 5.09375 \r\nQ 40.234375 -1.421875 26.90625 -1.421875 \r\nQ 22.3125 -1.421875 17.546875 -0.640625 \r\nQ 12.796875 0.140625 7.71875 1.703125 \r\nL 7.71875 11.625 \r\nQ 12.109375 9.234375 16.796875 8.0625 \r\nQ 21.484375 6.890625 26.703125 6.890625 \r\nQ 35.15625 6.890625 40.078125 11.328125 \r\nQ 45.015625 15.765625 45.015625 23.390625 \r\nQ 45.015625 31 40.078125 35.4375 \r\nQ 35.15625 39.890625 26.703125 39.890625 \r\nQ 22.75 39.890625 18.8125 39.015625 \r\nQ 14.890625 38.140625 10.796875 36.28125 \r\nz\r\n\" id=\"DejaVuSans-53\"/>\r\n        <path d=\"M 31.78125 66.40625 \r\nQ 24.171875 66.40625 20.328125 58.90625 \r\nQ 16.5 51.421875 16.5 36.375 \r\nQ 16.5 21.390625 20.328125 13.890625 \r\nQ 24.171875 6.390625 31.78125 6.390625 \r\nQ 39.453125 6.390625 43.28125 13.890625 \r\nQ 47.125 21.390625 47.125 36.375 \r\nQ 47.125 51.421875 43.28125 58.90625 \r\nQ 39.453125 66.40625 31.78125 66.40625 \r\nz\r\nM 31.78125 74.21875 \r\nQ 44.046875 74.21875 50.515625 64.515625 \r\nQ 56.984375 54.828125 56.984375 36.375 \r\nQ 56.984375 17.96875 50.515625 8.265625 \r\nQ 44.046875 -1.421875 31.78125 -1.421875 \r\nQ 19.53125 -1.421875 13.0625 8.265625 \r\nQ 6.59375 17.96875 6.59375 36.375 \r\nQ 6.59375 54.828125 13.0625 64.515625 \r\nQ 19.53125 74.21875 31.78125 74.21875 \r\nz\r\n\" id=\"DejaVuSans-48\"/>\r\n       </defs>\r\n       <use xlink:href=\"#DejaVuSans-8722\"/>\r\n       <use x=\"83.789062\" xlink:href=\"#DejaVuSans-49\"/>\r\n       <use x=\"147.412109\" xlink:href=\"#DejaVuSans-53\"/>\r\n       <use x=\"211.035156\" xlink:href=\"#DejaVuSans-48\"/>\r\n       <use x=\"274.658203\" xlink:href=\"#DejaVuSans-48\"/>\r\n      </g>\r\n     </g>\r\n    </g>\r\n    <g id=\"xtick_2\">\r\n     <g id=\"line2d_2\">\r\n      <g>\r\n       <use style=\"stroke:#000000;stroke-width:0.8;\" x=\"138.982792\" xlink:href=\"#m1e48c10975\" y=\"224.64\"/>\r\n      </g>\r\n     </g>\r\n     <g id=\"text_2\">\r\n      <!-- −1000 -->\r\n      <g transform=\"translate(122.067949 239.238437)scale(0.1 -0.1)\">\r\n       <use xlink:href=\"#DejaVuSans-8722\"/>\r\n       <use x=\"83.789062\" xlink:href=\"#DejaVuSans-49\"/>\r\n       <use x=\"147.412109\" xlink:href=\"#DejaVuSans-48\"/>\r\n       <use x=\"211.035156\" xlink:href=\"#DejaVuSans-48\"/>\r\n       <use x=\"274.658203\" xlink:href=\"#DejaVuSans-48\"/>\r\n      </g>\r\n     </g>\r\n    </g>\r\n    <g id=\"xtick_3\">\r\n     <g id=\"line2d_3\">\r\n      <g>\r\n       <use style=\"stroke:#000000;stroke-width:0.8;\" x=\"192.038129\" xlink:href=\"#m1e48c10975\" y=\"224.64\"/>\r\n      </g>\r\n     </g>\r\n     <g id=\"text_3\">\r\n      <!-- −500 -->\r\n      <g transform=\"translate(178.304535 239.238437)scale(0.1 -0.1)\">\r\n       <use xlink:href=\"#DejaVuSans-8722\"/>\r\n       <use x=\"83.789062\" xlink:href=\"#DejaVuSans-53\"/>\r\n       <use x=\"147.412109\" xlink:href=\"#DejaVuSans-48\"/>\r\n       <use x=\"211.035156\" xlink:href=\"#DejaVuSans-48\"/>\r\n      </g>\r\n     </g>\r\n    </g>\r\n    <g id=\"xtick_4\">\r\n     <g id=\"line2d_4\">\r\n      <g>\r\n       <use style=\"stroke:#000000;stroke-width:0.8;\" x=\"245.093466\" xlink:href=\"#m1e48c10975\" y=\"224.64\"/>\r\n      </g>\r\n     </g>\r\n     <g id=\"text_4\">\r\n      <!-- 0 -->\r\n      <g transform=\"translate(241.912216 239.238437)scale(0.1 -0.1)\">\r\n       <use xlink:href=\"#DejaVuSans-48\"/>\r\n      </g>\r\n     </g>\r\n    </g>\r\n   </g>\r\n   <g id=\"matplotlib.axis_2\">\r\n    <g id=\"ytick_1\">\r\n     <g id=\"line2d_5\">\r\n      <defs>\r\n       <path d=\"M 0 0 \r\nL -3.5 0 \r\n\" id=\"m6d396d6f58\" style=\"stroke:#000000;stroke-width:0.8;\"/>\r\n      </defs>\r\n      <g>\r\n       <use style=\"stroke:#000000;stroke-width:0.8;\" x=\"39.65\" xlink:href=\"#m6d396d6f58\" y=\"214.756364\"/>\r\n      </g>\r\n     </g>\r\n     <g id=\"text_5\">\r\n      <!-- 0 -->\r\n      <g transform=\"translate(26.2875 218.555582)scale(0.1 -0.1)\">\r\n       <use xlink:href=\"#DejaVuSans-48\"/>\r\n      </g>\r\n     </g>\r\n    </g>\r\n    <g id=\"ytick_2\">\r\n     <g id=\"line2d_6\">\r\n      <g>\r\n       <use style=\"stroke:#000000;stroke-width:0.8;\" x=\"39.65\" xlink:href=\"#m6d396d6f58\" y=\"188.228695\"/>\r\n      </g>\r\n     </g>\r\n     <g id=\"text_6\">\r\n      <!-- 250 -->\r\n      <g transform=\"translate(13.5625 192.027914)scale(0.1 -0.1)\">\r\n       <defs>\r\n        <path d=\"M 19.1875 8.296875 \r\nL 53.609375 8.296875 \r\nL 53.609375 0 \r\nL 7.328125 0 \r\nL 7.328125 8.296875 \r\nQ 12.9375 14.109375 22.625 23.890625 \r\nQ 32.328125 33.6875 34.8125 36.53125 \r\nQ 39.546875 41.84375 41.421875 45.53125 \r\nQ 43.3125 49.21875 43.3125 52.78125 \r\nQ 43.3125 58.59375 39.234375 62.25 \r\nQ 35.15625 65.921875 28.609375 65.921875 \r\nQ 23.96875 65.921875 18.8125 64.3125 \r\nQ 13.671875 62.703125 7.8125 59.421875 \r\nL 7.8125 69.390625 \r\nQ 13.765625 71.78125 18.9375 73 \r\nQ 24.125 74.21875 28.421875 74.21875 \r\nQ 39.75 74.21875 46.484375 68.546875 \r\nQ 53.21875 62.890625 53.21875 53.421875 \r\nQ 53.21875 48.921875 51.53125 44.890625 \r\nQ 49.859375 40.875 45.40625 35.40625 \r\nQ 44.1875 33.984375 37.640625 27.21875 \r\nQ 31.109375 20.453125 19.1875 8.296875 \r\nz\r\n\" id=\"DejaVuSans-50\"/>\r\n       </defs>\r\n       <use xlink:href=\"#DejaVuSans-50\"/>\r\n       <use x=\"63.623047\" xlink:href=\"#DejaVuSans-53\"/>\r\n       <use x=\"127.246094\" xlink:href=\"#DejaVuSans-48\"/>\r\n      </g>\r\n     </g>\r\n    </g>\r\n    <g id=\"ytick_3\">\r\n     <g id=\"line2d_7\">\r\n      <g>\r\n       <use style=\"stroke:#000000;stroke-width:0.8;\" x=\"39.65\" xlink:href=\"#m6d396d6f58\" y=\"161.701027\"/>\r\n      </g>\r\n     </g>\r\n     <g id=\"text_7\">\r\n      <!-- 500 -->\r\n      <g transform=\"translate(13.5625 165.500246)scale(0.1 -0.1)\">\r\n       <use xlink:href=\"#DejaVuSans-53\"/>\r\n       <use x=\"63.623047\" xlink:href=\"#DejaVuSans-48\"/>\r\n       <use x=\"127.246094\" xlink:href=\"#DejaVuSans-48\"/>\r\n      </g>\r\n     </g>\r\n    </g>\r\n    <g id=\"ytick_4\">\r\n     <g id=\"line2d_8\">\r\n      <g>\r\n       <use style=\"stroke:#000000;stroke-width:0.8;\" x=\"39.65\" xlink:href=\"#m6d396d6f58\" y=\"135.173359\"/>\r\n      </g>\r\n     </g>\r\n     <g id=\"text_8\">\r\n      <!-- 750 -->\r\n      <g transform=\"translate(13.5625 138.972577)scale(0.1 -0.1)\">\r\n       <defs>\r\n        <path d=\"M 8.203125 72.90625 \r\nL 55.078125 72.90625 \r\nL 55.078125 68.703125 \r\nL 28.609375 0 \r\nL 18.3125 0 \r\nL 43.21875 64.59375 \r\nL 8.203125 64.59375 \r\nz\r\n\" id=\"DejaVuSans-55\"/>\r\n       </defs>\r\n       <use xlink:href=\"#DejaVuSans-55\"/>\r\n       <use x=\"63.623047\" xlink:href=\"#DejaVuSans-53\"/>\r\n       <use x=\"127.246094\" xlink:href=\"#DejaVuSans-48\"/>\r\n      </g>\r\n     </g>\r\n    </g>\r\n    <g id=\"ytick_5\">\r\n     <g id=\"line2d_9\">\r\n      <g>\r\n       <use style=\"stroke:#000000;stroke-width:0.8;\" x=\"39.65\" xlink:href=\"#m6d396d6f58\" y=\"108.64569\"/>\r\n      </g>\r\n     </g>\r\n     <g id=\"text_9\">\r\n      <!-- 1000 -->\r\n      <g transform=\"translate(7.2 112.444909)scale(0.1 -0.1)\">\r\n       <use xlink:href=\"#DejaVuSans-49\"/>\r\n       <use x=\"63.623047\" xlink:href=\"#DejaVuSans-48\"/>\r\n       <use x=\"127.246094\" xlink:href=\"#DejaVuSans-48\"/>\r\n       <use x=\"190.869141\" xlink:href=\"#DejaVuSans-48\"/>\r\n      </g>\r\n     </g>\r\n    </g>\r\n    <g id=\"ytick_6\">\r\n     <g id=\"line2d_10\">\r\n      <g>\r\n       <use style=\"stroke:#000000;stroke-width:0.8;\" x=\"39.65\" xlink:href=\"#m6d396d6f58\" y=\"82.118022\"/>\r\n      </g>\r\n     </g>\r\n     <g id=\"text_10\">\r\n      <!-- 1250 -->\r\n      <g transform=\"translate(7.2 85.917241)scale(0.1 -0.1)\">\r\n       <use xlink:href=\"#DejaVuSans-49\"/>\r\n       <use x=\"63.623047\" xlink:href=\"#DejaVuSans-50\"/>\r\n       <use x=\"127.246094\" xlink:href=\"#DejaVuSans-53\"/>\r\n       <use x=\"190.869141\" xlink:href=\"#DejaVuSans-48\"/>\r\n      </g>\r\n     </g>\r\n    </g>\r\n    <g id=\"ytick_7\">\r\n     <g id=\"line2d_11\">\r\n      <g>\r\n       <use style=\"stroke:#000000;stroke-width:0.8;\" x=\"39.65\" xlink:href=\"#m6d396d6f58\" y=\"55.590354\"/>\r\n      </g>\r\n     </g>\r\n     <g id=\"text_11\">\r\n      <!-- 1500 -->\r\n      <g transform=\"translate(7.2 59.389573)scale(0.1 -0.1)\">\r\n       <use xlink:href=\"#DejaVuSans-49\"/>\r\n       <use x=\"63.623047\" xlink:href=\"#DejaVuSans-53\"/>\r\n       <use x=\"127.246094\" xlink:href=\"#DejaVuSans-48\"/>\r\n       <use x=\"190.869141\" xlink:href=\"#DejaVuSans-48\"/>\r\n      </g>\r\n     </g>\r\n    </g>\r\n    <g id=\"ytick_8\">\r\n     <g id=\"line2d_12\">\r\n      <g>\r\n       <use style=\"stroke:#000000;stroke-width:0.8;\" x=\"39.65\" xlink:href=\"#m6d396d6f58\" y=\"29.062685\"/>\r\n      </g>\r\n     </g>\r\n     <g id=\"text_12\">\r\n      <!-- 1750 -->\r\n      <g transform=\"translate(7.2 32.861904)scale(0.1 -0.1)\">\r\n       <use xlink:href=\"#DejaVuSans-49\"/>\r\n       <use x=\"63.623047\" xlink:href=\"#DejaVuSans-55\"/>\r\n       <use x=\"127.246094\" xlink:href=\"#DejaVuSans-53\"/>\r\n       <use x=\"190.869141\" xlink:href=\"#DejaVuSans-48\"/>\r\n      </g>\r\n     </g>\r\n    </g>\r\n   </g>\r\n   <g id=\"line2d_13\">\r\n    <path clip-path=\"url(#p13dfa11a01)\" d=\"M 245.093466 214.756364 \r\nL 244.9935 135.812379 \r\nL 244.644267 132.649063 \r\nL 244.047919 129.5229 \r\nL 243.208134 126.453162 \r\nL 242.130089 123.458777 \r\nL 240.82043 120.558204 \r\nL 239.287232 117.769327 \r\nL 237.539948 115.109341 \r\nL 235.58935 112.594646 \r\nL 233.447464 110.240744 \r\nL 231.127496 108.062149 \r\nL 228.643749 106.072292 \r\nL 226.011536 104.283442 \r\nL 223.247086 102.706628 \r\nL 220.367443 101.351571 \r\nL 217.39036 100.226625 \r\nL 214.334191 99.338726 \r\nL 211.217781 98.693348 \r\nL 208.060341 98.294471 \r\nL 204.881339 98.144553 \r\nL 87.100848 98.044587 \r\nL 83.937533 97.695354 \r\nL 80.811369 97.099006 \r\nL 77.741632 96.259221 \r\nL 74.747246 95.181176 \r\nL 71.846673 93.871517 \r\nL 69.057797 92.338319 \r\nL 66.397811 90.591035 \r\nL 63.883115 88.640437 \r\nL 61.529213 86.498551 \r\nL 59.350618 84.178583 \r\nL 57.360762 81.694836 \r\nL 55.571912 79.062623 \r\nL 53.995097 76.298173 \r\nL 52.64004 73.41853 \r\nL 51.515094 70.441447 \r\nL 50.627195 67.385279 \r\nL 49.981817 64.268868 \r\nL 49.58294 61.111428 \r\nL 49.433022 57.932427 \r\nL 49.532988 54.751462 \r\nL 49.882221 51.588147 \r\nL 50.478569 48.461983 \r\nL 51.318354 45.392246 \r\nL 52.396399 42.39786 \r\nL 53.706058 39.497287 \r\nL 55.239256 36.708411 \r\nL 56.98654 34.048425 \r\nL 58.937138 31.533729 \r\nL 61.079024 29.179827 \r\nL 63.398992 27.001232 \r\nL 65.882739 25.011376 \r\nL 68.514951 23.222526 \r\nL 71.279401 21.645712 \r\nL 74.159045 20.290654 \r\nL 77.136128 19.165708 \r\nL 80.192296 18.277809 \r\nL 83.308707 17.632432 \r\nL 86.466147 17.233554 \r\nL 89.645148 17.083636 \r\nL 166.681497 17.083636 \r\nL 166.681497 17.083636 \r\n\" style=\"fill:none;stroke:#0000ff;stroke-dasharray:5.55,2.4;stroke-dashoffset:0;stroke-opacity:0.5;stroke-width:1.5;\"/>\r\n   </g>\r\n   <g id=\"patch_3\">\r\n    <path d=\"M 39.65 224.64 \r\nL 39.65 7.2 \r\n\" style=\"fill:none;stroke:#000000;stroke-linecap:square;stroke-linejoin:miter;stroke-width:0.8;\"/>\r\n   </g>\r\n   <g id=\"patch_4\">\r\n    <path d=\"M 257.09 224.64 \r\nL 257.09 7.2 \r\n\" style=\"fill:none;stroke:#000000;stroke-linecap:square;stroke-linejoin:miter;stroke-width:0.8;\"/>\r\n   </g>\r\n   <g id=\"patch_5\">\r\n    <path d=\"M 39.65 224.64 \r\nL 257.09 224.64 \r\n\" style=\"fill:none;stroke:#000000;stroke-linecap:square;stroke-linejoin:miter;stroke-width:0.8;\"/>\r\n   </g>\r\n   <g id=\"patch_6\">\r\n    <path d=\"M 39.65 7.2 \r\nL 257.09 7.2 \r\n\" style=\"fill:none;stroke:#000000;stroke-linecap:square;stroke-linejoin:miter;stroke-width:0.8;\"/>\r\n   </g>\r\n  </g>\r\n </g>\r\n <defs>\r\n  <clipPath id=\"p13dfa11a01\">\r\n   <rect height=\"217.44\" width=\"217.44\" x=\"39.65\" y=\"7.2\"/>\r\n  </clipPath>\r\n </defs>\r\n</svg>\r\n",
      "image/png": "[encoded data removed]"
     },
     "metadata": {
      "needs_background": "light"
     }
    }
   ],
   "source": [
    "from tma.plot import plot_trajectory\n",
    "plot_trajectory(observer)"
   ]
  },
  {
   "source": [
    "Задаем априорные данные, вектор дистанций, вектор СКО"
   ],
   "cell_type": "markdown",
   "metadata": {}
  },
  {
   "cell_type": "code",
   "execution_count": 4,
   "metadata": {},
   "outputs": [],
   "source": [
    "p0 = [0.0, 25.0, 90.0, 7.0]\n",
    "std_arr = [0.0, 0.1, 0.2, 0.3, 0.5, 1.0]\n",
    "d_ranges = [(10, 20), (20, 30), (30, 40), (40, 50), (10, 50)]\n",
    "def target_func(d1, d2, seed=None):\n",
    "    rng = np.random.RandomState(seed)\n",
    "    b = 0\n",
    "    d = rng.uniform(d1, d2)\n",
    "    c = rng.uniform(0, 180)\n",
    "    v = rng.uniform(5, 15)\n",
    "    return [b, d, c, v]\n",
    "result_df = pd.DataFrame(columns=[\n",
    "                                'Диапазон Д0', 'СКО', \n",
    "                                'Рэф1', 'Рэф2', 'Рэф3', 'Рэф4', 'Рэф5', \n",
    "                                'Ка', 'Вычисления', 'Вычисления макс', 'Итерации', \n",
    "                                'Итерации макс', 'Время', 'Время макс',\n",
    "                                ])\n",
    "mean_columns = ['Ка', 'Вычисления', 'Итерации', 'Время']\n",
    "max_columns = ['Вычисления', 'Итерации', 'Время']\n",
    "new_max_columns = [i + ' макс' for i in max_columns]"
   ]
  },
  {
   "source": [
    "Запускаем множество моделей для каждого СКО"
   ],
   "cell_type": "markdown",
   "metadata": {}
  },
  {
   "cell_type": "code",
   "execution_count": 5,
   "metadata": {},
   "outputs": [
    {
     "output_type": "stream",
     "name": "stdout",
     "text": [
      "Wall time: 23.5 s\n"
     ]
    }
   ],
   "source": [
    "%%time\n",
    "model = Model(observer)\n",
    "for d_range in d_ranges:\n",
    "    for std in std_arr:  \n",
    "        f = partial(target_func, d_range[0], d_range[1])\n",
    "        model.noise_std = np.radians(std)\n",
    "        dict_results = swarm(model, algorithm_name='ММП', n=100, target_func=f, p0=p0, seeded=True)\n",
    "        df = get_df(dict_results)\n",
    "        df.to_excel('../tests/test7/' 'Траектория 5, ' + str(d_range) + ', ' + str(std) + '.xlsx', index=False)\n",
    "        res = pd.DataFrame({'СКО': [std], 'Диапазон Д0': [d_range]})\n",
    "        for i in range(5):\n",
    "            res['Рэф' + str(i + 1)] = [df['Успех'].apply(lambda x: x[i]).mean(axis=0)]\n",
    "        res[mean_columns] = df[mean_columns].mean(axis=0)\n",
    "        res[new_max_columns] = df[max_columns].apply(max, axis=0)\n",
    "        result_df = result_df.append(res)"
   ]
  },
  {
   "cell_type": "code",
   "execution_count": 7,
   "metadata": {},
   "outputs": [],
   "source": [
    "result_df['Ка'] = result_df['Ка'].apply(np.sqrt)\n",
    "result_df.rename(columns={'Ка': 'КKa'}, inplace=True)\n",
    "result_df.reset_index(drop=True, inplace=True)\n",
    "Path(\"../tests/test7\").mkdir(parents=True, exist_ok=True)"
   ]
  },
  {
   "cell_type": "code",
   "execution_count": 8,
   "metadata": {},
   "outputs": [
    {
     "output_type": "execute_result",
     "data": {
      "text/plain": [
       "   Диапазон Д0  СКО  Рэф1  Рэф2  Рэф3  Рэф4  Рэф5   КKa Вычисления  \\\n",
       "0     (10, 20)  0.0  1.00  1.00  1.00  1.00  1.00  0.00         15   \n",
       "1     (10, 20)  0.1  0.98  1.00  1.00  1.00  1.00  0.10         15   \n",
       "2     (10, 20)  0.2  0.95  0.98  0.98  0.99  1.00  0.20         15   \n",
       "3     (10, 20)  0.3  0.90  0.96  0.96  0.98  0.98  0.30         15   \n",
       "4     (10, 20)  0.5  0.74  0.93  0.93  0.96  0.98  0.50         15   \n",
       "5     (10, 20)  1.0  0.41  0.76  0.78  0.89  0.93  1.00         15   \n",
       "6     (20, 30)  0.0  1.00  1.00  1.00  1.00  1.00  0.00          8   \n",
       "7     (20, 30)  0.1  0.95  0.97  0.97  0.98  1.00  0.10          8   \n",
       "8     (20, 30)  0.2  0.81  0.95  0.95  0.96  0.97  0.20          8   \n",
       "9     (20, 30)  0.3  0.65  0.92  0.92  0.95  0.96  0.30          8   \n",
       "10    (20, 30)  0.5  0.40  0.75  0.76  0.86  0.91  0.50          8   \n",
       "11    (20, 30)  1.0  0.23  0.40  0.44  0.56  0.72  1.00          8   \n",
       "12    (30, 40)  0.0  1.00  1.00  1.00  1.00  1.00  0.00          8   \n",
       "13    (30, 40)  0.1  0.84  0.95  0.95  0.96  0.97  0.10          8   \n",
       "14    (30, 40)  0.2  0.53  0.84  0.84  0.91  0.95  0.20          8   \n",
       "15    (30, 40)  0.3  0.41  0.67  0.67  0.81  0.88  0.30          8   \n",
       "16    (30, 40)  0.5  0.26  0.48  0.50  0.58  0.69  0.50          8   \n",
       "17    (30, 40)  1.0  0.12  0.26  0.27  0.35  0.46  1.00          8   \n",
       "18    (40, 50)  0.0  1.00  1.00  1.00  1.00  1.00  0.00          8   \n",
       "19    (40, 50)  0.1  0.63  0.89  0.89  0.94  0.96  0.10          8   \n",
       "20    (40, 50)  0.2  0.42  0.64  0.64  0.73  0.87  0.20          8   \n",
       "21    (40, 50)  0.3  0.30  0.48  0.49  0.59  0.71  0.30          8   \n",
       "22    (40, 50)  0.5  0.16  0.35  0.37  0.40  0.53  0.50          8   \n",
       "23    (40, 50)  1.0  0.07  0.18  0.19  0.26  0.33  1.00          8   \n",
       "24    (10, 50)  0.0  1.00  1.00  1.00  1.00  1.00  0.00         10   \n",
       "25    (10, 50)  0.1  0.87  0.97  0.97  0.98  0.98  0.10         10   \n",
       "26    (10, 50)  0.2  0.70  0.87  0.87  0.91  0.96  0.20         10   \n",
       "27    (10, 50)  0.3  0.55  0.76  0.76  0.80  0.90  0.30         10   \n",
       "28    (10, 50)  0.5  0.41  0.65  0.65  0.71  0.77  0.50         10   \n",
       "29    (10, 50)  1.0  0.23  0.41  0.45  0.51  0.62  1.00         10   \n",
       "\n",
       "   Вычисления макс Итерации Итерации макс   Время Время макс  \n",
       "0               27       11            20  0.0032     0.0071  \n",
       "1               27       11            20  0.0031     0.0066  \n",
       "2               27       11            20  0.0032     0.0071  \n",
       "3               27       11            20  0.0040     0.0581  \n",
       "4               27       11            20  0.0032     0.0063  \n",
       "5               27       11            20  0.0031     0.0112  \n",
       "6               20        7            15  0.0023     0.0079  \n",
       "7               20        7            15  0.0021     0.0052  \n",
       "8               20        7            15  0.0020     0.0055  \n",
       "9               20        7            15  0.0021     0.0050  \n",
       "10              20        7            15  0.0018     0.0038  \n",
       "11              20        7            15  0.0020     0.0046  \n",
       "12              10        7             9  0.0018     0.0032  \n",
       "13              10        7             9  0.0025     0.0411  \n",
       "14              10        7             9  0.0019     0.0071  \n",
       "15              10        7             9  0.0019     0.0031  \n",
       "16              10        7             9  0.0020     0.0056  \n",
       "17              10        7             9  0.0021     0.0043  \n",
       "18              10        7             9  0.0018     0.0032  \n",
       "19              10        7             9  0.0019     0.0044  \n",
       "20              10        7             9  0.0019     0.0037  \n",
       "21              10        7             9  0.0019     0.0041  \n",
       "22              10        7             9  0.0019     0.0036  \n",
       "23              10        7             9  0.0019     0.0040  \n",
       "24              24        8            18  0.0022     0.0050  \n",
       "25              24        8            18  0.0021     0.0062  \n",
       "26              24        8            18  0.0024     0.0104  \n",
       "27              24        8            18  0.0025     0.0216  \n",
       "28              24        8            18  0.0022     0.0057  \n",
       "29              24        8            18  0.0022     0.0055  "
      ],
      "text/html": "<div>\n<style scoped>\n    .dataframe tbody tr th:only-of-type {\n        vertical-align: middle;\n    }\n\n    .dataframe tbody tr th {\n        vertical-align: top;\n    }\n\n    .dataframe thead th {\n        text-align: right;\n    }\n</style>\n<table border=\"1\" class=\"dataframe\">\n  <thead>\n    <tr style=\"text-align: right;\">\n      <th></th>\n      <th>Диапазон Д0</th>\n      <th>СКО</th>\n      <th>Рэф1</th>\n      <th>Рэф2</th>\n      <th>Рэф3</th>\n      <th>Рэф4</th>\n      <th>Рэф5</th>\n      <th>КKa</th>\n      <th>Вычисления</th>\n      <th>Вычисления макс</th>\n      <th>Итерации</th>\n      <th>Итерации макс</th>\n      <th>Время</th>\n      <th>Время макс</th>\n    </tr>\n  </thead>\n  <tbody>\n    <tr>\n      <th>0</th>\n      <td>(10, 20)</td>\n      <td>0.0</td>\n      <td>1.00</td>\n      <td>1.00</td>\n      <td>1.00</td>\n      <td>1.00</td>\n      <td>1.00</td>\n      <td>0.00</td>\n      <td>15</td>\n      <td>27</td>\n      <td>11</td>\n      <td>20</td>\n      <td>0.0032</td>\n      <td>0.0071</td>\n    </tr>\n    <tr>\n      <th>1</th>\n      <td>(10, 20)</td>\n      <td>0.1</td>\n      <td>0.98</td>\n      <td>1.00</td>\n      <td>1.00</td>\n      <td>1.00</td>\n      <td>1.00</td>\n      <td>0.10</td>\n      <td>15</td>\n      <td>27</td>\n      <td>11</td>\n      <td>20</td>\n      <td>0.0031</td>\n      <td>0.0066</td>\n    </tr>\n    <tr>\n      <th>2</th>\n      <td>(10, 20)</td>\n      <td>0.2</td>\n      <td>0.95</td>\n      <td>0.98</td>\n      <td>0.98</td>\n      <td>0.99</td>\n      <td>1.00</td>\n      <td>0.20</td>\n      <td>15</td>\n      <td>27</td>\n      <td>11</td>\n      <td>20</td>\n      <td>0.0032</td>\n      <td>0.0071</td>\n    </tr>\n    <tr>\n      <th>3</th>\n      <td>(10, 20)</td>\n      <td>0.3</td>\n      <td>0.90</td>\n      <td>0.96</td>\n      <td>0.96</td>\n      <td>0.98</td>\n      <td>0.98</td>\n      <td>0.30</td>\n      <td>15</td>\n      <td>27</td>\n      <td>11</td>\n      <td>20</td>\n      <td>0.0040</td>\n      <td>0.0581</td>\n    </tr>\n    <tr>\n      <th>4</th>\n      <td>(10, 20)</td>\n      <td>0.5</td>\n      <td>0.74</td>\n      <td>0.93</td>\n      <td>0.93</td>\n      <td>0.96</td>\n      <td>0.98</td>\n      <td>0.50</td>\n      <td>15</td>\n      <td>27</td>\n      <td>11</td>\n      <td>20</td>\n      <td>0.0032</td>\n      <td>0.0063</td>\n    </tr>\n    <tr>\n      <th>5</th>\n      <td>(10, 20)</td>\n      <td>1.0</td>\n      <td>0.41</td>\n      <td>0.76</td>\n      <td>0.78</td>\n      <td>0.89</td>\n      <td>0.93</td>\n      <td>1.00</td>\n      <td>15</td>\n      <td>27</td>\n      <td>11</td>\n      <td>20</td>\n      <td>0.0031</td>\n      <td>0.0112</td>\n    </tr>\n    <tr>\n      <th>6</th>\n      <td>(20, 30)</td>\n      <td>0.0</td>\n      <td>1.00</td>\n      <td>1.00</td>\n      <td>1.00</td>\n      <td>1.00</td>\n      <td>1.00</td>\n      <td>0.00</td>\n      <td>8</td>\n      <td>20</td>\n      <td>7</td>\n      <td>15</td>\n      <td>0.0023</td>\n      <td>0.0079</td>\n    </tr>\n    <tr>\n      <th>7</th>\n      <td>(20, 30)</td>\n      <td>0.1</td>\n      <td>0.95</td>\n      <td>0.97</td>\n      <td>0.97</td>\n      <td>0.98</td>\n      <td>1.00</td>\n      <td>0.10</td>\n      <td>8</td>\n      <td>20</td>\n      <td>7</td>\n      <td>15</td>\n      <td>0.0021</td>\n      <td>0.0052</td>\n    </tr>\n    <tr>\n      <th>8</th>\n      <td>(20, 30)</td>\n      <td>0.2</td>\n      <td>0.81</td>\n      <td>0.95</td>\n      <td>0.95</td>\n      <td>0.96</td>\n      <td>0.97</td>\n      <td>0.20</td>\n      <td>8</td>\n      <td>20</td>\n      <td>7</td>\n      <td>15</td>\n      <td>0.0020</td>\n      <td>0.0055</td>\n    </tr>\n    <tr>\n      <th>9</th>\n      <td>(20, 30)</td>\n      <td>0.3</td>\n      <td>0.65</td>\n      <td>0.92</td>\n      <td>0.92</td>\n      <td>0.95</td>\n      <td>0.96</td>\n      <td>0.30</td>\n      <td>8</td>\n      <td>20</td>\n      <td>7</td>\n      <td>15</td>\n      <td>0.0021</td>\n      <td>0.0050</td>\n    </tr>\n    <tr>\n      <th>10</th>\n      <td>(20, 30)</td>\n      <td>0.5</td>\n      <td>0.40</td>\n      <td>0.75</td>\n      <td>0.76</td>\n      <td>0.86</td>\n      <td>0.91</td>\n      <td>0.50</td>\n      <td>8</td>\n      <td>20</td>\n      <td>7</td>\n      <td>15</td>\n      <td>0.0018</td>\n      <td>0.0038</td>\n    </tr>\n    <tr>\n      <th>11</th>\n      <td>(20, 30)</td>\n      <td>1.0</td>\n      <td>0.23</td>\n      <td>0.40</td>\n      <td>0.44</td>\n      <td>0.56</td>\n      <td>0.72</td>\n      <td>1.00</td>\n      <td>8</td>\n      <td>20</td>\n      <td>7</td>\n      <td>15</td>\n      <td>0.0020</td>\n      <td>0.0046</td>\n    </tr>\n    <tr>\n      <th>12</th>\n      <td>(30, 40)</td>\n      <td>0.0</td>\n      <td>1.00</td>\n      <td>1.00</td>\n      <td>1.00</td>\n      <td>1.00</td>\n      <td>1.00</td>\n      <td>0.00</td>\n      <td>8</td>\n      <td>10</td>\n      <td>7</td>\n      <td>9</td>\n      <td>0.0018</td>\n      <td>0.0032</td>\n    </tr>\n    <tr>\n      <th>13</th>\n      <td>(30, 40)</td>\n      <td>0.1</td>\n      <td>0.84</td>\n      <td>0.95</td>\n      <td>0.95</td>\n      <td>0.96</td>\n      <td>0.97</td>\n      <td>0.10</td>\n      <td>8</td>\n      <td>10</td>\n      <td>7</td>\n      <td>9</td>\n      <td>0.0025</td>\n      <td>0.0411</td>\n    </tr>\n    <tr>\n      <th>14</th>\n      <td>(30, 40)</td>\n      <td>0.2</td>\n      <td>0.53</td>\n      <td>0.84</td>\n      <td>0.84</td>\n      <td>0.91</td>\n      <td>0.95</td>\n      <td>0.20</td>\n      <td>8</td>\n      <td>10</td>\n      <td>7</td>\n      <td>9</td>\n      <td>0.0019</td>\n      <td>0.0071</td>\n    </tr>\n    <tr>\n      <th>15</th>\n      <td>(30, 40)</td>\n      <td>0.3</td>\n      <td>0.41</td>\n      <td>0.67</td>\n      <td>0.67</td>\n      <td>0.81</td>\n      <td>0.88</td>\n      <td>0.30</td>\n      <td>8</td>\n      <td>10</td>\n      <td>7</td>\n      <td>9</td>\n      <td>0.0019</td>\n      <td>0.0031</td>\n    </tr>\n    <tr>\n      <th>16</th>\n      <td>(30, 40)</td>\n      <td>0.5</td>\n      <td>0.26</td>\n      <td>0.48</td>\n      <td>0.50</td>\n      <td>0.58</td>\n      <td>0.69</td>\n      <td>0.50</td>\n      <td>8</td>\n      <td>10</td>\n      <td>7</td>\n      <td>9</td>\n      <td>0.0020</td>\n      <td>0.0056</td>\n    </tr>\n    <tr>\n      <th>17</th>\n      <td>(30, 40)</td>\n      <td>1.0</td>\n      <td>0.12</td>\n      <td>0.26</td>\n      <td>0.27</td>\n      <td>0.35</td>\n      <td>0.46</td>\n      <td>1.00</td>\n      <td>8</td>\n      <td>10</td>\n      <td>7</td>\n      <td>9</td>\n      <td>0.0021</td>\n      <td>0.0043</td>\n    </tr>\n    <tr>\n      <th>18</th>\n      <td>(40, 50)</td>\n      <td>0.0</td>\n      <td>1.00</td>\n      <td>1.00</td>\n      <td>1.00</td>\n      <td>1.00</td>\n      <td>1.00</td>\n      <td>0.00</td>\n      <td>8</td>\n      <td>10</td>\n      <td>7</td>\n      <td>9</td>\n      <td>0.0018</td>\n      <td>0.0032</td>\n    </tr>\n    <tr>\n      <th>19</th>\n      <td>(40, 50)</td>\n      <td>0.1</td>\n      <td>0.63</td>\n      <td>0.89</td>\n      <td>0.89</td>\n      <td>0.94</td>\n      <td>0.96</td>\n      <td>0.10</td>\n      <td>8</td>\n      <td>10</td>\n      <td>7</td>\n      <td>9</td>\n      <td>0.0019</td>\n      <td>0.0044</td>\n    </tr>\n    <tr>\n      <th>20</th>\n      <td>(40, 50)</td>\n      <td>0.2</td>\n      <td>0.42</td>\n      <td>0.64</td>\n      <td>0.64</td>\n      <td>0.73</td>\n      <td>0.87</td>\n      <td>0.20</td>\n      <td>8</td>\n      <td>10</td>\n      <td>7</td>\n      <td>9</td>\n      <td>0.0019</td>\n      <td>0.0037</td>\n    </tr>\n    <tr>\n      <th>21</th>\n      <td>(40, 50)</td>\n      <td>0.3</td>\n      <td>0.30</td>\n      <td>0.48</td>\n      <td>0.49</td>\n      <td>0.59</td>\n      <td>0.71</td>\n      <td>0.30</td>\n      <td>8</td>\n      <td>10</td>\n      <td>7</td>\n      <td>9</td>\n      <td>0.0019</td>\n      <td>0.0041</td>\n    </tr>\n    <tr>\n      <th>22</th>\n      <td>(40, 50)</td>\n      <td>0.5</td>\n      <td>0.16</td>\n      <td>0.35</td>\n      <td>0.37</td>\n      <td>0.40</td>\n      <td>0.53</td>\n      <td>0.50</td>\n      <td>8</td>\n      <td>10</td>\n      <td>7</td>\n      <td>9</td>\n      <td>0.0019</td>\n      <td>0.0036</td>\n    </tr>\n    <tr>\n      <th>23</th>\n      <td>(40, 50)</td>\n      <td>1.0</td>\n      <td>0.07</td>\n      <td>0.18</td>\n      <td>0.19</td>\n      <td>0.26</td>\n      <td>0.33</td>\n      <td>1.00</td>\n      <td>8</td>\n      <td>10</td>\n      <td>7</td>\n      <td>9</td>\n      <td>0.0019</td>\n      <td>0.0040</td>\n    </tr>\n    <tr>\n      <th>24</th>\n      <td>(10, 50)</td>\n      <td>0.0</td>\n      <td>1.00</td>\n      <td>1.00</td>\n      <td>1.00</td>\n      <td>1.00</td>\n      <td>1.00</td>\n      <td>0.00</td>\n      <td>10</td>\n      <td>24</td>\n      <td>8</td>\n      <td>18</td>\n      <td>0.0022</td>\n      <td>0.0050</td>\n    </tr>\n    <tr>\n      <th>25</th>\n      <td>(10, 50)</td>\n      <td>0.1</td>\n      <td>0.87</td>\n      <td>0.97</td>\n      <td>0.97</td>\n      <td>0.98</td>\n      <td>0.98</td>\n      <td>0.10</td>\n      <td>10</td>\n      <td>24</td>\n      <td>8</td>\n      <td>18</td>\n      <td>0.0021</td>\n      <td>0.0062</td>\n    </tr>\n    <tr>\n      <th>26</th>\n      <td>(10, 50)</td>\n      <td>0.2</td>\n      <td>0.70</td>\n      <td>0.87</td>\n      <td>0.87</td>\n      <td>0.91</td>\n      <td>0.96</td>\n      <td>0.20</td>\n      <td>10</td>\n      <td>24</td>\n      <td>8</td>\n      <td>18</td>\n      <td>0.0024</td>\n      <td>0.0104</td>\n    </tr>\n    <tr>\n      <th>27</th>\n      <td>(10, 50)</td>\n      <td>0.3</td>\n      <td>0.55</td>\n      <td>0.76</td>\n      <td>0.76</td>\n      <td>0.80</td>\n      <td>0.90</td>\n      <td>0.30</td>\n      <td>10</td>\n      <td>24</td>\n      <td>8</td>\n      <td>18</td>\n      <td>0.0025</td>\n      <td>0.0216</td>\n    </tr>\n    <tr>\n      <th>28</th>\n      <td>(10, 50)</td>\n      <td>0.5</td>\n      <td>0.41</td>\n      <td>0.65</td>\n      <td>0.65</td>\n      <td>0.71</td>\n      <td>0.77</td>\n      <td>0.50</td>\n      <td>10</td>\n      <td>24</td>\n      <td>8</td>\n      <td>18</td>\n      <td>0.0022</td>\n      <td>0.0057</td>\n    </tr>\n    <tr>\n      <th>29</th>\n      <td>(10, 50)</td>\n      <td>1.0</td>\n      <td>0.23</td>\n      <td>0.41</td>\n      <td>0.45</td>\n      <td>0.51</td>\n      <td>0.62</td>\n      <td>1.00</td>\n      <td>10</td>\n      <td>24</td>\n      <td>8</td>\n      <td>18</td>\n      <td>0.0022</td>\n      <td>0.0055</td>\n    </tr>\n  </tbody>\n</table>\n</div>"
     },
     "metadata": {},
     "execution_count": 8
    }
   ],
   "source": [
    "display_df = result_df.copy()\n",
    "precisions = {\n",
    "                'КKa' : '{0:.2f}', \n",
    "                'Вычисления' : '{0:.0f}', \n",
    "                'Вычисления макс': '{0:.0f}',\n",
    "                'Итерации' : '{0:.0f}', \n",
    "                'Итерации макс' : '{0:.0f}', \n",
    "                'Время' : '{0:.4f}', \n",
    "                'Время макс' : '{0:.4f}',\n",
    "            }\n",
    "for col, precision in precisions.items():\n",
    "    display_df[col] = display_df[col].apply(lambda x: precision.format(x))\n",
    "df_to_docx(display_df, f'../tests/test7/Сводная таблица 5.docx')\n",
    "display_df"
   ]
  },
  {
   "cell_type": "code",
   "execution_count": null,
   "metadata": {},
   "outputs": [],
   "source": []
  }
 ]
}