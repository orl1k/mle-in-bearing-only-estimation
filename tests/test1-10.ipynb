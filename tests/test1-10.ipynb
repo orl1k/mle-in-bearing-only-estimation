{
 "metadata": {
  "language_info": {
   "codemirror_mode": {
    "name": "ipython",
    "version": 3
   },
   "file_extension": ".py",
   "mimetype": "text/x-python",
   "name": "python",
   "nbconvert_exporter": "python",
   "pygments_lexer": "ipython3",
   "version": "3.9.2-final"
  },
  "orig_nbformat": 2,
  "kernelspec": {
   "name": "python39264bit33474e9fc3ff4296aa6392b4164f7ca5",
   "display_name": "Python 3.9.2 64-bit",
   "language": "python"
  }
 },
 "nbformat": 4,
 "nbformat_minor": 2,
 "cells": [
  {
   "cell_type": "code",
   "execution_count": 1,
   "metadata": {},
   "outputs": [],
   "source": [
    "import sys\n",
    "sys.path.append(\"..\")\n",
    "import numpy as np\n",
    "import pandas as pd\n",
    "from project.ship import Ship\n",
    "from project.tests import Tests\n",
    "from project.botma import TMA\n",
    "import time\n",
    "from pathlib import Path\n",
    "from datetime import datetime"
   ]
  },
  {
   "cell_type": "code",
   "execution_count": 2,
   "metadata": {},
   "outputs": [
    {
     "output_type": "stream",
     "name": "stdout",
     "text": [
      "Время последнего моделирования: 23/03/2021 03:03\n"
     ]
    }
   ],
   "source": [
    "# Класс для сохранения результатов\n",
    "tests = Tests('test1')\n",
    "Path(\"../tests/test1/d10\").mkdir(parents=True, exist_ok=True)\n",
    "print(\"Время последнего моделирования:\", datetime.now().strftime(\"%d/%m/%Y %H:%M\"))\n",
    "\n",
    "# Создаем наблюдателя\n",
    "observer_x, observer_y, observer_course, observer_velocity = 0, 0, 0, 5\n",
    "observer = Ship('Наблюдатель', observer_x, observer_y, observer_course,\n",
    "                observer_velocity, verbose=True)"
   ]
  },
  {
   "cell_type": "code",
   "execution_count": 3,
   "metadata": {},
   "outputs": [
    {
     "output_type": "stream",
     "name": "stdout",
     "text": [
      "Наблюдатель движется прямо по курсу 0.0° 180с\nНаблюдатель перешёл на курс 270.0° за 180с\nНаблюдатель движется прямо по курсу 270.0° 300с\nНаблюдатель перешёл на курс 90.0° за 360с\nНаблюдатель движется прямо по курсу 90.0° 180с\n"
     ]
    }
   ],
   "source": [
    "# Моделирование траектории наблюдателя\n",
    "observer.forward_movement(3 * 60)\n",
    "observer.change_course(270, 'left', omega=0.5)\n",
    "observer.forward_movement(5 * 60)\n",
    "observer.change_course(90, 'right', omega=0.5)\n",
    "observer.forward_movement(3 * 60)"
   ]
  },
  {
   "cell_type": "code",
   "execution_count": 4,
   "metadata": {},
   "outputs": [],
   "source": [
    "def target_func(seed=None):\n",
    "    np.random.seed(seed)\n",
    "    b = 0\n",
    "    d = 10\n",
    "    c = np.random.uniform(0, 180)\n",
    "    v = np.random.uniform(3, 15)\n",
    "    return [b, d, c, v]\n",
    "results = []\n",
    "p0 = [0., 25., 90., 7.]\n",
    "std_arr = [0., 0.1, 0.2, 0.3, 0.5, 1.]\n",
    "precisions_1 = ['{0:.1f}', '{0:.3f}', '{0:.3f}', '{0:.2f}', '{0:.1f}', '{0:.3f}', '{0:.3f}', '{0:.2f}', '{0:.1f}', '{0:.3f}', '{0:.3f}', '{0:.2f}',\n",
    "'{0:.2f}','{0:.3f}', '{0:.2f}','{0:.3f}','{0:.2f}', '{0:.2f}', '{0:.2f}', '{0:.2f}', '{0:.2f}', '{0:.2f}', '{:.0f}', '{0:.4f}', '{0:.0f}', '{0:.0f}']\n",
    "precisions_2 = ['{0:.1f}', '{0:.3f}', '{0:.1f}', '{0:.2f}', '{0:.1f}', '{0:.3f}', '{0:.1f}', '{0:.2f}', '{0:.2f}','{0:.3f}', '{0:.2f}','{0:.3f}', '{0:.2f}', '{0:.2f}', '{0:.0f}', '{0:.4f}']\n",
    "precisions_3 = ['{0:.0f}', '{0:.0f}', '{0:.0f}', '{0:.0f}', '{0:.0f}', '{0:.0f}', '{0:.0f}', '{0:.0f}', '{0:.0f}', '{0:.2f}', '{0:.0f}', '{0:.0f}', '{0:.0f}', '{0:.0f}', '{0:.4f}', '{0:.4f}', '{0:.1f}']"
   ]
  },
  {
   "cell_type": "code",
   "execution_count": 5,
   "metadata": {},
   "outputs": [
    {
     "output_type": "stream",
     "name": "stdout",
     "text": [
      "Алгоритм:: ММП v2\n",
      "Моделирование 100 результатов закончено за t = 1.3 с\n",
      "СКОп = 0.0, tau = 2\n",
      "Показатели Монте-Карло:\n",
      "Вариант 0: Рэф = 100%, Рэф_мин = 1\n",
      "Вариант 1: Рэф = 100%, Рэф_мин = 1\n",
      "Вариант 2: Рэф = 100%, Рэф_мин = 1\n",
      "Вариант 3: Рэф = 100%, Рэф_мин = 1\n",
      "Ка = 0.00\n",
      "Nf = 15, Nf_max = 27\n",
      "Iter = 12, Iter_max = 21\n",
      "t = 0.0059, t_max = 0.0237\n"
     ]
    },
    {
     "output_type": "display_data",
     "data": {
      "text/plain": "  П0_ист  Д0_ист   К0_ист V0_ист П0_расч Д0_расч  К0_расч V0_расч Птек_ист  \\\n0    0.0  10.000   98.786  11.58   360.0  10.000   98.786   11.58    70.56   \n1    0.0  10.000   75.064  11.64     0.0  10.000   75.064   11.64    53.18   \n2    0.0  10.000   78.479   3.31   360.0  10.000   78.479    3.31    31.77   \n3    0.0  10.000   99.144  11.50   360.0  10.000   99.144   11.50    70.66   \n4    0.0  10.000  174.065   9.57     0.0  10.000  174.065    9.57   149.70   \n\n  Дтек_ист Птек_расч Дтек_расч    Ка         Успех       t  Nf Iter  \n0   15.807     70.56    15.807  0.00  [1, 1, 1, 1]  0.0196  19   15  \n1   18.328     53.18    18.328  0.00  [1, 1, 1, 1]  0.0067  12   10  \n2    9.618     31.77     9.618  0.00  [1, 1, 1, 1]  0.0045   8    7  \n3   15.677     70.66    15.677  0.00  [1, 1, 1, 1]  0.0076  19   15  \n4    4.673    149.70     4.673  0.00  [1, 1, 1, 1]  0.0162  24   18  ",
      "text/html": "<div>\n<style scoped>\n    .dataframe tbody tr th:only-of-type {\n        vertical-align: middle;\n    }\n\n    .dataframe tbody tr th {\n        vertical-align: top;\n    }\n\n    .dataframe thead th {\n        text-align: right;\n    }\n</style>\n<table border=\"1\" class=\"dataframe\">\n  <thead>\n    <tr style=\"text-align: right;\">\n      <th></th>\n      <th>П0_ист</th>\n      <th>Д0_ист</th>\n      <th>К0_ист</th>\n      <th>V0_ист</th>\n      <th>П0_расч</th>\n      <th>Д0_расч</th>\n      <th>К0_расч</th>\n      <th>V0_расч</th>\n      <th>Птек_ист</th>\n      <th>Дтек_ист</th>\n      <th>Птек_расч</th>\n      <th>Дтек_расч</th>\n      <th>Ка</th>\n      <th>Успех</th>\n      <th>t</th>\n      <th>Nf</th>\n      <th>Iter</th>\n    </tr>\n  </thead>\n  <tbody>\n    <tr>\n      <th>0</th>\n      <td>0.0</td>\n      <td>10.000</td>\n      <td>98.786</td>\n      <td>11.58</td>\n      <td>360.0</td>\n      <td>10.000</td>\n      <td>98.786</td>\n      <td>11.58</td>\n      <td>70.56</td>\n      <td>15.807</td>\n      <td>70.56</td>\n      <td>15.807</td>\n      <td>0.00</td>\n      <td>[1, 1, 1, 1]</td>\n      <td>0.0196</td>\n      <td>19</td>\n      <td>15</td>\n    </tr>\n    <tr>\n      <th>1</th>\n      <td>0.0</td>\n      <td>10.000</td>\n      <td>75.064</td>\n      <td>11.64</td>\n      <td>0.0</td>\n      <td>10.000</td>\n      <td>75.064</td>\n      <td>11.64</td>\n      <td>53.18</td>\n      <td>18.328</td>\n      <td>53.18</td>\n      <td>18.328</td>\n      <td>0.00</td>\n      <td>[1, 1, 1, 1]</td>\n      <td>0.0067</td>\n      <td>12</td>\n      <td>10</td>\n    </tr>\n    <tr>\n      <th>2</th>\n      <td>0.0</td>\n      <td>10.000</td>\n      <td>78.479</td>\n      <td>3.31</td>\n      <td>360.0</td>\n      <td>10.000</td>\n      <td>78.479</td>\n      <td>3.31</td>\n      <td>31.77</td>\n      <td>9.618</td>\n      <td>31.77</td>\n      <td>9.618</td>\n      <td>0.00</td>\n      <td>[1, 1, 1, 1]</td>\n      <td>0.0045</td>\n      <td>8</td>\n      <td>7</td>\n    </tr>\n    <tr>\n      <th>3</th>\n      <td>0.0</td>\n      <td>10.000</td>\n      <td>99.144</td>\n      <td>11.50</td>\n      <td>360.0</td>\n      <td>10.000</td>\n      <td>99.144</td>\n      <td>11.50</td>\n      <td>70.66</td>\n      <td>15.677</td>\n      <td>70.66</td>\n      <td>15.677</td>\n      <td>0.00</td>\n      <td>[1, 1, 1, 1]</td>\n      <td>0.0076</td>\n      <td>19</td>\n      <td>15</td>\n    </tr>\n    <tr>\n      <th>4</th>\n      <td>0.0</td>\n      <td>10.000</td>\n      <td>174.065</td>\n      <td>9.57</td>\n      <td>0.0</td>\n      <td>10.000</td>\n      <td>174.065</td>\n      <td>9.57</td>\n      <td>149.70</td>\n      <td>4.673</td>\n      <td>149.70</td>\n      <td>4.673</td>\n      <td>0.00</td>\n      <td>[1, 1, 1, 1]</td>\n      <td>0.0162</td>\n      <td>24</td>\n      <td>18</td>\n    </tr>\n  </tbody>\n</table>\n</div>"
     },
     "metadata": {}
    },
    {
     "output_type": "stream",
     "name": "stdout",
     "text": [
      "_________________________________________________\n",
      "Алгоритм:: ММП v2\n",
      "Моделирование 100 результатов закончено за t = 0.9 с\n",
      "СКОп = 0.1, tau = 2\n",
      "Показатели Монте-Карло:\n",
      "Вариант 0: Рэф = 100%, Рэф_мин = 1\n",
      "Вариант 1: Рэф = 100%, Рэф_мин = 1\n",
      "Вариант 2: Рэф = 100%, Рэф_мин = 1\n",
      "Вариант 3: Рэф = 100%, Рэф_мин = 1\n",
      "Ка = 0.01\n",
      "Nf = 15, Nf_max = 27\n",
      "Iter = 12, Iter_max = 21\n",
      "t = 0.0039, t_max = 0.0092\n"
     ]
    },
    {
     "output_type": "display_data",
     "data": {
      "text/plain": "  П0_ист  Д0_ист   К0_ист V0_ист П0_расч Д0_расч  К0_расч V0_расч Птек_ист  \\\n0    0.0  10.000   98.786  11.58   360.0  10.026   98.804   11.63    70.56   \n1    0.0  10.000   75.064  11.64     0.0   9.965   75.028   11.59    53.18   \n2    0.0  10.000   78.479   3.31     0.0  10.008   78.788    3.30    31.77   \n3    0.0  10.000   99.144  11.50     0.0   9.982   99.167   11.46    70.66   \n4    0.0  10.000  174.065   9.57   360.0  10.016  174.042    9.59   149.70   \n\n  Дтек_ист Птек_расч Дтек_расч    Ка         Успех       t  Nf Iter  \n0   15.807     70.58    15.864  0.01  [1, 1, 1, 1]  0.0065  19   15  \n1   18.328     53.16    18.247  0.01  [1, 1, 1, 1]  0.0028  12   10  \n2    9.618     31.78     9.600  0.01  [1, 1, 1, 1]  0.0020   8    7  \n3   15.677     70.66    15.628  0.01  [1, 1, 1, 1]  0.0045  19   15  \n4    4.673    149.68     4.682  0.01  [1, 1, 1, 1]  0.0074  24   18  ",
      "text/html": "<div>\n<style scoped>\n    .dataframe tbody tr th:only-of-type {\n        vertical-align: middle;\n    }\n\n    .dataframe tbody tr th {\n        vertical-align: top;\n    }\n\n    .dataframe thead th {\n        text-align: right;\n    }\n</style>\n<table border=\"1\" class=\"dataframe\">\n  <thead>\n    <tr style=\"text-align: right;\">\n      <th></th>\n      <th>П0_ист</th>\n      <th>Д0_ист</th>\n      <th>К0_ист</th>\n      <th>V0_ист</th>\n      <th>П0_расч</th>\n      <th>Д0_расч</th>\n      <th>К0_расч</th>\n      <th>V0_расч</th>\n      <th>Птек_ист</th>\n      <th>Дтек_ист</th>\n      <th>Птек_расч</th>\n      <th>Дтек_расч</th>\n      <th>Ка</th>\n      <th>Успех</th>\n      <th>t</th>\n      <th>Nf</th>\n      <th>Iter</th>\n    </tr>\n  </thead>\n  <tbody>\n    <tr>\n      <th>0</th>\n      <td>0.0</td>\n      <td>10.000</td>\n      <td>98.786</td>\n      <td>11.58</td>\n      <td>360.0</td>\n      <td>10.026</td>\n      <td>98.804</td>\n      <td>11.63</td>\n      <td>70.56</td>\n      <td>15.807</td>\n      <td>70.58</td>\n      <td>15.864</td>\n      <td>0.01</td>\n      <td>[1, 1, 1, 1]</td>\n      <td>0.0065</td>\n      <td>19</td>\n      <td>15</td>\n    </tr>\n    <tr>\n      <th>1</th>\n      <td>0.0</td>\n      <td>10.000</td>\n      <td>75.064</td>\n      <td>11.64</td>\n      <td>0.0</td>\n      <td>9.965</td>\n      <td>75.028</td>\n      <td>11.59</td>\n      <td>53.18</td>\n      <td>18.328</td>\n      <td>53.16</td>\n      <td>18.247</td>\n      <td>0.01</td>\n      <td>[1, 1, 1, 1]</td>\n      <td>0.0028</td>\n      <td>12</td>\n      <td>10</td>\n    </tr>\n    <tr>\n      <th>2</th>\n      <td>0.0</td>\n      <td>10.000</td>\n      <td>78.479</td>\n      <td>3.31</td>\n      <td>0.0</td>\n      <td>10.008</td>\n      <td>78.788</td>\n      <td>3.30</td>\n      <td>31.77</td>\n      <td>9.618</td>\n      <td>31.78</td>\n      <td>9.600</td>\n      <td>0.01</td>\n      <td>[1, 1, 1, 1]</td>\n      <td>0.0020</td>\n      <td>8</td>\n      <td>7</td>\n    </tr>\n    <tr>\n      <th>3</th>\n      <td>0.0</td>\n      <td>10.000</td>\n      <td>99.144</td>\n      <td>11.50</td>\n      <td>0.0</td>\n      <td>9.982</td>\n      <td>99.167</td>\n      <td>11.46</td>\n      <td>70.66</td>\n      <td>15.677</td>\n      <td>70.66</td>\n      <td>15.628</td>\n      <td>0.01</td>\n      <td>[1, 1, 1, 1]</td>\n      <td>0.0045</td>\n      <td>19</td>\n      <td>15</td>\n    </tr>\n    <tr>\n      <th>4</th>\n      <td>0.0</td>\n      <td>10.000</td>\n      <td>174.065</td>\n      <td>9.57</td>\n      <td>360.0</td>\n      <td>10.016</td>\n      <td>174.042</td>\n      <td>9.59</td>\n      <td>149.70</td>\n      <td>4.673</td>\n      <td>149.68</td>\n      <td>4.682</td>\n      <td>0.01</td>\n      <td>[1, 1, 1, 1]</td>\n      <td>0.0074</td>\n      <td>24</td>\n      <td>18</td>\n    </tr>\n  </tbody>\n</table>\n</div>"
     },
     "metadata": {}
    },
    {
     "output_type": "stream",
     "name": "stdout",
     "text": [
      "_________________________________________________\n",
      "Алгоритм:: ММП v2\n",
      "Моделирование 100 результатов закончено за t = 0.9 с\n",
      "СКОп = 0.2, tau = 2\n",
      "Показатели Монте-Карло:\n",
      "Вариант 0: Рэф = 100%, Рэф_мин = 1\n",
      "Вариант 1: Рэф = 100%, Рэф_мин = 1\n",
      "Вариант 2: Рэф = 100%, Рэф_мин = 1\n",
      "Вариант 3: Рэф = 100%, Рэф_мин = 1\n",
      "Ка = 0.04\n",
      "Nf = 15, Nf_max = 27\n",
      "Iter = 12, Iter_max = 21\n",
      "t = 0.0041, t_max = 0.0118\n"
     ]
    },
    {
     "output_type": "display_data",
     "data": {
      "text/plain": "  П0_ист  Д0_ист   К0_ист V0_ист П0_расч Д0_расч  К0_расч V0_расч Птек_ист  \\\n0    0.0  10.000   98.786  11.58   360.0  10.053   98.822   11.68    70.56   \n1    0.0  10.000   75.064  11.64     0.0   9.931   74.991   11.53    53.18   \n2    0.0  10.000   78.479   3.31     0.0  10.015   79.099    3.29    31.77   \n3    0.0  10.000   99.144  11.50     0.0   9.964   99.190   11.41    70.66   \n4    0.0  10.000  174.065   9.57   360.0  10.032  174.018    9.61   149.70   \n\n  Дтек_ист Птек_расч Дтек_расч    Ка         Успех       t  Nf Iter  \n0   15.807     70.61    15.920  0.04  [1, 1, 1, 1]  0.0073  19   15  \n1   18.328     53.14    18.166  0.04  [1, 1, 1, 1]  0.0030  12   10  \n2    9.618     31.79     9.582  0.04  [1, 1, 1, 1]  0.0021   8    7  \n3   15.677     70.66    15.579  0.04  [1, 1, 1, 1]  0.0044  19   15  \n4    4.673    149.66     4.691  0.04  [1, 1, 1, 1]  0.0118  24   18  ",
      "text/html": "<div>\n<style scoped>\n    .dataframe tbody tr th:only-of-type {\n        vertical-align: middle;\n    }\n\n    .dataframe tbody tr th {\n        vertical-align: top;\n    }\n\n    .dataframe thead th {\n        text-align: right;\n    }\n</style>\n<table border=\"1\" class=\"dataframe\">\n  <thead>\n    <tr style=\"text-align: right;\">\n      <th></th>\n      <th>П0_ист</th>\n      <th>Д0_ист</th>\n      <th>К0_ист</th>\n      <th>V0_ист</th>\n      <th>П0_расч</th>\n      <th>Д0_расч</th>\n      <th>К0_расч</th>\n      <th>V0_расч</th>\n      <th>Птек_ист</th>\n      <th>Дтек_ист</th>\n      <th>Птек_расч</th>\n      <th>Дтек_расч</th>\n      <th>Ка</th>\n      <th>Успех</th>\n      <th>t</th>\n      <th>Nf</th>\n      <th>Iter</th>\n    </tr>\n  </thead>\n  <tbody>\n    <tr>\n      <th>0</th>\n      <td>0.0</td>\n      <td>10.000</td>\n      <td>98.786</td>\n      <td>11.58</td>\n      <td>360.0</td>\n      <td>10.053</td>\n      <td>98.822</td>\n      <td>11.68</td>\n      <td>70.56</td>\n      <td>15.807</td>\n      <td>70.61</td>\n      <td>15.920</td>\n      <td>0.04</td>\n      <td>[1, 1, 1, 1]</td>\n      <td>0.0073</td>\n      <td>19</td>\n      <td>15</td>\n    </tr>\n    <tr>\n      <th>1</th>\n      <td>0.0</td>\n      <td>10.000</td>\n      <td>75.064</td>\n      <td>11.64</td>\n      <td>0.0</td>\n      <td>9.931</td>\n      <td>74.991</td>\n      <td>11.53</td>\n      <td>53.18</td>\n      <td>18.328</td>\n      <td>53.14</td>\n      <td>18.166</td>\n      <td>0.04</td>\n      <td>[1, 1, 1, 1]</td>\n      <td>0.0030</td>\n      <td>12</td>\n      <td>10</td>\n    </tr>\n    <tr>\n      <th>2</th>\n      <td>0.0</td>\n      <td>10.000</td>\n      <td>78.479</td>\n      <td>3.31</td>\n      <td>0.0</td>\n      <td>10.015</td>\n      <td>79.099</td>\n      <td>3.29</td>\n      <td>31.77</td>\n      <td>9.618</td>\n      <td>31.79</td>\n      <td>9.582</td>\n      <td>0.04</td>\n      <td>[1, 1, 1, 1]</td>\n      <td>0.0021</td>\n      <td>8</td>\n      <td>7</td>\n    </tr>\n    <tr>\n      <th>3</th>\n      <td>0.0</td>\n      <td>10.000</td>\n      <td>99.144</td>\n      <td>11.50</td>\n      <td>0.0</td>\n      <td>9.964</td>\n      <td>99.190</td>\n      <td>11.41</td>\n      <td>70.66</td>\n      <td>15.677</td>\n      <td>70.66</td>\n      <td>15.579</td>\n      <td>0.04</td>\n      <td>[1, 1, 1, 1]</td>\n      <td>0.0044</td>\n      <td>19</td>\n      <td>15</td>\n    </tr>\n    <tr>\n      <th>4</th>\n      <td>0.0</td>\n      <td>10.000</td>\n      <td>174.065</td>\n      <td>9.57</td>\n      <td>360.0</td>\n      <td>10.032</td>\n      <td>174.018</td>\n      <td>9.61</td>\n      <td>149.70</td>\n      <td>4.673</td>\n      <td>149.66</td>\n      <td>4.691</td>\n      <td>0.04</td>\n      <td>[1, 1, 1, 1]</td>\n      <td>0.0118</td>\n      <td>24</td>\n      <td>18</td>\n    </tr>\n  </tbody>\n</table>\n</div>"
     },
     "metadata": {}
    },
    {
     "output_type": "stream",
     "name": "stdout",
     "text": [
      "_________________________________________________\n",
      "Алгоритм:: ММП v2\n",
      "Моделирование 100 результатов закончено за t = 0.9 с\n",
      "СКОп = 0.3, tau = 2\n",
      "Показатели Монте-Карло:\n",
      "Вариант 0: Рэф = 100%, Рэф_мин = 1\n",
      "Вариант 1: Рэф = 100%, Рэф_мин = 1\n",
      "Вариант 2: Рэф = 100%, Рэф_мин = 1\n",
      "Вариант 3: Рэф = 100%, Рэф_мин = 1\n",
      "Ка = 0.09\n",
      "Nf = 15, Nf_max = 27\n",
      "Iter = 12, Iter_max = 21\n",
      "t = 0.0040, t_max = 0.0076\n"
     ]
    },
    {
     "output_type": "display_data",
     "data": {
      "text/plain": "  П0_ист  Д0_ист   К0_ист V0_ист П0_расч Д0_расч  К0_расч V0_расч Птек_ист  \\\n0    0.0  10.000   98.786  11.58   359.9  10.080   98.840   11.73    70.56   \n1    0.0  10.000   75.064  11.64     0.0   9.897   74.955   11.47    53.18   \n2    0.0  10.000   78.479   3.31     0.0  10.022   79.412    3.28    31.77   \n3    0.0  10.000   99.144  11.50     0.1   9.946   99.213   11.37    70.66   \n4    0.0  10.000  174.065   9.57   360.0  10.048  173.994    9.62   149.70   \n\n  Дтек_ист Птек_расч Дтек_расч    Ка         Успех       t  Nf Iter  \n0   15.807     70.63    15.977  0.09  [1, 1, 1, 1]  0.0058  19   15  \n1   18.328     53.12    18.086  0.09  [1, 1, 1, 1]  0.0029  12   10  \n2    9.618     31.81     9.565  0.09  [1, 1, 1, 1]  0.0036   8    7  \n3   15.677     70.65    15.531  0.09  [1, 1, 1, 1]  0.0044  19   15  \n4    4.673    149.63     4.699  0.08  [1, 1, 1, 1]  0.0059  24   18  ",
      "text/html": "<div>\n<style scoped>\n    .dataframe tbody tr th:only-of-type {\n        vertical-align: middle;\n    }\n\n    .dataframe tbody tr th {\n        vertical-align: top;\n    }\n\n    .dataframe thead th {\n        text-align: right;\n    }\n</style>\n<table border=\"1\" class=\"dataframe\">\n  <thead>\n    <tr style=\"text-align: right;\">\n      <th></th>\n      <th>П0_ист</th>\n      <th>Д0_ист</th>\n      <th>К0_ист</th>\n      <th>V0_ист</th>\n      <th>П0_расч</th>\n      <th>Д0_расч</th>\n      <th>К0_расч</th>\n      <th>V0_расч</th>\n      <th>Птек_ист</th>\n      <th>Дтек_ист</th>\n      <th>Птек_расч</th>\n      <th>Дтек_расч</th>\n      <th>Ка</th>\n      <th>Успех</th>\n      <th>t</th>\n      <th>Nf</th>\n      <th>Iter</th>\n    </tr>\n  </thead>\n  <tbody>\n    <tr>\n      <th>0</th>\n      <td>0.0</td>\n      <td>10.000</td>\n      <td>98.786</td>\n      <td>11.58</td>\n      <td>359.9</td>\n      <td>10.080</td>\n      <td>98.840</td>\n      <td>11.73</td>\n      <td>70.56</td>\n      <td>15.807</td>\n      <td>70.63</td>\n      <td>15.977</td>\n      <td>0.09</td>\n      <td>[1, 1, 1, 1]</td>\n      <td>0.0058</td>\n      <td>19</td>\n      <td>15</td>\n    </tr>\n    <tr>\n      <th>1</th>\n      <td>0.0</td>\n      <td>10.000</td>\n      <td>75.064</td>\n      <td>11.64</td>\n      <td>0.0</td>\n      <td>9.897</td>\n      <td>74.955</td>\n      <td>11.47</td>\n      <td>53.18</td>\n      <td>18.328</td>\n      <td>53.12</td>\n      <td>18.086</td>\n      <td>0.09</td>\n      <td>[1, 1, 1, 1]</td>\n      <td>0.0029</td>\n      <td>12</td>\n      <td>10</td>\n    </tr>\n    <tr>\n      <th>2</th>\n      <td>0.0</td>\n      <td>10.000</td>\n      <td>78.479</td>\n      <td>3.31</td>\n      <td>0.0</td>\n      <td>10.022</td>\n      <td>79.412</td>\n      <td>3.28</td>\n      <td>31.77</td>\n      <td>9.618</td>\n      <td>31.81</td>\n      <td>9.565</td>\n      <td>0.09</td>\n      <td>[1, 1, 1, 1]</td>\n      <td>0.0036</td>\n      <td>8</td>\n      <td>7</td>\n    </tr>\n    <tr>\n      <th>3</th>\n      <td>0.0</td>\n      <td>10.000</td>\n      <td>99.144</td>\n      <td>11.50</td>\n      <td>0.1</td>\n      <td>9.946</td>\n      <td>99.213</td>\n      <td>11.37</td>\n      <td>70.66</td>\n      <td>15.677</td>\n      <td>70.65</td>\n      <td>15.531</td>\n      <td>0.09</td>\n      <td>[1, 1, 1, 1]</td>\n      <td>0.0044</td>\n      <td>19</td>\n      <td>15</td>\n    </tr>\n    <tr>\n      <th>4</th>\n      <td>0.0</td>\n      <td>10.000</td>\n      <td>174.065</td>\n      <td>9.57</td>\n      <td>360.0</td>\n      <td>10.048</td>\n      <td>173.994</td>\n      <td>9.62</td>\n      <td>149.70</td>\n      <td>4.673</td>\n      <td>149.63</td>\n      <td>4.699</td>\n      <td>0.08</td>\n      <td>[1, 1, 1, 1]</td>\n      <td>0.0059</td>\n      <td>24</td>\n      <td>18</td>\n    </tr>\n  </tbody>\n</table>\n</div>"
     },
     "metadata": {}
    },
    {
     "output_type": "stream",
     "name": "stdout",
     "text": [
      "_________________________________________________\n",
      "Алгоритм:: ММП v2\n",
      "Моделирование 100 результатов закончено за t = 1.0 с\n",
      "СКОп = 0.5, tau = 2\n",
      "Показатели Монте-Карло:\n",
      "Вариант 0: Рэф = 95%, Рэф_мин = 0\n",
      "Вариант 1: Рэф = 100%, Рэф_мин = 1\n",
      "Вариант 2: Рэф = 100%, Рэф_мин = 1\n",
      "Вариант 3: Рэф = 100%, Рэф_мин = 1\n",
      "Ка = 0.25\n",
      "Nf = 15, Nf_max = 27\n",
      "Iter = 12, Iter_max = 21\n",
      "t = 0.0043, t_max = 0.0131\n"
     ]
    },
    {
     "output_type": "display_data",
     "data": {
      "text/plain": "  П0_ист  Д0_ист   К0_ист V0_ист П0_расч Д0_расч  К0_расч V0_расч Птек_ист  \\\n0    0.0  10.000   98.786  11.58   359.9  10.134   98.876   11.84    70.56   \n1    0.0  10.000   75.064  11.64     0.0   9.830   74.882   11.36    53.18   \n2    0.0  10.000   78.479   3.31     0.1  10.037   80.045    3.25    31.77   \n3    0.0  10.000   99.144  11.50     0.1   9.910   99.260   11.29    70.66   \n4    0.0  10.000  174.065   9.57   360.0  10.080  173.947    9.66   149.70   \n\n  Дтек_ист Птек_расч Дтек_расч    Ка         Успех       t  Nf Iter  \n0   15.807     70.67    16.092  0.25  [1, 1, 1, 1]  0.0044  19   15  \n1   18.328     53.08    17.928  0.25  [1, 1, 1, 1]  0.0030  12   10  \n2    9.618     31.83     9.529  0.26  [1, 1, 1, 1]  0.0020   8    7  \n3   15.677     70.65    15.433  0.26  [1, 1, 1, 1]  0.0043  19   15  \n4    4.673    149.59     4.717  0.23  [1, 1, 1, 1]  0.0091  24   18  ",
      "text/html": "<div>\n<style scoped>\n    .dataframe tbody tr th:only-of-type {\n        vertical-align: middle;\n    }\n\n    .dataframe tbody tr th {\n        vertical-align: top;\n    }\n\n    .dataframe thead th {\n        text-align: right;\n    }\n</style>\n<table border=\"1\" class=\"dataframe\">\n  <thead>\n    <tr style=\"text-align: right;\">\n      <th></th>\n      <th>П0_ист</th>\n      <th>Д0_ист</th>\n      <th>К0_ист</th>\n      <th>V0_ист</th>\n      <th>П0_расч</th>\n      <th>Д0_расч</th>\n      <th>К0_расч</th>\n      <th>V0_расч</th>\n      <th>Птек_ист</th>\n      <th>Дтек_ист</th>\n      <th>Птек_расч</th>\n      <th>Дтек_расч</th>\n      <th>Ка</th>\n      <th>Успех</th>\n      <th>t</th>\n      <th>Nf</th>\n      <th>Iter</th>\n    </tr>\n  </thead>\n  <tbody>\n    <tr>\n      <th>0</th>\n      <td>0.0</td>\n      <td>10.000</td>\n      <td>98.786</td>\n      <td>11.58</td>\n      <td>359.9</td>\n      <td>10.134</td>\n      <td>98.876</td>\n      <td>11.84</td>\n      <td>70.56</td>\n      <td>15.807</td>\n      <td>70.67</td>\n      <td>16.092</td>\n      <td>0.25</td>\n      <td>[1, 1, 1, 1]</td>\n      <td>0.0044</td>\n      <td>19</td>\n      <td>15</td>\n    </tr>\n    <tr>\n      <th>1</th>\n      <td>0.0</td>\n      <td>10.000</td>\n      <td>75.064</td>\n      <td>11.64</td>\n      <td>0.0</td>\n      <td>9.830</td>\n      <td>74.882</td>\n      <td>11.36</td>\n      <td>53.18</td>\n      <td>18.328</td>\n      <td>53.08</td>\n      <td>17.928</td>\n      <td>0.25</td>\n      <td>[1, 1, 1, 1]</td>\n      <td>0.0030</td>\n      <td>12</td>\n      <td>10</td>\n    </tr>\n    <tr>\n      <th>2</th>\n      <td>0.0</td>\n      <td>10.000</td>\n      <td>78.479</td>\n      <td>3.31</td>\n      <td>0.1</td>\n      <td>10.037</td>\n      <td>80.045</td>\n      <td>3.25</td>\n      <td>31.77</td>\n      <td>9.618</td>\n      <td>31.83</td>\n      <td>9.529</td>\n      <td>0.26</td>\n      <td>[1, 1, 1, 1]</td>\n      <td>0.0020</td>\n      <td>8</td>\n      <td>7</td>\n    </tr>\n    <tr>\n      <th>3</th>\n      <td>0.0</td>\n      <td>10.000</td>\n      <td>99.144</td>\n      <td>11.50</td>\n      <td>0.1</td>\n      <td>9.910</td>\n      <td>99.260</td>\n      <td>11.29</td>\n      <td>70.66</td>\n      <td>15.677</td>\n      <td>70.65</td>\n      <td>15.433</td>\n      <td>0.26</td>\n      <td>[1, 1, 1, 1]</td>\n      <td>0.0043</td>\n      <td>19</td>\n      <td>15</td>\n    </tr>\n    <tr>\n      <th>4</th>\n      <td>0.0</td>\n      <td>10.000</td>\n      <td>174.065</td>\n      <td>9.57</td>\n      <td>360.0</td>\n      <td>10.080</td>\n      <td>173.947</td>\n      <td>9.66</td>\n      <td>149.70</td>\n      <td>4.673</td>\n      <td>149.59</td>\n      <td>4.717</td>\n      <td>0.23</td>\n      <td>[1, 1, 1, 1]</td>\n      <td>0.0091</td>\n      <td>24</td>\n      <td>18</td>\n    </tr>\n  </tbody>\n</table>\n</div>"
     },
     "metadata": {}
    },
    {
     "output_type": "stream",
     "name": "stdout",
     "text": [
      "_________________________________________________\n",
      "Алгоритм:: ММП v2\n",
      "Моделирование 100 результатов закончено за t = 0.9 с\n",
      "СКОп = 1.0, tau = 2\n",
      "Показатели Монте-Карло:\n",
      "Вариант 0: Рэф = 75%, Рэф_мин = 0\n",
      "Вариант 1: Рэф = 95%, Рэф_мин = 0\n",
      "Вариант 2: Рэф = 96%, Рэф_мин = 0\n",
      "Вариант 3: Рэф = 100%, Рэф_мин = 1\n",
      "Ка = 0.99\n",
      "Nf = 15, Nf_max = 27\n",
      "Iter = 12, Iter_max = 21\n",
      "t = 0.0042, t_max = 0.0125\n"
     ]
    },
    {
     "output_type": "display_data",
     "data": {
      "text/plain": "  П0_ист  Д0_ист   К0_ист V0_ист П0_расч Д0_расч  К0_расч V0_расч Птек_ист  \\\n0    0.0  10.000   98.786  11.58   359.8  10.271   98.965   12.10    70.56   \n1    0.0  10.000   75.064  11.64     0.1   9.668   74.699   11.09    53.18   \n2    0.0  10.000   78.479   3.31     0.1  10.074   81.664    3.19    31.77   \n3    0.0  10.000   99.144  11.50     0.2   9.821   99.377   11.09    70.66   \n4    0.0  10.000  174.065   9.57   359.9  10.162  173.828    9.76   149.70   \n\n  Дтек_ист Птек_расч Дтек_расч    Ка         Успех       t  Nf Iter  \n0   15.807     70.78    16.384  1.00  [1, 1, 1, 1]  0.0125  19   15  \n1   18.328     52.99    17.545  0.99  [1, 1, 1, 1]  0.0099  12   10  \n2    9.618     31.90     9.439  1.05  [1, 1, 1, 1]  0.0075   8    7  \n3   15.677     70.64    15.192  1.05  [1, 1, 1, 1]  0.0067  19   15  \n4    4.673    149.47     4.762  0.94  [1, 1, 1, 1]  0.0061  24   18  ",
      "text/html": "<div>\n<style scoped>\n    .dataframe tbody tr th:only-of-type {\n        vertical-align: middle;\n    }\n\n    .dataframe tbody tr th {\n        vertical-align: top;\n    }\n\n    .dataframe thead th {\n        text-align: right;\n    }\n</style>\n<table border=\"1\" class=\"dataframe\">\n  <thead>\n    <tr style=\"text-align: right;\">\n      <th></th>\n      <th>П0_ист</th>\n      <th>Д0_ист</th>\n      <th>К0_ист</th>\n      <th>V0_ист</th>\n      <th>П0_расч</th>\n      <th>Д0_расч</th>\n      <th>К0_расч</th>\n      <th>V0_расч</th>\n      <th>Птек_ист</th>\n      <th>Дтек_ист</th>\n      <th>Птек_расч</th>\n      <th>Дтек_расч</th>\n      <th>Ка</th>\n      <th>Успех</th>\n      <th>t</th>\n      <th>Nf</th>\n      <th>Iter</th>\n    </tr>\n  </thead>\n  <tbody>\n    <tr>\n      <th>0</th>\n      <td>0.0</td>\n      <td>10.000</td>\n      <td>98.786</td>\n      <td>11.58</td>\n      <td>359.8</td>\n      <td>10.271</td>\n      <td>98.965</td>\n      <td>12.10</td>\n      <td>70.56</td>\n      <td>15.807</td>\n      <td>70.78</td>\n      <td>16.384</td>\n      <td>1.00</td>\n      <td>[1, 1, 1, 1]</td>\n      <td>0.0125</td>\n      <td>19</td>\n      <td>15</td>\n    </tr>\n    <tr>\n      <th>1</th>\n      <td>0.0</td>\n      <td>10.000</td>\n      <td>75.064</td>\n      <td>11.64</td>\n      <td>0.1</td>\n      <td>9.668</td>\n      <td>74.699</td>\n      <td>11.09</td>\n      <td>53.18</td>\n      <td>18.328</td>\n      <td>52.99</td>\n      <td>17.545</td>\n      <td>0.99</td>\n      <td>[1, 1, 1, 1]</td>\n      <td>0.0099</td>\n      <td>12</td>\n      <td>10</td>\n    </tr>\n    <tr>\n      <th>2</th>\n      <td>0.0</td>\n      <td>10.000</td>\n      <td>78.479</td>\n      <td>3.31</td>\n      <td>0.1</td>\n      <td>10.074</td>\n      <td>81.664</td>\n      <td>3.19</td>\n      <td>31.77</td>\n      <td>9.618</td>\n      <td>31.90</td>\n      <td>9.439</td>\n      <td>1.05</td>\n      <td>[1, 1, 1, 1]</td>\n      <td>0.0075</td>\n      <td>8</td>\n      <td>7</td>\n    </tr>\n    <tr>\n      <th>3</th>\n      <td>0.0</td>\n      <td>10.000</td>\n      <td>99.144</td>\n      <td>11.50</td>\n      <td>0.2</td>\n      <td>9.821</td>\n      <td>99.377</td>\n      <td>11.09</td>\n      <td>70.66</td>\n      <td>15.677</td>\n      <td>70.64</td>\n      <td>15.192</td>\n      <td>1.05</td>\n      <td>[1, 1, 1, 1]</td>\n      <td>0.0067</td>\n      <td>19</td>\n      <td>15</td>\n    </tr>\n    <tr>\n      <th>4</th>\n      <td>0.0</td>\n      <td>10.000</td>\n      <td>174.065</td>\n      <td>9.57</td>\n      <td>359.9</td>\n      <td>10.162</td>\n      <td>173.828</td>\n      <td>9.76</td>\n      <td>149.70</td>\n      <td>4.673</td>\n      <td>149.47</td>\n      <td>4.762</td>\n      <td>0.94</td>\n      <td>[1, 1, 1, 1]</td>\n      <td>0.0061</td>\n      <td>24</td>\n      <td>18</td>\n    </tr>\n  </tbody>\n</table>\n</div>"
     },
     "metadata": {}
    },
    {
     "output_type": "stream",
     "name": "stdout",
     "text": [
      "_________________________________________________\n"
     ]
    }
   ],
   "source": [
    "for std in std_arr:\n",
    "\n",
    "    tma = TMA(observer, std=np.radians(std), tau=2)\n",
    "    algorithm_name = 'ММП v2'\n",
    "    res = [algorithm_name]\n",
    "    dict_results = tma.swarm(algorithm_name = algorithm_name, n=100, target_func=target_func, p0=p0, seeded=True, verbose=True)\n",
    "    df = tests.get_df(dict_results)\n",
    "    tma.print_verbose()\n",
    "\n",
    "    print('Показатели Монте-Карло:')\n",
    "    for i in range(4):\n",
    "        success = df['Успех'].apply(lambda x: x[i])\n",
    "        success_rate = 100 * success.mean()\n",
    "        success_min = min(success)\n",
    "        print('Вариант {}: Рэф = {:.0f}%, Рэф_мин = {:.0f}'.format(i, success_rate, success_min))\n",
    "        res.extend([success_rate, success_min])\n",
    "    k_a_mean = df['Ка'].mean()\n",
    "    nf_mean = df['Nf'].mean()\n",
    "    nf_max = max(df['Nf'])\n",
    "    iter_mean = df['Iter'].mean()\n",
    "    iter_max = max(df['Iter'])\n",
    "    t_mean = df['t'].mean()\n",
    "    t_max = max(df['t'])\n",
    "    std = np.degrees(tma.standart_deviation)\n",
    "    print('Ка = {:.2f}'.format(k_a_mean))\n",
    "    print('Nf = {:.0f}, Nf_max = {:.0f}'.format(nf_mean, nf_max))\n",
    "    print('Iter = {:.0f}, Iter_max = {:.0f}'.format(iter_mean, iter_max))\n",
    "    print('t = {:.4f}, t_max = {:.4f}'.format(t_mean, t_max))\n",
    "\n",
    "    d_df = df.copy()\n",
    "    for i, j in enumerate(df.columns):\n",
    "        try: d_df[j] = df[j].apply(lambda x: precisions_1[i].format(np.float64(x)))\n",
    "        except(TypeError): pass\n",
    "    display(d_df.drop(['СКО X', 'СКО Y', 'СКО VX', 'СКО VY', 'Кб', 'П0_апр', 'Д0_апр', 'К0_апр', 'V0_апр'], axis=1).head())\n",
    "\n",
    "    res.extend([k_a_mean, nf_mean, nf_max, iter_mean, iter_max, t_mean, t_max])\n",
    "    results.append(res)\n",
    "    tests.save_df(df, name='../tests/test1/d10/ЛМ, ' + str(std) + '.xlsx')\n",
    "    print('_________________________________________________')\n",
    "\n",
    "df_lm = pd.DataFrame(results, columns=['Алгоритм', 'В11', 'В12', 'В21', 'В22', 'В31', 'В32', 'В41', 'В42', 'Ка', 'Nf', 'Nf_max', 'Iter', 'Iter_max', 't', 't_max'])\n",
    "df_lm['СКО'] = std_arr\n",
    "results = []"
   ]
  },
  {
   "cell_type": "code",
   "execution_count": 6,
   "metadata": {},
   "outputs": [
    {
     "output_type": "stream",
     "name": "stdout",
     "text": [
      "Алгоритм:: Метод N пеленгов\n",
      "Моделирование 100 результатов закончено за t = 0.6 с\n",
      "СКОп = 0.0, tau = 2\n",
      "Показатели Монте-Карло:\n",
      "Вариант 0: Рэф = 100%, Рэф_мин = 1\n",
      "Вариант 1: Рэф = 100%, Рэф_мин = 1\n",
      "Вариант 2: Рэф = 100%, Рэф_мин = 1\n",
      "Вариант 3: Рэф = 100%, Рэф_мин = 1\n",
      "Ка = 0.00\n",
      "t = 0.0004, t_max = 0.0014\n"
     ]
    },
    {
     "output_type": "display_data",
     "data": {
      "text/plain": "  П0_ист  Д0_ист   К0_ист V0_ист П0_расч Д0_расч  К0_расч V0_расч Птек_ист  \\\n0    0.0  10.000   98.786  11.58     0.0  10.000   98.786   11.58     70.6   \n1    0.0  10.000   75.064  11.64     0.0  10.000   75.064   11.64     53.2   \n2    0.0  10.000   78.479   3.31     0.0  10.000   78.479    3.31     31.8   \n3    0.0  10.000   99.144  11.50     0.0  10.000   99.144   11.50     70.7   \n4    0.0  10.000  174.065   9.57     0.0  10.000  174.065    9.57    149.7   \n\n  Дтек_ист Птек_расч Дтек_расч    Ка         Успех      t  \n0   15.807    70.561     15.81  0.00  [1, 1, 1, 1]  0.001  \n1   18.328    53.176     18.33  0.00  [1, 1, 1, 1]  0.001  \n2    9.618    31.768      9.62  0.00  [1, 1, 1, 1]  0.001  \n3   15.677    70.663     15.68  0.00  [1, 1, 1, 1]  0.000  \n4    4.673   149.704      4.67  0.00  [1, 1, 1, 1]  0.000  ",
      "text/html": "<div>\n<style scoped>\n    .dataframe tbody tr th:only-of-type {\n        vertical-align: middle;\n    }\n\n    .dataframe tbody tr th {\n        vertical-align: top;\n    }\n\n    .dataframe thead th {\n        text-align: right;\n    }\n</style>\n<table border=\"1\" class=\"dataframe\">\n  <thead>\n    <tr style=\"text-align: right;\">\n      <th></th>\n      <th>П0_ист</th>\n      <th>Д0_ист</th>\n      <th>К0_ист</th>\n      <th>V0_ист</th>\n      <th>П0_расч</th>\n      <th>Д0_расч</th>\n      <th>К0_расч</th>\n      <th>V0_расч</th>\n      <th>Птек_ист</th>\n      <th>Дтек_ист</th>\n      <th>Птек_расч</th>\n      <th>Дтек_расч</th>\n      <th>Ка</th>\n      <th>Успех</th>\n      <th>t</th>\n    </tr>\n  </thead>\n  <tbody>\n    <tr>\n      <th>0</th>\n      <td>0.0</td>\n      <td>10.000</td>\n      <td>98.786</td>\n      <td>11.58</td>\n      <td>0.0</td>\n      <td>10.000</td>\n      <td>98.786</td>\n      <td>11.58</td>\n      <td>70.6</td>\n      <td>15.807</td>\n      <td>70.561</td>\n      <td>15.81</td>\n      <td>0.00</td>\n      <td>[1, 1, 1, 1]</td>\n      <td>0.001</td>\n    </tr>\n    <tr>\n      <th>1</th>\n      <td>0.0</td>\n      <td>10.000</td>\n      <td>75.064</td>\n      <td>11.64</td>\n      <td>0.0</td>\n      <td>10.000</td>\n      <td>75.064</td>\n      <td>11.64</td>\n      <td>53.2</td>\n      <td>18.328</td>\n      <td>53.176</td>\n      <td>18.33</td>\n      <td>0.00</td>\n      <td>[1, 1, 1, 1]</td>\n      <td>0.001</td>\n    </tr>\n    <tr>\n      <th>2</th>\n      <td>0.0</td>\n      <td>10.000</td>\n      <td>78.479</td>\n      <td>3.31</td>\n      <td>0.0</td>\n      <td>10.000</td>\n      <td>78.479</td>\n      <td>3.31</td>\n      <td>31.8</td>\n      <td>9.618</td>\n      <td>31.768</td>\n      <td>9.62</td>\n      <td>0.00</td>\n      <td>[1, 1, 1, 1]</td>\n      <td>0.001</td>\n    </tr>\n    <tr>\n      <th>3</th>\n      <td>0.0</td>\n      <td>10.000</td>\n      <td>99.144</td>\n      <td>11.50</td>\n      <td>0.0</td>\n      <td>10.000</td>\n      <td>99.144</td>\n      <td>11.50</td>\n      <td>70.7</td>\n      <td>15.677</td>\n      <td>70.663</td>\n      <td>15.68</td>\n      <td>0.00</td>\n      <td>[1, 1, 1, 1]</td>\n      <td>0.000</td>\n    </tr>\n    <tr>\n      <th>4</th>\n      <td>0.0</td>\n      <td>10.000</td>\n      <td>174.065</td>\n      <td>9.57</td>\n      <td>0.0</td>\n      <td>10.000</td>\n      <td>174.065</td>\n      <td>9.57</td>\n      <td>149.7</td>\n      <td>4.673</td>\n      <td>149.704</td>\n      <td>4.67</td>\n      <td>0.00</td>\n      <td>[1, 1, 1, 1]</td>\n      <td>0.000</td>\n    </tr>\n  </tbody>\n</table>\n</div>"
     },
     "metadata": {}
    },
    {
     "output_type": "stream",
     "name": "stdout",
     "text": [
      "_________________________________________________\n",
      "Алгоритм:: Метод N пеленгов\n",
      "Моделирование 100 результатов закончено за t = 0.6 с\n",
      "СКОп = 0.1, tau = 2\n",
      "Показатели Монте-Карло:\n",
      "Вариант 0: Рэф = 96%, Рэф_мин = 0\n",
      "Вариант 1: Рэф = 100%, Рэф_мин = 1\n",
      "Вариант 2: Рэф = 100%, Рэф_мин = 1\n",
      "Вариант 3: Рэф = 100%, Рэф_мин = 1\n",
      "Ка = 0.01\n",
      "t = 0.0004, t_max = 0.0017\n"
     ]
    },
    {
     "output_type": "display_data",
     "data": {
      "text/plain": "  П0_ист  Д0_ист   К0_ист V0_ист П0_расч Д0_расч  К0_расч V0_расч Птек_ист  \\\n0    0.0  10.000   98.786  11.58   359.8  10.151   98.690   11.91     70.6   \n1    0.0  10.000   75.064  11.64   359.8   9.999   74.867   11.77     53.2   \n2    0.0  10.000   78.479   3.31     0.0   9.995   79.076    3.27     31.8   \n3    0.0  10.000   99.144  11.50   359.8  10.118   98.991   11.77     70.7   \n4    0.0  10.000  174.065   9.57   360.0   9.999  174.061    9.56    149.7   \n\n  Дтек_ист Птек_расч Дтек_расч    Ка         Успех      t  \n0   15.807    70.597     16.18  0.01  [1, 1, 1, 1]  0.000  \n1   18.328    53.162     18.47  0.01  [1, 1, 1, 1]  0.000  \n2    9.618    31.763      9.55  0.01  [1, 1, 1, 1]  0.000  \n3   15.677    70.670     15.99  0.01  [1, 1, 1, 1]  0.000  \n4    4.673   149.699      4.67  0.01  [1, 1, 1, 1]  0.000  ",
      "text/html": "<div>\n<style scoped>\n    .dataframe tbody tr th:only-of-type {\n        vertical-align: middle;\n    }\n\n    .dataframe tbody tr th {\n        vertical-align: top;\n    }\n\n    .dataframe thead th {\n        text-align: right;\n    }\n</style>\n<table border=\"1\" class=\"dataframe\">\n  <thead>\n    <tr style=\"text-align: right;\">\n      <th></th>\n      <th>П0_ист</th>\n      <th>Д0_ист</th>\n      <th>К0_ист</th>\n      <th>V0_ист</th>\n      <th>П0_расч</th>\n      <th>Д0_расч</th>\n      <th>К0_расч</th>\n      <th>V0_расч</th>\n      <th>Птек_ист</th>\n      <th>Дтек_ист</th>\n      <th>Птек_расч</th>\n      <th>Дтек_расч</th>\n      <th>Ка</th>\n      <th>Успех</th>\n      <th>t</th>\n    </tr>\n  </thead>\n  <tbody>\n    <tr>\n      <th>0</th>\n      <td>0.0</td>\n      <td>10.000</td>\n      <td>98.786</td>\n      <td>11.58</td>\n      <td>359.8</td>\n      <td>10.151</td>\n      <td>98.690</td>\n      <td>11.91</td>\n      <td>70.6</td>\n      <td>15.807</td>\n      <td>70.597</td>\n      <td>16.18</td>\n      <td>0.01</td>\n      <td>[1, 1, 1, 1]</td>\n      <td>0.000</td>\n    </tr>\n    <tr>\n      <th>1</th>\n      <td>0.0</td>\n      <td>10.000</td>\n      <td>75.064</td>\n      <td>11.64</td>\n      <td>359.8</td>\n      <td>9.999</td>\n      <td>74.867</td>\n      <td>11.77</td>\n      <td>53.2</td>\n      <td>18.328</td>\n      <td>53.162</td>\n      <td>18.47</td>\n      <td>0.01</td>\n      <td>[1, 1, 1, 1]</td>\n      <td>0.000</td>\n    </tr>\n    <tr>\n      <th>2</th>\n      <td>0.0</td>\n      <td>10.000</td>\n      <td>78.479</td>\n      <td>3.31</td>\n      <td>0.0</td>\n      <td>9.995</td>\n      <td>79.076</td>\n      <td>3.27</td>\n      <td>31.8</td>\n      <td>9.618</td>\n      <td>31.763</td>\n      <td>9.55</td>\n      <td>0.01</td>\n      <td>[1, 1, 1, 1]</td>\n      <td>0.000</td>\n    </tr>\n    <tr>\n      <th>3</th>\n      <td>0.0</td>\n      <td>10.000</td>\n      <td>99.144</td>\n      <td>11.50</td>\n      <td>359.8</td>\n      <td>10.118</td>\n      <td>98.991</td>\n      <td>11.77</td>\n      <td>70.7</td>\n      <td>15.677</td>\n      <td>70.670</td>\n      <td>15.99</td>\n      <td>0.01</td>\n      <td>[1, 1, 1, 1]</td>\n      <td>0.000</td>\n    </tr>\n    <tr>\n      <th>4</th>\n      <td>0.0</td>\n      <td>10.000</td>\n      <td>174.065</td>\n      <td>9.57</td>\n      <td>360.0</td>\n      <td>9.999</td>\n      <td>174.061</td>\n      <td>9.56</td>\n      <td>149.7</td>\n      <td>4.673</td>\n      <td>149.699</td>\n      <td>4.67</td>\n      <td>0.01</td>\n      <td>[1, 1, 1, 1]</td>\n      <td>0.000</td>\n    </tr>\n  </tbody>\n</table>\n</div>"
     },
     "metadata": {}
    },
    {
     "output_type": "stream",
     "name": "stdout",
     "text": [
      "_________________________________________________\n",
      "Алгоритм:: Метод N пеленгов\n",
      "Моделирование 100 результатов закончено за t = 0.5 с\n",
      "СКОп = 0.2, tau = 2\n",
      "Показатели Монте-Карло:\n",
      "Вариант 0: Рэф = 82%, Рэф_мин = 0\n",
      "Вариант 1: Рэф = 96%, Рэф_мин = 0\n",
      "Вариант 2: Рэф = 97%, Рэф_мин = 0\n",
      "Вариант 3: Рэф = 99%, Рэф_мин = 0\n",
      "Ка = 0.04\n",
      "t = 0.0004, t_max = 0.0015\n"
     ]
    },
    {
     "output_type": "display_data",
     "data": {
      "text/plain": "  П0_ист  Д0_ист   К0_ист V0_ист П0_расч Д0_расч  К0_расч V0_расч Птек_ист  \\\n0    0.0  10.000   98.786  11.58   359.6  10.141   98.480   11.99     70.6   \n1    0.0  10.000   75.064  11.64   359.7   9.893   74.562   11.74     53.2   \n2    0.0  10.000   78.479   3.31     0.1   9.964   79.660    3.21     31.8   \n3    0.0  10.000   99.144  11.50   359.6  10.060   98.713   11.78     70.7   \n4    0.0  10.000  174.065   9.57   360.0   9.973  174.082    9.53    149.7   \n\n  Дтек_ист Птек_расч Дтек_расч    Ка         Успех      t  \n0   15.807    70.593     16.26  0.05  [1, 1, 1, 1]  0.000  \n1   18.328    53.116     18.37  0.05  [1, 1, 1, 1]  0.002  \n2    9.618    31.738      9.45  0.04  [1, 1, 1, 1]  0.000  \n3   15.677    70.633     15.99  0.06  [1, 1, 1, 1]  0.000  \n4    4.673   149.714      4.66  0.04  [1, 1, 1, 1]  0.000  ",
      "text/html": "<div>\n<style scoped>\n    .dataframe tbody tr th:only-of-type {\n        vertical-align: middle;\n    }\n\n    .dataframe tbody tr th {\n        vertical-align: top;\n    }\n\n    .dataframe thead th {\n        text-align: right;\n    }\n</style>\n<table border=\"1\" class=\"dataframe\">\n  <thead>\n    <tr style=\"text-align: right;\">\n      <th></th>\n      <th>П0_ист</th>\n      <th>Д0_ист</th>\n      <th>К0_ист</th>\n      <th>V0_ист</th>\n      <th>П0_расч</th>\n      <th>Д0_расч</th>\n      <th>К0_расч</th>\n      <th>V0_расч</th>\n      <th>Птек_ист</th>\n      <th>Дтек_ист</th>\n      <th>Птек_расч</th>\n      <th>Дтек_расч</th>\n      <th>Ка</th>\n      <th>Успех</th>\n      <th>t</th>\n    </tr>\n  </thead>\n  <tbody>\n    <tr>\n      <th>0</th>\n      <td>0.0</td>\n      <td>10.000</td>\n      <td>98.786</td>\n      <td>11.58</td>\n      <td>359.6</td>\n      <td>10.141</td>\n      <td>98.480</td>\n      <td>11.99</td>\n      <td>70.6</td>\n      <td>15.807</td>\n      <td>70.593</td>\n      <td>16.26</td>\n      <td>0.05</td>\n      <td>[1, 1, 1, 1]</td>\n      <td>0.000</td>\n    </tr>\n    <tr>\n      <th>1</th>\n      <td>0.0</td>\n      <td>10.000</td>\n      <td>75.064</td>\n      <td>11.64</td>\n      <td>359.7</td>\n      <td>9.893</td>\n      <td>74.562</td>\n      <td>11.74</td>\n      <td>53.2</td>\n      <td>18.328</td>\n      <td>53.116</td>\n      <td>18.37</td>\n      <td>0.05</td>\n      <td>[1, 1, 1, 1]</td>\n      <td>0.002</td>\n    </tr>\n    <tr>\n      <th>2</th>\n      <td>0.0</td>\n      <td>10.000</td>\n      <td>78.479</td>\n      <td>3.31</td>\n      <td>0.1</td>\n      <td>9.964</td>\n      <td>79.660</td>\n      <td>3.21</td>\n      <td>31.8</td>\n      <td>9.618</td>\n      <td>31.738</td>\n      <td>9.45</td>\n      <td>0.04</td>\n      <td>[1, 1, 1, 1]</td>\n      <td>0.000</td>\n    </tr>\n    <tr>\n      <th>3</th>\n      <td>0.0</td>\n      <td>10.000</td>\n      <td>99.144</td>\n      <td>11.50</td>\n      <td>359.6</td>\n      <td>10.060</td>\n      <td>98.713</td>\n      <td>11.78</td>\n      <td>70.7</td>\n      <td>15.677</td>\n      <td>70.633</td>\n      <td>15.99</td>\n      <td>0.06</td>\n      <td>[1, 1, 1, 1]</td>\n      <td>0.000</td>\n    </tr>\n    <tr>\n      <th>4</th>\n      <td>0.0</td>\n      <td>10.000</td>\n      <td>174.065</td>\n      <td>9.57</td>\n      <td>360.0</td>\n      <td>9.973</td>\n      <td>174.082</td>\n      <td>9.53</td>\n      <td>149.7</td>\n      <td>4.673</td>\n      <td>149.714</td>\n      <td>4.66</td>\n      <td>0.04</td>\n      <td>[1, 1, 1, 1]</td>\n      <td>0.000</td>\n    </tr>\n  </tbody>\n</table>\n</div>"
     },
     "metadata": {}
    },
    {
     "output_type": "stream",
     "name": "stdout",
     "text": [
      "_________________________________________________\n",
      "Алгоритм:: Метод N пеленгов\n",
      "Моделирование 100 результатов закончено за t = 0.5 с\n",
      "СКОп = 0.3, tau = 2\n",
      "Показатели Монте-Карло:\n",
      "Вариант 0: Рэф = 57%, Рэф_мин = 0\n",
      "Вариант 1: Рэф = 84%, Рэф_мин = 0\n",
      "Вариант 2: Рэф = 84%, Рэф_мин = 0\n",
      "Вариант 3: Рэф = 94%, Рэф_мин = 0\n",
      "Ка = 0.10\n",
      "t = 0.0004, t_max = 0.0012\n"
     ]
    },
    {
     "output_type": "display_data",
     "data": {
      "text/plain": "  П0_ист  Д0_ист   К0_ист V0_ист П0_расч Д0_расч  К0_расч V0_расч Птек_ист  \\\n0    0.0  10.000   98.786  11.58   359.5   9.959   98.144   11.81     70.6   \n1    0.0  10.000   75.064  11.64   359.5   9.683   74.144   11.55     53.2   \n2    0.0  10.000   78.479   3.31     0.1   9.910   80.237    3.13     31.8   \n3    0.0  10.000   99.144  11.50   359.5   9.820   98.297   11.51     70.7   \n4    0.0  10.000  174.065   9.57   360.0   9.924  174.126    9.47    149.7   \n\n  Дтек_ист Птек_расч Дтек_расч    Ка         Успех      t  \n0   15.807    70.546     16.02  0.12  [1, 1, 1, 1]  0.001  \n1   18.328    53.035     18.05  0.12  [1, 1, 1, 1]  0.000  \n2    9.618    31.692      9.32  0.10  [0, 1, 1, 1]  0.000  \n3   15.677    70.550     15.64  0.14  [1, 1, 1, 1]  0.001  \n4    4.673   149.750      4.63  0.09  [1, 1, 1, 1]  0.000  ",
      "text/html": "<div>\n<style scoped>\n    .dataframe tbody tr th:only-of-type {\n        vertical-align: middle;\n    }\n\n    .dataframe tbody tr th {\n        vertical-align: top;\n    }\n\n    .dataframe thead th {\n        text-align: right;\n    }\n</style>\n<table border=\"1\" class=\"dataframe\">\n  <thead>\n    <tr style=\"text-align: right;\">\n      <th></th>\n      <th>П0_ист</th>\n      <th>Д0_ист</th>\n      <th>К0_ист</th>\n      <th>V0_ист</th>\n      <th>П0_расч</th>\n      <th>Д0_расч</th>\n      <th>К0_расч</th>\n      <th>V0_расч</th>\n      <th>Птек_ист</th>\n      <th>Дтек_ист</th>\n      <th>Птек_расч</th>\n      <th>Дтек_расч</th>\n      <th>Ка</th>\n      <th>Успех</th>\n      <th>t</th>\n    </tr>\n  </thead>\n  <tbody>\n    <tr>\n      <th>0</th>\n      <td>0.0</td>\n      <td>10.000</td>\n      <td>98.786</td>\n      <td>11.58</td>\n      <td>359.5</td>\n      <td>9.959</td>\n      <td>98.144</td>\n      <td>11.81</td>\n      <td>70.6</td>\n      <td>15.807</td>\n      <td>70.546</td>\n      <td>16.02</td>\n      <td>0.12</td>\n      <td>[1, 1, 1, 1]</td>\n      <td>0.001</td>\n    </tr>\n    <tr>\n      <th>1</th>\n      <td>0.0</td>\n      <td>10.000</td>\n      <td>75.064</td>\n      <td>11.64</td>\n      <td>359.5</td>\n      <td>9.683</td>\n      <td>74.144</td>\n      <td>11.55</td>\n      <td>53.2</td>\n      <td>18.328</td>\n      <td>53.035</td>\n      <td>18.05</td>\n      <td>0.12</td>\n      <td>[1, 1, 1, 1]</td>\n      <td>0.000</td>\n    </tr>\n    <tr>\n      <th>2</th>\n      <td>0.0</td>\n      <td>10.000</td>\n      <td>78.479</td>\n      <td>3.31</td>\n      <td>0.1</td>\n      <td>9.910</td>\n      <td>80.237</td>\n      <td>3.13</td>\n      <td>31.8</td>\n      <td>9.618</td>\n      <td>31.692</td>\n      <td>9.32</td>\n      <td>0.10</td>\n      <td>[0, 1, 1, 1]</td>\n      <td>0.000</td>\n    </tr>\n    <tr>\n      <th>3</th>\n      <td>0.0</td>\n      <td>10.000</td>\n      <td>99.144</td>\n      <td>11.50</td>\n      <td>359.5</td>\n      <td>9.820</td>\n      <td>98.297</td>\n      <td>11.51</td>\n      <td>70.7</td>\n      <td>15.677</td>\n      <td>70.550</td>\n      <td>15.64</td>\n      <td>0.14</td>\n      <td>[1, 1, 1, 1]</td>\n      <td>0.001</td>\n    </tr>\n    <tr>\n      <th>4</th>\n      <td>0.0</td>\n      <td>10.000</td>\n      <td>174.065</td>\n      <td>9.57</td>\n      <td>360.0</td>\n      <td>9.924</td>\n      <td>174.126</td>\n      <td>9.47</td>\n      <td>149.7</td>\n      <td>4.673</td>\n      <td>149.750</td>\n      <td>4.63</td>\n      <td>0.09</td>\n      <td>[1, 1, 1, 1]</td>\n      <td>0.000</td>\n    </tr>\n  </tbody>\n</table>\n</div>"
     },
     "metadata": {}
    },
    {
     "output_type": "stream",
     "name": "stdout",
     "text": [
      "_________________________________________________\n",
      "Алгоритм:: Метод N пеленгов\n",
      "Моделирование 100 результатов закончено за t = 0.5 с\n",
      "СКОп = 0.5, tau = 2\n",
      "Показатели Монте-Карло:\n",
      "Вариант 0: Рэф = 9%, Рэф_мин = 0\n",
      "Вариант 1: Рэф = 43%, Рэф_мин = 0\n",
      "Вариант 2: Рэф = 44%, Рэф_мин = 0\n",
      "Вариант 3: Рэф = 69%, Рэф_мин = 0\n",
      "Ка = 0.31\n",
      "t = 0.0004, t_max = 0.0013\n"
     ]
    },
    {
     "output_type": "display_data",
     "data": {
      "text/plain": "  П0_ист  Д0_ист   К0_ист V0_ист П0_расч Д0_расч  К0_расч V0_расч Птек_ист  \\\n0    0.0  10.000   98.786  11.58   359.1   9.110   97.028   10.69     70.6   \n1    0.0  10.000   75.064  11.64   359.2   9.003   72.950   10.76     53.2   \n2    0.0  10.000   78.479   3.31     0.2   9.734   81.388    2.94     31.8   \n3    0.0  10.000   99.144  11.50   359.1   8.864   96.977   10.24     70.7   \n4    0.0  10.000  174.065   9.57   360.0   9.759  174.290    9.26    149.7   \n\n  Дтек_ист Птек_расч Дтек_расч    Ка         Успех      t  \n0   15.807    70.309     14.61  0.38  [0, 1, 1, 1]  0.000  \n1   18.328    52.766     16.81  0.36  [0, 1, 1, 1]  0.000  \n2    9.618    31.535      8.97  0.27  [0, 0, 0, 1]  0.000  \n3   15.677    70.228     14.06  0.46  [0, 0, 0, 1]  0.000  \n4    4.673   149.886      4.53  0.25  [1, 1, 1, 1]  0.000  ",
      "text/html": "<div>\n<style scoped>\n    .dataframe tbody tr th:only-of-type {\n        vertical-align: middle;\n    }\n\n    .dataframe tbody tr th {\n        vertical-align: top;\n    }\n\n    .dataframe thead th {\n        text-align: right;\n    }\n</style>\n<table border=\"1\" class=\"dataframe\">\n  <thead>\n    <tr style=\"text-align: right;\">\n      <th></th>\n      <th>П0_ист</th>\n      <th>Д0_ист</th>\n      <th>К0_ист</th>\n      <th>V0_ист</th>\n      <th>П0_расч</th>\n      <th>Д0_расч</th>\n      <th>К0_расч</th>\n      <th>V0_расч</th>\n      <th>Птек_ист</th>\n      <th>Дтек_ист</th>\n      <th>Птек_расч</th>\n      <th>Дтек_расч</th>\n      <th>Ка</th>\n      <th>Успех</th>\n      <th>t</th>\n    </tr>\n  </thead>\n  <tbody>\n    <tr>\n      <th>0</th>\n      <td>0.0</td>\n      <td>10.000</td>\n      <td>98.786</td>\n      <td>11.58</td>\n      <td>359.1</td>\n      <td>9.110</td>\n      <td>97.028</td>\n      <td>10.69</td>\n      <td>70.6</td>\n      <td>15.807</td>\n      <td>70.309</td>\n      <td>14.61</td>\n      <td>0.38</td>\n      <td>[0, 1, 1, 1]</td>\n      <td>0.000</td>\n    </tr>\n    <tr>\n      <th>1</th>\n      <td>0.0</td>\n      <td>10.000</td>\n      <td>75.064</td>\n      <td>11.64</td>\n      <td>359.2</td>\n      <td>9.003</td>\n      <td>72.950</td>\n      <td>10.76</td>\n      <td>53.2</td>\n      <td>18.328</td>\n      <td>52.766</td>\n      <td>16.81</td>\n      <td>0.36</td>\n      <td>[0, 1, 1, 1]</td>\n      <td>0.000</td>\n    </tr>\n    <tr>\n      <th>2</th>\n      <td>0.0</td>\n      <td>10.000</td>\n      <td>78.479</td>\n      <td>3.31</td>\n      <td>0.2</td>\n      <td>9.734</td>\n      <td>81.388</td>\n      <td>2.94</td>\n      <td>31.8</td>\n      <td>9.618</td>\n      <td>31.535</td>\n      <td>8.97</td>\n      <td>0.27</td>\n      <td>[0, 0, 0, 1]</td>\n      <td>0.000</td>\n    </tr>\n    <tr>\n      <th>3</th>\n      <td>0.0</td>\n      <td>10.000</td>\n      <td>99.144</td>\n      <td>11.50</td>\n      <td>359.1</td>\n      <td>8.864</td>\n      <td>96.977</td>\n      <td>10.24</td>\n      <td>70.7</td>\n      <td>15.677</td>\n      <td>70.228</td>\n      <td>14.06</td>\n      <td>0.46</td>\n      <td>[0, 0, 0, 1]</td>\n      <td>0.000</td>\n    </tr>\n    <tr>\n      <th>4</th>\n      <td>0.0</td>\n      <td>10.000</td>\n      <td>174.065</td>\n      <td>9.57</td>\n      <td>360.0</td>\n      <td>9.759</td>\n      <td>174.290</td>\n      <td>9.26</td>\n      <td>149.7</td>\n      <td>4.673</td>\n      <td>149.886</td>\n      <td>4.53</td>\n      <td>0.25</td>\n      <td>[1, 1, 1, 1]</td>\n      <td>0.000</td>\n    </tr>\n  </tbody>\n</table>\n</div>"
     },
     "metadata": {}
    },
    {
     "output_type": "stream",
     "name": "stdout",
     "text": [
      "_________________________________________________\n",
      "Алгоритм:: Метод N пеленгов\n",
      "Моделирование 100 результатов закончено за t = 0.5 с\n",
      "СКОп = 1.0, tau = 2\n",
      "Показатели Монте-Карло:\n",
      "Вариант 0: Рэф = 0%, Рэф_мин = 0\n",
      "Вариант 1: Рэф = 2%, Рэф_мин = 0\n",
      "Вариант 2: Рэф = 2%, Рэф_мин = 0\n",
      "Вариант 3: Рэф = 4%, Рэф_мин = 0\n",
      "Ка = 1.74\n",
      "t = 0.0003, t_max = 0.0011\n"
     ]
    },
    {
     "output_type": "display_data",
     "data": {
      "text/plain": "  П0_ист  Д0_ист   К0_ист V0_ист П0_расч Д0_расч  К0_расч V0_расч Птек_ист  \\\n0    0.0  10.000   98.786  11.58   358.2   5.751   89.933    5.83     70.6   \n1    0.0  10.000   75.064  11.64   358.4   6.611   67.437    7.56     53.2   \n2    0.0  10.000   78.479   3.31     0.4   8.991   84.520    2.27     31.8   \n3    0.0  10.000   99.144  11.50   358.2   5.511   89.020    5.42     70.7   \n4    0.0  10.000  174.065   9.57   359.9   9.014  175.156    8.33    149.7   \n\n  Дтек_ист Птек_расч Дтек_расч    Ка         Успех      t  \n0   15.807    68.542      8.58  3.09  [0, 0, 0, 0]  0.000  \n1   18.328    51.393     11.97  2.17  [0, 0, 0, 0]  0.000  \n2    9.618    30.747      7.72  1.22  [0, 0, 0, 0]  0.001  \n3   15.677    68.188      8.08  3.68  [0, 0, 0, 0]  0.001  \n4    4.673   150.621      4.09  1.12  [0, 0, 0, 1]  0.000  ",
      "text/html": "<div>\n<style scoped>\n    .dataframe tbody tr th:only-of-type {\n        vertical-align: middle;\n    }\n\n    .dataframe tbody tr th {\n        vertical-align: top;\n    }\n\n    .dataframe thead th {\n        text-align: right;\n    }\n</style>\n<table border=\"1\" class=\"dataframe\">\n  <thead>\n    <tr style=\"text-align: right;\">\n      <th></th>\n      <th>П0_ист</th>\n      <th>Д0_ист</th>\n      <th>К0_ист</th>\n      <th>V0_ист</th>\n      <th>П0_расч</th>\n      <th>Д0_расч</th>\n      <th>К0_расч</th>\n      <th>V0_расч</th>\n      <th>Птек_ист</th>\n      <th>Дтек_ист</th>\n      <th>Птек_расч</th>\n      <th>Дтек_расч</th>\n      <th>Ка</th>\n      <th>Успех</th>\n      <th>t</th>\n    </tr>\n  </thead>\n  <tbody>\n    <tr>\n      <th>0</th>\n      <td>0.0</td>\n      <td>10.000</td>\n      <td>98.786</td>\n      <td>11.58</td>\n      <td>358.2</td>\n      <td>5.751</td>\n      <td>89.933</td>\n      <td>5.83</td>\n      <td>70.6</td>\n      <td>15.807</td>\n      <td>68.542</td>\n      <td>8.58</td>\n      <td>3.09</td>\n      <td>[0, 0, 0, 0]</td>\n      <td>0.000</td>\n    </tr>\n    <tr>\n      <th>1</th>\n      <td>0.0</td>\n      <td>10.000</td>\n      <td>75.064</td>\n      <td>11.64</td>\n      <td>358.4</td>\n      <td>6.611</td>\n      <td>67.437</td>\n      <td>7.56</td>\n      <td>53.2</td>\n      <td>18.328</td>\n      <td>51.393</td>\n      <td>11.97</td>\n      <td>2.17</td>\n      <td>[0, 0, 0, 0]</td>\n      <td>0.000</td>\n    </tr>\n    <tr>\n      <th>2</th>\n      <td>0.0</td>\n      <td>10.000</td>\n      <td>78.479</td>\n      <td>3.31</td>\n      <td>0.4</td>\n      <td>8.991</td>\n      <td>84.520</td>\n      <td>2.27</td>\n      <td>31.8</td>\n      <td>9.618</td>\n      <td>30.747</td>\n      <td>7.72</td>\n      <td>1.22</td>\n      <td>[0, 0, 0, 0]</td>\n      <td>0.001</td>\n    </tr>\n    <tr>\n      <th>3</th>\n      <td>0.0</td>\n      <td>10.000</td>\n      <td>99.144</td>\n      <td>11.50</td>\n      <td>358.2</td>\n      <td>5.511</td>\n      <td>89.020</td>\n      <td>5.42</td>\n      <td>70.7</td>\n      <td>15.677</td>\n      <td>68.188</td>\n      <td>8.08</td>\n      <td>3.68</td>\n      <td>[0, 0, 0, 0]</td>\n      <td>0.001</td>\n    </tr>\n    <tr>\n      <th>4</th>\n      <td>0.0</td>\n      <td>10.000</td>\n      <td>174.065</td>\n      <td>9.57</td>\n      <td>359.9</td>\n      <td>9.014</td>\n      <td>175.156</td>\n      <td>8.33</td>\n      <td>149.7</td>\n      <td>4.673</td>\n      <td>150.621</td>\n      <td>4.09</td>\n      <td>1.12</td>\n      <td>[0, 0, 0, 1]</td>\n      <td>0.000</td>\n    </tr>\n  </tbody>\n</table>\n</div>"
     },
     "metadata": {}
    },
    {
     "output_type": "stream",
     "name": "stdout",
     "text": [
      "_________________________________________________\n"
     ]
    }
   ],
   "source": [
    "for std in std_arr:\n",
    "\n",
    "    tma = TMA(observer, std=np.radians(std), tau=2)\n",
    "    algorithm_name = 'Метод N пеленгов'\n",
    "    res = [algorithm_name]\n",
    "    dict_results = tma.swarm(n=100, algorithm_name=algorithm_name, target_func=target_func, p0=p0, seeded=True, verbose=True)\n",
    "    df = tests.get_df(dict_results).dropna(axis=1)\n",
    "    tma.print_verbose()\n",
    "\n",
    "    print('Показатели Монте-Карло:')\n",
    "    for i in range(4):\n",
    "        success = df['Успех'].apply(lambda x: x[i])\n",
    "        success_rate = 100 * success.mean()\n",
    "        success_min = min(success)\n",
    "        print('Вариант {}: Рэф = {:.0f}%, Рэф_мин = {:.0f}'.format(i, success_rate, success_min))\n",
    "        res.extend([success_rate, success_min])\n",
    "    k_a_mean = df['Ка'].mean()\n",
    "    t_mean = df['t'].mean()\n",
    "    t_max = max(df['t'])\n",
    "    std = np.degrees(tma.standart_deviation)\n",
    "    print('Ка = {:.2f}'.format(k_a_mean))\n",
    "    print('t = {:.4f}, t_max = {:.4f}'.format(t_mean, t_max))\n",
    "    \n",
    "    d_df = df.copy()\n",
    "    for i, j in enumerate(df.columns):\n",
    "        try: d_df[j] = df[j].apply(lambda x: precisions_1[i].format(np.float64(x)))\n",
    "        except(TypeError): pass\n",
    "    display(d_df.drop(['Кб'], axis=1).head())\n",
    "\n",
    "    res.extend([k_a_mean, t_mean, t_max])\n",
    "    results.append(res)\n",
    "    tests.save_df(df, name='../tests/test1/d10/N, ' + str(np.degrees(tma.standart_deviation)) + '.xlsx')\n",
    "    print('_________________________________________________')\n",
    "\n",
    "df_n = pd.DataFrame(results, columns=['Алгоритм', 'В11', 'В12', 'В21', 'В22', 'В31', 'В32', 'В41', 'В42', 'Ка', 't', 't_max'])\n",
    "df_n['СКО'] = std_arr"
   ]
  },
  {
   "cell_type": "code",
   "execution_count": 7,
   "metadata": {},
   "outputs": [
    {
     "output_type": "stream",
     "name": "stdout",
     "text": [
      "Сводная таблица:\n"
     ]
    },
    {
     "output_type": "execute_result",
     "data": {
      "text/plain": [
       "    СКО          Алгоритм  В11 В12  В21 В22  В31 В32  В41 В42    Ка   Nf  \\\n",
       "0   0.0            ММП v2  100   1  100   1  100   1  100   1  0.00   15   \n",
       "1   0.0  Метод N пеленгов  100   1  100   1  100   1  100   1  0.00  nan   \n",
       "2   0.1            ММП v2  100   1  100   1  100   1  100   1  0.01   15   \n",
       "3   0.1  Метод N пеленгов   96   0  100   1  100   1  100   1  0.01  nan   \n",
       "4   0.2            ММП v2  100   1  100   1  100   1  100   1  0.04   15   \n",
       "5   0.2  Метод N пеленгов   82   0   96   0   97   0   99   0  0.04  nan   \n",
       "6   0.3            ММП v2  100   1  100   1  100   1  100   1  0.09   15   \n",
       "7   0.3  Метод N пеленгов   57   0   84   0   84   0   94   0  0.10  nan   \n",
       "8   0.5            ММП v2   95   0  100   1  100   1  100   1  0.25   15   \n",
       "9   0.5  Метод N пеленгов    9   0   43   0   44   0   69   0  0.31  nan   \n",
       "10  1.0            ММП v2   75   0   95   0   96   0  100   1  0.99   15   \n",
       "11  1.0  Метод N пеленгов    0   0    2   0    2   0    4   0  1.74  nan   \n",
       "\n",
       "   Nf_max Iter Iter_max       t   t_max  \n",
       "0      27   12       21  0.0059  0.0237  \n",
       "1     nan  nan      nan  0.0004  0.0014  \n",
       "2      27   12       21  0.0039  0.0092  \n",
       "3     nan  nan      nan  0.0004  0.0017  \n",
       "4      27   12       21  0.0041  0.0118  \n",
       "5     nan  nan      nan  0.0004  0.0015  \n",
       "6      27   12       21  0.0040  0.0076  \n",
       "7     nan  nan      nan  0.0004  0.0012  \n",
       "8      27   12       21  0.0043  0.0131  \n",
       "9     nan  nan      nan  0.0004  0.0013  \n",
       "10     27   12       21  0.0042  0.0125  \n",
       "11    nan  nan      nan  0.0003  0.0011  "
      ],
      "text/html": "<div>\n<style scoped>\n    .dataframe tbody tr th:only-of-type {\n        vertical-align: middle;\n    }\n\n    .dataframe tbody tr th {\n        vertical-align: top;\n    }\n\n    .dataframe thead th {\n        text-align: right;\n    }\n</style>\n<table border=\"1\" class=\"dataframe\">\n  <thead>\n    <tr style=\"text-align: right;\">\n      <th></th>\n      <th>СКО</th>\n      <th>Алгоритм</th>\n      <th>В11</th>\n      <th>В12</th>\n      <th>В21</th>\n      <th>В22</th>\n      <th>В31</th>\n      <th>В32</th>\n      <th>В41</th>\n      <th>В42</th>\n      <th>Ка</th>\n      <th>Nf</th>\n      <th>Nf_max</th>\n      <th>Iter</th>\n      <th>Iter_max</th>\n      <th>t</th>\n      <th>t_max</th>\n    </tr>\n  </thead>\n  <tbody>\n    <tr>\n      <th>0</th>\n      <td>0.0</td>\n      <td>ММП v2</td>\n      <td>100</td>\n      <td>1</td>\n      <td>100</td>\n      <td>1</td>\n      <td>100</td>\n      <td>1</td>\n      <td>100</td>\n      <td>1</td>\n      <td>0.00</td>\n      <td>15</td>\n      <td>27</td>\n      <td>12</td>\n      <td>21</td>\n      <td>0.0059</td>\n      <td>0.0237</td>\n    </tr>\n    <tr>\n      <th>1</th>\n      <td>0.0</td>\n      <td>Метод N пеленгов</td>\n      <td>100</td>\n      <td>1</td>\n      <td>100</td>\n      <td>1</td>\n      <td>100</td>\n      <td>1</td>\n      <td>100</td>\n      <td>1</td>\n      <td>0.00</td>\n      <td>nan</td>\n      <td>nan</td>\n      <td>nan</td>\n      <td>nan</td>\n      <td>0.0004</td>\n      <td>0.0014</td>\n    </tr>\n    <tr>\n      <th>2</th>\n      <td>0.1</td>\n      <td>ММП v2</td>\n      <td>100</td>\n      <td>1</td>\n      <td>100</td>\n      <td>1</td>\n      <td>100</td>\n      <td>1</td>\n      <td>100</td>\n      <td>1</td>\n      <td>0.01</td>\n      <td>15</td>\n      <td>27</td>\n      <td>12</td>\n      <td>21</td>\n      <td>0.0039</td>\n      <td>0.0092</td>\n    </tr>\n    <tr>\n      <th>3</th>\n      <td>0.1</td>\n      <td>Метод N пеленгов</td>\n      <td>96</td>\n      <td>0</td>\n      <td>100</td>\n      <td>1</td>\n      <td>100</td>\n      <td>1</td>\n      <td>100</td>\n      <td>1</td>\n      <td>0.01</td>\n      <td>nan</td>\n      <td>nan</td>\n      <td>nan</td>\n      <td>nan</td>\n      <td>0.0004</td>\n      <td>0.0017</td>\n    </tr>\n    <tr>\n      <th>4</th>\n      <td>0.2</td>\n      <td>ММП v2</td>\n      <td>100</td>\n      <td>1</td>\n      <td>100</td>\n      <td>1</td>\n      <td>100</td>\n      <td>1</td>\n      <td>100</td>\n      <td>1</td>\n      <td>0.04</td>\n      <td>15</td>\n      <td>27</td>\n      <td>12</td>\n      <td>21</td>\n      <td>0.0041</td>\n      <td>0.0118</td>\n    </tr>\n    <tr>\n      <th>5</th>\n      <td>0.2</td>\n      <td>Метод N пеленгов</td>\n      <td>82</td>\n      <td>0</td>\n      <td>96</td>\n      <td>0</td>\n      <td>97</td>\n      <td>0</td>\n      <td>99</td>\n      <td>0</td>\n      <td>0.04</td>\n      <td>nan</td>\n      <td>nan</td>\n      <td>nan</td>\n      <td>nan</td>\n      <td>0.0004</td>\n      <td>0.0015</td>\n    </tr>\n    <tr>\n      <th>6</th>\n      <td>0.3</td>\n      <td>ММП v2</td>\n      <td>100</td>\n      <td>1</td>\n      <td>100</td>\n      <td>1</td>\n      <td>100</td>\n      <td>1</td>\n      <td>100</td>\n      <td>1</td>\n      <td>0.09</td>\n      <td>15</td>\n      <td>27</td>\n      <td>12</td>\n      <td>21</td>\n      <td>0.0040</td>\n      <td>0.0076</td>\n    </tr>\n    <tr>\n      <th>7</th>\n      <td>0.3</td>\n      <td>Метод N пеленгов</td>\n      <td>57</td>\n      <td>0</td>\n      <td>84</td>\n      <td>0</td>\n      <td>84</td>\n      <td>0</td>\n      <td>94</td>\n      <td>0</td>\n      <td>0.10</td>\n      <td>nan</td>\n      <td>nan</td>\n      <td>nan</td>\n      <td>nan</td>\n      <td>0.0004</td>\n      <td>0.0012</td>\n    </tr>\n    <tr>\n      <th>8</th>\n      <td>0.5</td>\n      <td>ММП v2</td>\n      <td>95</td>\n      <td>0</td>\n      <td>100</td>\n      <td>1</td>\n      <td>100</td>\n      <td>1</td>\n      <td>100</td>\n      <td>1</td>\n      <td>0.25</td>\n      <td>15</td>\n      <td>27</td>\n      <td>12</td>\n      <td>21</td>\n      <td>0.0043</td>\n      <td>0.0131</td>\n    </tr>\n    <tr>\n      <th>9</th>\n      <td>0.5</td>\n      <td>Метод N пеленгов</td>\n      <td>9</td>\n      <td>0</td>\n      <td>43</td>\n      <td>0</td>\n      <td>44</td>\n      <td>0</td>\n      <td>69</td>\n      <td>0</td>\n      <td>0.31</td>\n      <td>nan</td>\n      <td>nan</td>\n      <td>nan</td>\n      <td>nan</td>\n      <td>0.0004</td>\n      <td>0.0013</td>\n    </tr>\n    <tr>\n      <th>10</th>\n      <td>1.0</td>\n      <td>ММП v2</td>\n      <td>75</td>\n      <td>0</td>\n      <td>95</td>\n      <td>0</td>\n      <td>96</td>\n      <td>0</td>\n      <td>100</td>\n      <td>1</td>\n      <td>0.99</td>\n      <td>15</td>\n      <td>27</td>\n      <td>12</td>\n      <td>21</td>\n      <td>0.0042</td>\n      <td>0.0125</td>\n    </tr>\n    <tr>\n      <th>11</th>\n      <td>1.0</td>\n      <td>Метод N пеленгов</td>\n      <td>0</td>\n      <td>0</td>\n      <td>2</td>\n      <td>0</td>\n      <td>2</td>\n      <td>0</td>\n      <td>4</td>\n      <td>0</td>\n      <td>1.74</td>\n      <td>nan</td>\n      <td>nan</td>\n      <td>nan</td>\n      <td>nan</td>\n      <td>0.0003</td>\n      <td>0.0011</td>\n    </tr>\n  </tbody>\n</table>\n</div>"
     },
     "metadata": {},
     "execution_count": 7
    }
   ],
   "source": [
    "df = pd.concat([df_lm, df_n])\n",
    "for i, j in enumerate(df.columns):\n",
    "        try: df[j] = df[j].apply(lambda x: precisions_3[i].format(np.float64(x)))\n",
    "        except(ValueError): pass\n",
    "\n",
    "print('Сводная таблица:')\n",
    "df.groupby('СКО').apply(lambda a: a.drop('СКО', axis=1)[:]).reset_index().drop('level_1', axis=1)"
   ]
  }
 ]
}