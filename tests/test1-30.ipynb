{
 "metadata": {
  "language_info": {
   "codemirror_mode": {
    "name": "ipython",
    "version": 3
   },
   "file_extension": ".py",
   "mimetype": "text/x-python",
   "name": "python",
   "nbconvert_exporter": "python",
   "pygments_lexer": "ipython3",
   "version": "3.9.2-final"
  },
  "orig_nbformat": 2,
  "kernelspec": {
   "name": "python3",
   "display_name": "Python 3.9.2 64-bit",
   "metadata": {
    "interpreter": {
     "hash": "41eac51e58bc56b7e72645fd2a426397a0dabf158fb6895686ff6280c78d9f5d"
    }
   }
  }
 },
 "nbformat": 4,
 "nbformat_minor": 2,
 "cells": [
  {
   "cell_type": "code",
   "execution_count": 1,
   "metadata": {},
   "outputs": [],
   "source": [
    "import sys\n",
    "sys.path.append(\"..\")\n",
    "import numpy as np\n",
    "import pandas as pd\n",
    "from project.ship import Ship\n",
    "from project.tests import Tests\n",
    "from project.botma import TMA\n",
    "import time\n",
    "from pathlib import Path\n",
    "from datetime import datetime"
   ]
  },
  {
   "cell_type": "code",
   "execution_count": 2,
   "metadata": {},
   "outputs": [
    {
     "output_type": "stream",
     "name": "stdout",
     "text": [
      "Время последнего моделирования: 26/03/2021 04:30\n"
     ]
    }
   ],
   "source": [
    "# Класс для сохранения результатов\n",
    "tests = Tests('test1')\n",
    "Path(\"../tests/test1/d30\").mkdir(parents=True, exist_ok=True)\n",
    "print(\"Время последнего моделирования:\", datetime.now().strftime(\"%d/%m/%Y %H:%M\"))\n",
    "\n",
    "# Создаем наблюдателя\n",
    "observer_x, observer_y, observer_course, observer_velocity = 0, 0, 0, 5\n",
    "observer = Ship('Наблюдатель', observer_x, observer_y, observer_course,\n",
    "                observer_velocity, verbose=True)"
   ]
  },
  {
   "cell_type": "code",
   "execution_count": 3,
   "metadata": {},
   "outputs": [
    {
     "output_type": "stream",
     "name": "stdout",
     "text": [
      "Наблюдатель движется прямо по курсу 0.0° 180с\nНаблюдатель перешёл на курс 270.0° за 180с\nНаблюдатель движется прямо по курсу 270.0° 300с\nНаблюдатель перешёл на курс 90.0° за 360с\nНаблюдатель движется прямо по курсу 90.0° 180с\n"
     ]
    }
   ],
   "source": [
    "# Моделирование траектории наблюдателя\n",
    "observer.forward_movement(3 * 60)\n",
    "observer.change_course(270, 'left', omega=0.5)\n",
    "observer.forward_movement(5 * 60)\n",
    "observer.change_course(90, 'right', omega=0.5)\n",
    "observer.forward_movement(3 * 60)"
   ]
  },
  {
   "cell_type": "code",
   "execution_count": 4,
   "metadata": {},
   "outputs": [],
   "source": [
    "def target_func(seed=None):\n",
    "    np.random.seed(seed)\n",
    "    b = 0\n",
    "    d = 30\n",
    "    c = np.random.uniform(0, 180)\n",
    "    v = np.random.uniform(3, 15)\n",
    "    return [b, d, c, v]\n",
    "results = []\n",
    "p0 = [0., 25., 90., 7.]\n",
    "std_arr = [0., 0.1, 0.2, 0.3, 0.5, 1.]\n",
    "precisions_1 = ['{0:.1f}', '{0:.3f}', '{0:.3f}', '{0:.2f}', '{0:.1f}', '{0:.3f}', '{0:.3f}', '{0:.2f}', '{0:.1f}', '{0:.3f}', '{0:.3f}', '{0:.2f}',\n",
    "'{0:.2f}','{0:.3f}', '{0:.2f}','{0:.3f}','{0:.2f}', '{0:.2f}', '{0:.2f}', '{0:.2f}', '{0:.2f}', '{0:.2f}', '{:.0f}', '{0:.4f}', '{0:.0f}', '{0:.0f}']\n",
    "precisions_2 = ['{0:.1f}', '{0:.3f}', '{0:.1f}', '{0:.2f}', '{0:.1f}', '{0:.3f}', '{0:.1f}', '{0:.2f}', '{0:.2f}','{0:.3f}', '{0:.2f}','{0:.3f}', '{0:.2f}', '{0:.2f}', '{0:.0f}', '{0:.4f}']\n",
    "precisions_3 = ['{0:.0f}', '{0:.0f}', '{0:.0f}', '{0:.0f}', '{0:.0f}', '{0:.0f}', '{0:.0f}', '{0:.0f}', '{0:.0f}', '{0:.2f}', '{0:.0f}', '{0:.0f}', '{0:.0f}', '{0:.0f}', '{0:.4f}', '{0:.4f}', '{0:.1f}']"
   ]
  },
  {
   "cell_type": "code",
   "execution_count": 5,
   "metadata": {},
   "outputs": [
    {
     "output_type": "stream",
     "name": "stdout",
     "text": [
      "СКОп = 0.0, tau = 2, end_time = 1200\n",
      "Алгоритм:: ММП v2\n",
      "Моделирование 100 результатов закончено за t = 0.6 с\n",
      "Показатели Монте-Карло:\n",
      "Вариант 0: Рэф = 100%, Рэф_мин = 1\n",
      "Вариант 1: Рэф = 100%, Рэф_мин = 1\n",
      "Вариант 2: Рэф = 100%, Рэф_мин = 1\n",
      "Вариант 3: Рэф = 100%, Рэф_мин = 1\n",
      "Ка = 0.00\n",
      "Nf = 9, Nf_max = 11\n",
      "Iter = 8, Iter_max = 10\n",
      "t = 0.0022, t_max = 0.0322\n"
     ]
    },
    {
     "output_type": "display_data",
     "data": {
      "text/plain": "  П0_ист  Д0_ист   К0_ист V0_ист П0_расч Д0_расч  К0_расч V0_расч Птек_ист  \\\n0    0.0  30.000   98.786  11.58     0.0  30.000   98.787   11.58    30.54   \n1    0.0  30.000   75.064  11.64     0.0  30.000   75.064   11.64    25.34   \n2    0.0  30.000   78.479   3.31   360.0  30.000   78.479    3.31    10.19   \n3    0.0  30.000   99.144  11.50     0.0  30.000   99.144   11.50    30.42   \n4    0.0  30.000  174.065   9.57   360.0  30.000  174.065    9.57     8.40   \n\n  Дтек_ист Птек_расч Дтек_расч    Ка         Успех       t  Nf Iter  \n0   29.331     30.54    29.330  0.00  [1, 1, 1, 1]  0.0027  10    9  \n1   34.283     25.34    34.283  0.00  [1, 1, 1, 1]  0.0024  10    9  \n2   28.629     10.19    28.629  0.00  [1, 1, 1, 1]  0.0040   8    7  \n3   29.213     30.42    29.213  0.00  [1, 1, 1, 1]  0.0020  10    9  \n4   16.138      8.40    16.138  0.00  [1, 1, 1, 1]  0.0032   8    7  ",
      "text/html": "<div>\n<style scoped>\n    .dataframe tbody tr th:only-of-type {\n        vertical-align: middle;\n    }\n\n    .dataframe tbody tr th {\n        vertical-align: top;\n    }\n\n    .dataframe thead th {\n        text-align: right;\n    }\n</style>\n<table border=\"1\" class=\"dataframe\">\n  <thead>\n    <tr style=\"text-align: right;\">\n      <th></th>\n      <th>П0_ист</th>\n      <th>Д0_ист</th>\n      <th>К0_ист</th>\n      <th>V0_ист</th>\n      <th>П0_расч</th>\n      <th>Д0_расч</th>\n      <th>К0_расч</th>\n      <th>V0_расч</th>\n      <th>Птек_ист</th>\n      <th>Дтек_ист</th>\n      <th>Птек_расч</th>\n      <th>Дтек_расч</th>\n      <th>Ка</th>\n      <th>Успех</th>\n      <th>t</th>\n      <th>Nf</th>\n      <th>Iter</th>\n    </tr>\n  </thead>\n  <tbody>\n    <tr>\n      <th>0</th>\n      <td>0.0</td>\n      <td>30.000</td>\n      <td>98.786</td>\n      <td>11.58</td>\n      <td>0.0</td>\n      <td>30.000</td>\n      <td>98.787</td>\n      <td>11.58</td>\n      <td>30.54</td>\n      <td>29.331</td>\n      <td>30.54</td>\n      <td>29.330</td>\n      <td>0.00</td>\n      <td>[1, 1, 1, 1]</td>\n      <td>0.0027</td>\n      <td>10</td>\n      <td>9</td>\n    </tr>\n    <tr>\n      <th>1</th>\n      <td>0.0</td>\n      <td>30.000</td>\n      <td>75.064</td>\n      <td>11.64</td>\n      <td>0.0</td>\n      <td>30.000</td>\n      <td>75.064</td>\n      <td>11.64</td>\n      <td>25.34</td>\n      <td>34.283</td>\n      <td>25.34</td>\n      <td>34.283</td>\n      <td>0.00</td>\n      <td>[1, 1, 1, 1]</td>\n      <td>0.0024</td>\n      <td>10</td>\n      <td>9</td>\n    </tr>\n    <tr>\n      <th>2</th>\n      <td>0.0</td>\n      <td>30.000</td>\n      <td>78.479</td>\n      <td>3.31</td>\n      <td>360.0</td>\n      <td>30.000</td>\n      <td>78.479</td>\n      <td>3.31</td>\n      <td>10.19</td>\n      <td>28.629</td>\n      <td>10.19</td>\n      <td>28.629</td>\n      <td>0.00</td>\n      <td>[1, 1, 1, 1]</td>\n      <td>0.0040</td>\n      <td>8</td>\n      <td>7</td>\n    </tr>\n    <tr>\n      <th>3</th>\n      <td>0.0</td>\n      <td>30.000</td>\n      <td>99.144</td>\n      <td>11.50</td>\n      <td>0.0</td>\n      <td>30.000</td>\n      <td>99.144</td>\n      <td>11.50</td>\n      <td>30.42</td>\n      <td>29.213</td>\n      <td>30.42</td>\n      <td>29.213</td>\n      <td>0.00</td>\n      <td>[1, 1, 1, 1]</td>\n      <td>0.0020</td>\n      <td>10</td>\n      <td>9</td>\n    </tr>\n    <tr>\n      <th>4</th>\n      <td>0.0</td>\n      <td>30.000</td>\n      <td>174.065</td>\n      <td>9.57</td>\n      <td>360.0</td>\n      <td>30.000</td>\n      <td>174.065</td>\n      <td>9.57</td>\n      <td>8.40</td>\n      <td>16.138</td>\n      <td>8.40</td>\n      <td>16.138</td>\n      <td>0.00</td>\n      <td>[1, 1, 1, 1]</td>\n      <td>0.0032</td>\n      <td>8</td>\n      <td>7</td>\n    </tr>\n  </tbody>\n</table>\n</div>"
     },
     "metadata": {}
    },
    {
     "output_type": "stream",
     "name": "stdout",
     "text": [
      "_________________________________________________\n",
      "СКОп = 0.1, tau = 2, end_time = 1200\n",
      "Алгоритм:: ММП v2\n",
      "Моделирование 100 результатов закончено за t = 0.5 с\n",
      "Показатели Монте-Карло:\n",
      "Вариант 0: Рэф = 98%, Рэф_мин = 0\n",
      "Вариант 1: Рэф = 100%, Рэф_мин = 1\n",
      "Вариант 2: Рэф = 100%, Рэф_мин = 1\n",
      "Вариант 3: Рэф = 100%, Рэф_мин = 1\n",
      "Ка = 0.01\n",
      "Nf = 9, Nf_max = 11\n",
      "Iter = 8, Iter_max = 10\n",
      "t = 0.0019, t_max = 0.0030\n"
     ]
    },
    {
     "output_type": "display_data",
     "data": {
      "text/plain": "  П0_ист  Д0_ист   К0_ист V0_ист П0_расч Д0_расч  К0_расч V0_расч Птек_ист  \\\n0    0.0  30.000   98.786  11.58   360.0  30.115   98.530   11.68    30.54   \n1    0.0  30.000   75.064  11.64     0.0  29.819   75.130   11.53    25.34   \n2    0.0  30.000   78.479   3.31     0.0  30.116   81.405    3.27    10.19   \n3    0.0  30.000   99.144  11.50     0.0  29.808   99.551   11.37    30.42   \n4    0.0  30.000  174.065   9.57     0.0  30.020  174.209    9.65     8.40   \n\n  Дтек_ист Птек_расч Дтек_расч    Ка         Успех       t  Nf Iter  \n0   29.331     30.57    29.523  0.01  [1, 1, 1, 1]  0.0021  10    9  \n1   34.283     25.32    34.022  0.01  [1, 1, 1, 1]  0.0020  10    9  \n2   28.629     10.21    28.537  0.01  [1, 1, 1, 1]  0.0016   8    7  \n3   29.213     30.41    28.905  0.01  [1, 1, 1, 1]  0.0021  10    9  \n4   16.138      8.38    16.049  0.01  [1, 1, 1, 1]  0.0017   8    7  ",
      "text/html": "<div>\n<style scoped>\n    .dataframe tbody tr th:only-of-type {\n        vertical-align: middle;\n    }\n\n    .dataframe tbody tr th {\n        vertical-align: top;\n    }\n\n    .dataframe thead th {\n        text-align: right;\n    }\n</style>\n<table border=\"1\" class=\"dataframe\">\n  <thead>\n    <tr style=\"text-align: right;\">\n      <th></th>\n      <th>П0_ист</th>\n      <th>Д0_ист</th>\n      <th>К0_ист</th>\n      <th>V0_ист</th>\n      <th>П0_расч</th>\n      <th>Д0_расч</th>\n      <th>К0_расч</th>\n      <th>V0_расч</th>\n      <th>Птек_ист</th>\n      <th>Дтек_ист</th>\n      <th>Птек_расч</th>\n      <th>Дтек_расч</th>\n      <th>Ка</th>\n      <th>Успех</th>\n      <th>t</th>\n      <th>Nf</th>\n      <th>Iter</th>\n    </tr>\n  </thead>\n  <tbody>\n    <tr>\n      <th>0</th>\n      <td>0.0</td>\n      <td>30.000</td>\n      <td>98.786</td>\n      <td>11.58</td>\n      <td>360.0</td>\n      <td>30.115</td>\n      <td>98.530</td>\n      <td>11.68</td>\n      <td>30.54</td>\n      <td>29.331</td>\n      <td>30.57</td>\n      <td>29.523</td>\n      <td>0.01</td>\n      <td>[1, 1, 1, 1]</td>\n      <td>0.0021</td>\n      <td>10</td>\n      <td>9</td>\n    </tr>\n    <tr>\n      <th>1</th>\n      <td>0.0</td>\n      <td>30.000</td>\n      <td>75.064</td>\n      <td>11.64</td>\n      <td>0.0</td>\n      <td>29.819</td>\n      <td>75.130</td>\n      <td>11.53</td>\n      <td>25.34</td>\n      <td>34.283</td>\n      <td>25.32</td>\n      <td>34.022</td>\n      <td>0.01</td>\n      <td>[1, 1, 1, 1]</td>\n      <td>0.0020</td>\n      <td>10</td>\n      <td>9</td>\n    </tr>\n    <tr>\n      <th>2</th>\n      <td>0.0</td>\n      <td>30.000</td>\n      <td>78.479</td>\n      <td>3.31</td>\n      <td>0.0</td>\n      <td>30.116</td>\n      <td>81.405</td>\n      <td>3.27</td>\n      <td>10.19</td>\n      <td>28.629</td>\n      <td>10.21</td>\n      <td>28.537</td>\n      <td>0.01</td>\n      <td>[1, 1, 1, 1]</td>\n      <td>0.0016</td>\n      <td>8</td>\n      <td>7</td>\n    </tr>\n    <tr>\n      <th>3</th>\n      <td>0.0</td>\n      <td>30.000</td>\n      <td>99.144</td>\n      <td>11.50</td>\n      <td>0.0</td>\n      <td>29.808</td>\n      <td>99.551</td>\n      <td>11.37</td>\n      <td>30.42</td>\n      <td>29.213</td>\n      <td>30.41</td>\n      <td>28.905</td>\n      <td>0.01</td>\n      <td>[1, 1, 1, 1]</td>\n      <td>0.0021</td>\n      <td>10</td>\n      <td>9</td>\n    </tr>\n    <tr>\n      <th>4</th>\n      <td>0.0</td>\n      <td>30.000</td>\n      <td>174.065</td>\n      <td>9.57</td>\n      <td>0.0</td>\n      <td>30.020</td>\n      <td>174.209</td>\n      <td>9.65</td>\n      <td>8.40</td>\n      <td>16.138</td>\n      <td>8.38</td>\n      <td>16.049</td>\n      <td>0.01</td>\n      <td>[1, 1, 1, 1]</td>\n      <td>0.0017</td>\n      <td>8</td>\n      <td>7</td>\n    </tr>\n  </tbody>\n</table>\n</div>"
     },
     "metadata": {}
    },
    {
     "output_type": "stream",
     "name": "stdout",
     "text": [
      "_________________________________________________\n",
      "СКОп = 0.2, tau = 2, end_time = 1200\n",
      "Алгоритм:: ММП v2\n",
      "Моделирование 100 результатов закончено за t = 0.5 с\n",
      "Показатели Монте-Карло:\n",
      "Вариант 0: Рэф = 91%, Рэф_мин = 0\n",
      "Вариант 1: Рэф = 98%, Рэф_мин = 0\n",
      "Вариант 2: Рэф = 98%, Рэф_мин = 0\n",
      "Вариант 3: Рэф = 100%, Рэф_мин = 1\n",
      "Ка = 0.04\n",
      "Nf = 9, Nf_max = 11\n",
      "Iter = 8, Iter_max = 10\n",
      "t = 0.0018, t_max = 0.0030\n"
     ]
    },
    {
     "output_type": "display_data",
     "data": {
      "text/plain": "  П0_ист  Д0_ист   К0_ист V0_ист П0_расч Д0_расч  К0_расч V0_расч Птек_ист  \\\n0    0.0  30.000   98.786  11.58   360.0  30.231   98.277   11.77    30.54   \n1    0.0  30.000   75.064  11.64     0.0  29.641   75.196   11.43    25.34   \n2    0.0  30.000   78.479   3.31     0.0  30.232   84.408    3.24    10.19   \n3    0.0  30.000   99.144  11.50     0.0  29.618   99.961   11.24    30.42   \n4    0.0  30.000  174.065   9.57     0.0  30.040  174.350    9.74     8.40   \n\n  Дтек_ист Птек_расч Дтек_расч    Ка         Успех       t  Nf Iter  \n0   29.331     30.59    29.718  0.04  [1, 1, 1, 1]  0.0021  10    9  \n1   34.283     25.30    33.766  0.04  [1, 1, 1, 1]  0.0020  10    9  \n2   28.629     10.22    28.445  0.04  [0, 1, 1, 1]  0.0018   8    7  \n3   29.213     30.40    28.602  0.04  [1, 1, 1, 1]  0.0020  10    9  \n4   16.138      8.37    15.960  0.04  [1, 1, 1, 1]  0.0017   8    7  ",
      "text/html": "<div>\n<style scoped>\n    .dataframe tbody tr th:only-of-type {\n        vertical-align: middle;\n    }\n\n    .dataframe tbody tr th {\n        vertical-align: top;\n    }\n\n    .dataframe thead th {\n        text-align: right;\n    }\n</style>\n<table border=\"1\" class=\"dataframe\">\n  <thead>\n    <tr style=\"text-align: right;\">\n      <th></th>\n      <th>П0_ист</th>\n      <th>Д0_ист</th>\n      <th>К0_ист</th>\n      <th>V0_ист</th>\n      <th>П0_расч</th>\n      <th>Д0_расч</th>\n      <th>К0_расч</th>\n      <th>V0_расч</th>\n      <th>Птек_ист</th>\n      <th>Дтек_ист</th>\n      <th>Птек_расч</th>\n      <th>Дтек_расч</th>\n      <th>Ка</th>\n      <th>Успех</th>\n      <th>t</th>\n      <th>Nf</th>\n      <th>Iter</th>\n    </tr>\n  </thead>\n  <tbody>\n    <tr>\n      <th>0</th>\n      <td>0.0</td>\n      <td>30.000</td>\n      <td>98.786</td>\n      <td>11.58</td>\n      <td>360.0</td>\n      <td>30.231</td>\n      <td>98.277</td>\n      <td>11.77</td>\n      <td>30.54</td>\n      <td>29.331</td>\n      <td>30.59</td>\n      <td>29.718</td>\n      <td>0.04</td>\n      <td>[1, 1, 1, 1]</td>\n      <td>0.0021</td>\n      <td>10</td>\n      <td>9</td>\n    </tr>\n    <tr>\n      <th>1</th>\n      <td>0.0</td>\n      <td>30.000</td>\n      <td>75.064</td>\n      <td>11.64</td>\n      <td>0.0</td>\n      <td>29.641</td>\n      <td>75.196</td>\n      <td>11.43</td>\n      <td>25.34</td>\n      <td>34.283</td>\n      <td>25.30</td>\n      <td>33.766</td>\n      <td>0.04</td>\n      <td>[1, 1, 1, 1]</td>\n      <td>0.0020</td>\n      <td>10</td>\n      <td>9</td>\n    </tr>\n    <tr>\n      <th>2</th>\n      <td>0.0</td>\n      <td>30.000</td>\n      <td>78.479</td>\n      <td>3.31</td>\n      <td>0.0</td>\n      <td>30.232</td>\n      <td>84.408</td>\n      <td>3.24</td>\n      <td>10.19</td>\n      <td>28.629</td>\n      <td>10.22</td>\n      <td>28.445</td>\n      <td>0.04</td>\n      <td>[0, 1, 1, 1]</td>\n      <td>0.0018</td>\n      <td>8</td>\n      <td>7</td>\n    </tr>\n    <tr>\n      <th>3</th>\n      <td>0.0</td>\n      <td>30.000</td>\n      <td>99.144</td>\n      <td>11.50</td>\n      <td>0.0</td>\n      <td>29.618</td>\n      <td>99.961</td>\n      <td>11.24</td>\n      <td>30.42</td>\n      <td>29.213</td>\n      <td>30.40</td>\n      <td>28.602</td>\n      <td>0.04</td>\n      <td>[1, 1, 1, 1]</td>\n      <td>0.0020</td>\n      <td>10</td>\n      <td>9</td>\n    </tr>\n    <tr>\n      <th>4</th>\n      <td>0.0</td>\n      <td>30.000</td>\n      <td>174.065</td>\n      <td>9.57</td>\n      <td>0.0</td>\n      <td>30.040</td>\n      <td>174.350</td>\n      <td>9.74</td>\n      <td>8.40</td>\n      <td>16.138</td>\n      <td>8.37</td>\n      <td>15.960</td>\n      <td>0.04</td>\n      <td>[1, 1, 1, 1]</td>\n      <td>0.0017</td>\n      <td>8</td>\n      <td>7</td>\n    </tr>\n  </tbody>\n</table>\n</div>"
     },
     "metadata": {}
    },
    {
     "output_type": "stream",
     "name": "stdout",
     "text": [
      "_________________________________________________\n",
      "СКОп = 0.3, tau = 2, end_time = 1200\n",
      "Алгоритм:: ММП v2\n",
      "Моделирование 100 результатов закончено за t = 0.5 с\n",
      "Показатели Монте-Карло:\n",
      "Вариант 0: Рэф = 82%, Рэф_мин = 0\n",
      "Вариант 1: Рэф = 95%, Рэф_мин = 0\n",
      "Вариант 2: Рэф = 95%, Рэф_мин = 0\n",
      "Вариант 3: Рэф = 98%, Рэф_мин = 0\n",
      "Ка = 0.09\n",
      "Nf = 9, Nf_max = 11\n",
      "Iter = 8, Iter_max = 10\n",
      "t = 0.0019, t_max = 0.0028\n"
     ]
    },
    {
     "output_type": "display_data",
     "data": {
      "text/plain": "  П0_ист  Д0_ист   К0_ист V0_ист П0_расч Д0_расч  К0_расч V0_расч Птек_ист  \\\n0    0.0  30.000   98.786  11.58   359.9  30.348   98.026   11.87    30.54   \n1    0.0  30.000   75.064  11.64     0.0  29.465   75.263   11.32    25.34   \n2    0.0  30.000   78.479   3.31     0.0  30.347   87.472    3.21    10.19   \n3    0.0  30.000   99.144  11.50     0.1  29.432  100.376   11.11    30.42   \n4    0.0  30.000  174.065   9.57     0.0  30.061  174.488    9.83     8.40   \n\n  Дтек_ист Птек_расч Дтек_расч    Ка         Успех       t  Nf Iter  \n0   29.331     30.62    29.913  0.09  [1, 1, 1, 1]  0.0021  10    9  \n1   34.283     25.28    33.513  0.09  [1, 1, 1, 1]  0.0027  10    9  \n2   28.629     10.24    28.352  0.09  [0, 1, 1, 1]  0.0017   8    7  \n3   29.213     30.39    28.304  0.09  [1, 1, 1, 1]  0.0020  10    9  \n4   16.138      8.35    15.872  0.08  [1, 1, 1, 1]  0.0019   8    7  ",
      "text/html": "<div>\n<style scoped>\n    .dataframe tbody tr th:only-of-type {\n        vertical-align: middle;\n    }\n\n    .dataframe tbody tr th {\n        vertical-align: top;\n    }\n\n    .dataframe thead th {\n        text-align: right;\n    }\n</style>\n<table border=\"1\" class=\"dataframe\">\n  <thead>\n    <tr style=\"text-align: right;\">\n      <th></th>\n      <th>П0_ист</th>\n      <th>Д0_ист</th>\n      <th>К0_ист</th>\n      <th>V0_ист</th>\n      <th>П0_расч</th>\n      <th>Д0_расч</th>\n      <th>К0_расч</th>\n      <th>V0_расч</th>\n      <th>Птек_ист</th>\n      <th>Дтек_ист</th>\n      <th>Птек_расч</th>\n      <th>Дтек_расч</th>\n      <th>Ка</th>\n      <th>Успех</th>\n      <th>t</th>\n      <th>Nf</th>\n      <th>Iter</th>\n    </tr>\n  </thead>\n  <tbody>\n    <tr>\n      <th>0</th>\n      <td>0.0</td>\n      <td>30.000</td>\n      <td>98.786</td>\n      <td>11.58</td>\n      <td>359.9</td>\n      <td>30.348</td>\n      <td>98.026</td>\n      <td>11.87</td>\n      <td>30.54</td>\n      <td>29.331</td>\n      <td>30.62</td>\n      <td>29.913</td>\n      <td>0.09</td>\n      <td>[1, 1, 1, 1]</td>\n      <td>0.0021</td>\n      <td>10</td>\n      <td>9</td>\n    </tr>\n    <tr>\n      <th>1</th>\n      <td>0.0</td>\n      <td>30.000</td>\n      <td>75.064</td>\n      <td>11.64</td>\n      <td>0.0</td>\n      <td>29.465</td>\n      <td>75.263</td>\n      <td>11.32</td>\n      <td>25.34</td>\n      <td>34.283</td>\n      <td>25.28</td>\n      <td>33.513</td>\n      <td>0.09</td>\n      <td>[1, 1, 1, 1]</td>\n      <td>0.0027</td>\n      <td>10</td>\n      <td>9</td>\n    </tr>\n    <tr>\n      <th>2</th>\n      <td>0.0</td>\n      <td>30.000</td>\n      <td>78.479</td>\n      <td>3.31</td>\n      <td>0.0</td>\n      <td>30.347</td>\n      <td>87.472</td>\n      <td>3.21</td>\n      <td>10.19</td>\n      <td>28.629</td>\n      <td>10.24</td>\n      <td>28.352</td>\n      <td>0.09</td>\n      <td>[0, 1, 1, 1]</td>\n      <td>0.0017</td>\n      <td>8</td>\n      <td>7</td>\n    </tr>\n    <tr>\n      <th>3</th>\n      <td>0.0</td>\n      <td>30.000</td>\n      <td>99.144</td>\n      <td>11.50</td>\n      <td>0.1</td>\n      <td>29.432</td>\n      <td>100.376</td>\n      <td>11.11</td>\n      <td>30.42</td>\n      <td>29.213</td>\n      <td>30.39</td>\n      <td>28.304</td>\n      <td>0.09</td>\n      <td>[1, 1, 1, 1]</td>\n      <td>0.0020</td>\n      <td>10</td>\n      <td>9</td>\n    </tr>\n    <tr>\n      <th>4</th>\n      <td>0.0</td>\n      <td>30.000</td>\n      <td>174.065</td>\n      <td>9.57</td>\n      <td>0.0</td>\n      <td>30.061</td>\n      <td>174.488</td>\n      <td>9.83</td>\n      <td>8.40</td>\n      <td>16.138</td>\n      <td>8.35</td>\n      <td>15.872</td>\n      <td>0.08</td>\n      <td>[1, 1, 1, 1]</td>\n      <td>0.0019</td>\n      <td>8</td>\n      <td>7</td>\n    </tr>\n  </tbody>\n</table>\n</div>"
     },
     "metadata": {}
    },
    {
     "output_type": "stream",
     "name": "stdout",
     "text": [
      "_________________________________________________\n",
      "СКОп = 0.5, tau = 2, end_time = 1200\n",
      "Алгоритм:: ММП v2\n",
      "Моделирование 100 результатов закончено за t = 0.5 с\n",
      "Показатели Монте-Карло:\n",
      "Вариант 0: Рэф = 51%, Рэф_мин = 0\n",
      "Вариант 1: Рэф = 88%, Рэф_мин = 0\n",
      "Вариант 2: Рэф = 88%, Рэф_мин = 0\n",
      "Вариант 3: Рэф = 92%, Рэф_мин = 0\n",
      "Ка = 0.25\n",
      "Nf = 9, Nf_max = 11\n",
      "Iter = 8, Iter_max = 10\n",
      "t = 0.0018, t_max = 0.0031\n"
     ]
    },
    {
     "output_type": "display_data",
     "data": {
      "text/plain": "  П0_ист  Д0_ист   К0_ист V0_ист П0_расч Д0_расч  К0_расч V0_расч Птек_ист  \\\n0    0.0  30.000   98.786  11.58   359.9  30.585   97.534   12.06    30.54   \n1    0.0  30.000   75.064  11.64     0.0  29.122   75.397   11.11    25.34   \n2    0.0  30.000   78.479   3.31     0.1  30.577   93.723    3.19    10.19   \n3    0.0  30.000   99.144  11.50     0.1  29.068  101.216   10.86    30.42   \n4    0.0  30.000  174.065   9.57     0.0  30.102  174.754   10.00     8.40   \n\n  Дтек_ист Птек_расч Дтек_расч    Ка         Успех       t  Nf Iter  \n0   29.331     30.66    30.309  0.25  [1, 1, 1, 1]  0.0022  10    9  \n1   34.283     25.24    33.019  0.25  [1, 1, 1, 1]  0.0021  10    9  \n2   28.629     10.27    28.164  0.26  [0, 0, 0, 0]  0.0016   8    7  \n3   29.213     30.37    27.720  0.26  [0, 1, 1, 1]  0.0020  10    9  \n4   16.138      8.31    15.697  0.24  [1, 1, 1, 1]  0.0018   8    7  ",
      "text/html": "<div>\n<style scoped>\n    .dataframe tbody tr th:only-of-type {\n        vertical-align: middle;\n    }\n\n    .dataframe tbody tr th {\n        vertical-align: top;\n    }\n\n    .dataframe thead th {\n        text-align: right;\n    }\n</style>\n<table border=\"1\" class=\"dataframe\">\n  <thead>\n    <tr style=\"text-align: right;\">\n      <th></th>\n      <th>П0_ист</th>\n      <th>Д0_ист</th>\n      <th>К0_ист</th>\n      <th>V0_ист</th>\n      <th>П0_расч</th>\n      <th>Д0_расч</th>\n      <th>К0_расч</th>\n      <th>V0_расч</th>\n      <th>Птек_ист</th>\n      <th>Дтек_ист</th>\n      <th>Птек_расч</th>\n      <th>Дтек_расч</th>\n      <th>Ка</th>\n      <th>Успех</th>\n      <th>t</th>\n      <th>Nf</th>\n      <th>Iter</th>\n    </tr>\n  </thead>\n  <tbody>\n    <tr>\n      <th>0</th>\n      <td>0.0</td>\n      <td>30.000</td>\n      <td>98.786</td>\n      <td>11.58</td>\n      <td>359.9</td>\n      <td>30.585</td>\n      <td>97.534</td>\n      <td>12.06</td>\n      <td>30.54</td>\n      <td>29.331</td>\n      <td>30.66</td>\n      <td>30.309</td>\n      <td>0.25</td>\n      <td>[1, 1, 1, 1]</td>\n      <td>0.0022</td>\n      <td>10</td>\n      <td>9</td>\n    </tr>\n    <tr>\n      <th>1</th>\n      <td>0.0</td>\n      <td>30.000</td>\n      <td>75.064</td>\n      <td>11.64</td>\n      <td>0.0</td>\n      <td>29.122</td>\n      <td>75.397</td>\n      <td>11.11</td>\n      <td>25.34</td>\n      <td>34.283</td>\n      <td>25.24</td>\n      <td>33.019</td>\n      <td>0.25</td>\n      <td>[1, 1, 1, 1]</td>\n      <td>0.0021</td>\n      <td>10</td>\n      <td>9</td>\n    </tr>\n    <tr>\n      <th>2</th>\n      <td>0.0</td>\n      <td>30.000</td>\n      <td>78.479</td>\n      <td>3.31</td>\n      <td>0.1</td>\n      <td>30.577</td>\n      <td>93.723</td>\n      <td>3.19</td>\n      <td>10.19</td>\n      <td>28.629</td>\n      <td>10.27</td>\n      <td>28.164</td>\n      <td>0.26</td>\n      <td>[0, 0, 0, 0]</td>\n      <td>0.0016</td>\n      <td>8</td>\n      <td>7</td>\n    </tr>\n    <tr>\n      <th>3</th>\n      <td>0.0</td>\n      <td>30.000</td>\n      <td>99.144</td>\n      <td>11.50</td>\n      <td>0.1</td>\n      <td>29.068</td>\n      <td>101.216</td>\n      <td>10.86</td>\n      <td>30.42</td>\n      <td>29.213</td>\n      <td>30.37</td>\n      <td>27.720</td>\n      <td>0.26</td>\n      <td>[0, 1, 1, 1]</td>\n      <td>0.0020</td>\n      <td>10</td>\n      <td>9</td>\n    </tr>\n    <tr>\n      <th>4</th>\n      <td>0.0</td>\n      <td>30.000</td>\n      <td>174.065</td>\n      <td>9.57</td>\n      <td>0.0</td>\n      <td>30.102</td>\n      <td>174.754</td>\n      <td>10.00</td>\n      <td>8.40</td>\n      <td>16.138</td>\n      <td>8.31</td>\n      <td>15.697</td>\n      <td>0.24</td>\n      <td>[1, 1, 1, 1]</td>\n      <td>0.0018</td>\n      <td>8</td>\n      <td>7</td>\n    </tr>\n  </tbody>\n</table>\n</div>"
     },
     "metadata": {}
    },
    {
     "output_type": "stream",
     "name": "stdout",
     "text": [
      "_________________________________________________\n",
      "СКОп = 1.0, tau = 2, end_time = 1200\n",
      "Алгоритм:: ММП v2\n",
      "Моделирование 100 результатов закончено за t = 0.5 с\n",
      "Показатели Монте-Карло:\n",
      "Вариант 0: Рэф = 25%, Рэф_мин = 0\n",
      "Вариант 1: Рэф = 52%, Рэф_мин = 0\n",
      "Вариант 2: Рэф = 53%, Рэф_мин = 0\n",
      "Вариант 3: Рэф = 74%, Рэф_мин = 0\n",
      "Ка = 0.99\n",
      "Nf = 9, Nf_max = 11\n",
      "Iter = 8, Iter_max = 10\n",
      "t = 0.0019, t_max = 0.0028\n"
     ]
    },
    {
     "output_type": "display_data",
     "data": {
      "text/plain": "  П0_ист  Д0_ист   К0_ист V0_ист П0_расч Д0_расч  К0_расч V0_расч Птек_ист  \\\n0    0.0  30.000   98.786  11.58   359.8  31.195   96.352   12.57    30.54   \n1    0.0  30.000   75.064  11.64     0.0  28.304   75.736   10.62    25.34   \n2    0.0  30.000   78.479   3.31     0.1  31.146  109.232    3.30    10.19   \n3    0.0  30.000   99.144  11.50     0.2  28.205  103.381   10.28    30.42   \n4    0.0  30.000  174.065   9.57     0.0  30.208  175.369   10.44     8.40   \n\n  Дтек_ист Птек_расч Дтек_расч    Ка         Успех       t  Nf Iter  \n0   29.331     30.78    31.323  1.00  [0, 1, 1, 1]  0.0021  10    9  \n1   34.283     25.14    31.843  0.99  [0, 1, 1, 1]  0.0020  10    9  \n2   28.629     10.36    27.677  1.05  [0, 0, 0, 0]  0.0016   8    7  \n3   29.213     30.31    26.332  1.04  [0, 0, 0, 1]  0.0023  10    9  \n4   16.138      8.23    15.265  0.94  [0, 1, 1, 1]  0.0020   8    7  ",
      "text/html": "<div>\n<style scoped>\n    .dataframe tbody tr th:only-of-type {\n        vertical-align: middle;\n    }\n\n    .dataframe tbody tr th {\n        vertical-align: top;\n    }\n\n    .dataframe thead th {\n        text-align: right;\n    }\n</style>\n<table border=\"1\" class=\"dataframe\">\n  <thead>\n    <tr style=\"text-align: right;\">\n      <th></th>\n      <th>П0_ист</th>\n      <th>Д0_ист</th>\n      <th>К0_ист</th>\n      <th>V0_ист</th>\n      <th>П0_расч</th>\n      <th>Д0_расч</th>\n      <th>К0_расч</th>\n      <th>V0_расч</th>\n      <th>Птек_ист</th>\n      <th>Дтек_ист</th>\n      <th>Птек_расч</th>\n      <th>Дтек_расч</th>\n      <th>Ка</th>\n      <th>Успех</th>\n      <th>t</th>\n      <th>Nf</th>\n      <th>Iter</th>\n    </tr>\n  </thead>\n  <tbody>\n    <tr>\n      <th>0</th>\n      <td>0.0</td>\n      <td>30.000</td>\n      <td>98.786</td>\n      <td>11.58</td>\n      <td>359.8</td>\n      <td>31.195</td>\n      <td>96.352</td>\n      <td>12.57</td>\n      <td>30.54</td>\n      <td>29.331</td>\n      <td>30.78</td>\n      <td>31.323</td>\n      <td>1.00</td>\n      <td>[0, 1, 1, 1]</td>\n      <td>0.0021</td>\n      <td>10</td>\n      <td>9</td>\n    </tr>\n    <tr>\n      <th>1</th>\n      <td>0.0</td>\n      <td>30.000</td>\n      <td>75.064</td>\n      <td>11.64</td>\n      <td>0.0</td>\n      <td>28.304</td>\n      <td>75.736</td>\n      <td>10.62</td>\n      <td>25.34</td>\n      <td>34.283</td>\n      <td>25.14</td>\n      <td>31.843</td>\n      <td>0.99</td>\n      <td>[0, 1, 1, 1]</td>\n      <td>0.0020</td>\n      <td>10</td>\n      <td>9</td>\n    </tr>\n    <tr>\n      <th>2</th>\n      <td>0.0</td>\n      <td>30.000</td>\n      <td>78.479</td>\n      <td>3.31</td>\n      <td>0.1</td>\n      <td>31.146</td>\n      <td>109.232</td>\n      <td>3.30</td>\n      <td>10.19</td>\n      <td>28.629</td>\n      <td>10.36</td>\n      <td>27.677</td>\n      <td>1.05</td>\n      <td>[0, 0, 0, 0]</td>\n      <td>0.0016</td>\n      <td>8</td>\n      <td>7</td>\n    </tr>\n    <tr>\n      <th>3</th>\n      <td>0.0</td>\n      <td>30.000</td>\n      <td>99.144</td>\n      <td>11.50</td>\n      <td>0.2</td>\n      <td>28.205</td>\n      <td>103.381</td>\n      <td>10.28</td>\n      <td>30.42</td>\n      <td>29.213</td>\n      <td>30.31</td>\n      <td>26.332</td>\n      <td>1.04</td>\n      <td>[0, 0, 0, 1]</td>\n      <td>0.0023</td>\n      <td>10</td>\n      <td>9</td>\n    </tr>\n    <tr>\n      <th>4</th>\n      <td>0.0</td>\n      <td>30.000</td>\n      <td>174.065</td>\n      <td>9.57</td>\n      <td>0.0</td>\n      <td>30.208</td>\n      <td>175.369</td>\n      <td>10.44</td>\n      <td>8.40</td>\n      <td>16.138</td>\n      <td>8.23</td>\n      <td>15.265</td>\n      <td>0.94</td>\n      <td>[0, 1, 1, 1]</td>\n      <td>0.0020</td>\n      <td>8</td>\n      <td>7</td>\n    </tr>\n  </tbody>\n</table>\n</div>"
     },
     "metadata": {}
    },
    {
     "output_type": "stream",
     "name": "stdout",
     "text": [
      "_________________________________________________\n"
     ]
    }
   ],
   "source": [
    "for std in std_arr:\n",
    "\n",
    "    tma = TMA(observer, std=np.radians(std), tau=2, verbose=True)\n",
    "    algorithm_name = 'ММП v2'\n",
    "    res = [algorithm_name]\n",
    "    dict_results = tma.swarm(algorithm_name = algorithm_name, n=100, target_func=target_func, p0=p0, seeded=True, verbose=True)\n",
    "    df = tests.get_df(dict_results)\n",
    "\n",
    "    print('Показатели Монте-Карло:')\n",
    "    for i in range(4):\n",
    "        success = df['Успех'].apply(lambda x: x[i])\n",
    "        success_rate = 100 * success.mean()\n",
    "        success_min = min(success)\n",
    "        print('Вариант {}: Рэф = {:.0f}%, Рэф_мин = {:.0f}'.format(i, success_rate, success_min))\n",
    "        res.extend([success_rate, success_min])\n",
    "    k_a_mean = df['Ка'].mean()\n",
    "    nf_mean = df['Nf'].mean()\n",
    "    nf_max = max(df['Nf'])\n",
    "    iter_mean = df['Iter'].mean()\n",
    "    iter_max = max(df['Iter'])\n",
    "    t_mean = df['t'].mean()\n",
    "    t_max = max(df['t'])\n",
    "    std = np.degrees(tma.standart_deviation)\n",
    "    print('Ка = {:.2f}'.format(k_a_mean))\n",
    "    print('Nf = {:.0f}, Nf_max = {:.0f}'.format(nf_mean, nf_max))\n",
    "    print('Iter = {:.0f}, Iter_max = {:.0f}'.format(iter_mean, iter_max))\n",
    "    print('t = {:.4f}, t_max = {:.4f}'.format(t_mean, t_max))\n",
    "\n",
    "    d_df = df.copy()\n",
    "    for i, j in enumerate(df.columns):\n",
    "        try: d_df[j] = df[j].apply(lambda x: precisions_1[i].format(np.float64(x)))\n",
    "        except(TypeError): pass\n",
    "    display(d_df.drop(['СКО X', 'СКО Y', 'СКО VX', 'СКО VY', 'Кб', 'П0_апр', 'Д0_апр', 'К0_апр', 'V0_апр'], axis=1).head())\n",
    "\n",
    "    res.extend([k_a_mean, nf_mean, nf_max, iter_mean, iter_max, t_mean, t_max])\n",
    "    results.append(res)\n",
    "    tests.save_df(df, name='../tests/test1/d30/ЛМ, ' + str(std) + '.xlsx')\n",
    "    print('_'*40)\n",
    "\n",
    "df_lm = pd.DataFrame(results, columns=['Алгоритм', 'В11', 'В12', 'В21', 'В22', 'В31', 'В32', 'В41', 'В42', 'Ка', 'Nf', 'Nf_max', 'Iter', 'Iter_max', 't', 't_max'])\n",
    "df_lm['СКО'] = std_arr\n",
    "results = []"
   ]
  },
  {
   "cell_type": "code",
   "execution_count": 6,
   "metadata": {},
   "outputs": [
    {
     "output_type": "stream",
     "name": "stdout",
     "text": [
      "СКОп = 0.0, tau = 2, end_time = 1200\n",
      "Алгоритм:: Метод N пеленгов\n",
      "Моделирование 100 результатов закончено за t = 0.4 с\n",
      "Показатели Монте-Карло:\n",
      "Вариант 0: Рэф = 100%, Рэф_мин = 1\n",
      "Вариант 1: Рэф = 100%, Рэф_мин = 1\n",
      "Вариант 2: Рэф = 100%, Рэф_мин = 1\n",
      "Вариант 3: Рэф = 100%, Рэф_мин = 1\n",
      "Ка = 0.00\n",
      "t = 0.0002, t_max = 0.0006\n"
     ]
    },
    {
     "output_type": "display_data",
     "data": {
      "text/plain": "  П0_ист  Д0_ист   К0_ист V0_ист П0_расч Д0_расч  К0_расч V0_расч Птек_ист  \\\n0    0.0  30.000   98.786  11.58     0.0  30.000   98.786   11.58     30.5   \n1    0.0  30.000   75.064  11.64     0.0  30.000   75.064   11.64     25.3   \n2    0.0  30.000   78.479   3.31     0.0  30.000   78.479    3.31     10.2   \n3    0.0  30.000   99.144  11.50     0.0  30.000   99.144   11.50     30.4   \n4    0.0  30.000  174.065   9.57     0.0  30.000  174.065    9.57      8.4   \n\n  Дтек_ист Птек_расч Дтек_расч    Ка         Успех      t  \n0   29.331    30.545     29.33  0.00  [1, 1, 1, 1]  0.000  \n1   34.283    25.337     34.28  0.00  [1, 1, 1, 1]  0.000  \n2   28.629    10.188     28.63  0.00  [1, 1, 1, 1]  0.000  \n3   29.213    30.422     29.21  0.00  [1, 1, 1, 1]  0.000  \n4   16.138     8.400     16.14  0.00  [1, 1, 1, 1]  0.000  ",
      "text/html": "<div>\n<style scoped>\n    .dataframe tbody tr th:only-of-type {\n        vertical-align: middle;\n    }\n\n    .dataframe tbody tr th {\n        vertical-align: top;\n    }\n\n    .dataframe thead th {\n        text-align: right;\n    }\n</style>\n<table border=\"1\" class=\"dataframe\">\n  <thead>\n    <tr style=\"text-align: right;\">\n      <th></th>\n      <th>П0_ист</th>\n      <th>Д0_ист</th>\n      <th>К0_ист</th>\n      <th>V0_ист</th>\n      <th>П0_расч</th>\n      <th>Д0_расч</th>\n      <th>К0_расч</th>\n      <th>V0_расч</th>\n      <th>Птек_ист</th>\n      <th>Дтек_ист</th>\n      <th>Птек_расч</th>\n      <th>Дтек_расч</th>\n      <th>Ка</th>\n      <th>Успех</th>\n      <th>t</th>\n    </tr>\n  </thead>\n  <tbody>\n    <tr>\n      <th>0</th>\n      <td>0.0</td>\n      <td>30.000</td>\n      <td>98.786</td>\n      <td>11.58</td>\n      <td>0.0</td>\n      <td>30.000</td>\n      <td>98.786</td>\n      <td>11.58</td>\n      <td>30.5</td>\n      <td>29.331</td>\n      <td>30.545</td>\n      <td>29.33</td>\n      <td>0.00</td>\n      <td>[1, 1, 1, 1]</td>\n      <td>0.000</td>\n    </tr>\n    <tr>\n      <th>1</th>\n      <td>0.0</td>\n      <td>30.000</td>\n      <td>75.064</td>\n      <td>11.64</td>\n      <td>0.0</td>\n      <td>30.000</td>\n      <td>75.064</td>\n      <td>11.64</td>\n      <td>25.3</td>\n      <td>34.283</td>\n      <td>25.337</td>\n      <td>34.28</td>\n      <td>0.00</td>\n      <td>[1, 1, 1, 1]</td>\n      <td>0.000</td>\n    </tr>\n    <tr>\n      <th>2</th>\n      <td>0.0</td>\n      <td>30.000</td>\n      <td>78.479</td>\n      <td>3.31</td>\n      <td>0.0</td>\n      <td>30.000</td>\n      <td>78.479</td>\n      <td>3.31</td>\n      <td>10.2</td>\n      <td>28.629</td>\n      <td>10.188</td>\n      <td>28.63</td>\n      <td>0.00</td>\n      <td>[1, 1, 1, 1]</td>\n      <td>0.000</td>\n    </tr>\n    <tr>\n      <th>3</th>\n      <td>0.0</td>\n      <td>30.000</td>\n      <td>99.144</td>\n      <td>11.50</td>\n      <td>0.0</td>\n      <td>30.000</td>\n      <td>99.144</td>\n      <td>11.50</td>\n      <td>30.4</td>\n      <td>29.213</td>\n      <td>30.422</td>\n      <td>29.21</td>\n      <td>0.00</td>\n      <td>[1, 1, 1, 1]</td>\n      <td>0.000</td>\n    </tr>\n    <tr>\n      <th>4</th>\n      <td>0.0</td>\n      <td>30.000</td>\n      <td>174.065</td>\n      <td>9.57</td>\n      <td>0.0</td>\n      <td>30.000</td>\n      <td>174.065</td>\n      <td>9.57</td>\n      <td>8.4</td>\n      <td>16.138</td>\n      <td>8.400</td>\n      <td>16.14</td>\n      <td>0.00</td>\n      <td>[1, 1, 1, 1]</td>\n      <td>0.000</td>\n    </tr>\n  </tbody>\n</table>\n</div>"
     },
     "metadata": {}
    },
    {
     "output_type": "stream",
     "name": "stdout",
     "text": [
      "_________________________________________________\n",
      "СКОп = 0.1, tau = 2, end_time = 1200\n",
      "Алгоритм:: Метод N пеленгов\n",
      "Моделирование 100 результатов закончено за t = 0.3 с\n",
      "Показатели Монте-Карло:\n",
      "Вариант 0: Рэф = 63%, Рэф_мин = 0\n",
      "Вариант 1: Рэф = 78%, Рэф_мин = 0\n",
      "Вариант 2: Рэф = 78%, Рэф_мин = 0\n",
      "Вариант 3: Рэф = 92%, Рэф_мин = 0\n",
      "Ка = 0.01\n",
      "t = 0.0002, t_max = 0.0007\n"
     ]
    },
    {
     "output_type": "display_data",
     "data": {
      "text/plain": "  П0_ист  Д0_ист   К0_ист V0_ист П0_расч Д0_расч  К0_расч V0_расч Птек_ист  \\\n0    0.0  30.000   98.786  11.58   359.8  30.424   96.469   12.06     30.5   \n1    0.0  30.000   75.064  11.64   359.8  29.952   72.993   12.07     25.3   \n2    0.0  30.000   78.479   3.31     0.0  29.867   86.626    3.12     10.2   \n3    0.0  30.000   99.144  11.50   359.8  30.274   96.748   11.89     30.4   \n4    0.0  30.000  174.065   9.57   360.0  29.867  174.240    9.59      8.4   \n\n  Дтек_ист Птек_расч Дтек_расч    Ка         Успех      t  \n0   29.331    30.565     30.40  0.01  [1, 1, 1, 1]  0.000  \n1   34.283    25.312     34.92  0.01  [1, 1, 1, 1]  0.000  \n2   28.629    10.171     27.91  0.01  [0, 1, 1, 1]  0.000  \n3   29.213    30.411     30.12  0.01  [1, 1, 1, 1]  0.000  \n4   16.138     8.360     15.97  0.01  [1, 1, 1, 1]  0.000  ",
      "text/html": "<div>\n<style scoped>\n    .dataframe tbody tr th:only-of-type {\n        vertical-align: middle;\n    }\n\n    .dataframe tbody tr th {\n        vertical-align: top;\n    }\n\n    .dataframe thead th {\n        text-align: right;\n    }\n</style>\n<table border=\"1\" class=\"dataframe\">\n  <thead>\n    <tr style=\"text-align: right;\">\n      <th></th>\n      <th>П0_ист</th>\n      <th>Д0_ист</th>\n      <th>К0_ист</th>\n      <th>V0_ист</th>\n      <th>П0_расч</th>\n      <th>Д0_расч</th>\n      <th>К0_расч</th>\n      <th>V0_расч</th>\n      <th>Птек_ист</th>\n      <th>Дтек_ист</th>\n      <th>Птек_расч</th>\n      <th>Дтек_расч</th>\n      <th>Ка</th>\n      <th>Успех</th>\n      <th>t</th>\n    </tr>\n  </thead>\n  <tbody>\n    <tr>\n      <th>0</th>\n      <td>0.0</td>\n      <td>30.000</td>\n      <td>98.786</td>\n      <td>11.58</td>\n      <td>359.8</td>\n      <td>30.424</td>\n      <td>96.469</td>\n      <td>12.06</td>\n      <td>30.5</td>\n      <td>29.331</td>\n      <td>30.565</td>\n      <td>30.40</td>\n      <td>0.01</td>\n      <td>[1, 1, 1, 1]</td>\n      <td>0.000</td>\n    </tr>\n    <tr>\n      <th>1</th>\n      <td>0.0</td>\n      <td>30.000</td>\n      <td>75.064</td>\n      <td>11.64</td>\n      <td>359.8</td>\n      <td>29.952</td>\n      <td>72.993</td>\n      <td>12.07</td>\n      <td>25.3</td>\n      <td>34.283</td>\n      <td>25.312</td>\n      <td>34.92</td>\n      <td>0.01</td>\n      <td>[1, 1, 1, 1]</td>\n      <td>0.000</td>\n    </tr>\n    <tr>\n      <th>2</th>\n      <td>0.0</td>\n      <td>30.000</td>\n      <td>78.479</td>\n      <td>3.31</td>\n      <td>0.0</td>\n      <td>29.867</td>\n      <td>86.626</td>\n      <td>3.12</td>\n      <td>10.2</td>\n      <td>28.629</td>\n      <td>10.171</td>\n      <td>27.91</td>\n      <td>0.01</td>\n      <td>[0, 1, 1, 1]</td>\n      <td>0.000</td>\n    </tr>\n    <tr>\n      <th>3</th>\n      <td>0.0</td>\n      <td>30.000</td>\n      <td>99.144</td>\n      <td>11.50</td>\n      <td>359.8</td>\n      <td>30.274</td>\n      <td>96.748</td>\n      <td>11.89</td>\n      <td>30.4</td>\n      <td>29.213</td>\n      <td>30.411</td>\n      <td>30.12</td>\n      <td>0.01</td>\n      <td>[1, 1, 1, 1]</td>\n      <td>0.000</td>\n    </tr>\n    <tr>\n      <th>4</th>\n      <td>0.0</td>\n      <td>30.000</td>\n      <td>174.065</td>\n      <td>9.57</td>\n      <td>360.0</td>\n      <td>29.867</td>\n      <td>174.240</td>\n      <td>9.59</td>\n      <td>8.4</td>\n      <td>16.138</td>\n      <td>8.360</td>\n      <td>15.97</td>\n      <td>0.01</td>\n      <td>[1, 1, 1, 1]</td>\n      <td>0.000</td>\n    </tr>\n  </tbody>\n</table>\n</div>"
     },
     "metadata": {}
    },
    {
     "output_type": "stream",
     "name": "stdout",
     "text": [
      "_________________________________________________\n",
      "СКОп = 0.2, tau = 2, end_time = 1200\n",
      "Алгоритм:: Метод N пеленгов\n",
      "Моделирование 100 результатов закончено за t = 0.3 с\n",
      "Показатели Монте-Карло:\n",
      "Вариант 0: Рэф = 44%, Рэф_мин = 0\n",
      "Вариант 1: Рэф = 58%, Рэф_мин = 0\n",
      "Вариант 2: Рэф = 59%, Рэф_мин = 0\n",
      "Вариант 3: Рэф = 66%, Рэф_мин = 0\n",
      "Ка = 0.05\n",
      "t = 0.0002, t_max = 0.0006\n"
     ]
    },
    {
     "output_type": "display_data",
     "data": {
      "text/plain": "  П0_ист  Д0_ист   К0_ист V0_ист П0_расч Д0_расч  К0_расч V0_расч Птек_ист  \\\n0    0.0  30.000   98.786  11.58   359.6  29.860   94.410   12.05     30.5   \n1    0.0  30.000   75.064  11.64   359.7  28.920   71.086   11.96     25.3   \n2    0.0  30.000   78.479   3.31     0.1  29.234   97.857    2.90     10.2   \n3    0.0  30.000   99.144  11.50   359.6  29.441   94.617   11.74     30.4   \n4    0.0  30.000  174.065   9.57   360.0  29.455  174.636    9.57      8.4   \n\n  Дтек_ист Птек_расч Дтек_расч    Ка         Успех      t  \n0   29.331    30.519     30.33  0.05  [1, 1, 1, 1]  0.000  \n1   34.283    25.223     34.22  0.05  [1, 1, 1, 1]  0.000  \n2   28.629    10.100     26.55  0.04  [0, 0, 0, 0]  0.000  \n3   29.213    30.324     29.76  0.06  [1, 1, 1, 1]  0.000  \n4   16.138     8.266     15.57  0.04  [1, 1, 1, 1]  0.000  ",
      "text/html": "<div>\n<style scoped>\n    .dataframe tbody tr th:only-of-type {\n        vertical-align: middle;\n    }\n\n    .dataframe tbody tr th {\n        vertical-align: top;\n    }\n\n    .dataframe thead th {\n        text-align: right;\n    }\n</style>\n<table border=\"1\" class=\"dataframe\">\n  <thead>\n    <tr style=\"text-align: right;\">\n      <th></th>\n      <th>П0_ист</th>\n      <th>Д0_ист</th>\n      <th>К0_ист</th>\n      <th>V0_ист</th>\n      <th>П0_расч</th>\n      <th>Д0_расч</th>\n      <th>К0_расч</th>\n      <th>V0_расч</th>\n      <th>Птек_ист</th>\n      <th>Дтек_ист</th>\n      <th>Птек_расч</th>\n      <th>Дтек_расч</th>\n      <th>Ка</th>\n      <th>Успех</th>\n      <th>t</th>\n    </tr>\n  </thead>\n  <tbody>\n    <tr>\n      <th>0</th>\n      <td>0.0</td>\n      <td>30.000</td>\n      <td>98.786</td>\n      <td>11.58</td>\n      <td>359.6</td>\n      <td>29.860</td>\n      <td>94.410</td>\n      <td>12.05</td>\n      <td>30.5</td>\n      <td>29.331</td>\n      <td>30.519</td>\n      <td>30.33</td>\n      <td>0.05</td>\n      <td>[1, 1, 1, 1]</td>\n      <td>0.000</td>\n    </tr>\n    <tr>\n      <th>1</th>\n      <td>0.0</td>\n      <td>30.000</td>\n      <td>75.064</td>\n      <td>11.64</td>\n      <td>359.7</td>\n      <td>28.920</td>\n      <td>71.086</td>\n      <td>11.96</td>\n      <td>25.3</td>\n      <td>34.283</td>\n      <td>25.223</td>\n      <td>34.22</td>\n      <td>0.05</td>\n      <td>[1, 1, 1, 1]</td>\n      <td>0.000</td>\n    </tr>\n    <tr>\n      <th>2</th>\n      <td>0.0</td>\n      <td>30.000</td>\n      <td>78.479</td>\n      <td>3.31</td>\n      <td>0.1</td>\n      <td>29.234</td>\n      <td>97.857</td>\n      <td>2.90</td>\n      <td>10.2</td>\n      <td>28.629</td>\n      <td>10.100</td>\n      <td>26.55</td>\n      <td>0.04</td>\n      <td>[0, 0, 0, 0]</td>\n      <td>0.000</td>\n    </tr>\n    <tr>\n      <th>3</th>\n      <td>0.0</td>\n      <td>30.000</td>\n      <td>99.144</td>\n      <td>11.50</td>\n      <td>359.6</td>\n      <td>29.441</td>\n      <td>94.617</td>\n      <td>11.74</td>\n      <td>30.4</td>\n      <td>29.213</td>\n      <td>30.324</td>\n      <td>29.76</td>\n      <td>0.06</td>\n      <td>[1, 1, 1, 1]</td>\n      <td>0.000</td>\n    </tr>\n    <tr>\n      <th>4</th>\n      <td>0.0</td>\n      <td>30.000</td>\n      <td>174.065</td>\n      <td>9.57</td>\n      <td>360.0</td>\n      <td>29.455</td>\n      <td>174.636</td>\n      <td>9.57</td>\n      <td>8.4</td>\n      <td>16.138</td>\n      <td>8.266</td>\n      <td>15.57</td>\n      <td>0.04</td>\n      <td>[1, 1, 1, 1]</td>\n      <td>0.000</td>\n    </tr>\n  </tbody>\n</table>\n</div>"
     },
     "metadata": {}
    },
    {
     "output_type": "stream",
     "name": "stdout",
     "text": [
      "_________________________________________________\n",
      "СКОп = 0.3, tau = 2, end_time = 1200\n",
      "Алгоритм:: Метод N пеленгов\n",
      "Моделирование 100 результатов закончено за t = 0.3 с\n",
      "Показатели Монте-Карло:\n",
      "Вариант 0: Рэф = 0%, Рэф_мин = 0\n",
      "Вариант 1: Рэф = 39%, Рэф_мин = 0\n",
      "Вариант 2: Рэф = 47%, Рэф_мин = 0\n",
      "Вариант 3: Рэф = 54%, Рэф_мин = 0\n",
      "Ка = 0.11\n",
      "t = 0.0002, t_max = 0.0003\n"
     ]
    },
    {
     "output_type": "display_data",
     "data": {
      "text/plain": "  П0_ист  Д0_ист   К0_ист V0_ист П0_расч Д0_расч  К0_расч V0_расч Птек_ист  \\\n0    0.0  30.000   98.786  11.58   359.5  28.296   92.548   11.51     30.5   \n1    0.0  30.000   75.064  11.64   359.5  27.028   69.260   11.34     25.3   \n2    0.0  30.000   78.479   3.31     0.1  28.190  112.207    2.74     10.2   \n3    0.0  30.000   99.144  11.50   359.5  27.568   92.677   11.03     30.4   \n4    0.0  30.000  174.065   9.57   360.0  28.790  175.231    9.51      8.4   \n\n  Дтек_ист Птек_расч Дтек_расч    Ка         Успех      t  \n0   29.331    30.399     29.06  0.12  [0, 1, 1, 1]  0.000  \n1   34.283    25.066     32.27  0.13  [0, 1, 1, 1]  0.000  \n2   28.629     9.972     24.70  0.11  [0, 0, 0, 0]  0.000  \n3   29.213    30.153     28.14  0.15  [0, 1, 1, 1]  0.000  \n4   16.138     8.115     14.96  0.09  [0, 1, 1, 1]  0.000  ",
      "text/html": "<div>\n<style scoped>\n    .dataframe tbody tr th:only-of-type {\n        vertical-align: middle;\n    }\n\n    .dataframe tbody tr th {\n        vertical-align: top;\n    }\n\n    .dataframe thead th {\n        text-align: right;\n    }\n</style>\n<table border=\"1\" class=\"dataframe\">\n  <thead>\n    <tr style=\"text-align: right;\">\n      <th></th>\n      <th>П0_ист</th>\n      <th>Д0_ист</th>\n      <th>К0_ист</th>\n      <th>V0_ист</th>\n      <th>П0_расч</th>\n      <th>Д0_расч</th>\n      <th>К0_расч</th>\n      <th>V0_расч</th>\n      <th>Птек_ист</th>\n      <th>Дтек_ист</th>\n      <th>Птек_расч</th>\n      <th>Дтек_расч</th>\n      <th>Ка</th>\n      <th>Успех</th>\n      <th>t</th>\n    </tr>\n  </thead>\n  <tbody>\n    <tr>\n      <th>0</th>\n      <td>0.0</td>\n      <td>30.000</td>\n      <td>98.786</td>\n      <td>11.58</td>\n      <td>359.5</td>\n      <td>28.296</td>\n      <td>92.548</td>\n      <td>11.51</td>\n      <td>30.5</td>\n      <td>29.331</td>\n      <td>30.399</td>\n      <td>29.06</td>\n      <td>0.12</td>\n      <td>[0, 1, 1, 1]</td>\n      <td>0.000</td>\n    </tr>\n    <tr>\n      <th>1</th>\n      <td>0.0</td>\n      <td>30.000</td>\n      <td>75.064</td>\n      <td>11.64</td>\n      <td>359.5</td>\n      <td>27.028</td>\n      <td>69.260</td>\n      <td>11.34</td>\n      <td>25.3</td>\n      <td>34.283</td>\n      <td>25.066</td>\n      <td>32.27</td>\n      <td>0.13</td>\n      <td>[0, 1, 1, 1]</td>\n      <td>0.000</td>\n    </tr>\n    <tr>\n      <th>2</th>\n      <td>0.0</td>\n      <td>30.000</td>\n      <td>78.479</td>\n      <td>3.31</td>\n      <td>0.1</td>\n      <td>28.190</td>\n      <td>112.207</td>\n      <td>2.74</td>\n      <td>10.2</td>\n      <td>28.629</td>\n      <td>9.972</td>\n      <td>24.70</td>\n      <td>0.11</td>\n      <td>[0, 0, 0, 0]</td>\n      <td>0.000</td>\n    </tr>\n    <tr>\n      <th>3</th>\n      <td>0.0</td>\n      <td>30.000</td>\n      <td>99.144</td>\n      <td>11.50</td>\n      <td>359.5</td>\n      <td>27.568</td>\n      <td>92.677</td>\n      <td>11.03</td>\n      <td>30.4</td>\n      <td>29.213</td>\n      <td>30.153</td>\n      <td>28.14</td>\n      <td>0.15</td>\n      <td>[0, 1, 1, 1]</td>\n      <td>0.000</td>\n    </tr>\n    <tr>\n      <th>4</th>\n      <td>0.0</td>\n      <td>30.000</td>\n      <td>174.065</td>\n      <td>9.57</td>\n      <td>360.0</td>\n      <td>28.790</td>\n      <td>175.231</td>\n      <td>9.51</td>\n      <td>8.4</td>\n      <td>16.138</td>\n      <td>8.115</td>\n      <td>14.96</td>\n      <td>0.09</td>\n      <td>[0, 1, 1, 1]</td>\n      <td>0.000</td>\n    </tr>\n  </tbody>\n</table>\n</div>"
     },
     "metadata": {}
    },
    {
     "output_type": "stream",
     "name": "stdout",
     "text": [
      "_________________________________________________\n",
      "СКОп = 0.5, tau = 2, end_time = 1200\n",
      "Алгоритм:: Метод N пеленгов\n",
      "Моделирование 100 результатов закончено за t = 0.3 с\n",
      "Показатели Монте-Карло:\n",
      "Вариант 0: Рэф = 0%, Рэф_мин = 0\n",
      "Вариант 1: Рэф = 0%, Рэф_мин = 0\n",
      "Вариант 2: Рэф = 0%, Рэф_мин = 0\n",
      "Вариант 3: Рэф = 1%, Рэф_мин = 0\n",
      "Ка = 0.37\n",
      "t = 0.0002, t_max = 0.0005\n"
     ]
    },
    {
     "output_type": "display_data",
     "data": {
      "text/plain": "  П0_ист  Д0_ист   К0_ист V0_ист П0_расч Д0_расч  К0_расч V0_расч Птек_ист  \\\n0    0.0  30.000   98.786  11.58   359.1  23.082   89.166    9.20     30.5   \n1    0.0  30.000   75.064  11.64   359.2  21.831   65.545    9.13     25.3   \n2    0.0  30.000   78.479   3.31     0.2  25.351  143.400    2.91     10.2   \n3    0.0  30.000   99.144  11.50   359.1  21.960   89.070    8.51     30.4   \n4    0.0  30.000  174.065   9.57   360.0  26.877  176.906    9.28      8.4   \n\n  Дтек_ист Птек_расч Дтек_расч    Ка         Успех      t  \n0   29.331    29.897     23.79  0.46  [0, 0, 0, 0]  0.000  \n1   34.283    24.524     26.10  0.46  [0, 0, 0, 0]  0.000  \n2   28.629     9.525     20.21  0.34  [0, 0, 0, 0]  0.000  \n3   29.213    29.517     22.42  0.55  [0, 0, 0, 0]  0.000  \n4   16.138     7.625     13.26  0.28  [0, 0, 0, 0]  0.000  ",
      "text/html": "<div>\n<style scoped>\n    .dataframe tbody tr th:only-of-type {\n        vertical-align: middle;\n    }\n\n    .dataframe tbody tr th {\n        vertical-align: top;\n    }\n\n    .dataframe thead th {\n        text-align: right;\n    }\n</style>\n<table border=\"1\" class=\"dataframe\">\n  <thead>\n    <tr style=\"text-align: right;\">\n      <th></th>\n      <th>П0_ист</th>\n      <th>Д0_ист</th>\n      <th>К0_ист</th>\n      <th>V0_ист</th>\n      <th>П0_расч</th>\n      <th>Д0_расч</th>\n      <th>К0_расч</th>\n      <th>V0_расч</th>\n      <th>Птек_ист</th>\n      <th>Дтек_ист</th>\n      <th>Птек_расч</th>\n      <th>Дтек_расч</th>\n      <th>Ка</th>\n      <th>Успех</th>\n      <th>t</th>\n    </tr>\n  </thead>\n  <tbody>\n    <tr>\n      <th>0</th>\n      <td>0.0</td>\n      <td>30.000</td>\n      <td>98.786</td>\n      <td>11.58</td>\n      <td>359.1</td>\n      <td>23.082</td>\n      <td>89.166</td>\n      <td>9.20</td>\n      <td>30.5</td>\n      <td>29.331</td>\n      <td>29.897</td>\n      <td>23.79</td>\n      <td>0.46</td>\n      <td>[0, 0, 0, 0]</td>\n      <td>0.000</td>\n    </tr>\n    <tr>\n      <th>1</th>\n      <td>0.0</td>\n      <td>30.000</td>\n      <td>75.064</td>\n      <td>11.64</td>\n      <td>359.2</td>\n      <td>21.831</td>\n      <td>65.545</td>\n      <td>9.13</td>\n      <td>25.3</td>\n      <td>34.283</td>\n      <td>24.524</td>\n      <td>26.10</td>\n      <td>0.46</td>\n      <td>[0, 0, 0, 0]</td>\n      <td>0.000</td>\n    </tr>\n    <tr>\n      <th>2</th>\n      <td>0.0</td>\n      <td>30.000</td>\n      <td>78.479</td>\n      <td>3.31</td>\n      <td>0.2</td>\n      <td>25.351</td>\n      <td>143.400</td>\n      <td>2.91</td>\n      <td>10.2</td>\n      <td>28.629</td>\n      <td>9.525</td>\n      <td>20.21</td>\n      <td>0.34</td>\n      <td>[0, 0, 0, 0]</td>\n      <td>0.000</td>\n    </tr>\n    <tr>\n      <th>3</th>\n      <td>0.0</td>\n      <td>30.000</td>\n      <td>99.144</td>\n      <td>11.50</td>\n      <td>359.1</td>\n      <td>21.960</td>\n      <td>89.070</td>\n      <td>8.51</td>\n      <td>30.4</td>\n      <td>29.213</td>\n      <td>29.517</td>\n      <td>22.42</td>\n      <td>0.55</td>\n      <td>[0, 0, 0, 0]</td>\n      <td>0.000</td>\n    </tr>\n    <tr>\n      <th>4</th>\n      <td>0.0</td>\n      <td>30.000</td>\n      <td>174.065</td>\n      <td>9.57</td>\n      <td>360.0</td>\n      <td>26.877</td>\n      <td>176.906</td>\n      <td>9.28</td>\n      <td>8.4</td>\n      <td>16.138</td>\n      <td>7.625</td>\n      <td>13.26</td>\n      <td>0.28</td>\n      <td>[0, 0, 0, 0]</td>\n      <td>0.000</td>\n    </tr>\n  </tbody>\n</table>\n</div>"
     },
     "metadata": {}
    },
    {
     "output_type": "stream",
     "name": "stdout",
     "text": [
      "_________________________________________________\n",
      "СКОп = 1.0, tau = 2, end_time = 1200\n",
      "Алгоритм:: Метод N пеленгов\n",
      "Моделирование 100 результатов закончено за t = 0.3 с\n",
      "Показатели Монте-Карло:\n",
      "Вариант 0: Рэф = 0%, Рэф_мин = 0\n",
      "Вариант 1: Рэф = 0%, Рэф_мин = 0\n",
      "Вариант 2: Рэф = 0%, Рэф_мин = 0\n",
      "Вариант 3: Рэф = 0%, Рэф_мин = 0\n",
      "Ка = 3.22\n",
      "t = 0.0002, t_max = 0.0006\n"
     ]
    },
    {
     "output_type": "display_data",
     "data": {
      "text/plain": "  П0_ист  Д0_ист   К0_ист V0_ист П0_расч Д0_расч  К0_расч V0_расч Птек_ист  \\\n0    0.0  30.000   98.786  11.58   358.2  10.559   78.196    2.90     30.5   \n1    0.0  30.000   75.064  11.64   358.4  10.849   51.253    3.68     25.3   \n2    0.0  30.000   78.479   3.31     0.4  18.087  181.406    4.69     10.2   \n3    0.0  30.000   99.144  11.50   358.2   9.940   75.841    2.53     30.4   \n4    0.0  30.000  174.065   9.57   359.9  20.829  182.539    8.35      8.4   \n\n  Дтек_ист Птек_расч Дтек_расч    Ка         Успех      t  \n0   29.331    26.151      9.63  5.49  [0, 0, 0, 0]  0.000  \n1   34.283    21.400     11.81  4.37  [0, 0, 0, 0]  0.000  \n2   28.629     6.744      9.91  2.46  [0, 0, 0, 0]  0.000  \n3   29.213    25.255      8.91  6.42  [0, 0, 0, 0]  0.000  \n4   16.138     4.934      8.23  1.86  [0, 0, 0, 0]  0.000  ",
      "text/html": "<div>\n<style scoped>\n    .dataframe tbody tr th:only-of-type {\n        vertical-align: middle;\n    }\n\n    .dataframe tbody tr th {\n        vertical-align: top;\n    }\n\n    .dataframe thead th {\n        text-align: right;\n    }\n</style>\n<table border=\"1\" class=\"dataframe\">\n  <thead>\n    <tr style=\"text-align: right;\">\n      <th></th>\n      <th>П0_ист</th>\n      <th>Д0_ист</th>\n      <th>К0_ист</th>\n      <th>V0_ист</th>\n      <th>П0_расч</th>\n      <th>Д0_расч</th>\n      <th>К0_расч</th>\n      <th>V0_расч</th>\n      <th>Птек_ист</th>\n      <th>Дтек_ист</th>\n      <th>Птек_расч</th>\n      <th>Дтек_расч</th>\n      <th>Ка</th>\n      <th>Успех</th>\n      <th>t</th>\n    </tr>\n  </thead>\n  <tbody>\n    <tr>\n      <th>0</th>\n      <td>0.0</td>\n      <td>30.000</td>\n      <td>98.786</td>\n      <td>11.58</td>\n      <td>358.2</td>\n      <td>10.559</td>\n      <td>78.196</td>\n      <td>2.90</td>\n      <td>30.5</td>\n      <td>29.331</td>\n      <td>26.151</td>\n      <td>9.63</td>\n      <td>5.49</td>\n      <td>[0, 0, 0, 0]</td>\n      <td>0.000</td>\n    </tr>\n    <tr>\n      <th>1</th>\n      <td>0.0</td>\n      <td>30.000</td>\n      <td>75.064</td>\n      <td>11.64</td>\n      <td>358.4</td>\n      <td>10.849</td>\n      <td>51.253</td>\n      <td>3.68</td>\n      <td>25.3</td>\n      <td>34.283</td>\n      <td>21.400</td>\n      <td>11.81</td>\n      <td>4.37</td>\n      <td>[0, 0, 0, 0]</td>\n      <td>0.000</td>\n    </tr>\n    <tr>\n      <th>2</th>\n      <td>0.0</td>\n      <td>30.000</td>\n      <td>78.479</td>\n      <td>3.31</td>\n      <td>0.4</td>\n      <td>18.087</td>\n      <td>181.406</td>\n      <td>4.69</td>\n      <td>10.2</td>\n      <td>28.629</td>\n      <td>6.744</td>\n      <td>9.91</td>\n      <td>2.46</td>\n      <td>[0, 0, 0, 0]</td>\n      <td>0.000</td>\n    </tr>\n    <tr>\n      <th>3</th>\n      <td>0.0</td>\n      <td>30.000</td>\n      <td>99.144</td>\n      <td>11.50</td>\n      <td>358.2</td>\n      <td>9.940</td>\n      <td>75.841</td>\n      <td>2.53</td>\n      <td>30.4</td>\n      <td>29.213</td>\n      <td>25.255</td>\n      <td>8.91</td>\n      <td>6.42</td>\n      <td>[0, 0, 0, 0]</td>\n      <td>0.000</td>\n    </tr>\n    <tr>\n      <th>4</th>\n      <td>0.0</td>\n      <td>30.000</td>\n      <td>174.065</td>\n      <td>9.57</td>\n      <td>359.9</td>\n      <td>20.829</td>\n      <td>182.539</td>\n      <td>8.35</td>\n      <td>8.4</td>\n      <td>16.138</td>\n      <td>4.934</td>\n      <td>8.23</td>\n      <td>1.86</td>\n      <td>[0, 0, 0, 0]</td>\n      <td>0.000</td>\n    </tr>\n  </tbody>\n</table>\n</div>"
     },
     "metadata": {}
    },
    {
     "output_type": "stream",
     "name": "stdout",
     "text": [
      "_________________________________________________\n"
     ]
    }
   ],
   "source": [
    "for std in std_arr:\n",
    "\n",
    "    tma = TMA(observer, std=np.radians(std), tau=2, verbose=True)\n",
    "    algorithm_name = 'Метод N пеленгов'\n",
    "    res = [algorithm_name]\n",
    "    dict_results = tma.swarm(n=100, algorithm_name=algorithm_name, target_func=target_func, p0=p0, seeded=True, verbose=True)\n",
    "    df = tests.get_df(dict_results).dropna(axis=1)\n",
    "\n",
    "    print('Показатели Монте-Карло:')\n",
    "    for i in range(4):\n",
    "        success = df['Успех'].apply(lambda x: x[i])\n",
    "        success_rate = 100 * success.mean()\n",
    "        success_min = min(success)\n",
    "        print('Вариант {}: Рэф = {:.0f}%, Рэф_мин = {:.0f}'.format(i, success_rate, success_min))\n",
    "        res.extend([success_rate, success_min])\n",
    "    k_a_mean = df['Ка'].mean()\n",
    "    t_mean = df['t'].mean()\n",
    "    t_max = max(df['t'])\n",
    "    std = np.degrees(tma.standart_deviation)\n",
    "    print('Ка = {:.2f}'.format(k_a_mean))\n",
    "    print('t = {:.4f}, t_max = {:.4f}'.format(t_mean, t_max))\n",
    "    \n",
    "    d_df = df.copy()\n",
    "    for i, j in enumerate(df.columns):\n",
    "        try: d_df[j] = df[j].apply(lambda x: precisions_1[i].format(np.float64(x)))\n",
    "        except(TypeError): pass\n",
    "    display(d_df.drop(['Кб'], axis=1).head())\n",
    "\n",
    "    res.extend([k_a_mean, t_mean, t_max])\n",
    "    results.append(res)\n",
    "    tests.save_df(df, name='../tests/test1/d30/N, ' + str(np.degrees(tma.standart_deviation)) + '.xlsx')\n",
    "    print('_'*40)\n",
    "\n",
    "df_n = pd.DataFrame(results, columns=['Алгоритм', 'В11', 'В12', 'В21', 'В22', 'В31', 'В32', 'В41', 'В42', 'Ка', 't', 't_max'])\n",
    "df_n['СКО'] = std_arr"
   ]
  },
  {
   "cell_type": "code",
   "execution_count": 7,
   "metadata": {},
   "outputs": [
    {
     "output_type": "stream",
     "name": "stdout",
     "text": [
      "Сводная таблица:\n"
     ]
    },
    {
     "output_type": "execute_result",
     "data": {
      "text/plain": [
       "    СКО          Алгоритм  В11 В12  В21 В22  В31 В32  В41 В42 sqrt(Ка)   Nf  \\\n",
       "0   0.0            ММП v2  100   1  100   1  100   1  100   1     0.00    9   \n",
       "1   0.0  Метод N пеленгов  100   1  100   1  100   1  100   1     0.00  nan   \n",
       "2   0.1            ММП v2   98   0  100   1  100   1  100   1     0.10    9   \n",
       "3   0.1  Метод N пеленгов   63   0   78   0   78   0   92   0     0.10  nan   \n",
       "4   0.2            ММП v2   91   0   98   0   98   0  100   1     0.20    9   \n",
       "5   0.2  Метод N пеленгов   44   0   58   0   59   0   66   0     0.21  nan   \n",
       "6   0.3            ММП v2   82   0   95   0   95   0   98   0     0.30    9   \n",
       "7   0.3  Метод N пеленгов    0   0   39   0   47   0   54   0     0.33  nan   \n",
       "8   0.5            ММП v2   51   0   88   0   88   0   92   0     0.50    9   \n",
       "9   0.5  Метод N пеленгов    0   0    0   0    0   0    1   0     0.61  nan   \n",
       "10  1.0            ММП v2   25   0   52   0   53   0   74   0     1.00    9   \n",
       "11  1.0  Метод N пеленгов    0   0    0   0    0   0    0   0     1.80  nan   \n",
       "\n",
       "   Nf_max Iter Iter_max       t   t_max  \n",
       "0      11    8       10  0.0022  0.0322  \n",
       "1     nan  nan      nan  0.0002  0.0006  \n",
       "2      11    8       10  0.0019  0.0030  \n",
       "3     nan  nan      nan  0.0002  0.0007  \n",
       "4      11    8       10  0.0018  0.0030  \n",
       "5     nan  nan      nan  0.0002  0.0006  \n",
       "6      11    8       10  0.0019  0.0028  \n",
       "7     nan  nan      nan  0.0002  0.0003  \n",
       "8      11    8       10  0.0018  0.0031  \n",
       "9     nan  nan      nan  0.0002  0.0005  \n",
       "10     11    8       10  0.0019  0.0028  \n",
       "11    nan  nan      nan  0.0002  0.0006  "
      ],
      "text/html": "<div>\n<style scoped>\n    .dataframe tbody tr th:only-of-type {\n        vertical-align: middle;\n    }\n\n    .dataframe tbody tr th {\n        vertical-align: top;\n    }\n\n    .dataframe thead th {\n        text-align: right;\n    }\n</style>\n<table border=\"1\" class=\"dataframe\">\n  <thead>\n    <tr style=\"text-align: right;\">\n      <th></th>\n      <th>СКО</th>\n      <th>Алгоритм</th>\n      <th>В11</th>\n      <th>В12</th>\n      <th>В21</th>\n      <th>В22</th>\n      <th>В31</th>\n      <th>В32</th>\n      <th>В41</th>\n      <th>В42</th>\n      <th>sqrt(Ка)</th>\n      <th>Nf</th>\n      <th>Nf_max</th>\n      <th>Iter</th>\n      <th>Iter_max</th>\n      <th>t</th>\n      <th>t_max</th>\n    </tr>\n  </thead>\n  <tbody>\n    <tr>\n      <th>0</th>\n      <td>0.0</td>\n      <td>ММП v2</td>\n      <td>100</td>\n      <td>1</td>\n      <td>100</td>\n      <td>1</td>\n      <td>100</td>\n      <td>1</td>\n      <td>100</td>\n      <td>1</td>\n      <td>0.00</td>\n      <td>9</td>\n      <td>11</td>\n      <td>8</td>\n      <td>10</td>\n      <td>0.0022</td>\n      <td>0.0322</td>\n    </tr>\n    <tr>\n      <th>1</th>\n      <td>0.0</td>\n      <td>Метод N пеленгов</td>\n      <td>100</td>\n      <td>1</td>\n      <td>100</td>\n      <td>1</td>\n      <td>100</td>\n      <td>1</td>\n      <td>100</td>\n      <td>1</td>\n      <td>0.00</td>\n      <td>nan</td>\n      <td>nan</td>\n      <td>nan</td>\n      <td>nan</td>\n      <td>0.0002</td>\n      <td>0.0006</td>\n    </tr>\n    <tr>\n      <th>2</th>\n      <td>0.1</td>\n      <td>ММП v2</td>\n      <td>98</td>\n      <td>0</td>\n      <td>100</td>\n      <td>1</td>\n      <td>100</td>\n      <td>1</td>\n      <td>100</td>\n      <td>1</td>\n      <td>0.10</td>\n      <td>9</td>\n      <td>11</td>\n      <td>8</td>\n      <td>10</td>\n      <td>0.0019</td>\n      <td>0.0030</td>\n    </tr>\n    <tr>\n      <th>3</th>\n      <td>0.1</td>\n      <td>Метод N пеленгов</td>\n      <td>63</td>\n      <td>0</td>\n      <td>78</td>\n      <td>0</td>\n      <td>78</td>\n      <td>0</td>\n      <td>92</td>\n      <td>0</td>\n      <td>0.10</td>\n      <td>nan</td>\n      <td>nan</td>\n      <td>nan</td>\n      <td>nan</td>\n      <td>0.0002</td>\n      <td>0.0007</td>\n    </tr>\n    <tr>\n      <th>4</th>\n      <td>0.2</td>\n      <td>ММП v2</td>\n      <td>91</td>\n      <td>0</td>\n      <td>98</td>\n      <td>0</td>\n      <td>98</td>\n      <td>0</td>\n      <td>100</td>\n      <td>1</td>\n      <td>0.20</td>\n      <td>9</td>\n      <td>11</td>\n      <td>8</td>\n      <td>10</td>\n      <td>0.0018</td>\n      <td>0.0030</td>\n    </tr>\n    <tr>\n      <th>5</th>\n      <td>0.2</td>\n      <td>Метод N пеленгов</td>\n      <td>44</td>\n      <td>0</td>\n      <td>58</td>\n      <td>0</td>\n      <td>59</td>\n      <td>0</td>\n      <td>66</td>\n      <td>0</td>\n      <td>0.21</td>\n      <td>nan</td>\n      <td>nan</td>\n      <td>nan</td>\n      <td>nan</td>\n      <td>0.0002</td>\n      <td>0.0006</td>\n    </tr>\n    <tr>\n      <th>6</th>\n      <td>0.3</td>\n      <td>ММП v2</td>\n      <td>82</td>\n      <td>0</td>\n      <td>95</td>\n      <td>0</td>\n      <td>95</td>\n      <td>0</td>\n      <td>98</td>\n      <td>0</td>\n      <td>0.30</td>\n      <td>9</td>\n      <td>11</td>\n      <td>8</td>\n      <td>10</td>\n      <td>0.0019</td>\n      <td>0.0028</td>\n    </tr>\n    <tr>\n      <th>7</th>\n      <td>0.3</td>\n      <td>Метод N пеленгов</td>\n      <td>0</td>\n      <td>0</td>\n      <td>39</td>\n      <td>0</td>\n      <td>47</td>\n      <td>0</td>\n      <td>54</td>\n      <td>0</td>\n      <td>0.33</td>\n      <td>nan</td>\n      <td>nan</td>\n      <td>nan</td>\n      <td>nan</td>\n      <td>0.0002</td>\n      <td>0.0003</td>\n    </tr>\n    <tr>\n      <th>8</th>\n      <td>0.5</td>\n      <td>ММП v2</td>\n      <td>51</td>\n      <td>0</td>\n      <td>88</td>\n      <td>0</td>\n      <td>88</td>\n      <td>0</td>\n      <td>92</td>\n      <td>0</td>\n      <td>0.50</td>\n      <td>9</td>\n      <td>11</td>\n      <td>8</td>\n      <td>10</td>\n      <td>0.0018</td>\n      <td>0.0031</td>\n    </tr>\n    <tr>\n      <th>9</th>\n      <td>0.5</td>\n      <td>Метод N пеленгов</td>\n      <td>0</td>\n      <td>0</td>\n      <td>0</td>\n      <td>0</td>\n      <td>0</td>\n      <td>0</td>\n      <td>1</td>\n      <td>0</td>\n      <td>0.61</td>\n      <td>nan</td>\n      <td>nan</td>\n      <td>nan</td>\n      <td>nan</td>\n      <td>0.0002</td>\n      <td>0.0005</td>\n    </tr>\n    <tr>\n      <th>10</th>\n      <td>1.0</td>\n      <td>ММП v2</td>\n      <td>25</td>\n      <td>0</td>\n      <td>52</td>\n      <td>0</td>\n      <td>53</td>\n      <td>0</td>\n      <td>74</td>\n      <td>0</td>\n      <td>1.00</td>\n      <td>9</td>\n      <td>11</td>\n      <td>8</td>\n      <td>10</td>\n      <td>0.0019</td>\n      <td>0.0028</td>\n    </tr>\n    <tr>\n      <th>11</th>\n      <td>1.0</td>\n      <td>Метод N пеленгов</td>\n      <td>0</td>\n      <td>0</td>\n      <td>0</td>\n      <td>0</td>\n      <td>0</td>\n      <td>0</td>\n      <td>0</td>\n      <td>0</td>\n      <td>1.80</td>\n      <td>nan</td>\n      <td>nan</td>\n      <td>nan</td>\n      <td>nan</td>\n      <td>0.0002</td>\n      <td>0.0006</td>\n    </tr>\n  </tbody>\n</table>\n</div>"
     },
     "metadata": {},
     "execution_count": 7
    }
   ],
   "source": [
    "df = pd.concat([df_lm, df_n])\n",
    "df['Ка'] = df['Ка'].apply(lambda x: np.sqrt(np.float64(x)))\n",
    "df = df.rename(columns={'Ка' : 'sqrt(Ка)'})\n",
    "for i, j in enumerate(df.columns):\n",
    "        try: df[j] = df[j].apply(lambda x: precisions_3[i].format(np.float64(x)))\n",
    "        except(ValueError): pass\n",
    "\n",
    "print('Сводная таблица:')\n",
    "df = df.groupby('СКО').apply(lambda a: a.drop('СКО', axis=1)[:]).reset_index().drop('level_1', axis=1)\n",
    "df"
   ]
  },
  {
   "cell_type": "code",
   "execution_count": 8,
   "metadata": {},
   "outputs": [],
   "source": [
    "import docx\n",
    "doc = docx.Document()\n",
    "t = doc.add_table(df.shape[0]+1, df.shape[1])\n",
    "for j in range(df.shape[-1]):\n",
    "    t.cell(0,j).text = df.columns[j]\n",
    "for i in range(df.shape[0]):\n",
    "    for j in range(df.shape[-1]):\n",
    "        t.cell(i+1,j).text = str(df.values[i,j])\n",
    "doc.save('../tests/test1/d30/Сводная таблица.docx')"
   ]
  }
 ]
}