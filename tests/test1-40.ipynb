{
 "metadata": {
  "language_info": {
   "codemirror_mode": {
    "name": "ipython",
    "version": 3
   },
   "file_extension": ".py",
   "mimetype": "text/x-python",
   "name": "python",
   "nbconvert_exporter": "python",
   "pygments_lexer": "ipython3",
   "version": "3.9.2-final"
  },
  "orig_nbformat": 2,
  "kernelspec": {
   "name": "python3",
   "display_name": "Python 3.9.2 64-bit",
   "metadata": {
    "interpreter": {
     "hash": "41eac51e58bc56b7e72645fd2a426397a0dabf158fb6895686ff6280c78d9f5d"
    }
   }
  }
 },
 "nbformat": 4,
 "nbformat_minor": 2,
 "cells": [
  {
   "cell_type": "code",
   "execution_count": 1,
   "metadata": {},
   "outputs": [],
   "source": [
    "import sys\n",
    "sys.path.append(\"..\")\n",
    "import numpy as np\n",
    "import pandas as pd\n",
    "from project.ship import Ship\n",
    "from project.tests import Tests\n",
    "from project.botma import TMA\n",
    "import time\n",
    "from pathlib import Path\n",
    "from datetime import datetime"
   ]
  },
  {
   "cell_type": "code",
   "execution_count": 2,
   "metadata": {},
   "outputs": [
    {
     "output_type": "stream",
     "name": "stdout",
     "text": [
      "Время последнего моделирования: 26/03/2021 04:32\n"
     ]
    }
   ],
   "source": [
    "# Класс для сохранения результатов\n",
    "tests = Tests('test1')\n",
    "Path(\"../tests/test1/d40\").mkdir(parents=True, exist_ok=True)\n",
    "print(\"Время последнего моделирования:\", datetime.now().strftime(\"%d/%m/%Y %H:%M\"))\n",
    "\n",
    "# Создаем наблюдателя\n",
    "observer_x, observer_y, observer_course, observer_velocity = 0, 0, 0, 5\n",
    "observer = Ship('Наблюдатель', observer_x, observer_y, observer_course,\n",
    "                observer_velocity, verbose=True)"
   ]
  },
  {
   "cell_type": "code",
   "execution_count": 3,
   "metadata": {},
   "outputs": [
    {
     "output_type": "stream",
     "name": "stdout",
     "text": [
      "Наблюдатель движется прямо по курсу 0.0° 180с\nНаблюдатель перешёл на курс 270.0° за 180с\nНаблюдатель движется прямо по курсу 270.0° 300с\nНаблюдатель перешёл на курс 90.0° за 360с\nНаблюдатель движется прямо по курсу 90.0° 180с\n"
     ]
    }
   ],
   "source": [
    "# Моделирование траектории наблюдателя\n",
    "observer.forward_movement(3 * 60)\n",
    "observer.change_course(270, 'left', omega=0.5)\n",
    "observer.forward_movement(5 * 60)\n",
    "observer.change_course(90, 'right', omega=0.5)\n",
    "observer.forward_movement(3 * 60)"
   ]
  },
  {
   "cell_type": "code",
   "execution_count": 4,
   "metadata": {},
   "outputs": [],
   "source": [
    "def target_func(seed=None):\n",
    "    np.random.seed(seed)\n",
    "    b = 0\n",
    "    d = 40\n",
    "    c = np.random.uniform(0, 180)\n",
    "    v = np.random.uniform(3, 15)\n",
    "    return [b, d, c, v]\n",
    "results = []\n",
    "p0 = [0., 25., 90., 7.]\n",
    "std_arr = [0., 0.1, 0.2, 0.3, 0.5, 1.]\n",
    "precisions_1 = ['{0:.1f}', '{0:.3f}', '{0:.3f}', '{0:.2f}', '{0:.1f}', '{0:.3f}', '{0:.3f}', '{0:.2f}', '{0:.1f}', '{0:.3f}', '{0:.3f}', '{0:.2f}',\n",
    "'{0:.2f}','{0:.3f}', '{0:.2f}','{0:.3f}','{0:.2f}', '{0:.2f}', '{0:.2f}', '{0:.2f}', '{0:.2f}', '{0:.2f}', '{:.0f}', '{0:.4f}', '{0:.0f}', '{0:.0f}']\n",
    "precisions_2 = ['{0:.1f}', '{0:.3f}', '{0:.1f}', '{0:.2f}', '{0:.1f}', '{0:.3f}', '{0:.1f}', '{0:.2f}', '{0:.2f}','{0:.3f}', '{0:.2f}','{0:.3f}', '{0:.2f}', '{0:.2f}', '{0:.0f}', '{0:.4f}']\n",
    "precisions_3 = ['{0:.0f}', '{0:.0f}', '{0:.0f}', '{0:.0f}', '{0:.0f}', '{0:.0f}', '{0:.0f}', '{0:.0f}', '{0:.0f}', '{0:.2f}', '{0:.0f}', '{0:.0f}', '{0:.0f}', '{0:.0f}', '{0:.4f}', '{0:.4f}', '{0:.1f}']"
   ]
  },
  {
   "cell_type": "code",
   "execution_count": 5,
   "metadata": {},
   "outputs": [
    {
     "output_type": "stream",
     "name": "stdout",
     "text": [
      "СКОп = 0.0, tau = 2, end_time = 1200\n",
      "Алгоритм:: ММП v2\n",
      "Моделирование 100 результатов закончено за t = 0.5 с\n",
      "Показатели Монте-Карло:\n",
      "Вариант 0: Рэф = 100%, Рэф_мин = 1\n",
      "Вариант 1: Рэф = 100%, Рэф_мин = 1\n",
      "Вариант 2: Рэф = 100%, Рэф_мин = 1\n",
      "Вариант 3: Рэф = 100%, Рэф_мин = 1\n",
      "Ка = 0.00\n",
      "Nf = 9, Nf_max = 11\n",
      "Iter = 8, Iter_max = 10\n",
      "t = 0.0019, t_max = 0.0043\n"
     ]
    },
    {
     "output_type": "display_data",
     "data": {
      "text/plain": "  П0_ист  Д0_ист   К0_ист V0_ист П0_расч Д0_расч  К0_расч V0_расч Птек_ист  \\\n0    0.0  40.000   98.786  11.58     0.0  40.000   98.787   11.58    22.92   \n1    0.0  40.000   75.064  11.64     0.0  40.000   75.064   11.64    19.70   \n2    0.0  40.000   78.479   3.31   360.0  40.000   78.478    3.31     7.56   \n3    0.0  40.000   99.144  11.50     0.0  40.000   99.144   11.50    22.80   \n4    0.0  40.000  174.065   9.57   360.0  40.000  174.065    9.57     5.19   \n\n  Дтек_ист Птек_расч Дтек_расч    Ка         Успех       t  Nf Iter  \n0   38.282     22.92    38.281  0.00  [1, 1, 1, 1]  0.0027  10    9  \n1   43.532     19.70    43.531  0.00  [1, 1, 1, 1]  0.0022  10    9  \n2   38.512      7.56    38.512  0.00  [1, 1, 1, 1]  0.0024   8    7  \n3   38.174     22.80    38.173  0.00  [1, 1, 1, 1]  0.0032  10    9  \n4   26.072      5.19    26.072  0.00  [1, 1, 1, 1]  0.0017   8    7  ",
      "text/html": "<div>\n<style scoped>\n    .dataframe tbody tr th:only-of-type {\n        vertical-align: middle;\n    }\n\n    .dataframe tbody tr th {\n        vertical-align: top;\n    }\n\n    .dataframe thead th {\n        text-align: right;\n    }\n</style>\n<table border=\"1\" class=\"dataframe\">\n  <thead>\n    <tr style=\"text-align: right;\">\n      <th></th>\n      <th>П0_ист</th>\n      <th>Д0_ист</th>\n      <th>К0_ист</th>\n      <th>V0_ист</th>\n      <th>П0_расч</th>\n      <th>Д0_расч</th>\n      <th>К0_расч</th>\n      <th>V0_расч</th>\n      <th>Птек_ист</th>\n      <th>Дтек_ист</th>\n      <th>Птек_расч</th>\n      <th>Дтек_расч</th>\n      <th>Ка</th>\n      <th>Успех</th>\n      <th>t</th>\n      <th>Nf</th>\n      <th>Iter</th>\n    </tr>\n  </thead>\n  <tbody>\n    <tr>\n      <th>0</th>\n      <td>0.0</td>\n      <td>40.000</td>\n      <td>98.786</td>\n      <td>11.58</td>\n      <td>0.0</td>\n      <td>40.000</td>\n      <td>98.787</td>\n      <td>11.58</td>\n      <td>22.92</td>\n      <td>38.282</td>\n      <td>22.92</td>\n      <td>38.281</td>\n      <td>0.00</td>\n      <td>[1, 1, 1, 1]</td>\n      <td>0.0027</td>\n      <td>10</td>\n      <td>9</td>\n    </tr>\n    <tr>\n      <th>1</th>\n      <td>0.0</td>\n      <td>40.000</td>\n      <td>75.064</td>\n      <td>11.64</td>\n      <td>0.0</td>\n      <td>40.000</td>\n      <td>75.064</td>\n      <td>11.64</td>\n      <td>19.70</td>\n      <td>43.532</td>\n      <td>19.70</td>\n      <td>43.531</td>\n      <td>0.00</td>\n      <td>[1, 1, 1, 1]</td>\n      <td>0.0022</td>\n      <td>10</td>\n      <td>9</td>\n    </tr>\n    <tr>\n      <th>2</th>\n      <td>0.0</td>\n      <td>40.000</td>\n      <td>78.479</td>\n      <td>3.31</td>\n      <td>360.0</td>\n      <td>40.000</td>\n      <td>78.478</td>\n      <td>3.31</td>\n      <td>7.56</td>\n      <td>38.512</td>\n      <td>7.56</td>\n      <td>38.512</td>\n      <td>0.00</td>\n      <td>[1, 1, 1, 1]</td>\n      <td>0.0024</td>\n      <td>8</td>\n      <td>7</td>\n    </tr>\n    <tr>\n      <th>3</th>\n      <td>0.0</td>\n      <td>40.000</td>\n      <td>99.144</td>\n      <td>11.50</td>\n      <td>0.0</td>\n      <td>40.000</td>\n      <td>99.144</td>\n      <td>11.50</td>\n      <td>22.80</td>\n      <td>38.174</td>\n      <td>22.80</td>\n      <td>38.173</td>\n      <td>0.00</td>\n      <td>[1, 1, 1, 1]</td>\n      <td>0.0032</td>\n      <td>10</td>\n      <td>9</td>\n    </tr>\n    <tr>\n      <th>4</th>\n      <td>0.0</td>\n      <td>40.000</td>\n      <td>174.065</td>\n      <td>9.57</td>\n      <td>360.0</td>\n      <td>40.000</td>\n      <td>174.065</td>\n      <td>9.57</td>\n      <td>5.19</td>\n      <td>26.072</td>\n      <td>5.19</td>\n      <td>26.072</td>\n      <td>0.00</td>\n      <td>[1, 1, 1, 1]</td>\n      <td>0.0017</td>\n      <td>8</td>\n      <td>7</td>\n    </tr>\n  </tbody>\n</table>\n</div>"
     },
     "metadata": {}
    },
    {
     "output_type": "stream",
     "name": "stdout",
     "text": [
      "_________________________________________________\n",
      "СКОп = 0.1, tau = 2, end_time = 1200\n",
      "Алгоритм:: ММП v2\n",
      "Моделирование 100 результатов закончено за t = 0.5 с\n",
      "Показатели Монте-Карло:\n",
      "Вариант 0: Рэф = 92%, Рэф_мин = 0\n",
      "Вариант 1: Рэф = 98%, Рэф_мин = 0\n",
      "Вариант 2: Рэф = 98%, Рэф_мин = 0\n",
      "Вариант 3: Рэф = 100%, Рэф_мин = 1\n",
      "Ка = 0.01\n",
      "Nf = 9, Nf_max = 11\n",
      "Iter = 8, Iter_max = 10\n",
      "t = 0.0019, t_max = 0.0043\n"
     ]
    },
    {
     "output_type": "display_data",
     "data": {
      "text/plain": "  П0_ист  Д0_ист   К0_ист V0_ист П0_расч Д0_расч  К0_расч V0_расч Птек_ист  \\\n0    0.0  40.000   98.786  11.58   360.0  40.185   98.291   11.70    22.92   \n1    0.0  40.000   75.064  11.64     0.0  39.695   75.230   11.50    19.70   \n2    0.0  40.000   78.479   3.31     0.0  40.217   83.726    3.25     7.56   \n3    0.0  40.000   99.144  11.50     0.0  39.672   99.925   11.33    22.80   \n4    0.0  40.000  174.065   9.57     0.0  40.061  174.317    9.77     5.19   \n\n  Дтек_ист Птек_расч Дтек_расч    Ка         Успех       t  Nf Iter  \n0   38.282     22.94    38.597  0.01  [1, 1, 1, 1]  0.0021  10    9  \n1   43.532     19.68    43.115  0.01  [1, 1, 1, 1]  0.0021  10    9  \n2   38.512      7.57    38.361  0.01  [0, 1, 1, 1]  0.0017   8    7  \n3   38.174     22.79    37.650  0.01  [1, 1, 1, 1]  0.0020  10    9  \n4   26.072      5.17    25.880  0.01  [1, 1, 1, 1]  0.0017   8    7  ",
      "text/html": "<div>\n<style scoped>\n    .dataframe tbody tr th:only-of-type {\n        vertical-align: middle;\n    }\n\n    .dataframe tbody tr th {\n        vertical-align: top;\n    }\n\n    .dataframe thead th {\n        text-align: right;\n    }\n</style>\n<table border=\"1\" class=\"dataframe\">\n  <thead>\n    <tr style=\"text-align: right;\">\n      <th></th>\n      <th>П0_ист</th>\n      <th>Д0_ист</th>\n      <th>К0_ист</th>\n      <th>V0_ист</th>\n      <th>П0_расч</th>\n      <th>Д0_расч</th>\n      <th>К0_расч</th>\n      <th>V0_расч</th>\n      <th>Птек_ист</th>\n      <th>Дтек_ист</th>\n      <th>Птек_расч</th>\n      <th>Дтек_расч</th>\n      <th>Ка</th>\n      <th>Успех</th>\n      <th>t</th>\n      <th>Nf</th>\n      <th>Iter</th>\n    </tr>\n  </thead>\n  <tbody>\n    <tr>\n      <th>0</th>\n      <td>0.0</td>\n      <td>40.000</td>\n      <td>98.786</td>\n      <td>11.58</td>\n      <td>360.0</td>\n      <td>40.185</td>\n      <td>98.291</td>\n      <td>11.70</td>\n      <td>22.92</td>\n      <td>38.282</td>\n      <td>22.94</td>\n      <td>38.597</td>\n      <td>0.01</td>\n      <td>[1, 1, 1, 1]</td>\n      <td>0.0021</td>\n      <td>10</td>\n      <td>9</td>\n    </tr>\n    <tr>\n      <th>1</th>\n      <td>0.0</td>\n      <td>40.000</td>\n      <td>75.064</td>\n      <td>11.64</td>\n      <td>0.0</td>\n      <td>39.695</td>\n      <td>75.230</td>\n      <td>11.50</td>\n      <td>19.70</td>\n      <td>43.532</td>\n      <td>19.68</td>\n      <td>43.115</td>\n      <td>0.01</td>\n      <td>[1, 1, 1, 1]</td>\n      <td>0.0021</td>\n      <td>10</td>\n      <td>9</td>\n    </tr>\n    <tr>\n      <th>2</th>\n      <td>0.0</td>\n      <td>40.000</td>\n      <td>78.479</td>\n      <td>3.31</td>\n      <td>0.0</td>\n      <td>40.217</td>\n      <td>83.726</td>\n      <td>3.25</td>\n      <td>7.56</td>\n      <td>38.512</td>\n      <td>7.57</td>\n      <td>38.361</td>\n      <td>0.01</td>\n      <td>[0, 1, 1, 1]</td>\n      <td>0.0017</td>\n      <td>8</td>\n      <td>7</td>\n    </tr>\n    <tr>\n      <th>3</th>\n      <td>0.0</td>\n      <td>40.000</td>\n      <td>99.144</td>\n      <td>11.50</td>\n      <td>0.0</td>\n      <td>39.672</td>\n      <td>99.925</td>\n      <td>11.33</td>\n      <td>22.80</td>\n      <td>38.174</td>\n      <td>22.79</td>\n      <td>37.650</td>\n      <td>0.01</td>\n      <td>[1, 1, 1, 1]</td>\n      <td>0.0020</td>\n      <td>10</td>\n      <td>9</td>\n    </tr>\n    <tr>\n      <th>4</th>\n      <td>0.0</td>\n      <td>40.000</td>\n      <td>174.065</td>\n      <td>9.57</td>\n      <td>0.0</td>\n      <td>40.061</td>\n      <td>174.317</td>\n      <td>9.77</td>\n      <td>5.19</td>\n      <td>26.072</td>\n      <td>5.17</td>\n      <td>25.880</td>\n      <td>0.01</td>\n      <td>[1, 1, 1, 1]</td>\n      <td>0.0017</td>\n      <td>8</td>\n      <td>7</td>\n    </tr>\n  </tbody>\n</table>\n</div>"
     },
     "metadata": {}
    },
    {
     "output_type": "stream",
     "name": "stdout",
     "text": [
      "_________________________________________________\n",
      "СКОп = 0.2, tau = 2, end_time = 1200\n",
      "Алгоритм:: ММП v2\n",
      "Моделирование 100 результатов закончено за t = 0.5 с\n",
      "Показатели Монте-Карло:\n",
      "Вариант 0: Рэф = 75%, Рэф_мин = 0\n",
      "Вариант 1: Рэф = 93%, Рэф_мин = 0\n",
      "Вариант 2: Рэф = 93%, Рэф_мин = 0\n",
      "Вариант 3: Рэф = 96%, Рэф_мин = 0\n",
      "Ка = 0.04\n",
      "Nf = 9, Nf_max = 11\n",
      "Iter = 8, Iter_max = 10\n",
      "t = 0.0018, t_max = 0.0042\n"
     ]
    },
    {
     "output_type": "display_data",
     "data": {
      "text/plain": "  П0_ист  Д0_ист   К0_ист V0_ист П0_расч Д0_расч  К0_расч V0_расч Птек_ист  \\\n0    0.0  40.000   98.786  11.58   360.0  40.373   97.803   11.81    22.92   \n1    0.0  40.000   75.064  11.64     0.0  39.396   75.397   11.36    19.70   \n2    0.0  40.000   78.479   3.31     0.0  40.433   89.150    3.22     7.56   \n3    0.0  40.000   99.144  11.50     0.0  39.350  100.714   11.17    22.80   \n4    0.0  40.000  174.065   9.57     0.0  40.122  174.557    9.98     5.19   \n\n  Дтек_ист Птек_расч Дтек_расч    Ка         Успех       t  Nf Iter  \n0   38.282     22.96    38.915  0.04  [1, 1, 1, 1]  0.0022  10    9  \n1   43.532     19.66    42.705  0.04  [1, 1, 1, 1]  0.0021  10    9  \n2   38.512      7.59    38.208  0.04  [0, 0, 0, 0]  0.0016   8    7  \n3   38.174     22.78    37.137  0.04  [1, 1, 1, 1]  0.0019  10    9  \n4   26.072      5.15    25.689  0.04  [1, 1, 1, 1]  0.0023   8    7  ",
      "text/html": "<div>\n<style scoped>\n    .dataframe tbody tr th:only-of-type {\n        vertical-align: middle;\n    }\n\n    .dataframe tbody tr th {\n        vertical-align: top;\n    }\n\n    .dataframe thead th {\n        text-align: right;\n    }\n</style>\n<table border=\"1\" class=\"dataframe\">\n  <thead>\n    <tr style=\"text-align: right;\">\n      <th></th>\n      <th>П0_ист</th>\n      <th>Д0_ист</th>\n      <th>К0_ист</th>\n      <th>V0_ист</th>\n      <th>П0_расч</th>\n      <th>Д0_расч</th>\n      <th>К0_расч</th>\n      <th>V0_расч</th>\n      <th>Птек_ист</th>\n      <th>Дтек_ист</th>\n      <th>Птек_расч</th>\n      <th>Дтек_расч</th>\n      <th>Ка</th>\n      <th>Успех</th>\n      <th>t</th>\n      <th>Nf</th>\n      <th>Iter</th>\n    </tr>\n  </thead>\n  <tbody>\n    <tr>\n      <th>0</th>\n      <td>0.0</td>\n      <td>40.000</td>\n      <td>98.786</td>\n      <td>11.58</td>\n      <td>360.0</td>\n      <td>40.373</td>\n      <td>97.803</td>\n      <td>11.81</td>\n      <td>22.92</td>\n      <td>38.282</td>\n      <td>22.96</td>\n      <td>38.915</td>\n      <td>0.04</td>\n      <td>[1, 1, 1, 1]</td>\n      <td>0.0022</td>\n      <td>10</td>\n      <td>9</td>\n    </tr>\n    <tr>\n      <th>1</th>\n      <td>0.0</td>\n      <td>40.000</td>\n      <td>75.064</td>\n      <td>11.64</td>\n      <td>0.0</td>\n      <td>39.396</td>\n      <td>75.397</td>\n      <td>11.36</td>\n      <td>19.70</td>\n      <td>43.532</td>\n      <td>19.66</td>\n      <td>42.705</td>\n      <td>0.04</td>\n      <td>[1, 1, 1, 1]</td>\n      <td>0.0021</td>\n      <td>10</td>\n      <td>9</td>\n    </tr>\n    <tr>\n      <th>2</th>\n      <td>0.0</td>\n      <td>40.000</td>\n      <td>78.479</td>\n      <td>3.31</td>\n      <td>0.0</td>\n      <td>40.433</td>\n      <td>89.150</td>\n      <td>3.22</td>\n      <td>7.56</td>\n      <td>38.512</td>\n      <td>7.59</td>\n      <td>38.208</td>\n      <td>0.04</td>\n      <td>[0, 0, 0, 0]</td>\n      <td>0.0016</td>\n      <td>8</td>\n      <td>7</td>\n    </tr>\n    <tr>\n      <th>3</th>\n      <td>0.0</td>\n      <td>40.000</td>\n      <td>99.144</td>\n      <td>11.50</td>\n      <td>0.0</td>\n      <td>39.350</td>\n      <td>100.714</td>\n      <td>11.17</td>\n      <td>22.80</td>\n      <td>38.174</td>\n      <td>22.78</td>\n      <td>37.137</td>\n      <td>0.04</td>\n      <td>[1, 1, 1, 1]</td>\n      <td>0.0019</td>\n      <td>10</td>\n      <td>9</td>\n    </tr>\n    <tr>\n      <th>4</th>\n      <td>0.0</td>\n      <td>40.000</td>\n      <td>174.065</td>\n      <td>9.57</td>\n      <td>0.0</td>\n      <td>40.122</td>\n      <td>174.557</td>\n      <td>9.98</td>\n      <td>5.19</td>\n      <td>26.072</td>\n      <td>5.15</td>\n      <td>25.689</td>\n      <td>0.04</td>\n      <td>[1, 1, 1, 1]</td>\n      <td>0.0023</td>\n      <td>8</td>\n      <td>7</td>\n    </tr>\n  </tbody>\n</table>\n</div>"
     },
     "metadata": {}
    },
    {
     "output_type": "stream",
     "name": "stdout",
     "text": [
      "_________________________________________________\n",
      "СКОп = 0.3, tau = 2, end_time = 1200\n",
      "Алгоритм:: ММП v2\n",
      "Моделирование 100 результатов закончено за t = 0.5 с\n",
      "Показатели Монте-Карло:\n",
      "Вариант 0: Рэф = 55%, Рэф_мин = 0\n",
      "Вариант 1: Рэф = 86%, Рэф_мин = 0\n",
      "Вариант 2: Рэф = 86%, Рэф_мин = 0\n",
      "Вариант 3: Рэф = 92%, Рэф_мин = 0\n",
      "Ка = 0.09\n",
      "Nf = 9, Nf_max = 11\n",
      "Iter = 8, Iter_max = 10\n",
      "t = 0.0018, t_max = 0.0032\n"
     ]
    },
    {
     "output_type": "display_data",
     "data": {
      "text/plain": "  П0_ист  Д0_ист   К0_ист V0_ист П0_расч Д0_расч  К0_расч V0_расч Птек_ист  \\\n0    0.0  40.000   98.786  11.58   359.9  40.562   97.321   11.93    22.92   \n1    0.0  40.000   75.064  11.64     0.0  39.103   75.565   11.22    19.70   \n2    0.0  40.000   78.479   3.31     0.0  40.648   94.658    3.21     7.56   \n3    0.0  40.000   99.144  11.50     0.1  39.035  101.510   11.02    22.80   \n4    0.0  40.000  174.065   9.57     0.0  40.184  174.787   10.19     5.19   \n\n  Дтек_ист Птек_расч Дтек_расч    Ка         Успех       t  Nf Iter  \n0   38.282     22.99    39.236  0.09  [1, 1, 1, 1]  0.0027  10    9  \n1   43.532     19.64    42.304  0.09  [1, 1, 1, 1]  0.0020  10    9  \n2   38.512      7.61    38.054  0.09  [0, 0, 0, 0]  0.0016   8    7  \n3   38.174     22.77    36.634  0.09  [1, 1, 1, 1]  0.0021  10    9  \n4   26.072      5.14    25.498  0.08  [0, 1, 1, 1]  0.0017   8    7  ",
      "text/html": "<div>\n<style scoped>\n    .dataframe tbody tr th:only-of-type {\n        vertical-align: middle;\n    }\n\n    .dataframe tbody tr th {\n        vertical-align: top;\n    }\n\n    .dataframe thead th {\n        text-align: right;\n    }\n</style>\n<table border=\"1\" class=\"dataframe\">\n  <thead>\n    <tr style=\"text-align: right;\">\n      <th></th>\n      <th>П0_ист</th>\n      <th>Д0_ист</th>\n      <th>К0_ист</th>\n      <th>V0_ист</th>\n      <th>П0_расч</th>\n      <th>Д0_расч</th>\n      <th>К0_расч</th>\n      <th>V0_расч</th>\n      <th>Птек_ист</th>\n      <th>Дтек_ист</th>\n      <th>Птек_расч</th>\n      <th>Дтек_расч</th>\n      <th>Ка</th>\n      <th>Успех</th>\n      <th>t</th>\n      <th>Nf</th>\n      <th>Iter</th>\n    </tr>\n  </thead>\n  <tbody>\n    <tr>\n      <th>0</th>\n      <td>0.0</td>\n      <td>40.000</td>\n      <td>98.786</td>\n      <td>11.58</td>\n      <td>359.9</td>\n      <td>40.562</td>\n      <td>97.321</td>\n      <td>11.93</td>\n      <td>22.92</td>\n      <td>38.282</td>\n      <td>22.99</td>\n      <td>39.236</td>\n      <td>0.09</td>\n      <td>[1, 1, 1, 1]</td>\n      <td>0.0027</td>\n      <td>10</td>\n      <td>9</td>\n    </tr>\n    <tr>\n      <th>1</th>\n      <td>0.0</td>\n      <td>40.000</td>\n      <td>75.064</td>\n      <td>11.64</td>\n      <td>0.0</td>\n      <td>39.103</td>\n      <td>75.565</td>\n      <td>11.22</td>\n      <td>19.70</td>\n      <td>43.532</td>\n      <td>19.64</td>\n      <td>42.304</td>\n      <td>0.09</td>\n      <td>[1, 1, 1, 1]</td>\n      <td>0.0020</td>\n      <td>10</td>\n      <td>9</td>\n    </tr>\n    <tr>\n      <th>2</th>\n      <td>0.0</td>\n      <td>40.000</td>\n      <td>78.479</td>\n      <td>3.31</td>\n      <td>0.0</td>\n      <td>40.648</td>\n      <td>94.658</td>\n      <td>3.21</td>\n      <td>7.56</td>\n      <td>38.512</td>\n      <td>7.61</td>\n      <td>38.054</td>\n      <td>0.09</td>\n      <td>[0, 0, 0, 0]</td>\n      <td>0.0016</td>\n      <td>8</td>\n      <td>7</td>\n    </tr>\n    <tr>\n      <th>3</th>\n      <td>0.0</td>\n      <td>40.000</td>\n      <td>99.144</td>\n      <td>11.50</td>\n      <td>0.1</td>\n      <td>39.035</td>\n      <td>101.510</td>\n      <td>11.02</td>\n      <td>22.80</td>\n      <td>38.174</td>\n      <td>22.77</td>\n      <td>36.634</td>\n      <td>0.09</td>\n      <td>[1, 1, 1, 1]</td>\n      <td>0.0021</td>\n      <td>10</td>\n      <td>9</td>\n    </tr>\n    <tr>\n      <th>4</th>\n      <td>0.0</td>\n      <td>40.000</td>\n      <td>174.065</td>\n      <td>9.57</td>\n      <td>0.0</td>\n      <td>40.184</td>\n      <td>174.787</td>\n      <td>10.19</td>\n      <td>5.19</td>\n      <td>26.072</td>\n      <td>5.14</td>\n      <td>25.498</td>\n      <td>0.08</td>\n      <td>[0, 1, 1, 1]</td>\n      <td>0.0017</td>\n      <td>8</td>\n      <td>7</td>\n    </tr>\n  </tbody>\n</table>\n</div>"
     },
     "metadata": {}
    },
    {
     "output_type": "stream",
     "name": "stdout",
     "text": [
      "_________________________________________________\n",
      "СКОп = 0.5, tau = 2, end_time = 1200\n",
      "Алгоритм:: ММП v2\n",
      "Моделирование 100 результатов закончено за t = 0.5 с\n",
      "Показатели Монте-Карло:\n",
      "Вариант 0: Рэф = 37%, Рэф_мин = 0\n",
      "Вариант 1: Рэф = 63%, Рэф_мин = 0\n",
      "Вариант 2: Рэф = 63%, Рэф_мин = 0\n",
      "Вариант 3: Рэф = 81%, Рэф_мин = 0\n",
      "Ка = 0.25\n",
      "Nf = 9, Nf_max = 11\n",
      "Iter = 8, Iter_max = 10\n",
      "t = 0.0018, t_max = 0.0027\n"
     ]
    },
    {
     "output_type": "display_data",
     "data": {
      "text/plain": "  П0_ист  Д0_ист   К0_ист V0_ист П0_расч Д0_расч  К0_расч V0_расч Птек_ист  \\\n0    0.0  40.000   98.786  11.58   359.9  40.946   96.378   12.17    22.92   \n1    0.0  40.000   75.064  11.64     0.0  38.532   75.903   10.96    19.70   \n2    0.0  40.000   78.479   3.31     0.1  41.077  105.537    3.29     7.56   \n3    0.0  40.000   99.144  11.50     0.1  38.424  103.127   10.73    22.80   \n4    0.0  40.000  174.065   9.57     0.0  40.309  175.216   10.60     5.19   \n\n  Дтек_ист Птек_расч Дтек_расч    Ка         Успех       t  Nf Iter  \n0   38.282     23.03    39.887  0.25  [0, 1, 1, 1]  0.0021  10    9  \n1   43.532     19.60    41.522  0.25  [0, 1, 1, 1]  0.0026  10    9  \n2   38.512      7.64    37.738  0.26  [0, 0, 0, 0]  0.0017   8    7  \n3   38.174     22.74    35.656  0.26  [0, 1, 1, 1]  0.0020  10    9  \n4   26.072      5.10    25.119  0.24  [0, 0, 0, 1]  0.0016   8    7  ",
      "text/html": "<div>\n<style scoped>\n    .dataframe tbody tr th:only-of-type {\n        vertical-align: middle;\n    }\n\n    .dataframe tbody tr th {\n        vertical-align: top;\n    }\n\n    .dataframe thead th {\n        text-align: right;\n    }\n</style>\n<table border=\"1\" class=\"dataframe\">\n  <thead>\n    <tr style=\"text-align: right;\">\n      <th></th>\n      <th>П0_ист</th>\n      <th>Д0_ист</th>\n      <th>К0_ист</th>\n      <th>V0_ист</th>\n      <th>П0_расч</th>\n      <th>Д0_расч</th>\n      <th>К0_расч</th>\n      <th>V0_расч</th>\n      <th>Птек_ист</th>\n      <th>Дтек_ист</th>\n      <th>Птек_расч</th>\n      <th>Дтек_расч</th>\n      <th>Ка</th>\n      <th>Успех</th>\n      <th>t</th>\n      <th>Nf</th>\n      <th>Iter</th>\n    </tr>\n  </thead>\n  <tbody>\n    <tr>\n      <th>0</th>\n      <td>0.0</td>\n      <td>40.000</td>\n      <td>98.786</td>\n      <td>11.58</td>\n      <td>359.9</td>\n      <td>40.946</td>\n      <td>96.378</td>\n      <td>12.17</td>\n      <td>22.92</td>\n      <td>38.282</td>\n      <td>23.03</td>\n      <td>39.887</td>\n      <td>0.25</td>\n      <td>[0, 1, 1, 1]</td>\n      <td>0.0021</td>\n      <td>10</td>\n      <td>9</td>\n    </tr>\n    <tr>\n      <th>1</th>\n      <td>0.0</td>\n      <td>40.000</td>\n      <td>75.064</td>\n      <td>11.64</td>\n      <td>0.0</td>\n      <td>38.532</td>\n      <td>75.903</td>\n      <td>10.96</td>\n      <td>19.70</td>\n      <td>43.532</td>\n      <td>19.60</td>\n      <td>41.522</td>\n      <td>0.25</td>\n      <td>[0, 1, 1, 1]</td>\n      <td>0.0026</td>\n      <td>10</td>\n      <td>9</td>\n    </tr>\n    <tr>\n      <th>2</th>\n      <td>0.0</td>\n      <td>40.000</td>\n      <td>78.479</td>\n      <td>3.31</td>\n      <td>0.1</td>\n      <td>41.077</td>\n      <td>105.537</td>\n      <td>3.29</td>\n      <td>7.56</td>\n      <td>38.512</td>\n      <td>7.64</td>\n      <td>37.738</td>\n      <td>0.26</td>\n      <td>[0, 0, 0, 0]</td>\n      <td>0.0017</td>\n      <td>8</td>\n      <td>7</td>\n    </tr>\n    <tr>\n      <th>3</th>\n      <td>0.0</td>\n      <td>40.000</td>\n      <td>99.144</td>\n      <td>11.50</td>\n      <td>0.1</td>\n      <td>38.424</td>\n      <td>103.127</td>\n      <td>10.73</td>\n      <td>22.80</td>\n      <td>38.174</td>\n      <td>22.74</td>\n      <td>35.656</td>\n      <td>0.26</td>\n      <td>[0, 1, 1, 1]</td>\n      <td>0.0020</td>\n      <td>10</td>\n      <td>9</td>\n    </tr>\n    <tr>\n      <th>4</th>\n      <td>0.0</td>\n      <td>40.000</td>\n      <td>174.065</td>\n      <td>9.57</td>\n      <td>0.0</td>\n      <td>40.309</td>\n      <td>175.216</td>\n      <td>10.60</td>\n      <td>5.19</td>\n      <td>26.072</td>\n      <td>5.10</td>\n      <td>25.119</td>\n      <td>0.24</td>\n      <td>[0, 0, 0, 1]</td>\n      <td>0.0016</td>\n      <td>8</td>\n      <td>7</td>\n    </tr>\n  </tbody>\n</table>\n</div>"
     },
     "metadata": {}
    },
    {
     "output_type": "stream",
     "name": "stdout",
     "text": [
      "_________________________________________________\n",
      "СКОп = 1.0, tau = 2, end_time = 1200\n",
      "Алгоритм:: ММП v2\n",
      "Моделирование 100 результатов закончено за t = 0.5 с\n",
      "Показатели Монте-Карло:\n",
      "Вариант 0: Рэф = 14%, Рэф_мин = 0\n",
      "Вариант 1: Рэф = 38%, Рэф_мин = 0\n",
      "Вариант 2: Рэф = 40%, Рэф_мин = 0\n",
      "Вариант 3: Рэф = 49%, Рэф_мин = 0\n",
      "Ка = 0.99\n",
      "Nf = 9, Nf_max = 11\n",
      "Iter = 8, Iter_max = 10\n",
      "t = 0.0019, t_max = 0.0081\n"
     ]
    },
    {
     "output_type": "display_data",
     "data": {
      "text/plain": "  П0_ист  Д0_ист   К0_ист V0_ист П0_расч Д0_расч  К0_расч V0_расч Птек_ист  \\\n0    0.0  40.000   98.786  11.58   359.8  41.941   94.136   12.82    22.92   \n1    0.0  40.000   75.064  11.64     0.0  37.190   76.765   10.33    19.70   \n2    0.0  40.000   78.479   3.31     0.1  42.136  128.476    3.94     7.56   \n3    0.0  40.000   99.144  11.50     0.2  36.997  107.292   10.08    22.80   \n4    0.0  40.000  174.065   9.57     0.0  40.628  176.140   11.62     5.19   \n\n  Дтек_ист Птек_расч Дтек_расч    Ка         Успех       t  Nf Iter  \n0   38.282     23.15    41.562  1.00  [0, 0, 0, 1]  0.0021  10    9  \n1   43.532     19.50    39.687  0.99  [0, 0, 0, 1]  0.0022  10    9  \n2   38.512      7.73    36.911  1.05  [0, 0, 0, 0]  0.0017   8    7  \n3   38.174     22.68    33.366  1.04  [0, 0, 0, 1]  0.0022  10    9  \n4   26.072      5.02    24.188  0.94  [0, 0, 0, 0]  0.0018   8    7  ",
      "text/html": "<div>\n<style scoped>\n    .dataframe tbody tr th:only-of-type {\n        vertical-align: middle;\n    }\n\n    .dataframe tbody tr th {\n        vertical-align: top;\n    }\n\n    .dataframe thead th {\n        text-align: right;\n    }\n</style>\n<table border=\"1\" class=\"dataframe\">\n  <thead>\n    <tr style=\"text-align: right;\">\n      <th></th>\n      <th>П0_ист</th>\n      <th>Д0_ист</th>\n      <th>К0_ист</th>\n      <th>V0_ист</th>\n      <th>П0_расч</th>\n      <th>Д0_расч</th>\n      <th>К0_расч</th>\n      <th>V0_расч</th>\n      <th>Птек_ист</th>\n      <th>Дтек_ист</th>\n      <th>Птек_расч</th>\n      <th>Дтек_расч</th>\n      <th>Ка</th>\n      <th>Успех</th>\n      <th>t</th>\n      <th>Nf</th>\n      <th>Iter</th>\n    </tr>\n  </thead>\n  <tbody>\n    <tr>\n      <th>0</th>\n      <td>0.0</td>\n      <td>40.000</td>\n      <td>98.786</td>\n      <td>11.58</td>\n      <td>359.8</td>\n      <td>41.941</td>\n      <td>94.136</td>\n      <td>12.82</td>\n      <td>22.92</td>\n      <td>38.282</td>\n      <td>23.15</td>\n      <td>41.562</td>\n      <td>1.00</td>\n      <td>[0, 0, 0, 1]</td>\n      <td>0.0021</td>\n      <td>10</td>\n      <td>9</td>\n    </tr>\n    <tr>\n      <th>1</th>\n      <td>0.0</td>\n      <td>40.000</td>\n      <td>75.064</td>\n      <td>11.64</td>\n      <td>0.0</td>\n      <td>37.190</td>\n      <td>76.765</td>\n      <td>10.33</td>\n      <td>19.70</td>\n      <td>43.532</td>\n      <td>19.50</td>\n      <td>39.687</td>\n      <td>0.99</td>\n      <td>[0, 0, 0, 1]</td>\n      <td>0.0022</td>\n      <td>10</td>\n      <td>9</td>\n    </tr>\n    <tr>\n      <th>2</th>\n      <td>0.0</td>\n      <td>40.000</td>\n      <td>78.479</td>\n      <td>3.31</td>\n      <td>0.1</td>\n      <td>42.136</td>\n      <td>128.476</td>\n      <td>3.94</td>\n      <td>7.56</td>\n      <td>38.512</td>\n      <td>7.73</td>\n      <td>36.911</td>\n      <td>1.05</td>\n      <td>[0, 0, 0, 0]</td>\n      <td>0.0017</td>\n      <td>8</td>\n      <td>7</td>\n    </tr>\n    <tr>\n      <th>3</th>\n      <td>0.0</td>\n      <td>40.000</td>\n      <td>99.144</td>\n      <td>11.50</td>\n      <td>0.2</td>\n      <td>36.997</td>\n      <td>107.292</td>\n      <td>10.08</td>\n      <td>22.80</td>\n      <td>38.174</td>\n      <td>22.68</td>\n      <td>33.366</td>\n      <td>1.04</td>\n      <td>[0, 0, 0, 1]</td>\n      <td>0.0022</td>\n      <td>10</td>\n      <td>9</td>\n    </tr>\n    <tr>\n      <th>4</th>\n      <td>0.0</td>\n      <td>40.000</td>\n      <td>174.065</td>\n      <td>9.57</td>\n      <td>0.0</td>\n      <td>40.628</td>\n      <td>176.140</td>\n      <td>11.62</td>\n      <td>5.19</td>\n      <td>26.072</td>\n      <td>5.02</td>\n      <td>24.188</td>\n      <td>0.94</td>\n      <td>[0, 0, 0, 0]</td>\n      <td>0.0018</td>\n      <td>8</td>\n      <td>7</td>\n    </tr>\n  </tbody>\n</table>\n</div>"
     },
     "metadata": {}
    },
    {
     "output_type": "stream",
     "name": "stdout",
     "text": [
      "_________________________________________________\n"
     ]
    }
   ],
   "source": [
    "for std in std_arr:\n",
    "\n",
    "    tma = TMA(observer, std=np.radians(std), tau=2, verbose=True)\n",
    "    algorithm_name = 'ММП v2'\n",
    "    res = [algorithm_name]\n",
    "    dict_results = tma.swarm(algorithm_name = algorithm_name, n=100, target_func=target_func, p0=p0, seeded=True, verbose=True)\n",
    "    df = tests.get_df(dict_results)\n",
    "\n",
    "    print('Показатели Монте-Карло:')\n",
    "    for i in range(4):\n",
    "        success = df['Успех'].apply(lambda x: x[i])\n",
    "        success_rate = 100 * success.mean()\n",
    "        success_min = min(success)\n",
    "        print('Вариант {}: Рэф = {:.0f}%, Рэф_мин = {:.0f}'.format(i, success_rate, success_min))\n",
    "        res.extend([success_rate, success_min])\n",
    "    k_a_mean = df['Ка'].mean()\n",
    "    nf_mean = df['Nf'].mean()\n",
    "    nf_max = max(df['Nf'])\n",
    "    iter_mean = df['Iter'].mean()\n",
    "    iter_max = max(df['Iter'])\n",
    "    t_mean = df['t'].mean()\n",
    "    t_max = max(df['t'])\n",
    "    std = np.degrees(tma.standart_deviation)\n",
    "    print('Ка = {:.2f}'.format(k_a_mean))\n",
    "    print('Nf = {:.0f}, Nf_max = {:.0f}'.format(nf_mean, nf_max))\n",
    "    print('Iter = {:.0f}, Iter_max = {:.0f}'.format(iter_mean, iter_max))\n",
    "    print('t = {:.4f}, t_max = {:.4f}'.format(t_mean, t_max))\n",
    "\n",
    "    d_df = df.copy()\n",
    "    for i, j in enumerate(df.columns):\n",
    "        try: d_df[j] = df[j].apply(lambda x: precisions_1[i].format(np.float64(x)))\n",
    "        except(TypeError): pass\n",
    "    display(d_df.drop(['СКО X', 'СКО Y', 'СКО VX', 'СКО VY', 'Кб', 'П0_апр', 'Д0_апр', 'К0_апр', 'V0_апр'], axis=1).head())\n",
    "\n",
    "    res.extend([k_a_mean, nf_mean, nf_max, iter_mean, iter_max, t_mean, t_max])\n",
    "    results.append(res)\n",
    "    tests.save_df(df, name='../tests/test1/d40/ЛМ, ' + str(std) + '.xlsx')\n",
    "    print('_'*40)\n",
    "\n",
    "df_lm = pd.DataFrame(results, columns=['Алгоритм', 'В11', 'В12', 'В21', 'В22', 'В31', 'В32', 'В41', 'В42', 'Ка', 'Nf', 'Nf_max', 'Iter', 'Iter_max', 't', 't_max'])\n",
    "df_lm['СКО'] = std_arr\n",
    "results = []"
   ]
  },
  {
   "cell_type": "code",
   "execution_count": 6,
   "metadata": {},
   "outputs": [
    {
     "output_type": "stream",
     "name": "stdout",
     "text": [
      "СКОп = 0.0, tau = 2, end_time = 1200\n",
      "Алгоритм:: Метод N пеленгов\n",
      "Моделирование 100 результатов закончено за t = 0.4 с\n",
      "Показатели Монте-Карло:\n",
      "Вариант 0: Рэф = 100%, Рэф_мин = 1\n",
      "Вариант 1: Рэф = 100%, Рэф_мин = 1\n",
      "Вариант 2: Рэф = 100%, Рэф_мин = 1\n",
      "Вариант 3: Рэф = 100%, Рэф_мин = 1\n",
      "Ка = 0.00\n",
      "t = 0.0002, t_max = 0.0014\n"
     ]
    },
    {
     "output_type": "display_data",
     "data": {
      "text/plain": "  П0_ист  Д0_ист   К0_ист V0_ист П0_расч Д0_расч  К0_расч V0_расч Птек_ист  \\\n0    0.0  40.000   98.786  11.58     0.0  40.000   98.786   11.58     22.9   \n1    0.0  40.000   75.064  11.64     0.0  40.000   75.064   11.64     19.7   \n2    0.0  40.000   78.479   3.31     0.0  40.000   78.479    3.31      7.6   \n3    0.0  40.000   99.144  11.50     0.0  40.000   99.144   11.50     22.8   \n4    0.0  40.000  174.065   9.57     0.0  40.000  174.065    9.57      5.2   \n\n  Дтек_ист Птек_расч Дтек_расч    Ка         Успех      t  \n0   38.282    22.916     38.28  0.00  [1, 1, 1, 1]  0.000  \n1   43.532    19.695     43.53  0.00  [1, 1, 1, 1]  0.000  \n2   38.512     7.555     38.51  0.00  [1, 1, 1, 1]  0.000  \n3   38.174    22.799     38.17  0.00  [1, 1, 1, 1]  0.000  \n4   26.072     5.188     26.07  0.00  [1, 1, 1, 1]  0.000  ",
      "text/html": "<div>\n<style scoped>\n    .dataframe tbody tr th:only-of-type {\n        vertical-align: middle;\n    }\n\n    .dataframe tbody tr th {\n        vertical-align: top;\n    }\n\n    .dataframe thead th {\n        text-align: right;\n    }\n</style>\n<table border=\"1\" class=\"dataframe\">\n  <thead>\n    <tr style=\"text-align: right;\">\n      <th></th>\n      <th>П0_ист</th>\n      <th>Д0_ист</th>\n      <th>К0_ист</th>\n      <th>V0_ист</th>\n      <th>П0_расч</th>\n      <th>Д0_расч</th>\n      <th>К0_расч</th>\n      <th>V0_расч</th>\n      <th>Птек_ист</th>\n      <th>Дтек_ист</th>\n      <th>Птек_расч</th>\n      <th>Дтек_расч</th>\n      <th>Ка</th>\n      <th>Успех</th>\n      <th>t</th>\n    </tr>\n  </thead>\n  <tbody>\n    <tr>\n      <th>0</th>\n      <td>0.0</td>\n      <td>40.000</td>\n      <td>98.786</td>\n      <td>11.58</td>\n      <td>0.0</td>\n      <td>40.000</td>\n      <td>98.786</td>\n      <td>11.58</td>\n      <td>22.9</td>\n      <td>38.282</td>\n      <td>22.916</td>\n      <td>38.28</td>\n      <td>0.00</td>\n      <td>[1, 1, 1, 1]</td>\n      <td>0.000</td>\n    </tr>\n    <tr>\n      <th>1</th>\n      <td>0.0</td>\n      <td>40.000</td>\n      <td>75.064</td>\n      <td>11.64</td>\n      <td>0.0</td>\n      <td>40.000</td>\n      <td>75.064</td>\n      <td>11.64</td>\n      <td>19.7</td>\n      <td>43.532</td>\n      <td>19.695</td>\n      <td>43.53</td>\n      <td>0.00</td>\n      <td>[1, 1, 1, 1]</td>\n      <td>0.000</td>\n    </tr>\n    <tr>\n      <th>2</th>\n      <td>0.0</td>\n      <td>40.000</td>\n      <td>78.479</td>\n      <td>3.31</td>\n      <td>0.0</td>\n      <td>40.000</td>\n      <td>78.479</td>\n      <td>3.31</td>\n      <td>7.6</td>\n      <td>38.512</td>\n      <td>7.555</td>\n      <td>38.51</td>\n      <td>0.00</td>\n      <td>[1, 1, 1, 1]</td>\n      <td>0.000</td>\n    </tr>\n    <tr>\n      <th>3</th>\n      <td>0.0</td>\n      <td>40.000</td>\n      <td>99.144</td>\n      <td>11.50</td>\n      <td>0.0</td>\n      <td>40.000</td>\n      <td>99.144</td>\n      <td>11.50</td>\n      <td>22.8</td>\n      <td>38.174</td>\n      <td>22.799</td>\n      <td>38.17</td>\n      <td>0.00</td>\n      <td>[1, 1, 1, 1]</td>\n      <td>0.000</td>\n    </tr>\n    <tr>\n      <th>4</th>\n      <td>0.0</td>\n      <td>40.000</td>\n      <td>174.065</td>\n      <td>9.57</td>\n      <td>0.0</td>\n      <td>40.000</td>\n      <td>174.065</td>\n      <td>9.57</td>\n      <td>5.2</td>\n      <td>26.072</td>\n      <td>5.188</td>\n      <td>26.07</td>\n      <td>0.00</td>\n      <td>[1, 1, 1, 1]</td>\n      <td>0.000</td>\n    </tr>\n  </tbody>\n</table>\n</div>"
     },
     "metadata": {}
    },
    {
     "output_type": "stream",
     "name": "stdout",
     "text": [
      "_________________________________________________\n",
      "СКОп = 0.1, tau = 2, end_time = 1200\n",
      "Алгоритм:: Метод N пеленгов\n",
      "Моделирование 100 результатов закончено за t = 0.3 с\n",
      "Показатели Монте-Карло:\n",
      "Вариант 0: Рэф = 50%, Рэф_мин = 0\n",
      "Вариант 1: Рэф = 67%, Рэф_мин = 0\n",
      "Вариант 2: Рэф = 68%, Рэф_мин = 0\n",
      "Вариант 3: Рэф = 71%, Рэф_мин = 0\n",
      "Ка = 0.01\n",
      "t = 0.0002, t_max = 0.0007\n"
     ]
    },
    {
     "output_type": "display_data",
     "data": {
      "text/plain": "  П0_ист  Д0_ист   К0_ист V0_ист П0_расч Д0_расч  К0_расч V0_расч Птек_ист  \\\n0    0.0  40.000   98.786  11.58   359.8  40.440   94.578   12.09     22.9   \n1    0.0  40.000   75.064  11.64   359.8  39.720   71.397   12.19     19.7   \n2    0.0  40.000   78.479   3.31     0.0  39.627   94.583    3.06      7.6   \n3    0.0  40.000   99.144  11.50   359.8  40.154   94.837   11.88     22.8   \n4    0.0  40.000  174.065   9.57   360.0  39.660  174.418    9.66      5.2   \n\n  Дтек_ист Птек_расч Дтек_расч    Ка         Успех      t  \n0   38.282    22.925     39.81  0.01  [1, 1, 1, 1]  0.000  \n1   43.532    19.661     44.36  0.01  [1, 1, 1, 1]  0.000  \n2   38.512     7.530     37.04  0.01  [0, 0, 0, 0]  0.000  \n3   38.174    22.776     39.41  0.01  [1, 1, 1, 1]  0.000  \n4   26.072     5.141     25.61  0.01  [1, 1, 1, 1]  0.000  ",
      "text/html": "<div>\n<style scoped>\n    .dataframe tbody tr th:only-of-type {\n        vertical-align: middle;\n    }\n\n    .dataframe tbody tr th {\n        vertical-align: top;\n    }\n\n    .dataframe thead th {\n        text-align: right;\n    }\n</style>\n<table border=\"1\" class=\"dataframe\">\n  <thead>\n    <tr style=\"text-align: right;\">\n      <th></th>\n      <th>П0_ист</th>\n      <th>Д0_ист</th>\n      <th>К0_ист</th>\n      <th>V0_ист</th>\n      <th>П0_расч</th>\n      <th>Д0_расч</th>\n      <th>К0_расч</th>\n      <th>V0_расч</th>\n      <th>Птек_ист</th>\n      <th>Дтек_ист</th>\n      <th>Птек_расч</th>\n      <th>Дтек_расч</th>\n      <th>Ка</th>\n      <th>Успех</th>\n      <th>t</th>\n    </tr>\n  </thead>\n  <tbody>\n    <tr>\n      <th>0</th>\n      <td>0.0</td>\n      <td>40.000</td>\n      <td>98.786</td>\n      <td>11.58</td>\n      <td>359.8</td>\n      <td>40.440</td>\n      <td>94.578</td>\n      <td>12.09</td>\n      <td>22.9</td>\n      <td>38.282</td>\n      <td>22.925</td>\n      <td>39.81</td>\n      <td>0.01</td>\n      <td>[1, 1, 1, 1]</td>\n      <td>0.000</td>\n    </tr>\n    <tr>\n      <th>1</th>\n      <td>0.0</td>\n      <td>40.000</td>\n      <td>75.064</td>\n      <td>11.64</td>\n      <td>359.8</td>\n      <td>39.720</td>\n      <td>71.397</td>\n      <td>12.19</td>\n      <td>19.7</td>\n      <td>43.532</td>\n      <td>19.661</td>\n      <td>44.36</td>\n      <td>0.01</td>\n      <td>[1, 1, 1, 1]</td>\n      <td>0.000</td>\n    </tr>\n    <tr>\n      <th>2</th>\n      <td>0.0</td>\n      <td>40.000</td>\n      <td>78.479</td>\n      <td>3.31</td>\n      <td>0.0</td>\n      <td>39.627</td>\n      <td>94.583</td>\n      <td>3.06</td>\n      <td>7.6</td>\n      <td>38.512</td>\n      <td>7.530</td>\n      <td>37.04</td>\n      <td>0.01</td>\n      <td>[0, 0, 0, 0]</td>\n      <td>0.000</td>\n    </tr>\n    <tr>\n      <th>3</th>\n      <td>0.0</td>\n      <td>40.000</td>\n      <td>99.144</td>\n      <td>11.50</td>\n      <td>359.8</td>\n      <td>40.154</td>\n      <td>94.837</td>\n      <td>11.88</td>\n      <td>22.8</td>\n      <td>38.174</td>\n      <td>22.776</td>\n      <td>39.41</td>\n      <td>0.01</td>\n      <td>[1, 1, 1, 1]</td>\n      <td>0.000</td>\n    </tr>\n    <tr>\n      <th>4</th>\n      <td>0.0</td>\n      <td>40.000</td>\n      <td>174.065</td>\n      <td>9.57</td>\n      <td>360.0</td>\n      <td>39.660</td>\n      <td>174.418</td>\n      <td>9.66</td>\n      <td>5.2</td>\n      <td>26.072</td>\n      <td>5.141</td>\n      <td>25.61</td>\n      <td>0.01</td>\n      <td>[1, 1, 1, 1]</td>\n      <td>0.000</td>\n    </tr>\n  </tbody>\n</table>\n</div>"
     },
     "metadata": {}
    },
    {
     "output_type": "stream",
     "name": "stdout",
     "text": [
      "_________________________________________________\n",
      "СКОп = 0.2, tau = 2, end_time = 1200\n",
      "Алгоритм:: Метод N пеленгов\n",
      "Моделирование 100 результатов закончено за t = 0.3 с\n",
      "Показатели Монте-Карло:\n",
      "Вариант 0: Рэф = 6%, Рэф_мин = 0\n",
      "Вариант 1: Рэф = 45%, Рэф_мин = 0\n",
      "Вариант 2: Рэф = 46%, Рэф_мин = 0\n",
      "Вариант 3: Рэф = 53%, Рэф_мин = 0\n",
      "Ка = 0.05\n",
      "t = 0.0002, t_max = 0.0005\n"
     ]
    },
    {
     "output_type": "display_data",
     "data": {
      "text/plain": "  П0_ист  Д0_ист   К0_ист V0_ист П0_расч Д0_расч  К0_расч V0_расч Птек_ист  \\\n0    0.0  40.000   98.786  11.58   359.6  38.724   91.150   11.80     22.9   \n1    0.0  40.000   75.064  11.64   359.7  37.350   68.378   11.86     19.7   \n2    0.0  40.000   78.479   3.31     0.1  38.136  117.411    3.00      7.6   \n3    0.0  40.000   99.144  11.50   359.6  37.937   91.345   11.40     22.8   \n4    0.0  40.000  174.065   9.57   360.0  38.627  175.200    9.75      5.2   \n\n  Дтек_ист Птек_расч Дтек_расч    Ка         Успех      t  \n0   38.282    22.848     38.87  0.05  [0, 1, 1, 1]  0.000  \n1   43.532    19.543     42.42  0.05  [0, 1, 1, 1]  0.000  \n2   38.512     7.433     34.15  0.05  [0, 0, 0, 0]  0.000  \n3   38.174    22.654     37.92  0.06  [0, 1, 1, 1]  0.000  \n4   26.072     5.026     24.45  0.04  [0, 1, 1, 1]  0.000  ",
      "text/html": "<div>\n<style scoped>\n    .dataframe tbody tr th:only-of-type {\n        vertical-align: middle;\n    }\n\n    .dataframe tbody tr th {\n        vertical-align: top;\n    }\n\n    .dataframe thead th {\n        text-align: right;\n    }\n</style>\n<table border=\"1\" class=\"dataframe\">\n  <thead>\n    <tr style=\"text-align: right;\">\n      <th></th>\n      <th>П0_ист</th>\n      <th>Д0_ист</th>\n      <th>К0_ист</th>\n      <th>V0_ист</th>\n      <th>П0_расч</th>\n      <th>Д0_расч</th>\n      <th>К0_расч</th>\n      <th>V0_расч</th>\n      <th>Птек_ист</th>\n      <th>Дтек_ист</th>\n      <th>Птек_расч</th>\n      <th>Дтек_расч</th>\n      <th>Ка</th>\n      <th>Успех</th>\n      <th>t</th>\n    </tr>\n  </thead>\n  <tbody>\n    <tr>\n      <th>0</th>\n      <td>0.0</td>\n      <td>40.000</td>\n      <td>98.786</td>\n      <td>11.58</td>\n      <td>359.6</td>\n      <td>38.724</td>\n      <td>91.150</td>\n      <td>11.80</td>\n      <td>22.9</td>\n      <td>38.282</td>\n      <td>22.848</td>\n      <td>38.87</td>\n      <td>0.05</td>\n      <td>[0, 1, 1, 1]</td>\n      <td>0.000</td>\n    </tr>\n    <tr>\n      <th>1</th>\n      <td>0.0</td>\n      <td>40.000</td>\n      <td>75.064</td>\n      <td>11.64</td>\n      <td>359.7</td>\n      <td>37.350</td>\n      <td>68.378</td>\n      <td>11.86</td>\n      <td>19.7</td>\n      <td>43.532</td>\n      <td>19.543</td>\n      <td>42.42</td>\n      <td>0.05</td>\n      <td>[0, 1, 1, 1]</td>\n      <td>0.000</td>\n    </tr>\n    <tr>\n      <th>2</th>\n      <td>0.0</td>\n      <td>40.000</td>\n      <td>78.479</td>\n      <td>3.31</td>\n      <td>0.1</td>\n      <td>38.136</td>\n      <td>117.411</td>\n      <td>3.00</td>\n      <td>7.6</td>\n      <td>38.512</td>\n      <td>7.433</td>\n      <td>34.15</td>\n      <td>0.05</td>\n      <td>[0, 0, 0, 0]</td>\n      <td>0.000</td>\n    </tr>\n    <tr>\n      <th>3</th>\n      <td>0.0</td>\n      <td>40.000</td>\n      <td>99.144</td>\n      <td>11.50</td>\n      <td>359.6</td>\n      <td>37.937</td>\n      <td>91.345</td>\n      <td>11.40</td>\n      <td>22.8</td>\n      <td>38.174</td>\n      <td>22.654</td>\n      <td>37.92</td>\n      <td>0.06</td>\n      <td>[0, 1, 1, 1]</td>\n      <td>0.000</td>\n    </tr>\n    <tr>\n      <th>4</th>\n      <td>0.0</td>\n      <td>40.000</td>\n      <td>174.065</td>\n      <td>9.57</td>\n      <td>360.0</td>\n      <td>38.627</td>\n      <td>175.200</td>\n      <td>9.75</td>\n      <td>5.2</td>\n      <td>26.072</td>\n      <td>5.026</td>\n      <td>24.45</td>\n      <td>0.04</td>\n      <td>[0, 1, 1, 1]</td>\n      <td>0.000</td>\n    </tr>\n  </tbody>\n</table>\n</div>"
     },
     "metadata": {}
    },
    {
     "output_type": "stream",
     "name": "stdout",
     "text": [
      "_________________________________________________\n",
      "СКОп = 0.3, tau = 2, end_time = 1200\n",
      "Алгоритм:: Метод N пеленгов\n",
      "Моделирование 100 результатов закончено за t = 0.3 с\n",
      "Показатели Монте-Карло:\n",
      "Вариант 0: Рэф = 0%, Рэф_мин = 0\n",
      "Вариант 1: Рэф = 1%, Рэф_мин = 0\n",
      "Вариант 2: Рэф = 10%, Рэф_мин = 0\n",
      "Вариант 3: Рэф = 24%, Рэф_мин = 0\n",
      "Ка = 0.12\n",
      "t = 0.0002, t_max = 0.0007\n"
     ]
    },
    {
     "output_type": "display_data",
     "data": {
      "text/plain": "  П0_ист  Д0_ист   К0_ист V0_ист П0_расч Д0_расч  К0_расч V0_расч Птек_ист  \\\n0    0.0  40.000   98.786  11.58   359.5  35.075   88.359   10.73     22.9   \n1    0.0  40.000   75.064  11.64   359.5  33.412   65.771   10.76     19.7   \n2    0.0  40.000   78.479   3.31     0.1  35.854  140.405    3.38      7.6   \n3    0.0  40.000   99.144  11.50   359.5  33.811   88.494   10.13     22.8   \n4    0.0  40.000  174.065   9.57   360.0  37.028  176.306    9.80      5.2   \n\n  Дтек_ист Птек_расч Дтек_расч    Ка         Успех      t  \n0   38.282    22.672     35.58  0.14  [0, 0, 0, 0]  0.000  \n1   43.532    19.335     38.25  0.14  [0, 0, 1, 1]  0.000  \n2   38.512     7.257     30.35  0.11  [0, 0, 0, 0]  0.000  \n3   38.174    22.420     34.09  0.16  [0, 0, 0, 0]  0.000  \n4   26.072     4.838     22.75  0.10  [0, 0, 1, 1]  0.000  ",
      "text/html": "<div>\n<style scoped>\n    .dataframe tbody tr th:only-of-type {\n        vertical-align: middle;\n    }\n\n    .dataframe tbody tr th {\n        vertical-align: top;\n    }\n\n    .dataframe thead th {\n        text-align: right;\n    }\n</style>\n<table border=\"1\" class=\"dataframe\">\n  <thead>\n    <tr style=\"text-align: right;\">\n      <th></th>\n      <th>П0_ист</th>\n      <th>Д0_ист</th>\n      <th>К0_ист</th>\n      <th>V0_ист</th>\n      <th>П0_расч</th>\n      <th>Д0_расч</th>\n      <th>К0_расч</th>\n      <th>V0_расч</th>\n      <th>Птек_ист</th>\n      <th>Дтек_ист</th>\n      <th>Птек_расч</th>\n      <th>Дтек_расч</th>\n      <th>Ка</th>\n      <th>Успех</th>\n      <th>t</th>\n    </tr>\n  </thead>\n  <tbody>\n    <tr>\n      <th>0</th>\n      <td>0.0</td>\n      <td>40.000</td>\n      <td>98.786</td>\n      <td>11.58</td>\n      <td>359.5</td>\n      <td>35.075</td>\n      <td>88.359</td>\n      <td>10.73</td>\n      <td>22.9</td>\n      <td>38.282</td>\n      <td>22.672</td>\n      <td>35.58</td>\n      <td>0.14</td>\n      <td>[0, 0, 0, 0]</td>\n      <td>0.000</td>\n    </tr>\n    <tr>\n      <th>1</th>\n      <td>0.0</td>\n      <td>40.000</td>\n      <td>75.064</td>\n      <td>11.64</td>\n      <td>359.5</td>\n      <td>33.412</td>\n      <td>65.771</td>\n      <td>10.76</td>\n      <td>19.7</td>\n      <td>43.532</td>\n      <td>19.335</td>\n      <td>38.25</td>\n      <td>0.14</td>\n      <td>[0, 0, 1, 1]</td>\n      <td>0.000</td>\n    </tr>\n    <tr>\n      <th>2</th>\n      <td>0.0</td>\n      <td>40.000</td>\n      <td>78.479</td>\n      <td>3.31</td>\n      <td>0.1</td>\n      <td>35.854</td>\n      <td>140.405</td>\n      <td>3.38</td>\n      <td>7.6</td>\n      <td>38.512</td>\n      <td>7.257</td>\n      <td>30.35</td>\n      <td>0.11</td>\n      <td>[0, 0, 0, 0]</td>\n      <td>0.000</td>\n    </tr>\n    <tr>\n      <th>3</th>\n      <td>0.0</td>\n      <td>40.000</td>\n      <td>99.144</td>\n      <td>11.50</td>\n      <td>359.5</td>\n      <td>33.811</td>\n      <td>88.494</td>\n      <td>10.13</td>\n      <td>22.8</td>\n      <td>38.174</td>\n      <td>22.420</td>\n      <td>34.09</td>\n      <td>0.16</td>\n      <td>[0, 0, 0, 0]</td>\n      <td>0.000</td>\n    </tr>\n    <tr>\n      <th>4</th>\n      <td>0.0</td>\n      <td>40.000</td>\n      <td>174.065</td>\n      <td>9.57</td>\n      <td>360.0</td>\n      <td>37.028</td>\n      <td>176.306</td>\n      <td>9.80</td>\n      <td>5.2</td>\n      <td>26.072</td>\n      <td>4.838</td>\n      <td>22.75</td>\n      <td>0.10</td>\n      <td>[0, 0, 1, 1]</td>\n      <td>0.000</td>\n    </tr>\n  </tbody>\n</table>\n</div>"
     },
     "metadata": {}
    },
    {
     "output_type": "stream",
     "name": "stdout",
     "text": [
      "_________________________________________________\n",
      "СКОп = 0.5, tau = 2, end_time = 1200\n",
      "Алгоритм:: Метод N пеленгов\n",
      "Моделирование 100 результатов закончено за t = 0.3 с\n",
      "Показатели Монте-Карло:\n",
      "Вариант 0: Рэф = 0%, Рэф_мин = 0\n",
      "Вариант 1: Рэф = 0%, Рэф_мин = 0\n",
      "Вариант 2: Рэф = 0%, Рэф_мин = 0\n",
      "Вариант 3: Рэф = 0%, Рэф_мин = 0\n",
      "Ка = 0.44\n",
      "t = 0.0002, t_max = 0.0016\n"
     ]
    },
    {
     "output_type": "display_data",
     "data": {
      "text/plain": "  П0_ист  Д0_ист   К0_ист V0_ист П0_расч Д0_расч  К0_расч V0_расч Птек_ист  \\\n0    0.0  40.000   98.786  11.58   359.1  25.291   84.197    7.30     22.9   \n1    0.0  40.000   75.064  11.64   359.2  24.214   61.008    7.54     19.7   \n2    0.0  40.000   78.479   3.31     0.2  30.381  167.817    4.98      7.6   \n3    0.0  40.000   99.144  11.50   359.1  23.784   84.094    6.60     22.8   \n4    0.0  40.000  174.065   9.57   360.0  32.813  179.029    9.81      5.2   \n\n  Дтек_ист Птек_расч Дтек_расч    Ка         Успех      t  \n0   38.282    21.944     25.40  0.60  [0, 0, 0, 0]  0.000  \n1   43.532    18.600     27.41  0.57  [0, 0, 0, 0]  0.000  \n2   38.512     6.618     22.07  0.40  [0, 0, 0, 0]  0.000  \n3   38.174    21.535     23.63  0.72  [0, 0, 0, 0]  0.002  \n4   26.072     4.207     18.48  0.32  [0, 0, 0, 0]  0.000  ",
      "text/html": "<div>\n<style scoped>\n    .dataframe tbody tr th:only-of-type {\n        vertical-align: middle;\n    }\n\n    .dataframe tbody tr th {\n        vertical-align: top;\n    }\n\n    .dataframe thead th {\n        text-align: right;\n    }\n</style>\n<table border=\"1\" class=\"dataframe\">\n  <thead>\n    <tr style=\"text-align: right;\">\n      <th></th>\n      <th>П0_ист</th>\n      <th>Д0_ист</th>\n      <th>К0_ист</th>\n      <th>V0_ист</th>\n      <th>П0_расч</th>\n      <th>Д0_расч</th>\n      <th>К0_расч</th>\n      <th>V0_расч</th>\n      <th>Птек_ист</th>\n      <th>Дтек_ист</th>\n      <th>Птек_расч</th>\n      <th>Дтек_расч</th>\n      <th>Ка</th>\n      <th>Успех</th>\n      <th>t</th>\n    </tr>\n  </thead>\n  <tbody>\n    <tr>\n      <th>0</th>\n      <td>0.0</td>\n      <td>40.000</td>\n      <td>98.786</td>\n      <td>11.58</td>\n      <td>359.1</td>\n      <td>25.291</td>\n      <td>84.197</td>\n      <td>7.30</td>\n      <td>22.9</td>\n      <td>38.282</td>\n      <td>21.944</td>\n      <td>25.40</td>\n      <td>0.60</td>\n      <td>[0, 0, 0, 0]</td>\n      <td>0.000</td>\n    </tr>\n    <tr>\n      <th>1</th>\n      <td>0.0</td>\n      <td>40.000</td>\n      <td>75.064</td>\n      <td>11.64</td>\n      <td>359.2</td>\n      <td>24.214</td>\n      <td>61.008</td>\n      <td>7.54</td>\n      <td>19.7</td>\n      <td>43.532</td>\n      <td>18.600</td>\n      <td>27.41</td>\n      <td>0.57</td>\n      <td>[0, 0, 0, 0]</td>\n      <td>0.000</td>\n    </tr>\n    <tr>\n      <th>2</th>\n      <td>0.0</td>\n      <td>40.000</td>\n      <td>78.479</td>\n      <td>3.31</td>\n      <td>0.2</td>\n      <td>30.381</td>\n      <td>167.817</td>\n      <td>4.98</td>\n      <td>7.6</td>\n      <td>38.512</td>\n      <td>6.618</td>\n      <td>22.07</td>\n      <td>0.40</td>\n      <td>[0, 0, 0, 0]</td>\n      <td>0.000</td>\n    </tr>\n    <tr>\n      <th>3</th>\n      <td>0.0</td>\n      <td>40.000</td>\n      <td>99.144</td>\n      <td>11.50</td>\n      <td>359.1</td>\n      <td>23.784</td>\n      <td>84.094</td>\n      <td>6.60</td>\n      <td>22.8</td>\n      <td>38.174</td>\n      <td>21.535</td>\n      <td>23.63</td>\n      <td>0.72</td>\n      <td>[0, 0, 0, 0]</td>\n      <td>0.002</td>\n    </tr>\n    <tr>\n      <th>4</th>\n      <td>0.0</td>\n      <td>40.000</td>\n      <td>174.065</td>\n      <td>9.57</td>\n      <td>360.0</td>\n      <td>32.813</td>\n      <td>179.029</td>\n      <td>9.81</td>\n      <td>5.2</td>\n      <td>26.072</td>\n      <td>4.207</td>\n      <td>18.48</td>\n      <td>0.32</td>\n      <td>[0, 0, 0, 0]</td>\n      <td>0.000</td>\n    </tr>\n  </tbody>\n</table>\n</div>"
     },
     "metadata": {}
    },
    {
     "output_type": "stream",
     "name": "stdout",
     "text": [
      "_________________________________________________\n",
      "СКОп = 1.0, tau = 2, end_time = 1200\n",
      "Алгоритм:: Метод N пеленгов\n",
      "Моделирование 100 результатов закончено за t = 0.3 с\n",
      "Показатели Монте-Карло:\n",
      "Вариант 0: Рэф = 0%, Рэф_мин = 0\n",
      "Вариант 1: Рэф = 0%, Рэф_мин = 0\n",
      "Вариант 2: Рэф = 0%, Рэф_мин = 0\n",
      "Вариант 3: Рэф = 0%, Рэф_мин = 0\n",
      "Ка = 29.85\n",
      "t = 0.0002, t_max = 0.0004\n"
     ]
    },
    {
     "output_type": "display_data",
     "data": {
      "text/plain": "  П0_ист  Д0_ист   К0_ист V0_ист П0_расч Д0_расч  К0_расч V0_расч Птек_ист  \\\n0    0.0  40.000   98.786  11.58   358.2   9.230   75.029    0.91     22.9   \n1    0.0  40.000   75.064  11.64   358.4  10.055   38.619    1.86     19.7   \n2    0.0  40.000   78.479   3.31     0.4  19.554  186.616    7.97      7.6   \n3    0.0  40.000   99.144  11.50   358.2   8.814   66.607    0.75     22.8   \n4    0.0  40.000  174.065   9.57   359.9  22.219  185.789    9.01      5.2   \n\n  Дтек_ист Птек_расч Дтек_расч     Ка         Успех      t  \n0   38.282    15.697      7.16  10.65  [0, 0, 0, 0]  0.000  \n1   43.532    13.943      9.46   7.24  [0, 0, 0, 0]  0.000  \n2   38.512     1.621      7.44   4.24  [0, 0, 0, 0]  0.000  \n3   38.174    14.748      6.78  11.88  [0, 0, 0, 0]  0.000  \n4   26.072     0.388      8.84   2.74  [0, 0, 0, 0]  0.000  ",
      "text/html": "<div>\n<style scoped>\n    .dataframe tbody tr th:only-of-type {\n        vertical-align: middle;\n    }\n\n    .dataframe tbody tr th {\n        vertical-align: top;\n    }\n\n    .dataframe thead th {\n        text-align: right;\n    }\n</style>\n<table border=\"1\" class=\"dataframe\">\n  <thead>\n    <tr style=\"text-align: right;\">\n      <th></th>\n      <th>П0_ист</th>\n      <th>Д0_ист</th>\n      <th>К0_ист</th>\n      <th>V0_ист</th>\n      <th>П0_расч</th>\n      <th>Д0_расч</th>\n      <th>К0_расч</th>\n      <th>V0_расч</th>\n      <th>Птек_ист</th>\n      <th>Дтек_ист</th>\n      <th>Птек_расч</th>\n      <th>Дтек_расч</th>\n      <th>Ка</th>\n      <th>Успех</th>\n      <th>t</th>\n    </tr>\n  </thead>\n  <tbody>\n    <tr>\n      <th>0</th>\n      <td>0.0</td>\n      <td>40.000</td>\n      <td>98.786</td>\n      <td>11.58</td>\n      <td>358.2</td>\n      <td>9.230</td>\n      <td>75.029</td>\n      <td>0.91</td>\n      <td>22.9</td>\n      <td>38.282</td>\n      <td>15.697</td>\n      <td>7.16</td>\n      <td>10.65</td>\n      <td>[0, 0, 0, 0]</td>\n      <td>0.000</td>\n    </tr>\n    <tr>\n      <th>1</th>\n      <td>0.0</td>\n      <td>40.000</td>\n      <td>75.064</td>\n      <td>11.64</td>\n      <td>358.4</td>\n      <td>10.055</td>\n      <td>38.619</td>\n      <td>1.86</td>\n      <td>19.7</td>\n      <td>43.532</td>\n      <td>13.943</td>\n      <td>9.46</td>\n      <td>7.24</td>\n      <td>[0, 0, 0, 0]</td>\n      <td>0.000</td>\n    </tr>\n    <tr>\n      <th>2</th>\n      <td>0.0</td>\n      <td>40.000</td>\n      <td>78.479</td>\n      <td>3.31</td>\n      <td>0.4</td>\n      <td>19.554</td>\n      <td>186.616</td>\n      <td>7.97</td>\n      <td>7.6</td>\n      <td>38.512</td>\n      <td>1.621</td>\n      <td>7.44</td>\n      <td>4.24</td>\n      <td>[0, 0, 0, 0]</td>\n      <td>0.000</td>\n    </tr>\n    <tr>\n      <th>3</th>\n      <td>0.0</td>\n      <td>40.000</td>\n      <td>99.144</td>\n      <td>11.50</td>\n      <td>358.2</td>\n      <td>8.814</td>\n      <td>66.607</td>\n      <td>0.75</td>\n      <td>22.8</td>\n      <td>38.174</td>\n      <td>14.748</td>\n      <td>6.78</td>\n      <td>11.88</td>\n      <td>[0, 0, 0, 0]</td>\n      <td>0.000</td>\n    </tr>\n    <tr>\n      <th>4</th>\n      <td>0.0</td>\n      <td>40.000</td>\n      <td>174.065</td>\n      <td>9.57</td>\n      <td>359.9</td>\n      <td>22.219</td>\n      <td>185.789</td>\n      <td>9.01</td>\n      <td>5.2</td>\n      <td>26.072</td>\n      <td>0.388</td>\n      <td>8.84</td>\n      <td>2.74</td>\n      <td>[0, 0, 0, 0]</td>\n      <td>0.000</td>\n    </tr>\n  </tbody>\n</table>\n</div>"
     },
     "metadata": {}
    },
    {
     "output_type": "stream",
     "name": "stdout",
     "text": [
      "_________________________________________________\n"
     ]
    }
   ],
   "source": [
    "for std in std_arr:\n",
    "\n",
    "    tma = TMA(observer, std=np.radians(std), tau=2, verbose=True)\n",
    "    algorithm_name = 'Метод N пеленгов'\n",
    "    res = [algorithm_name]\n",
    "    dict_results = tma.swarm(n=100, algorithm_name=algorithm_name, target_func=target_func, p0=p0, seeded=True, verbose=True)\n",
    "    df = tests.get_df(dict_results).dropna(axis=1)\n",
    "\n",
    "    print('Показатели Монте-Карло:')\n",
    "    for i in range(4):\n",
    "        success = df['Успех'].apply(lambda x: x[i])\n",
    "        success_rate = 100 * success.mean()\n",
    "        success_min = min(success)\n",
    "        print('Вариант {}: Рэф = {:.0f}%, Рэф_мин = {:.0f}'.format(i, success_rate, success_min))\n",
    "        res.extend([success_rate, success_min])\n",
    "    k_a_mean = df['Ка'].mean()\n",
    "    t_mean = df['t'].mean()\n",
    "    t_max = max(df['t'])\n",
    "    std = np.degrees(tma.standart_deviation)\n",
    "    print('Ка = {:.2f}'.format(k_a_mean))\n",
    "    print('t = {:.4f}, t_max = {:.4f}'.format(t_mean, t_max))\n",
    "    \n",
    "    d_df = df.copy()\n",
    "    for i, j in enumerate(df.columns):\n",
    "        try: d_df[j] = df[j].apply(lambda x: precisions_1[i].format(np.float64(x)))\n",
    "        except(TypeError): pass\n",
    "    display(d_df.drop(['Кб'], axis=1).head())\n",
    "\n",
    "    res.extend([k_a_mean, t_mean, t_max])\n",
    "    results.append(res)\n",
    "    tests.save_df(df, name='../tests/test1/d40/N, ' + str(np.degrees(tma.standart_deviation)) + '.xlsx')\n",
    "    print('_'*40)\n",
    "\n",
    "df_n = pd.DataFrame(results, columns=['Алгоритм', 'В11', 'В12', 'В21', 'В22', 'В31', 'В32', 'В41', 'В42', 'Ка', 't', 't_max'])\n",
    "df_n['СКО'] = std_arr"
   ]
  },
  {
   "cell_type": "code",
   "execution_count": 7,
   "metadata": {},
   "outputs": [
    {
     "output_type": "stream",
     "name": "stdout",
     "text": [
      "Сводная таблица:\n"
     ]
    },
    {
     "output_type": "execute_result",
     "data": {
      "text/plain": [
       "    СКО          Алгоритм  В11 В12  В21 В22  В31 В32  В41 В42 sqrt(Ка)   Nf  \\\n",
       "0   0.0            ММП v2  100   1  100   1  100   1  100   1     0.00    9   \n",
       "1   0.0  Метод N пеленгов  100   1  100   1  100   1  100   1     0.00  nan   \n",
       "2   0.1            ММП v2   92   0   98   0   98   0  100   1     0.10    9   \n",
       "3   0.1  Метод N пеленгов   50   0   67   0   68   0   71   0     0.11  nan   \n",
       "4   0.2            ММП v2   75   0   93   0   93   0   96   0     0.20    9   \n",
       "5   0.2  Метод N пеленгов    6   0   45   0   46   0   53   0     0.22  nan   \n",
       "6   0.3            ММП v2   55   0   86   0   86   0   92   0     0.30    9   \n",
       "7   0.3  Метод N пеленгов    0   0    1   0   10   0   24   0     0.34  nan   \n",
       "8   0.5            ММП v2   37   0   63   0   63   0   81   0     0.50    9   \n",
       "9   0.5  Метод N пеленгов    0   0    0   0    0   0    0   0     0.66  nan   \n",
       "10  1.0            ММП v2   14   0   38   0   40   0   49   0     1.00    9   \n",
       "11  1.0  Метод N пеленгов    0   0    0   0    0   0    0   0     5.46  nan   \n",
       "\n",
       "   Nf_max Iter Iter_max       t   t_max  \n",
       "0      11    8       10  0.0019  0.0043  \n",
       "1     nan  nan      nan  0.0002  0.0014  \n",
       "2      11    8       10  0.0019  0.0043  \n",
       "3     nan  nan      nan  0.0002  0.0007  \n",
       "4      11    8       10  0.0018  0.0042  \n",
       "5     nan  nan      nan  0.0002  0.0005  \n",
       "6      11    8       10  0.0018  0.0032  \n",
       "7     nan  nan      nan  0.0002  0.0007  \n",
       "8      11    8       10  0.0018  0.0027  \n",
       "9     nan  nan      nan  0.0002  0.0016  \n",
       "10     11    8       10  0.0019  0.0081  \n",
       "11    nan  nan      nan  0.0002  0.0004  "
      ],
      "text/html": "<div>\n<style scoped>\n    .dataframe tbody tr th:only-of-type {\n        vertical-align: middle;\n    }\n\n    .dataframe tbody tr th {\n        vertical-align: top;\n    }\n\n    .dataframe thead th {\n        text-align: right;\n    }\n</style>\n<table border=\"1\" class=\"dataframe\">\n  <thead>\n    <tr style=\"text-align: right;\">\n      <th></th>\n      <th>СКО</th>\n      <th>Алгоритм</th>\n      <th>В11</th>\n      <th>В12</th>\n      <th>В21</th>\n      <th>В22</th>\n      <th>В31</th>\n      <th>В32</th>\n      <th>В41</th>\n      <th>В42</th>\n      <th>sqrt(Ка)</th>\n      <th>Nf</th>\n      <th>Nf_max</th>\n      <th>Iter</th>\n      <th>Iter_max</th>\n      <th>t</th>\n      <th>t_max</th>\n    </tr>\n  </thead>\n  <tbody>\n    <tr>\n      <th>0</th>\n      <td>0.0</td>\n      <td>ММП v2</td>\n      <td>100</td>\n      <td>1</td>\n      <td>100</td>\n      <td>1</td>\n      <td>100</td>\n      <td>1</td>\n      <td>100</td>\n      <td>1</td>\n      <td>0.00</td>\n      <td>9</td>\n      <td>11</td>\n      <td>8</td>\n      <td>10</td>\n      <td>0.0019</td>\n      <td>0.0043</td>\n    </tr>\n    <tr>\n      <th>1</th>\n      <td>0.0</td>\n      <td>Метод N пеленгов</td>\n      <td>100</td>\n      <td>1</td>\n      <td>100</td>\n      <td>1</td>\n      <td>100</td>\n      <td>1</td>\n      <td>100</td>\n      <td>1</td>\n      <td>0.00</td>\n      <td>nan</td>\n      <td>nan</td>\n      <td>nan</td>\n      <td>nan</td>\n      <td>0.0002</td>\n      <td>0.0014</td>\n    </tr>\n    <tr>\n      <th>2</th>\n      <td>0.1</td>\n      <td>ММП v2</td>\n      <td>92</td>\n      <td>0</td>\n      <td>98</td>\n      <td>0</td>\n      <td>98</td>\n      <td>0</td>\n      <td>100</td>\n      <td>1</td>\n      <td>0.10</td>\n      <td>9</td>\n      <td>11</td>\n      <td>8</td>\n      <td>10</td>\n      <td>0.0019</td>\n      <td>0.0043</td>\n    </tr>\n    <tr>\n      <th>3</th>\n      <td>0.1</td>\n      <td>Метод N пеленгов</td>\n      <td>50</td>\n      <td>0</td>\n      <td>67</td>\n      <td>0</td>\n      <td>68</td>\n      <td>0</td>\n      <td>71</td>\n      <td>0</td>\n      <td>0.11</td>\n      <td>nan</td>\n      <td>nan</td>\n      <td>nan</td>\n      <td>nan</td>\n      <td>0.0002</td>\n      <td>0.0007</td>\n    </tr>\n    <tr>\n      <th>4</th>\n      <td>0.2</td>\n      <td>ММП v2</td>\n      <td>75</td>\n      <td>0</td>\n      <td>93</td>\n      <td>0</td>\n      <td>93</td>\n      <td>0</td>\n      <td>96</td>\n      <td>0</td>\n      <td>0.20</td>\n      <td>9</td>\n      <td>11</td>\n      <td>8</td>\n      <td>10</td>\n      <td>0.0018</td>\n      <td>0.0042</td>\n    </tr>\n    <tr>\n      <th>5</th>\n      <td>0.2</td>\n      <td>Метод N пеленгов</td>\n      <td>6</td>\n      <td>0</td>\n      <td>45</td>\n      <td>0</td>\n      <td>46</td>\n      <td>0</td>\n      <td>53</td>\n      <td>0</td>\n      <td>0.22</td>\n      <td>nan</td>\n      <td>nan</td>\n      <td>nan</td>\n      <td>nan</td>\n      <td>0.0002</td>\n      <td>0.0005</td>\n    </tr>\n    <tr>\n      <th>6</th>\n      <td>0.3</td>\n      <td>ММП v2</td>\n      <td>55</td>\n      <td>0</td>\n      <td>86</td>\n      <td>0</td>\n      <td>86</td>\n      <td>0</td>\n      <td>92</td>\n      <td>0</td>\n      <td>0.30</td>\n      <td>9</td>\n      <td>11</td>\n      <td>8</td>\n      <td>10</td>\n      <td>0.0018</td>\n      <td>0.0032</td>\n    </tr>\n    <tr>\n      <th>7</th>\n      <td>0.3</td>\n      <td>Метод N пеленгов</td>\n      <td>0</td>\n      <td>0</td>\n      <td>1</td>\n      <td>0</td>\n      <td>10</td>\n      <td>0</td>\n      <td>24</td>\n      <td>0</td>\n      <td>0.34</td>\n      <td>nan</td>\n      <td>nan</td>\n      <td>nan</td>\n      <td>nan</td>\n      <td>0.0002</td>\n      <td>0.0007</td>\n    </tr>\n    <tr>\n      <th>8</th>\n      <td>0.5</td>\n      <td>ММП v2</td>\n      <td>37</td>\n      <td>0</td>\n      <td>63</td>\n      <td>0</td>\n      <td>63</td>\n      <td>0</td>\n      <td>81</td>\n      <td>0</td>\n      <td>0.50</td>\n      <td>9</td>\n      <td>11</td>\n      <td>8</td>\n      <td>10</td>\n      <td>0.0018</td>\n      <td>0.0027</td>\n    </tr>\n    <tr>\n      <th>9</th>\n      <td>0.5</td>\n      <td>Метод N пеленгов</td>\n      <td>0</td>\n      <td>0</td>\n      <td>0</td>\n      <td>0</td>\n      <td>0</td>\n      <td>0</td>\n      <td>0</td>\n      <td>0</td>\n      <td>0.66</td>\n      <td>nan</td>\n      <td>nan</td>\n      <td>nan</td>\n      <td>nan</td>\n      <td>0.0002</td>\n      <td>0.0016</td>\n    </tr>\n    <tr>\n      <th>10</th>\n      <td>1.0</td>\n      <td>ММП v2</td>\n      <td>14</td>\n      <td>0</td>\n      <td>38</td>\n      <td>0</td>\n      <td>40</td>\n      <td>0</td>\n      <td>49</td>\n      <td>0</td>\n      <td>1.00</td>\n      <td>9</td>\n      <td>11</td>\n      <td>8</td>\n      <td>10</td>\n      <td>0.0019</td>\n      <td>0.0081</td>\n    </tr>\n    <tr>\n      <th>11</th>\n      <td>1.0</td>\n      <td>Метод N пеленгов</td>\n      <td>0</td>\n      <td>0</td>\n      <td>0</td>\n      <td>0</td>\n      <td>0</td>\n      <td>0</td>\n      <td>0</td>\n      <td>0</td>\n      <td>5.46</td>\n      <td>nan</td>\n      <td>nan</td>\n      <td>nan</td>\n      <td>nan</td>\n      <td>0.0002</td>\n      <td>0.0004</td>\n    </tr>\n  </tbody>\n</table>\n</div>"
     },
     "metadata": {},
     "execution_count": 7
    }
   ],
   "source": [
    "df = pd.concat([df_lm, df_n])\n",
    "df['Ка'] = df['Ка'].apply(lambda x: np.sqrt(np.float64(x)))\n",
    "df = df.rename(columns={'Ка' : 'sqrt(Ка)'})\n",
    "for i, j in enumerate(df.columns):\n",
    "        try: df[j] = df[j].apply(lambda x: precisions_3[i].format(np.float64(x)))\n",
    "        except(ValueError): pass\n",
    "\n",
    "print('Сводная таблица:')\n",
    "df = df.groupby('СКО').apply(lambda a: a.drop('СКО', axis=1)[:]).reset_index().drop('level_1', axis=1)\n",
    "df"
   ]
  },
  {
   "cell_type": "code",
   "execution_count": 8,
   "metadata": {},
   "outputs": [],
   "source": [
    "import docx\n",
    "doc = docx.Document()\n",
    "t = doc.add_table(df.shape[0]+1, df.shape[1])\n",
    "for j in range(df.shape[-1]):\n",
    "    t.cell(0,j).text = df.columns[j]\n",
    "for i in range(df.shape[0]):\n",
    "    for j in range(df.shape[-1]):\n",
    "        t.cell(i+1,j).text = str(df.values[i,j])\n",
    "doc.save('../tests/test1/d40/Сводная таблица.docx')"
   ]
  }
 ]
}