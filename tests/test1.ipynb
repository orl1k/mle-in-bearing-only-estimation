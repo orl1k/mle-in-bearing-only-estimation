{
 "metadata": {
  "language_info": {
   "codemirror_mode": {
    "name": "ipython",
    "version": 3
   },
   "file_extension": ".py",
   "mimetype": "text/x-python",
   "name": "python",
   "nbconvert_exporter": "python",
   "pygments_lexer": "ipython3",
   "version": "3.8.5-final"
  },
  "orig_nbformat": 2,
  "kernelspec": {
   "name": "python3",
   "display_name": "Python 3.8.5 64-bit",
   "metadata": {
    "interpreter": {
     "hash": "bd56d9596d0dac22b42132124331861132a2039bd11d68c775b6357709d84213"
    }
   }
  }
 },
 "nbformat": 4,
 "nbformat_minor": 2,
 "cells": [
  {
   "cell_type": "code",
   "execution_count": 1,
   "metadata": {},
   "outputs": [],
   "source": [
    "import sys\n",
    "sys.path.append(\"..\")\n",
    "import numpy as np\n",
    "from project.ship import Ship\n",
    "from project.tests import Tests\n",
    "from project.botma import TMA\n",
    "import time"
   ]
  },
  {
   "cell_type": "code",
   "execution_count": 2,
   "metadata": {},
   "outputs": [],
   "source": [
    "# Класс для сохранения результатов\n",
    "tests = Tests('test1')\n",
    "\n",
    "# Создаем наблюдатель\n",
    "observer_x, observer_y, observer_course, observer_velocity = 0, 0, 0, 5\n",
    "observer = Ship('Наблюдатель', observer_x, observer_y, observer_course,\n",
    "                observer_velocity, verbose=True)"
   ]
  },
  {
   "cell_type": "code",
   "execution_count": 3,
   "metadata": {},
   "outputs": [
    {
     "output_type": "stream",
     "name": "stdout",
     "text": [
      "Наблюдатель движется прямо по курсу 0.0° 180с\nНаблюдатель перешёл на курс 270.0° за 180с\nНаблюдатель движется прямо по курсу 270.0° 300с\nНаблюдатель перешёл на курс 90.0° за 360с\nНаблюдатель движется прямо по курсу 90.0° 180с\n"
     ]
    }
   ],
   "source": [
    "# Моделирование траектории наблюдателя\n",
    "observer.forward_movement(3 * 60)\n",
    "observer.change_course(270, 'left', omega=0.5)\n",
    "observer.forward_movement(5 * 60)\n",
    "observer.change_course(90, 'right', omega=0.5)\n",
    "observer.forward_movement(3 * 60)"
   ]
  },
  {
   "cell_type": "code",
   "execution_count": 4,
   "metadata": {},
   "outputs": [],
   "source": [
    "def target_func(seed=None):\n",
    "    np.random.seed(seed)\n",
    "    b = 0\n",
    "    d = 10\n",
    "    c = np.random.uniform(0, 180)\n",
    "    v = np.random.uniform(3, 15)\n",
    "    return [b, d, c, v]\n",
    "p0 = [0., 25., 90., 7.]\n",
    "std_arr = [0., 0.1, 0.2, 0.3, 0.5, 1.]"
   ]
  },
  {
   "cell_type": "code",
   "execution_count": 5,
   "metadata": {},
   "outputs": [
    {
     "output_type": "stream",
     "name": "stdout",
     "text": [
      "_______________________________________________________\n",
      "СКОп = 0.0, tau = 2\n",
      "ММП v6\n",
      "Моделирование 100 результатов закончено за t = 2.6 с\n"
     ]
    },
    {
     "output_type": "display_data",
     "data": {
      "text/plain": "  П0_ист Д0_ист   К0_ист  V0_ист  П0_расч  Д0_расч  К0_расч  V0_расч  П0_апр  \\\n0      0     10   98.786  11.582    360.0     10.0   98.786   11.582     0.0   \n1      0     10   75.064  11.644      0.0     10.0   75.064   11.644     0.0   \n2      0     10   78.479   3.311    360.0     10.0   78.479    3.311     0.0   \n3      0     10   99.144  11.498    360.0     10.0   99.144   11.498     0.0   \n4      0     10  174.065   9.567      0.0     10.0  174.065    9.567     0.0   \n\n   Д0_апр  ...  СКО X  СКО Y  СКО VX  СКО VY   Ка   Кб           Точ      t  \\\n0    25.0  ...    0.0    0.0     0.0     0.0  0.0  0.0  [1, 1, 1, 1]  0.005   \n1    25.0  ...    0.0    0.0     0.0     0.0  0.0  0.0  [1, 1, 1, 1]  0.003   \n2    25.0  ...    0.0    0.0     0.0     0.0  0.0  0.0  [1, 1, 1, 1]  0.002   \n3    25.0  ...    0.0    0.0     0.0     0.0  0.0  0.0  [1, 1, 1, 1]  0.005   \n4    25.0  ...    0.0    0.0     0.0     0.0  0.0  0.0  [1, 1, 1, 1]  0.005   \n\n   Nf  Iter  \n0  19    15  \n1  12    10  \n2   8     7  \n3  19    15  \n4  24    18  \n\n[5 rows x 22 columns]",
      "text/html": "<div>\n<style scoped>\n    .dataframe tbody tr th:only-of-type {\n        vertical-align: middle;\n    }\n\n    .dataframe tbody tr th {\n        vertical-align: top;\n    }\n\n    .dataframe thead th {\n        text-align: right;\n    }\n</style>\n<table border=\"1\" class=\"dataframe\">\n  <thead>\n    <tr style=\"text-align: right;\">\n      <th></th>\n      <th>П0_ист</th>\n      <th>Д0_ист</th>\n      <th>К0_ист</th>\n      <th>V0_ист</th>\n      <th>П0_расч</th>\n      <th>Д0_расч</th>\n      <th>К0_расч</th>\n      <th>V0_расч</th>\n      <th>П0_апр</th>\n      <th>Д0_апр</th>\n      <th>...</th>\n      <th>СКО X</th>\n      <th>СКО Y</th>\n      <th>СКО VX</th>\n      <th>СКО VY</th>\n      <th>Ка</th>\n      <th>Кб</th>\n      <th>Точ</th>\n      <th>t</th>\n      <th>Nf</th>\n      <th>Iter</th>\n    </tr>\n  </thead>\n  <tbody>\n    <tr>\n      <th>0</th>\n      <td>0</td>\n      <td>10</td>\n      <td>98.786</td>\n      <td>11.582</td>\n      <td>360.0</td>\n      <td>10.0</td>\n      <td>98.786</td>\n      <td>11.582</td>\n      <td>0.0</td>\n      <td>25.0</td>\n      <td>...</td>\n      <td>0.0</td>\n      <td>0.0</td>\n      <td>0.0</td>\n      <td>0.0</td>\n      <td>0.0</td>\n      <td>0.0</td>\n      <td>[1, 1, 1, 1]</td>\n      <td>0.005</td>\n      <td>19</td>\n      <td>15</td>\n    </tr>\n    <tr>\n      <th>1</th>\n      <td>0</td>\n      <td>10</td>\n      <td>75.064</td>\n      <td>11.644</td>\n      <td>0.0</td>\n      <td>10.0</td>\n      <td>75.064</td>\n      <td>11.644</td>\n      <td>0.0</td>\n      <td>25.0</td>\n      <td>...</td>\n      <td>0.0</td>\n      <td>0.0</td>\n      <td>0.0</td>\n      <td>0.0</td>\n      <td>0.0</td>\n      <td>0.0</td>\n      <td>[1, 1, 1, 1]</td>\n      <td>0.003</td>\n      <td>12</td>\n      <td>10</td>\n    </tr>\n    <tr>\n      <th>2</th>\n      <td>0</td>\n      <td>10</td>\n      <td>78.479</td>\n      <td>3.311</td>\n      <td>360.0</td>\n      <td>10.0</td>\n      <td>78.479</td>\n      <td>3.311</td>\n      <td>0.0</td>\n      <td>25.0</td>\n      <td>...</td>\n      <td>0.0</td>\n      <td>0.0</td>\n      <td>0.0</td>\n      <td>0.0</td>\n      <td>0.0</td>\n      <td>0.0</td>\n      <td>[1, 1, 1, 1]</td>\n      <td>0.002</td>\n      <td>8</td>\n      <td>7</td>\n    </tr>\n    <tr>\n      <th>3</th>\n      <td>0</td>\n      <td>10</td>\n      <td>99.144</td>\n      <td>11.498</td>\n      <td>360.0</td>\n      <td>10.0</td>\n      <td>99.144</td>\n      <td>11.498</td>\n      <td>0.0</td>\n      <td>25.0</td>\n      <td>...</td>\n      <td>0.0</td>\n      <td>0.0</td>\n      <td>0.0</td>\n      <td>0.0</td>\n      <td>0.0</td>\n      <td>0.0</td>\n      <td>[1, 1, 1, 1]</td>\n      <td>0.005</td>\n      <td>19</td>\n      <td>15</td>\n    </tr>\n    <tr>\n      <th>4</th>\n      <td>0</td>\n      <td>10</td>\n      <td>174.065</td>\n      <td>9.567</td>\n      <td>0.0</td>\n      <td>10.0</td>\n      <td>174.065</td>\n      <td>9.567</td>\n      <td>0.0</td>\n      <td>25.0</td>\n      <td>...</td>\n      <td>0.0</td>\n      <td>0.0</td>\n      <td>0.0</td>\n      <td>0.0</td>\n      <td>0.0</td>\n      <td>0.0</td>\n      <td>[1, 1, 1, 1]</td>\n      <td>0.005</td>\n      <td>24</td>\n      <td>18</td>\n    </tr>\n  </tbody>\n</table>\n<p>5 rows × 22 columns</p>\n</div>"
     },
     "metadata": {}
    },
    {
     "output_type": "stream",
     "name": "stdout",
     "text": [
      "Показатели Монте-Карло:\n",
      "Вариант 0: Рэф = 100$, Рэф_мин = 1\n",
      "Вариант 1: Рэф = 100$, Рэф_мин = 1\n",
      "Вариант 2: Рэф = 100$, Рэф_мин = 1\n",
      "Вариант 3: Рэф = 100$, Рэф_мин = 1\n",
      "Ка = 0.00\n",
      "Nf = 15, Nf_max = 27\n",
      "Iter = 12, Iter_max = 21\n",
      "t = 0.0032, t_max = 0.0061\n",
      "_______________________________________________________\n",
      "СКОп = 0.1, tau = 2\n",
      "ММП v6\n",
      "Моделирование 100 результатов закончено за t = 2.8 с\n"
     ]
    },
    {
     "output_type": "display_data",
     "data": {
      "text/plain": "  П0_ист Д0_ист   К0_ист  V0_ист  П0_расч  Д0_расч  К0_расч  V0_расч  П0_апр  \\\n0      0     10   98.786  11.582  359.990    9.978   98.689   11.570   1.571   \n1      0     10   75.064  11.644  359.965   10.054   75.108   11.744   1.571   \n2      0     10   78.479   3.311    0.012   10.007   78.653    3.305   1.571   \n3      0     10   99.144  11.498    0.019    9.979   99.210   11.450   1.571   \n4      0     10  174.065   9.567  359.987   10.004  174.043    9.572   1.571   \n\n   Д0_апр  ...  СКО X  СКО Y  СКО VX  СКО VY     Ка     Кб           Точ  \\\n0    25.0  ...  0.003  0.040   0.064   0.015  0.009  0.011  [1, 1, 1, 1]   \n1    25.0  ...  0.003  0.032   0.051   0.012  0.010  0.040  [1, 1, 1, 1]   \n2    25.0  ...  0.002  0.014   0.013   0.013  0.010  0.013  [1, 1, 1, 1]   \n3    25.0  ...  0.003  0.040   0.063   0.015  0.010  0.020  [1, 1, 1, 1]   \n4    25.0  ...  0.001  0.012   0.004   0.015  0.009  0.006  [1, 1, 1, 1]   \n\n       t  Nf  Iter  \n0  0.005  29    21  \n1  0.005  27    19  \n2  0.004  23    16  \n3  0.006  29    21  \n4  0.004  20    17  \n\n[5 rows x 22 columns]",
      "text/html": "<div>\n<style scoped>\n    .dataframe tbody tr th:only-of-type {\n        vertical-align: middle;\n    }\n\n    .dataframe tbody tr th {\n        vertical-align: top;\n    }\n\n    .dataframe thead th {\n        text-align: right;\n    }\n</style>\n<table border=\"1\" class=\"dataframe\">\n  <thead>\n    <tr style=\"text-align: right;\">\n      <th></th>\n      <th>П0_ист</th>\n      <th>Д0_ист</th>\n      <th>К0_ист</th>\n      <th>V0_ист</th>\n      <th>П0_расч</th>\n      <th>Д0_расч</th>\n      <th>К0_расч</th>\n      <th>V0_расч</th>\n      <th>П0_апр</th>\n      <th>Д0_апр</th>\n      <th>...</th>\n      <th>СКО X</th>\n      <th>СКО Y</th>\n      <th>СКО VX</th>\n      <th>СКО VY</th>\n      <th>Ка</th>\n      <th>Кб</th>\n      <th>Точ</th>\n      <th>t</th>\n      <th>Nf</th>\n      <th>Iter</th>\n    </tr>\n  </thead>\n  <tbody>\n    <tr>\n      <th>0</th>\n      <td>0</td>\n      <td>10</td>\n      <td>98.786</td>\n      <td>11.582</td>\n      <td>359.990</td>\n      <td>9.978</td>\n      <td>98.689</td>\n      <td>11.570</td>\n      <td>1.571</td>\n      <td>25.0</td>\n      <td>...</td>\n      <td>0.003</td>\n      <td>0.040</td>\n      <td>0.064</td>\n      <td>0.015</td>\n      <td>0.009</td>\n      <td>0.011</td>\n      <td>[1, 1, 1, 1]</td>\n      <td>0.005</td>\n      <td>29</td>\n      <td>21</td>\n    </tr>\n    <tr>\n      <th>1</th>\n      <td>0</td>\n      <td>10</td>\n      <td>75.064</td>\n      <td>11.644</td>\n      <td>359.965</td>\n      <td>10.054</td>\n      <td>75.108</td>\n      <td>11.744</td>\n      <td>1.571</td>\n      <td>25.0</td>\n      <td>...</td>\n      <td>0.003</td>\n      <td>0.032</td>\n      <td>0.051</td>\n      <td>0.012</td>\n      <td>0.010</td>\n      <td>0.040</td>\n      <td>[1, 1, 1, 1]</td>\n      <td>0.005</td>\n      <td>27</td>\n      <td>19</td>\n    </tr>\n    <tr>\n      <th>2</th>\n      <td>0</td>\n      <td>10</td>\n      <td>78.479</td>\n      <td>3.311</td>\n      <td>0.012</td>\n      <td>10.007</td>\n      <td>78.653</td>\n      <td>3.305</td>\n      <td>1.571</td>\n      <td>25.0</td>\n      <td>...</td>\n      <td>0.002</td>\n      <td>0.014</td>\n      <td>0.013</td>\n      <td>0.013</td>\n      <td>0.010</td>\n      <td>0.013</td>\n      <td>[1, 1, 1, 1]</td>\n      <td>0.004</td>\n      <td>23</td>\n      <td>16</td>\n    </tr>\n    <tr>\n      <th>3</th>\n      <td>0</td>\n      <td>10</td>\n      <td>99.144</td>\n      <td>11.498</td>\n      <td>0.019</td>\n      <td>9.979</td>\n      <td>99.210</td>\n      <td>11.450</td>\n      <td>1.571</td>\n      <td>25.0</td>\n      <td>...</td>\n      <td>0.003</td>\n      <td>0.040</td>\n      <td>0.063</td>\n      <td>0.015</td>\n      <td>0.010</td>\n      <td>0.020</td>\n      <td>[1, 1, 1, 1]</td>\n      <td>0.006</td>\n      <td>29</td>\n      <td>21</td>\n    </tr>\n    <tr>\n      <th>4</th>\n      <td>0</td>\n      <td>10</td>\n      <td>174.065</td>\n      <td>9.567</td>\n      <td>359.987</td>\n      <td>10.004</td>\n      <td>174.043</td>\n      <td>9.572</td>\n      <td>1.571</td>\n      <td>25.0</td>\n      <td>...</td>\n      <td>0.001</td>\n      <td>0.012</td>\n      <td>0.004</td>\n      <td>0.015</td>\n      <td>0.009</td>\n      <td>0.006</td>\n      <td>[1, 1, 1, 1]</td>\n      <td>0.004</td>\n      <td>20</td>\n      <td>17</td>\n    </tr>\n  </tbody>\n</table>\n<p>5 rows × 22 columns</p>\n</div>"
     },
     "metadata": {}
    },
    {
     "output_type": "stream",
     "name": "stdout",
     "text": [
      "Показатели Монте-Карло:\n",
      "Вариант 0: Рэф = 100$, Рэф_мин = 1\n",
      "Вариант 1: Рэф = 100$, Рэф_мин = 1\n",
      "Вариант 2: Рэф = 100$, Рэф_мин = 1\n",
      "Вариант 3: Рэф = 100$, Рэф_мин = 1\n",
      "Ка = 0.01\n",
      "Nf = 25, Nf_max = 31\n",
      "Iter = 18, Iter_max = 23\n",
      "t = 0.0050, t_max = 0.0076\n",
      "_______________________________________________________\n",
      "СКОп = 0.2, tau = 2\n",
      "ММП v6\n",
      "Моделирование 100 результатов закончено за t = 2.8 с\n"
     ]
    },
    {
     "output_type": "display_data",
     "data": {
      "text/plain": "  П0_ист Д0_ист   К0_ист  V0_ист  П0_расч  Д0_расч  К0_расч  V0_расч  П0_апр  \\\n0      0     10   98.786  11.582  359.979    9.956   98.591   11.558   1.543   \n1      0     10   75.064  11.644  359.929   10.109   75.151   11.845   1.543   \n2      0     10   78.479   3.311    0.023   10.015   78.827    3.299   1.543   \n3      0     10   99.144  11.498    0.038    9.958   99.277   11.402   1.543   \n4      0     10  174.065   9.567  359.975   10.008  174.022    9.578   1.543   \n\n   Д0_апр  ...  СКО X  СКО Y  СКО VX  СКО VY     Ка     Кб           Точ  \\\n0    25.0  ...  0.006  0.080   0.127   0.030  0.037  0.023  [1, 1, 1, 1]   \n1    25.0  ...  0.006  0.065   0.104   0.024  0.039  0.081  [1, 1, 1, 1]   \n2    25.0  ...  0.005  0.028   0.026   0.026  0.039  0.026  [1, 1, 1, 1]   \n3    25.0  ...  0.006  0.080   0.125   0.031  0.038  0.041  [1, 1, 1, 1]   \n4    25.0  ...  0.002  0.024   0.008   0.030  0.037  0.012  [1, 1, 1, 1]   \n\n       t  Nf  Iter  \n0  0.006  29    21  \n1  0.005  27    19  \n2  0.004  23    16  \n3  0.005  29    21  \n4  0.007  23    18  \n\n[5 rows x 22 columns]",
      "text/html": "<div>\n<style scoped>\n    .dataframe tbody tr th:only-of-type {\n        vertical-align: middle;\n    }\n\n    .dataframe tbody tr th {\n        vertical-align: top;\n    }\n\n    .dataframe thead th {\n        text-align: right;\n    }\n</style>\n<table border=\"1\" class=\"dataframe\">\n  <thead>\n    <tr style=\"text-align: right;\">\n      <th></th>\n      <th>П0_ист</th>\n      <th>Д0_ист</th>\n      <th>К0_ист</th>\n      <th>V0_ист</th>\n      <th>П0_расч</th>\n      <th>Д0_расч</th>\n      <th>К0_расч</th>\n      <th>V0_расч</th>\n      <th>П0_апр</th>\n      <th>Д0_апр</th>\n      <th>...</th>\n      <th>СКО X</th>\n      <th>СКО Y</th>\n      <th>СКО VX</th>\n      <th>СКО VY</th>\n      <th>Ка</th>\n      <th>Кб</th>\n      <th>Точ</th>\n      <th>t</th>\n      <th>Nf</th>\n      <th>Iter</th>\n    </tr>\n  </thead>\n  <tbody>\n    <tr>\n      <th>0</th>\n      <td>0</td>\n      <td>10</td>\n      <td>98.786</td>\n      <td>11.582</td>\n      <td>359.979</td>\n      <td>9.956</td>\n      <td>98.591</td>\n      <td>11.558</td>\n      <td>1.543</td>\n      <td>25.0</td>\n      <td>...</td>\n      <td>0.006</td>\n      <td>0.080</td>\n      <td>0.127</td>\n      <td>0.030</td>\n      <td>0.037</td>\n      <td>0.023</td>\n      <td>[1, 1, 1, 1]</td>\n      <td>0.006</td>\n      <td>29</td>\n      <td>21</td>\n    </tr>\n    <tr>\n      <th>1</th>\n      <td>0</td>\n      <td>10</td>\n      <td>75.064</td>\n      <td>11.644</td>\n      <td>359.929</td>\n      <td>10.109</td>\n      <td>75.151</td>\n      <td>11.845</td>\n      <td>1.543</td>\n      <td>25.0</td>\n      <td>...</td>\n      <td>0.006</td>\n      <td>0.065</td>\n      <td>0.104</td>\n      <td>0.024</td>\n      <td>0.039</td>\n      <td>0.081</td>\n      <td>[1, 1, 1, 1]</td>\n      <td>0.005</td>\n      <td>27</td>\n      <td>19</td>\n    </tr>\n    <tr>\n      <th>2</th>\n      <td>0</td>\n      <td>10</td>\n      <td>78.479</td>\n      <td>3.311</td>\n      <td>0.023</td>\n      <td>10.015</td>\n      <td>78.827</td>\n      <td>3.299</td>\n      <td>1.543</td>\n      <td>25.0</td>\n      <td>...</td>\n      <td>0.005</td>\n      <td>0.028</td>\n      <td>0.026</td>\n      <td>0.026</td>\n      <td>0.039</td>\n      <td>0.026</td>\n      <td>[1, 1, 1, 1]</td>\n      <td>0.004</td>\n      <td>23</td>\n      <td>16</td>\n    </tr>\n    <tr>\n      <th>3</th>\n      <td>0</td>\n      <td>10</td>\n      <td>99.144</td>\n      <td>11.498</td>\n      <td>0.038</td>\n      <td>9.958</td>\n      <td>99.277</td>\n      <td>11.402</td>\n      <td>1.543</td>\n      <td>25.0</td>\n      <td>...</td>\n      <td>0.006</td>\n      <td>0.080</td>\n      <td>0.125</td>\n      <td>0.031</td>\n      <td>0.038</td>\n      <td>0.041</td>\n      <td>[1, 1, 1, 1]</td>\n      <td>0.005</td>\n      <td>29</td>\n      <td>21</td>\n    </tr>\n    <tr>\n      <th>4</th>\n      <td>0</td>\n      <td>10</td>\n      <td>174.065</td>\n      <td>9.567</td>\n      <td>359.975</td>\n      <td>10.008</td>\n      <td>174.022</td>\n      <td>9.578</td>\n      <td>1.543</td>\n      <td>25.0</td>\n      <td>...</td>\n      <td>0.002</td>\n      <td>0.024</td>\n      <td>0.008</td>\n      <td>0.030</td>\n      <td>0.037</td>\n      <td>0.012</td>\n      <td>[1, 1, 1, 1]</td>\n      <td>0.007</td>\n      <td>23</td>\n      <td>18</td>\n    </tr>\n  </tbody>\n</table>\n<p>5 rows × 22 columns</p>\n</div>"
     },
     "metadata": {}
    },
    {
     "output_type": "stream",
     "name": "stdout",
     "text": [
      "Показатели Монте-Карло:\n",
      "Вариант 0: Рэф = 100$, Рэф_мин = 1\n",
      "Вариант 1: Рэф = 100$, Рэф_мин = 1\n",
      "Вариант 2: Рэф = 100$, Рэф_мин = 1\n",
      "Вариант 3: Рэф = 100$, Рэф_мин = 1\n",
      "Ка = 0.04\n",
      "Nf = 25, Nf_max = 31\n",
      "Iter = 18, Iter_max = 23\n",
      "t = 0.0050, t_max = 0.0074\n",
      "_______________________________________________________\n",
      "СКОп = 0.3, tau = 2\n",
      "ММП v6\n",
      "Моделирование 100 результатов закончено за t = 2.8 с\n"
     ]
    },
    {
     "output_type": "display_data",
     "data": {
      "text/plain": "  П0_ист Д0_ист   К0_ист  V0_ист  П0_расч  Д0_расч  К0_расч  V0_расч  П0_апр  \\\n0      0     10   98.786  11.582  359.969    9.934   98.494   11.546   1.544   \n1      0     10   75.064  11.644  359.894   10.165   75.195   11.946   1.544   \n2      0     10   78.479   3.311    0.035   10.022   79.002    3.293   1.544   \n3      0     10   99.144  11.498    0.057    9.938   99.344   11.354   1.544   \n4      0     10  174.065   9.567  359.962   10.013  174.000    9.583   1.544   \n\n   Д0_апр  ...  СКО X  СКО Y  СКО VX  СКО VY     Ка     Кб           Точ  \\\n0    25.0  ...  0.008  0.120   0.190   0.045  0.084  0.034  [1, 1, 1, 1]   \n1    25.0  ...  0.009  0.098   0.158   0.036  0.088  0.122  [1, 1, 1, 1]   \n2    25.0  ...  0.007  0.043   0.040   0.039  0.089  0.039  [1, 1, 1, 1]   \n3    25.0  ...  0.008  0.119   0.187   0.046  0.086  0.061  [1, 1, 1, 1]   \n4    25.0  ...  0.003  0.037   0.012   0.045  0.082  0.018  [1, 1, 1, 1]   \n\n       t  Nf  Iter  \n0  0.006  29    21  \n1  0.006  27    19  \n2  0.004  23    16  \n3  0.007  29    21  \n4  0.005  23    18  \n\n[5 rows x 22 columns]",
      "text/html": "<div>\n<style scoped>\n    .dataframe tbody tr th:only-of-type {\n        vertical-align: middle;\n    }\n\n    .dataframe tbody tr th {\n        vertical-align: top;\n    }\n\n    .dataframe thead th {\n        text-align: right;\n    }\n</style>\n<table border=\"1\" class=\"dataframe\">\n  <thead>\n    <tr style=\"text-align: right;\">\n      <th></th>\n      <th>П0_ист</th>\n      <th>Д0_ист</th>\n      <th>К0_ист</th>\n      <th>V0_ист</th>\n      <th>П0_расч</th>\n      <th>Д0_расч</th>\n      <th>К0_расч</th>\n      <th>V0_расч</th>\n      <th>П0_апр</th>\n      <th>Д0_апр</th>\n      <th>...</th>\n      <th>СКО X</th>\n      <th>СКО Y</th>\n      <th>СКО VX</th>\n      <th>СКО VY</th>\n      <th>Ка</th>\n      <th>Кб</th>\n      <th>Точ</th>\n      <th>t</th>\n      <th>Nf</th>\n      <th>Iter</th>\n    </tr>\n  </thead>\n  <tbody>\n    <tr>\n      <th>0</th>\n      <td>0</td>\n      <td>10</td>\n      <td>98.786</td>\n      <td>11.582</td>\n      <td>359.969</td>\n      <td>9.934</td>\n      <td>98.494</td>\n      <td>11.546</td>\n      <td>1.544</td>\n      <td>25.0</td>\n      <td>...</td>\n      <td>0.008</td>\n      <td>0.120</td>\n      <td>0.190</td>\n      <td>0.045</td>\n      <td>0.084</td>\n      <td>0.034</td>\n      <td>[1, 1, 1, 1]</td>\n      <td>0.006</td>\n      <td>29</td>\n      <td>21</td>\n    </tr>\n    <tr>\n      <th>1</th>\n      <td>0</td>\n      <td>10</td>\n      <td>75.064</td>\n      <td>11.644</td>\n      <td>359.894</td>\n      <td>10.165</td>\n      <td>75.195</td>\n      <td>11.946</td>\n      <td>1.544</td>\n      <td>25.0</td>\n      <td>...</td>\n      <td>0.009</td>\n      <td>0.098</td>\n      <td>0.158</td>\n      <td>0.036</td>\n      <td>0.088</td>\n      <td>0.122</td>\n      <td>[1, 1, 1, 1]</td>\n      <td>0.006</td>\n      <td>27</td>\n      <td>19</td>\n    </tr>\n    <tr>\n      <th>2</th>\n      <td>0</td>\n      <td>10</td>\n      <td>78.479</td>\n      <td>3.311</td>\n      <td>0.035</td>\n      <td>10.022</td>\n      <td>79.002</td>\n      <td>3.293</td>\n      <td>1.544</td>\n      <td>25.0</td>\n      <td>...</td>\n      <td>0.007</td>\n      <td>0.043</td>\n      <td>0.040</td>\n      <td>0.039</td>\n      <td>0.089</td>\n      <td>0.039</td>\n      <td>[1, 1, 1, 1]</td>\n      <td>0.004</td>\n      <td>23</td>\n      <td>16</td>\n    </tr>\n    <tr>\n      <th>3</th>\n      <td>0</td>\n      <td>10</td>\n      <td>99.144</td>\n      <td>11.498</td>\n      <td>0.057</td>\n      <td>9.938</td>\n      <td>99.344</td>\n      <td>11.354</td>\n      <td>1.544</td>\n      <td>25.0</td>\n      <td>...</td>\n      <td>0.008</td>\n      <td>0.119</td>\n      <td>0.187</td>\n      <td>0.046</td>\n      <td>0.086</td>\n      <td>0.061</td>\n      <td>[1, 1, 1, 1]</td>\n      <td>0.007</td>\n      <td>29</td>\n      <td>21</td>\n    </tr>\n    <tr>\n      <th>4</th>\n      <td>0</td>\n      <td>10</td>\n      <td>174.065</td>\n      <td>9.567</td>\n      <td>359.962</td>\n      <td>10.013</td>\n      <td>174.000</td>\n      <td>9.583</td>\n      <td>1.544</td>\n      <td>25.0</td>\n      <td>...</td>\n      <td>0.003</td>\n      <td>0.037</td>\n      <td>0.012</td>\n      <td>0.045</td>\n      <td>0.082</td>\n      <td>0.018</td>\n      <td>[1, 1, 1, 1]</td>\n      <td>0.005</td>\n      <td>23</td>\n      <td>18</td>\n    </tr>\n  </tbody>\n</table>\n<p>5 rows × 22 columns</p>\n</div>"
     },
     "metadata": {}
    },
    {
     "output_type": "stream",
     "name": "stdout",
     "text": [
      "Показатели Монте-Карло:\n",
      "Вариант 0: Рэф = 98$, Рэф_мин = 0\n",
      "Вариант 1: Рэф = 100$, Рэф_мин = 1\n",
      "Вариант 2: Рэф = 100$, Рэф_мин = 1\n",
      "Вариант 3: Рэф = 100$, Рэф_мин = 1\n",
      "Ка = 0.09\n",
      "Nf = 25, Nf_max = 31\n",
      "Iter = 18, Iter_max = 23\n",
      "t = 0.0050, t_max = 0.0067\n",
      "_______________________________________________________\n",
      "СКОп = 0.5, tau = 2\n",
      "ММП v6\n",
      "Моделирование 100 результатов закончено за t = 2.8 с\n"
     ]
    },
    {
     "output_type": "display_data",
     "data": {
      "text/plain": "  П0_ист Д0_ист   К0_ист  V0_ист  П0_расч  Д0_расч  К0_расч  V0_расч  П0_апр  \\\n0      0     10   98.786  11.582  359.948    9.889   98.299   11.521   1.544   \n1      0     10   75.064  11.644  359.824   10.278   75.282   12.154   1.544   \n2      0     10   78.479   3.311    0.057   10.037   79.352    3.282   1.544   \n3      0     10   99.144  11.498    0.095    9.897   99.477   11.259   1.544   \n4      0     10  174.065   9.567  359.937   10.021  173.956    9.594   1.544   \n\n   Д0_апр  ...  СКО X  СКО Y  СКО VX  СКО VY     Ка     Кб           Точ  \\\n0    25.0  ...  0.014  0.198   0.315   0.073  0.234  0.057  [1, 1, 1, 1]   \n1    25.0  ...  0.015  0.168   0.270   0.061  0.243  0.205  [1, 1, 1, 1]   \n2    25.0  ...  0.011  0.071   0.066   0.065  0.246  0.065  [1, 1, 1, 1]   \n3    25.0  ...  0.014  0.197   0.308   0.076  0.238  0.101  [1, 1, 1, 1]   \n4    25.0  ...  0.005  0.061   0.019   0.074  0.229  0.029  [1, 1, 1, 1]   \n\n       t  Nf  Iter  \n0  0.006  29    21  \n1  0.005  27    19  \n2  0.004  23    16  \n3  0.007  29    21  \n4  0.005  23    18  \n\n[5 rows x 22 columns]",
      "text/html": "<div>\n<style scoped>\n    .dataframe tbody tr th:only-of-type {\n        vertical-align: middle;\n    }\n\n    .dataframe tbody tr th {\n        vertical-align: top;\n    }\n\n    .dataframe thead th {\n        text-align: right;\n    }\n</style>\n<table border=\"1\" class=\"dataframe\">\n  <thead>\n    <tr style=\"text-align: right;\">\n      <th></th>\n      <th>П0_ист</th>\n      <th>Д0_ист</th>\n      <th>К0_ист</th>\n      <th>V0_ист</th>\n      <th>П0_расч</th>\n      <th>Д0_расч</th>\n      <th>К0_расч</th>\n      <th>V0_расч</th>\n      <th>П0_апр</th>\n      <th>Д0_апр</th>\n      <th>...</th>\n      <th>СКО X</th>\n      <th>СКО Y</th>\n      <th>СКО VX</th>\n      <th>СКО VY</th>\n      <th>Ка</th>\n      <th>Кб</th>\n      <th>Точ</th>\n      <th>t</th>\n      <th>Nf</th>\n      <th>Iter</th>\n    </tr>\n  </thead>\n  <tbody>\n    <tr>\n      <th>0</th>\n      <td>0</td>\n      <td>10</td>\n      <td>98.786</td>\n      <td>11.582</td>\n      <td>359.948</td>\n      <td>9.889</td>\n      <td>98.299</td>\n      <td>11.521</td>\n      <td>1.544</td>\n      <td>25.0</td>\n      <td>...</td>\n      <td>0.014</td>\n      <td>0.198</td>\n      <td>0.315</td>\n      <td>0.073</td>\n      <td>0.234</td>\n      <td>0.057</td>\n      <td>[1, 1, 1, 1]</td>\n      <td>0.006</td>\n      <td>29</td>\n      <td>21</td>\n    </tr>\n    <tr>\n      <th>1</th>\n      <td>0</td>\n      <td>10</td>\n      <td>75.064</td>\n      <td>11.644</td>\n      <td>359.824</td>\n      <td>10.278</td>\n      <td>75.282</td>\n      <td>12.154</td>\n      <td>1.544</td>\n      <td>25.0</td>\n      <td>...</td>\n      <td>0.015</td>\n      <td>0.168</td>\n      <td>0.270</td>\n      <td>0.061</td>\n      <td>0.243</td>\n      <td>0.205</td>\n      <td>[1, 1, 1, 1]</td>\n      <td>0.005</td>\n      <td>27</td>\n      <td>19</td>\n    </tr>\n    <tr>\n      <th>2</th>\n      <td>0</td>\n      <td>10</td>\n      <td>78.479</td>\n      <td>3.311</td>\n      <td>0.057</td>\n      <td>10.037</td>\n      <td>79.352</td>\n      <td>3.282</td>\n      <td>1.544</td>\n      <td>25.0</td>\n      <td>...</td>\n      <td>0.011</td>\n      <td>0.071</td>\n      <td>0.066</td>\n      <td>0.065</td>\n      <td>0.246</td>\n      <td>0.065</td>\n      <td>[1, 1, 1, 1]</td>\n      <td>0.004</td>\n      <td>23</td>\n      <td>16</td>\n    </tr>\n    <tr>\n      <th>3</th>\n      <td>0</td>\n      <td>10</td>\n      <td>99.144</td>\n      <td>11.498</td>\n      <td>0.095</td>\n      <td>9.897</td>\n      <td>99.477</td>\n      <td>11.259</td>\n      <td>1.544</td>\n      <td>25.0</td>\n      <td>...</td>\n      <td>0.014</td>\n      <td>0.197</td>\n      <td>0.308</td>\n      <td>0.076</td>\n      <td>0.238</td>\n      <td>0.101</td>\n      <td>[1, 1, 1, 1]</td>\n      <td>0.007</td>\n      <td>29</td>\n      <td>21</td>\n    </tr>\n    <tr>\n      <th>4</th>\n      <td>0</td>\n      <td>10</td>\n      <td>174.065</td>\n      <td>9.567</td>\n      <td>359.937</td>\n      <td>10.021</td>\n      <td>173.956</td>\n      <td>9.594</td>\n      <td>1.544</td>\n      <td>25.0</td>\n      <td>...</td>\n      <td>0.005</td>\n      <td>0.061</td>\n      <td>0.019</td>\n      <td>0.074</td>\n      <td>0.229</td>\n      <td>0.029</td>\n      <td>[1, 1, 1, 1]</td>\n      <td>0.005</td>\n      <td>23</td>\n      <td>18</td>\n    </tr>\n  </tbody>\n</table>\n<p>5 rows × 22 columns</p>\n</div>"
     },
     "metadata": {}
    },
    {
     "output_type": "stream",
     "name": "stdout",
     "text": [
      "Показатели Монте-Карло:\n",
      "Вариант 0: Рэф = 96$, Рэф_мин = 0\n",
      "Вариант 1: Рэф = 99$, Рэф_мин = 0\n",
      "Вариант 2: Рэф = 99$, Рэф_мин = 0\n",
      "Вариант 3: Рэф = 100$, Рэф_мин = 1\n",
      "Ка = 0.25\n",
      "Nf = 25, Nf_max = 31\n",
      "Iter = 18, Iter_max = 23\n",
      "t = 0.0049, t_max = 0.0067\n",
      "_______________________________________________________\n",
      "СКОп = 1.0, tau = 2\n",
      "ММП v6\n",
      "Моделирование 100 результатов закончено за t = 2.8 с\n"
     ]
    },
    {
     "output_type": "display_data",
     "data": {
      "text/plain": "  П0_ист Д0_ист   К0_ист  V0_ист  П0_расч  Д0_расч  К0_расч  V0_расч  П0_апр  \\\n0      0     10   98.786  11.582  359.895    9.779   97.811   11.459   1.544   \n1      0     10   75.064  11.644  359.648   10.573   75.498   12.694   1.544   \n2      0     10   78.479   3.311    0.114   10.074   80.233    3.254   1.544   \n3      0     10   99.144  11.498    0.190    9.794   99.812   11.025   1.544   \n4      0     10  174.065   9.567  359.874   10.043  173.846    9.622   1.544   \n\n   Д0_апр  ...  СКО X  СКО Y  СКО VX  СКО VY     Ка     Кб           Точ  \\\n0    25.0  ...  0.028  0.388   0.623   0.141  0.937  0.114  [1, 1, 1, 1]   \n1    25.0  ...  0.031  0.359   0.579   0.127  0.972  0.420  [0, 1, 1, 1]   \n2    25.0  ...  0.023  0.142   0.132   0.130  0.984  0.128  [1, 1, 1, 1]   \n3    25.0  ...  0.027  0.384   0.598   0.151  0.952  0.201  [1, 1, 1, 1]   \n4    25.0  ...  0.010  0.123   0.039   0.150  0.915  0.059  [1, 1, 1, 1]   \n\n       t  Nf  Iter  \n0  0.005  29    21  \n1  0.005  27    19  \n2  0.005  23    16  \n3  0.005  29    21  \n4  0.005  23    18  \n\n[5 rows x 22 columns]",
      "text/html": "<div>\n<style scoped>\n    .dataframe tbody tr th:only-of-type {\n        vertical-align: middle;\n    }\n\n    .dataframe tbody tr th {\n        vertical-align: top;\n    }\n\n    .dataframe thead th {\n        text-align: right;\n    }\n</style>\n<table border=\"1\" class=\"dataframe\">\n  <thead>\n    <tr style=\"text-align: right;\">\n      <th></th>\n      <th>П0_ист</th>\n      <th>Д0_ист</th>\n      <th>К0_ист</th>\n      <th>V0_ист</th>\n      <th>П0_расч</th>\n      <th>Д0_расч</th>\n      <th>К0_расч</th>\n      <th>V0_расч</th>\n      <th>П0_апр</th>\n      <th>Д0_апр</th>\n      <th>...</th>\n      <th>СКО X</th>\n      <th>СКО Y</th>\n      <th>СКО VX</th>\n      <th>СКО VY</th>\n      <th>Ка</th>\n      <th>Кб</th>\n      <th>Точ</th>\n      <th>t</th>\n      <th>Nf</th>\n      <th>Iter</th>\n    </tr>\n  </thead>\n  <tbody>\n    <tr>\n      <th>0</th>\n      <td>0</td>\n      <td>10</td>\n      <td>98.786</td>\n      <td>11.582</td>\n      <td>359.895</td>\n      <td>9.779</td>\n      <td>97.811</td>\n      <td>11.459</td>\n      <td>1.544</td>\n      <td>25.0</td>\n      <td>...</td>\n      <td>0.028</td>\n      <td>0.388</td>\n      <td>0.623</td>\n      <td>0.141</td>\n      <td>0.937</td>\n      <td>0.114</td>\n      <td>[1, 1, 1, 1]</td>\n      <td>0.005</td>\n      <td>29</td>\n      <td>21</td>\n    </tr>\n    <tr>\n      <th>1</th>\n      <td>0</td>\n      <td>10</td>\n      <td>75.064</td>\n      <td>11.644</td>\n      <td>359.648</td>\n      <td>10.573</td>\n      <td>75.498</td>\n      <td>12.694</td>\n      <td>1.544</td>\n      <td>25.0</td>\n      <td>...</td>\n      <td>0.031</td>\n      <td>0.359</td>\n      <td>0.579</td>\n      <td>0.127</td>\n      <td>0.972</td>\n      <td>0.420</td>\n      <td>[0, 1, 1, 1]</td>\n      <td>0.005</td>\n      <td>27</td>\n      <td>19</td>\n    </tr>\n    <tr>\n      <th>2</th>\n      <td>0</td>\n      <td>10</td>\n      <td>78.479</td>\n      <td>3.311</td>\n      <td>0.114</td>\n      <td>10.074</td>\n      <td>80.233</td>\n      <td>3.254</td>\n      <td>1.544</td>\n      <td>25.0</td>\n      <td>...</td>\n      <td>0.023</td>\n      <td>0.142</td>\n      <td>0.132</td>\n      <td>0.130</td>\n      <td>0.984</td>\n      <td>0.128</td>\n      <td>[1, 1, 1, 1]</td>\n      <td>0.005</td>\n      <td>23</td>\n      <td>16</td>\n    </tr>\n    <tr>\n      <th>3</th>\n      <td>0</td>\n      <td>10</td>\n      <td>99.144</td>\n      <td>11.498</td>\n      <td>0.190</td>\n      <td>9.794</td>\n      <td>99.812</td>\n      <td>11.025</td>\n      <td>1.544</td>\n      <td>25.0</td>\n      <td>...</td>\n      <td>0.027</td>\n      <td>0.384</td>\n      <td>0.598</td>\n      <td>0.151</td>\n      <td>0.952</td>\n      <td>0.201</td>\n      <td>[1, 1, 1, 1]</td>\n      <td>0.005</td>\n      <td>29</td>\n      <td>21</td>\n    </tr>\n    <tr>\n      <th>4</th>\n      <td>0</td>\n      <td>10</td>\n      <td>174.065</td>\n      <td>9.567</td>\n      <td>359.874</td>\n      <td>10.043</td>\n      <td>173.846</td>\n      <td>9.622</td>\n      <td>1.544</td>\n      <td>25.0</td>\n      <td>...</td>\n      <td>0.010</td>\n      <td>0.123</td>\n      <td>0.039</td>\n      <td>0.150</td>\n      <td>0.915</td>\n      <td>0.059</td>\n      <td>[1, 1, 1, 1]</td>\n      <td>0.005</td>\n      <td>23</td>\n      <td>18</td>\n    </tr>\n  </tbody>\n</table>\n<p>5 rows × 22 columns</p>\n</div>"
     },
     "metadata": {}
    },
    {
     "output_type": "stream",
     "name": "stdout",
     "text": [
      "Показатели Монте-Карло:\nВариант 0: Рэф = 75$, Рэф_мин = 0\nВариант 1: Рэф = 96$, Рэф_мин = 0\nВариант 2: Рэф = 96$, Рэф_мин = 0\nВариант 3: Рэф = 98$, Рэф_мин = 0\nКа = 0.99\nNf = 25, Nf_max = 31\nIter = 18, Iter_max = 23\nt = 0.0050, t_max = 0.0076\n_______________________________________________________\n"
     ]
    }
   ],
   "source": [
    "print('_______________________________________________________')\n",
    "for std in std_arr:\n",
    "    tma = TMA(observer, sd=np.radians(std), tau=2)\n",
    "    tma.print_verbose()\n",
    "    print('ММП v6')\n",
    "    start_time = time.perf_counter()\n",
    "    dict_results = tma.swarm(n=100, target_func=target_func, p0=p0, seeded=True)\n",
    "    stop_time = time.perf_counter()\n",
    "    print('Моделирование 100 результатов закончено за t = {:.1f} с'.format(stop_time - start_time))\n",
    "    df = tests.get_df(dict_results)\n",
    "    display(df.head().round(3))\n",
    "    print('Показатели Монте-Карло:')\n",
    "    for i in range(4):\n",
    "        a = df['Точ'].apply(lambda x: x[i])\n",
    "        print('Вариант {}: Рэф = {:.0f}$, Рэф_мин = {:.0f}'.format(i, 100 * a.mean(), min(a)))\n",
    "    print('Ка = {:.2f}'.format(df['Ка'].mean()))\n",
    "    print('Nf = {:.0f}, Nf_max = {:.0f}'.format(df['Nf'].mean(), max(df['Nf'])))\n",
    "    print('Iter = {:.0f}, Iter_max = {:.0f}'.format(df['Iter'].mean(), max(df['Iter'])))\n",
    "    print('t = {:.4f}, t_max = {:.4f}'.format(df['t'].mean(), max(df['t'])))\n",
    "    tests.save_df(df, name='../tests/tests8/ЛМ ' + str(np.degrees(tma.standart_deviation)) + '.xlsx')\n",
    "    print('_______________________________________________________')"
   ]
  },
  {
   "cell_type": "code",
   "execution_count": 6,
   "metadata": {},
   "outputs": [
    {
     "output_type": "stream",
     "name": "stdout",
     "text": [
      "_______________________________________________________\n",
      "СКОп = 0.0, tau = 2\n",
      "Метод N пеленгов\n",
      "Моделирование 100 результатов закончено за t = 2.4 с\n"
     ]
    },
    {
     "output_type": "display_data",
     "data": {
      "text/plain": "  П0_ист Д0_ист   К0_ист  V0_ист  П0_расч  Д0_расч  К0_расч  V0_расч   Ка  \\\n0      0     10   98.786  11.582      0.0     10.0   98.786   11.582  0.0   \n1      0     10   75.064  11.644      0.0     10.0   75.064   11.644  0.0   \n2      0     10   78.479   3.311      0.0     10.0   78.479    3.311  0.0   \n3      0     10   99.144  11.498      0.0     10.0   99.144   11.498  0.0   \n4      0     10  174.065   9.567      0.0     10.0  174.065    9.567  0.0   \n\n    Кб           Точ    t  \n0  0.0  [1, 1, 1, 1]  0.0  \n1  0.0  [1, 1, 1, 1]  0.0  \n2  0.0  [1, 1, 1, 1]  0.0  \n3  0.0  [1, 1, 1, 1]  0.0  \n4  0.0  [1, 1, 1, 1]  0.0  ",
      "text/html": "<div>\n<style scoped>\n    .dataframe tbody tr th:only-of-type {\n        vertical-align: middle;\n    }\n\n    .dataframe tbody tr th {\n        vertical-align: top;\n    }\n\n    .dataframe thead th {\n        text-align: right;\n    }\n</style>\n<table border=\"1\" class=\"dataframe\">\n  <thead>\n    <tr style=\"text-align: right;\">\n      <th></th>\n      <th>П0_ист</th>\n      <th>Д0_ист</th>\n      <th>К0_ист</th>\n      <th>V0_ист</th>\n      <th>П0_расч</th>\n      <th>Д0_расч</th>\n      <th>К0_расч</th>\n      <th>V0_расч</th>\n      <th>Ка</th>\n      <th>Кб</th>\n      <th>Точ</th>\n      <th>t</th>\n    </tr>\n  </thead>\n  <tbody>\n    <tr>\n      <th>0</th>\n      <td>0</td>\n      <td>10</td>\n      <td>98.786</td>\n      <td>11.582</td>\n      <td>0.0</td>\n      <td>10.0</td>\n      <td>98.786</td>\n      <td>11.582</td>\n      <td>0.0</td>\n      <td>0.0</td>\n      <td>[1, 1, 1, 1]</td>\n      <td>0.0</td>\n    </tr>\n    <tr>\n      <th>1</th>\n      <td>0</td>\n      <td>10</td>\n      <td>75.064</td>\n      <td>11.644</td>\n      <td>0.0</td>\n      <td>10.0</td>\n      <td>75.064</td>\n      <td>11.644</td>\n      <td>0.0</td>\n      <td>0.0</td>\n      <td>[1, 1, 1, 1]</td>\n      <td>0.0</td>\n    </tr>\n    <tr>\n      <th>2</th>\n      <td>0</td>\n      <td>10</td>\n      <td>78.479</td>\n      <td>3.311</td>\n      <td>0.0</td>\n      <td>10.0</td>\n      <td>78.479</td>\n      <td>3.311</td>\n      <td>0.0</td>\n      <td>0.0</td>\n      <td>[1, 1, 1, 1]</td>\n      <td>0.0</td>\n    </tr>\n    <tr>\n      <th>3</th>\n      <td>0</td>\n      <td>10</td>\n      <td>99.144</td>\n      <td>11.498</td>\n      <td>0.0</td>\n      <td>10.0</td>\n      <td>99.144</td>\n      <td>11.498</td>\n      <td>0.0</td>\n      <td>0.0</td>\n      <td>[1, 1, 1, 1]</td>\n      <td>0.0</td>\n    </tr>\n    <tr>\n      <th>4</th>\n      <td>0</td>\n      <td>10</td>\n      <td>174.065</td>\n      <td>9.567</td>\n      <td>0.0</td>\n      <td>10.0</td>\n      <td>174.065</td>\n      <td>9.567</td>\n      <td>0.0</td>\n      <td>0.0</td>\n      <td>[1, 1, 1, 1]</td>\n      <td>0.0</td>\n    </tr>\n  </tbody>\n</table>\n</div>"
     },
     "metadata": {}
    },
    {
     "output_type": "stream",
     "name": "stdout",
     "text": [
      "Показатели Монте-Карло:\n",
      "Вариант 0: Рэф = 100$, Рэф_мин = 1\n",
      "Вариант 1: Рэф = 100$, Рэф_мин = 1\n",
      "Вариант 2: Рэф = 100$, Рэф_мин = 1\n",
      "Вариант 3: Рэф = 100$, Рэф_мин = 1\n",
      "Ка = 0.00\n",
      "t = 0.0003, t_max = 0.0010\n",
      "_______________________________________________________\n",
      "СКОп = 0.1, tau = 2\n",
      "Метод N пеленгов\n",
      "Моделирование 100 результатов закончено за t = 2.4 с\n"
     ]
    },
    {
     "output_type": "display_data",
     "data": {
      "text/plain": "  П0_ист Д0_ист   К0_ист  V0_ист  П0_расч  Д0_расч  К0_расч  V0_расч     Ка  \\\n0      0     10   98.786  11.582  359.824   10.091   98.549   11.834  0.011   \n1      0     10   75.064  11.644  359.838   10.088   74.994   11.897  0.011   \n2      0     10   78.479   3.311    0.042    9.993   78.950    3.272  0.010   \n3      0     10   99.144  11.498  359.821   10.144   99.061   11.807  0.012   \n4      0     10  174.065   9.567  359.995    9.987  174.073    9.550  0.009   \n\n      Кб           Точ    t  \n0  0.120  [1, 1, 1, 1]  0.0  \n1  0.111  [1, 1, 1, 1]  0.0  \n2  0.053  [1, 1, 1, 1]  0.0  \n3  0.138  [1, 1, 1, 1]  0.0  \n4  0.008  [1, 1, 1, 1]  0.0  ",
      "text/html": "<div>\n<style scoped>\n    .dataframe tbody tr th:only-of-type {\n        vertical-align: middle;\n    }\n\n    .dataframe tbody tr th {\n        vertical-align: top;\n    }\n\n    .dataframe thead th {\n        text-align: right;\n    }\n</style>\n<table border=\"1\" class=\"dataframe\">\n  <thead>\n    <tr style=\"text-align: right;\">\n      <th></th>\n      <th>П0_ист</th>\n      <th>Д0_ист</th>\n      <th>К0_ист</th>\n      <th>V0_ист</th>\n      <th>П0_расч</th>\n      <th>Д0_расч</th>\n      <th>К0_расч</th>\n      <th>V0_расч</th>\n      <th>Ка</th>\n      <th>Кб</th>\n      <th>Точ</th>\n      <th>t</th>\n    </tr>\n  </thead>\n  <tbody>\n    <tr>\n      <th>0</th>\n      <td>0</td>\n      <td>10</td>\n      <td>98.786</td>\n      <td>11.582</td>\n      <td>359.824</td>\n      <td>10.091</td>\n      <td>98.549</td>\n      <td>11.834</td>\n      <td>0.011</td>\n      <td>0.120</td>\n      <td>[1, 1, 1, 1]</td>\n      <td>0.0</td>\n    </tr>\n    <tr>\n      <th>1</th>\n      <td>0</td>\n      <td>10</td>\n      <td>75.064</td>\n      <td>11.644</td>\n      <td>359.838</td>\n      <td>10.088</td>\n      <td>74.994</td>\n      <td>11.897</td>\n      <td>0.011</td>\n      <td>0.111</td>\n      <td>[1, 1, 1, 1]</td>\n      <td>0.0</td>\n    </tr>\n    <tr>\n      <th>2</th>\n      <td>0</td>\n      <td>10</td>\n      <td>78.479</td>\n      <td>3.311</td>\n      <td>0.042</td>\n      <td>9.993</td>\n      <td>78.950</td>\n      <td>3.272</td>\n      <td>0.010</td>\n      <td>0.053</td>\n      <td>[1, 1, 1, 1]</td>\n      <td>0.0</td>\n    </tr>\n    <tr>\n      <th>3</th>\n      <td>0</td>\n      <td>10</td>\n      <td>99.144</td>\n      <td>11.498</td>\n      <td>359.821</td>\n      <td>10.144</td>\n      <td>99.061</td>\n      <td>11.807</td>\n      <td>0.012</td>\n      <td>0.138</td>\n      <td>[1, 1, 1, 1]</td>\n      <td>0.0</td>\n    </tr>\n    <tr>\n      <th>4</th>\n      <td>0</td>\n      <td>10</td>\n      <td>174.065</td>\n      <td>9.567</td>\n      <td>359.995</td>\n      <td>9.987</td>\n      <td>174.073</td>\n      <td>9.550</td>\n      <td>0.009</td>\n      <td>0.008</td>\n      <td>[1, 1, 1, 1]</td>\n      <td>0.0</td>\n    </tr>\n  </tbody>\n</table>\n</div>"
     },
     "metadata": {}
    },
    {
     "output_type": "stream",
     "name": "stdout",
     "text": [
      "Показатели Монте-Карло:\n",
      "Вариант 0: Рэф = 98$, Рэф_мин = 0\n",
      "Вариант 1: Рэф = 100$, Рэф_мин = 1\n",
      "Вариант 2: Рэф = 100$, Рэф_мин = 1\n",
      "Вариант 3: Рэф = 100$, Рэф_мин = 1\n",
      "Ка = 0.01\n",
      "t = 0.0003, t_max = 0.0016\n",
      "_______________________________________________________\n",
      "СКОп = 0.2, tau = 2\n",
      "Метод N пеленгов\n",
      "Моделирование 100 результатов закончено за t = 2.4 с\n"
     ]
    },
    {
     "output_type": "display_data",
     "data": {
      "text/plain": "  П0_ист Д0_ист   К0_ист  V0_ист  П0_расч  Д0_расч  К0_расч  V0_расч     Ка  \\\n0      0     10   98.786  11.582  359.647   10.034   98.207   11.863  0.048   \n1      0     10   75.064  11.644  359.675   10.075   74.824   12.000  0.045   \n2      0     10   78.479   3.311    0.083    9.962   79.405    3.216  0.040   \n3      0     10   99.144  11.498  359.642   10.128   98.864   11.876  0.051   \n4      0     10  174.065   9.567  359.990    9.950  174.105    9.503  0.037   \n\n      Кб           Точ    t  \n0  0.169  [1, 1, 1, 1]  0.0  \n1  0.176  [1, 1, 1, 1]  0.0  \n2  0.122  [1, 1, 1, 1]  0.0  \n3  0.200  [1, 1, 1, 1]  0.0  \n4  0.029  [1, 1, 1, 1]  0.0  ",
      "text/html": "<div>\n<style scoped>\n    .dataframe tbody tr th:only-of-type {\n        vertical-align: middle;\n    }\n\n    .dataframe tbody tr th {\n        vertical-align: top;\n    }\n\n    .dataframe thead th {\n        text-align: right;\n    }\n</style>\n<table border=\"1\" class=\"dataframe\">\n  <thead>\n    <tr style=\"text-align: right;\">\n      <th></th>\n      <th>П0_ист</th>\n      <th>Д0_ист</th>\n      <th>К0_ист</th>\n      <th>V0_ист</th>\n      <th>П0_расч</th>\n      <th>Д0_расч</th>\n      <th>К0_расч</th>\n      <th>V0_расч</th>\n      <th>Ка</th>\n      <th>Кб</th>\n      <th>Точ</th>\n      <th>t</th>\n    </tr>\n  </thead>\n  <tbody>\n    <tr>\n      <th>0</th>\n      <td>0</td>\n      <td>10</td>\n      <td>98.786</td>\n      <td>11.582</td>\n      <td>359.647</td>\n      <td>10.034</td>\n      <td>98.207</td>\n      <td>11.863</td>\n      <td>0.048</td>\n      <td>0.169</td>\n      <td>[1, 1, 1, 1]</td>\n      <td>0.0</td>\n    </tr>\n    <tr>\n      <th>1</th>\n      <td>0</td>\n      <td>10</td>\n      <td>75.064</td>\n      <td>11.644</td>\n      <td>359.675</td>\n      <td>10.075</td>\n      <td>74.824</td>\n      <td>12.000</td>\n      <td>0.045</td>\n      <td>0.176</td>\n      <td>[1, 1, 1, 1]</td>\n      <td>0.0</td>\n    </tr>\n    <tr>\n      <th>2</th>\n      <td>0</td>\n      <td>10</td>\n      <td>78.479</td>\n      <td>3.311</td>\n      <td>0.083</td>\n      <td>9.962</td>\n      <td>79.405</td>\n      <td>3.216</td>\n      <td>0.040</td>\n      <td>0.122</td>\n      <td>[1, 1, 1, 1]</td>\n      <td>0.0</td>\n    </tr>\n    <tr>\n      <th>3</th>\n      <td>0</td>\n      <td>10</td>\n      <td>99.144</td>\n      <td>11.498</td>\n      <td>359.642</td>\n      <td>10.128</td>\n      <td>98.864</td>\n      <td>11.876</td>\n      <td>0.051</td>\n      <td>0.200</td>\n      <td>[1, 1, 1, 1]</td>\n      <td>0.0</td>\n    </tr>\n    <tr>\n      <th>4</th>\n      <td>0</td>\n      <td>10</td>\n      <td>174.065</td>\n      <td>9.567</td>\n      <td>359.990</td>\n      <td>9.950</td>\n      <td>174.105</td>\n      <td>9.503</td>\n      <td>0.037</td>\n      <td>0.029</td>\n      <td>[1, 1, 1, 1]</td>\n      <td>0.0</td>\n    </tr>\n  </tbody>\n</table>\n</div>"
     },
     "metadata": {}
    },
    {
     "output_type": "stream",
     "name": "stdout",
     "text": [
      "Показатели Монте-Карло:\n",
      "Вариант 0: Рэф = 81$, Рэф_мин = 0\n",
      "Вариант 1: Рэф = 98$, Рэф_мин = 0\n",
      "Вариант 2: Рэф = 98$, Рэф_мин = 0\n",
      "Вариант 3: Рэф = 99$, Рэф_мин = 0\n",
      "Ка = 0.04\n",
      "t = 0.0003, t_max = 0.0007\n",
      "_______________________________________________________\n",
      "СКОп = 0.3, tau = 2\n",
      "Метод N пеленгов\n",
      "Моделирование 100 результатов закончено за t = 2.4 с\n"
     ]
    },
    {
     "output_type": "display_data",
     "data": {
      "text/plain": "  П0_ист Д0_ист   К0_ист  V0_ист  П0_расч  Д0_расч  К0_расч  V0_расч     Ка  \\\n0      0     10   98.786  11.582  359.471    9.824   97.750   11.656  0.113   \n1      0     10   75.064  11.644  359.513    9.956   74.547   11.941  0.104   \n2      0     10   78.479   3.311    0.125    9.908   79.848    3.146  0.090   \n3      0     10   99.144  11.498  359.463    9.941   98.542   11.685  0.123   \n4      0     10  174.065   9.567  359.985    9.889  174.162    9.427  0.085   \n\n      Кб           Точ    t  \n0  0.203  [0, 1, 1, 1]  0.0  \n1  0.206  [1, 1, 1, 1]  0.0  \n2  0.206  [1, 1, 1, 1]  0.0  \n3  0.200  [0, 1, 1, 1]  0.0  \n4  0.061  [1, 1, 1, 1]  0.0  ",
      "text/html": "<div>\n<style scoped>\n    .dataframe tbody tr th:only-of-type {\n        vertical-align: middle;\n    }\n\n    .dataframe tbody tr th {\n        vertical-align: top;\n    }\n\n    .dataframe thead th {\n        text-align: right;\n    }\n</style>\n<table border=\"1\" class=\"dataframe\">\n  <thead>\n    <tr style=\"text-align: right;\">\n      <th></th>\n      <th>П0_ист</th>\n      <th>Д0_ист</th>\n      <th>К0_ист</th>\n      <th>V0_ист</th>\n      <th>П0_расч</th>\n      <th>Д0_расч</th>\n      <th>К0_расч</th>\n      <th>V0_расч</th>\n      <th>Ка</th>\n      <th>Кб</th>\n      <th>Точ</th>\n      <th>t</th>\n    </tr>\n  </thead>\n  <tbody>\n    <tr>\n      <th>0</th>\n      <td>0</td>\n      <td>10</td>\n      <td>98.786</td>\n      <td>11.582</td>\n      <td>359.471</td>\n      <td>9.824</td>\n      <td>97.750</td>\n      <td>11.656</td>\n      <td>0.113</td>\n      <td>0.203</td>\n      <td>[0, 1, 1, 1]</td>\n      <td>0.0</td>\n    </tr>\n    <tr>\n      <th>1</th>\n      <td>0</td>\n      <td>10</td>\n      <td>75.064</td>\n      <td>11.644</td>\n      <td>359.513</td>\n      <td>9.956</td>\n      <td>74.547</td>\n      <td>11.941</td>\n      <td>0.104</td>\n      <td>0.206</td>\n      <td>[1, 1, 1, 1]</td>\n      <td>0.0</td>\n    </tr>\n    <tr>\n      <th>2</th>\n      <td>0</td>\n      <td>10</td>\n      <td>78.479</td>\n      <td>3.311</td>\n      <td>0.125</td>\n      <td>9.908</td>\n      <td>79.848</td>\n      <td>3.146</td>\n      <td>0.090</td>\n      <td>0.206</td>\n      <td>[1, 1, 1, 1]</td>\n      <td>0.0</td>\n    </tr>\n    <tr>\n      <th>3</th>\n      <td>0</td>\n      <td>10</td>\n      <td>99.144</td>\n      <td>11.498</td>\n      <td>359.463</td>\n      <td>9.941</td>\n      <td>98.542</td>\n      <td>11.685</td>\n      <td>0.123</td>\n      <td>0.200</td>\n      <td>[0, 1, 1, 1]</td>\n      <td>0.0</td>\n    </tr>\n    <tr>\n      <th>4</th>\n      <td>0</td>\n      <td>10</td>\n      <td>174.065</td>\n      <td>9.567</td>\n      <td>359.985</td>\n      <td>9.889</td>\n      <td>174.162</td>\n      <td>9.427</td>\n      <td>0.085</td>\n      <td>0.061</td>\n      <td>[1, 1, 1, 1]</td>\n      <td>0.0</td>\n    </tr>\n  </tbody>\n</table>\n</div>"
     },
     "metadata": {}
    },
    {
     "output_type": "stream",
     "name": "stdout",
     "text": [
      "Показатели Монте-Карло:\n",
      "Вариант 0: Рэф = 55$, Рэф_мин = 0\n",
      "Вариант 1: Рэф = 86$, Рэф_мин = 0\n",
      "Вариант 2: Рэф = 86$, Рэф_мин = 0\n",
      "Вариант 3: Рэф = 97$, Рэф_мин = 0\n",
      "Ка = 0.10\n",
      "t = 0.0003, t_max = 0.0007\n",
      "_______________________________________________________\n",
      "СКОп = 0.5, tau = 2\n",
      "Метод N пеленгов\n",
      "Моделирование 100 результатов закончено за t = 2.4 с\n"
     ]
    },
    {
     "output_type": "display_data",
     "data": {
      "text/plain": "  П0_ист Д0_ист   К0_ист  V0_ист  П0_расч  Д0_расч  К0_расч  V0_расч     Ка  \\\n0      0     10   98.786  11.582  359.118    8.998   96.438   10.600  0.368   \n1      0     10   75.064  11.644  359.188    9.409   73.641   11.342  0.320   \n2      0     10   78.479   3.311    0.208    9.737   80.711    2.963  0.257   \n3      0     10   99.144  11.498  359.106    9.091   97.456   10.565  0.404   \n4      0     10  174.065   9.567  359.975    9.700  174.352    9.190  0.243   \n\n      Кб           Точ    t  \n0  0.658  [0, 0, 1, 1]  0.0  \n1  0.402  [0, 1, 1, 1]  0.0  \n2  0.414  [0, 0, 0, 1]  0.0  \n3  0.620  [0, 1, 1, 1]  0.0  \n4  0.162  [1, 1, 1, 1]  0.0  ",
      "text/html": "<div>\n<style scoped>\n    .dataframe tbody tr th:only-of-type {\n        vertical-align: middle;\n    }\n\n    .dataframe tbody tr th {\n        vertical-align: top;\n    }\n\n    .dataframe thead th {\n        text-align: right;\n    }\n</style>\n<table border=\"1\" class=\"dataframe\">\n  <thead>\n    <tr style=\"text-align: right;\">\n      <th></th>\n      <th>П0_ист</th>\n      <th>Д0_ист</th>\n      <th>К0_ист</th>\n      <th>V0_ист</th>\n      <th>П0_расч</th>\n      <th>Д0_расч</th>\n      <th>К0_расч</th>\n      <th>V0_расч</th>\n      <th>Ка</th>\n      <th>Кб</th>\n      <th>Точ</th>\n      <th>t</th>\n    </tr>\n  </thead>\n  <tbody>\n    <tr>\n      <th>0</th>\n      <td>0</td>\n      <td>10</td>\n      <td>98.786</td>\n      <td>11.582</td>\n      <td>359.118</td>\n      <td>8.998</td>\n      <td>96.438</td>\n      <td>10.600</td>\n      <td>0.368</td>\n      <td>0.658</td>\n      <td>[0, 0, 1, 1]</td>\n      <td>0.0</td>\n    </tr>\n    <tr>\n      <th>1</th>\n      <td>0</td>\n      <td>10</td>\n      <td>75.064</td>\n      <td>11.644</td>\n      <td>359.188</td>\n      <td>9.409</td>\n      <td>73.641</td>\n      <td>11.342</td>\n      <td>0.320</td>\n      <td>0.402</td>\n      <td>[0, 1, 1, 1]</td>\n      <td>0.0</td>\n    </tr>\n    <tr>\n      <th>2</th>\n      <td>0</td>\n      <td>10</td>\n      <td>78.479</td>\n      <td>3.311</td>\n      <td>0.208</td>\n      <td>9.737</td>\n      <td>80.711</td>\n      <td>2.963</td>\n      <td>0.257</td>\n      <td>0.414</td>\n      <td>[0, 0, 0, 1]</td>\n      <td>0.0</td>\n    </tr>\n    <tr>\n      <th>3</th>\n      <td>0</td>\n      <td>10</td>\n      <td>99.144</td>\n      <td>11.498</td>\n      <td>359.106</td>\n      <td>9.091</td>\n      <td>97.456</td>\n      <td>10.565</td>\n      <td>0.404</td>\n      <td>0.620</td>\n      <td>[0, 1, 1, 1]</td>\n      <td>0.0</td>\n    </tr>\n    <tr>\n      <th>4</th>\n      <td>0</td>\n      <td>10</td>\n      <td>174.065</td>\n      <td>9.567</td>\n      <td>359.975</td>\n      <td>9.700</td>\n      <td>174.352</td>\n      <td>9.190</td>\n      <td>0.243</td>\n      <td>0.162</td>\n      <td>[1, 1, 1, 1]</td>\n      <td>0.0</td>\n    </tr>\n  </tbody>\n</table>\n</div>"
     },
     "metadata": {}
    },
    {
     "output_type": "stream",
     "name": "stdout",
     "text": [
      "Показатели Монте-Карло:\n",
      "Вариант 0: Рэф = 5$, Рэф_мин = 0\n",
      "Вариант 1: Рэф = 44$, Рэф_мин = 0\n",
      "Вариант 2: Рэф = 47$, Рэф_мин = 0\n",
      "Вариант 3: Рэф = 71$, Рэф_мин = 0\n",
      "Ка = 0.31\n",
      "t = 0.0003, t_max = 0.0014\n",
      "_______________________________________________________\n",
      "СКОп = 1.0, tau = 2\n",
      "Метод N пеленгов\n",
      "Моделирование 100 результатов закончено за t = 2.4 с\n"
     ]
    },
    {
     "output_type": "display_data",
     "data": {
      "text/plain": "  П0_ист Д0_ист   К0_ист  V0_ист  П0_расч  Д0_расч  К0_расч  V0_расч     Ка  \\\n0      0     10   98.786  11.582  358.236    5.952   89.653    6.270  2.673   \n1      0     10   75.064  11.644  358.376    6.952   68.707    8.028  2.008   \n2      0     10   78.479   3.311    0.417    9.019   82.938    2.326  1.137   \n3      0     10   99.144  11.498  358.211    5.770   90.515    5.792  3.197   \n4      0     10  174.065   9.567  359.949    8.908  175.292    8.203  1.111   \n\n      Кб           Точ    t  \n0  2.491  [0, 0, 0, 0]  0.0  \n1  1.849  [0, 0, 0, 0]  0.0  \n2  1.123  [0, 0, 0, 0]  0.0  \n3  2.609  [0, 0, 0, 0]  0.0  \n4  0.582  [0, 0, 0, 1]  0.0  ",
      "text/html": "<div>\n<style scoped>\n    .dataframe tbody tr th:only-of-type {\n        vertical-align: middle;\n    }\n\n    .dataframe tbody tr th {\n        vertical-align: top;\n    }\n\n    .dataframe thead th {\n        text-align: right;\n    }\n</style>\n<table border=\"1\" class=\"dataframe\">\n  <thead>\n    <tr style=\"text-align: right;\">\n      <th></th>\n      <th>П0_ист</th>\n      <th>Д0_ист</th>\n      <th>К0_ист</th>\n      <th>V0_ист</th>\n      <th>П0_расч</th>\n      <th>Д0_расч</th>\n      <th>К0_расч</th>\n      <th>V0_расч</th>\n      <th>Ка</th>\n      <th>Кб</th>\n      <th>Точ</th>\n      <th>t</th>\n    </tr>\n  </thead>\n  <tbody>\n    <tr>\n      <th>0</th>\n      <td>0</td>\n      <td>10</td>\n      <td>98.786</td>\n      <td>11.582</td>\n      <td>358.236</td>\n      <td>5.952</td>\n      <td>89.653</td>\n      <td>6.270</td>\n      <td>2.673</td>\n      <td>2.491</td>\n      <td>[0, 0, 0, 0]</td>\n      <td>0.0</td>\n    </tr>\n    <tr>\n      <th>1</th>\n      <td>0</td>\n      <td>10</td>\n      <td>75.064</td>\n      <td>11.644</td>\n      <td>358.376</td>\n      <td>6.952</td>\n      <td>68.707</td>\n      <td>8.028</td>\n      <td>2.008</td>\n      <td>1.849</td>\n      <td>[0, 0, 0, 0]</td>\n      <td>0.0</td>\n    </tr>\n    <tr>\n      <th>2</th>\n      <td>0</td>\n      <td>10</td>\n      <td>78.479</td>\n      <td>3.311</td>\n      <td>0.417</td>\n      <td>9.019</td>\n      <td>82.938</td>\n      <td>2.326</td>\n      <td>1.137</td>\n      <td>1.123</td>\n      <td>[0, 0, 0, 0]</td>\n      <td>0.0</td>\n    </tr>\n    <tr>\n      <th>3</th>\n      <td>0</td>\n      <td>10</td>\n      <td>99.144</td>\n      <td>11.498</td>\n      <td>358.211</td>\n      <td>5.770</td>\n      <td>90.515</td>\n      <td>5.792</td>\n      <td>3.197</td>\n      <td>2.609</td>\n      <td>[0, 0, 0, 0]</td>\n      <td>0.0</td>\n    </tr>\n    <tr>\n      <th>4</th>\n      <td>0</td>\n      <td>10</td>\n      <td>174.065</td>\n      <td>9.567</td>\n      <td>359.949</td>\n      <td>8.908</td>\n      <td>175.292</td>\n      <td>8.203</td>\n      <td>1.111</td>\n      <td>0.582</td>\n      <td>[0, 0, 0, 1]</td>\n      <td>0.0</td>\n    </tr>\n  </tbody>\n</table>\n</div>"
     },
     "metadata": {}
    },
    {
     "output_type": "stream",
     "name": "stdout",
     "text": [
      "Показатели Монте-Карло:\nВариант 0: Рэф = 0$, Рэф_мин = 0\nВариант 1: Рэф = 1$, Рэф_мин = 0\nВариант 2: Рэф = 1$, Рэф_мин = 0\nВариант 3: Рэф = 3$, Рэф_мин = 0\nКа = 1.75\nt = 0.0003, t_max = 0.0018\n_______________________________________________________\n"
     ]
    }
   ],
   "source": [
    "print('_______________________________________________________')\n",
    "for std in std_arr:\n",
    "    tma = TMA(observer, sd=np.radians(std), tau=2)\n",
    "    tma.print_verbose()\n",
    "    algorithm_name = 'Метод N пеленгов'\n",
    "    print(algorithm_name)\n",
    "    start_time = time.perf_counter()\n",
    "    dict_results = tma.swarm(n=100, algorithm_name=algorithm_name, target_func=target_func, p0=p0, seeded=True)\n",
    "    stop_time = time.perf_counter()\n",
    "    print('Моделирование 100 результатов закончено за t = {:.1f} с'.format(stop_time - start_time))\n",
    "    df = tests.get_df(dict_results)\n",
    "    display(df.dropna(axis=1).head().round(3))\n",
    "    print('Показатели Монте-Карло:')\n",
    "    for i in range(4):\n",
    "        a = df['Точ'].apply(lambda x: x[i])\n",
    "        print('Вариант {}: Рэф = {:.0f}$, Рэф_мин = {:.0f}'.format(i, 100 * a.mean(), min(a)))\n",
    "    print('Ка = {:.2f}'.format(df['Ка'].mean()))\n",
    "    print('t = {:.4f}, t_max = {:.4f}'.format(df['t'].mean(), max(df['t'])))\n",
    "    tests.save_df(df, name='../tests/tests8/N ' + str(np.degrees(tma.standart_deviation)) + '.xlsx')\n",
    "    print('_______________________________________________________')"
   ]
  }
 ]
}