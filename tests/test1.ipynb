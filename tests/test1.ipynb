{
 "metadata": {
  "language_info": {
   "codemirror_mode": {
    "name": "ipython",
    "version": 3
   },
   "file_extension": ".py",
   "mimetype": "text/x-python",
   "name": "python",
   "nbconvert_exporter": "python",
   "pygments_lexer": "ipython3",
   "version": "3.9.4"
  },
  "orig_nbformat": 2,
  "kernelspec": {
   "name": "python394jvsc74a57bd041eac51e58bc56b7e72645fd2a426397a0dabf158fb6895686ff6280c78d9f5d",
   "display_name": "Python 3.9.4 64-bit"
  },
  "metadata": {
   "interpreter": {
    "hash": "41eac51e58bc56b7e72645fd2a426397a0dabf158fb6895686ff6280c78d9f5d"
   }
  }
 },
 "nbformat": 4,
 "nbformat_minor": 2,
 "cells": [
  {
   "cell_type": "code",
   "execution_count": 1,
   "metadata": {},
   "outputs": [],
   "source": [
    "import sys\n",
    "import time\n",
    "import numpy as np\n",
    "import pandas as pd\n",
    "sys.path.append(\"..\")\n",
    "from scipy import stats\n",
    "from tma.model import Model\n",
    "from tma.object import Object\n",
    "from tma.functions import get_df\n",
    "from tma.algorithms import swarm\n",
    "from pathlib import Path\n",
    "from datetime import datetime"
   ]
  },
  {
   "source": [
    "Создаем модель наблюдателя:"
   ],
   "cell_type": "markdown",
   "metadata": {}
  },
  {
   "cell_type": "code",
   "execution_count": 7,
   "metadata": {},
   "outputs": [
    {
     "output_type": "stream",
     "name": "stdout",
     "text": [
      "Время последнего моделирования: 26/04/2021 00:36\n\nНаблюдатель движется прямо по курсу 0.0° 180с\nНаблюдатель перешёл на курс 270.0° за 180с\nНаблюдатель движется прямо по курсу 270.0° 300с\nНаблюдатель перешёл на курс 90.0° за 360с\nНаблюдатель движется прямо по курсу 90.0° 180с\n"
     ]
    }
   ],
   "source": [
    "print(\"Время последнего моделирования:\", datetime.now().strftime(\"%d/%m/%Y %H:%M\\n\"))\n",
    "\n",
    "observer_x, observer_y, observer_course, observer_velocity = 0., 0., 0., 5.\n",
    "observer = Object('Наблюдатель', observer_x, observer_y, observer_course,\n",
    "                observer_velocity, verbose=True)\n",
    "\n",
    "observer.forward_movement(3 * 60)\n",
    "observer.change_course(270, 'left', omega=0.5)\n",
    "observer.forward_movement(5 * 60)\n",
    "observer.change_course(90, 'right', omega=0.5)\n",
    "observer.forward_movement(3 * 60)"
   ]
  },
  {
   "cell_type": "code",
   "execution_count": 8,
   "metadata": {},
   "outputs": [
    {
     "output_type": "display_data",
     "data": {
      "text/plain": "<Figure size 432x288 with 1 Axes>",
      "image/svg+xml": "<?xml version=\"1.0\" encoding=\"utf-8\" standalone=\"no\"?>\r\n<!DOCTYPE svg PUBLIC \"-//W3C//DTD SVG 1.1//EN\"\r\n  \"http://www.w3.org/Graphics/SVG/1.1/DTD/svg11.dtd\">\r\n<!-- Created with matplotlib (https://matplotlib.org/) -->\r\n<svg height=\"248.518125pt\" version=\"1.1\" viewBox=\"0 0 264.29 248.518125\" width=\"264.29pt\" xmlns=\"http://www.w3.org/2000/svg\" xmlns:xlink=\"http://www.w3.org/1999/xlink\">\r\n <metadata>\r\n  <rdf:RDF xmlns:cc=\"http://creativecommons.org/ns#\" xmlns:dc=\"http://purl.org/dc/elements/1.1/\" xmlns:rdf=\"http://www.w3.org/1999/02/22-rdf-syntax-ns#\">\r\n   <cc:Work>\r\n    <dc:type rdf:resource=\"http://purl.org/dc/dcmitype/StillImage\"/>\r\n    <dc:date>2021-04-26T00:37:21.523812</dc:date>\r\n    <dc:format>image/svg+xml</dc:format>\r\n    <dc:creator>\r\n     <cc:Agent>\r\n      <dc:title>Matplotlib v3.3.4, https://matplotlib.org/</dc:title>\r\n     </cc:Agent>\r\n    </dc:creator>\r\n   </cc:Work>\r\n  </rdf:RDF>\r\n </metadata>\r\n <defs>\r\n  <style type=\"text/css\">*{stroke-linecap:butt;stroke-linejoin:round;}</style>\r\n </defs>\r\n <g id=\"figure_1\">\r\n  <g id=\"patch_1\">\r\n   <path d=\"M 0 248.518125 \r\nL 264.29 248.518125 \r\nL 264.29 0 \r\nL 0 0 \r\nz\r\n\" style=\"fill:none;\"/>\r\n  </g>\r\n  <g id=\"axes_1\">\r\n   <g id=\"patch_2\">\r\n    <path d=\"M 39.65 224.64 \r\nL 257.09 224.64 \r\nL 257.09 7.2 \r\nL 39.65 7.2 \r\nz\r\n\" style=\"fill:#ffffff;\"/>\r\n   </g>\r\n   <g id=\"matplotlib.axis_1\">\r\n    <g id=\"xtick_1\">\r\n     <g id=\"line2d_1\">\r\n      <defs>\r\n       <path d=\"M 0 0 \r\nL 0 3.5 \r\n\" id=\"mc8d04e0fb0\" style=\"stroke:#000000;stroke-width:0.8;\"/>\r\n      </defs>\r\n      <g>\r\n       <use style=\"stroke:#000000;stroke-width:0.8;\" x=\"60.434277\" xlink:href=\"#mc8d04e0fb0\" y=\"224.64\"/>\r\n      </g>\r\n     </g>\r\n     <g id=\"text_1\">\r\n      <!-- −2500 -->\r\n      <g transform=\"translate(43.519433 239.238437)scale(0.1 -0.1)\">\r\n       <defs>\r\n        <path d=\"M 10.59375 35.5 \r\nL 73.1875 35.5 \r\nL 73.1875 27.203125 \r\nL 10.59375 27.203125 \r\nz\r\n\" id=\"DejaVuSans-8722\"/>\r\n        <path d=\"M 19.1875 8.296875 \r\nL 53.609375 8.296875 \r\nL 53.609375 0 \r\nL 7.328125 0 \r\nL 7.328125 8.296875 \r\nQ 12.9375 14.109375 22.625 23.890625 \r\nQ 32.328125 33.6875 34.8125 36.53125 \r\nQ 39.546875 41.84375 41.421875 45.53125 \r\nQ 43.3125 49.21875 43.3125 52.78125 \r\nQ 43.3125 58.59375 39.234375 62.25 \r\nQ 35.15625 65.921875 28.609375 65.921875 \r\nQ 23.96875 65.921875 18.8125 64.3125 \r\nQ 13.671875 62.703125 7.8125 59.421875 \r\nL 7.8125 69.390625 \r\nQ 13.765625 71.78125 18.9375 73 \r\nQ 24.125 74.21875 28.421875 74.21875 \r\nQ 39.75 74.21875 46.484375 68.546875 \r\nQ 53.21875 62.890625 53.21875 53.421875 \r\nQ 53.21875 48.921875 51.53125 44.890625 \r\nQ 49.859375 40.875 45.40625 35.40625 \r\nQ 44.1875 33.984375 37.640625 27.21875 \r\nQ 31.109375 20.453125 19.1875 8.296875 \r\nz\r\n\" id=\"DejaVuSans-50\"/>\r\n        <path d=\"M 10.796875 72.90625 \r\nL 49.515625 72.90625 \r\nL 49.515625 64.59375 \r\nL 19.828125 64.59375 \r\nL 19.828125 46.734375 \r\nQ 21.96875 47.46875 24.109375 47.828125 \r\nQ 26.265625 48.1875 28.421875 48.1875 \r\nQ 40.625 48.1875 47.75 41.5 \r\nQ 54.890625 34.8125 54.890625 23.390625 \r\nQ 54.890625 11.625 47.5625 5.09375 \r\nQ 40.234375 -1.421875 26.90625 -1.421875 \r\nQ 22.3125 -1.421875 17.546875 -0.640625 \r\nQ 12.796875 0.140625 7.71875 1.703125 \r\nL 7.71875 11.625 \r\nQ 12.109375 9.234375 16.796875 8.0625 \r\nQ 21.484375 6.890625 26.703125 6.890625 \r\nQ 35.15625 6.890625 40.078125 11.328125 \r\nQ 45.015625 15.765625 45.015625 23.390625 \r\nQ 45.015625 31 40.078125 35.4375 \r\nQ 35.15625 39.890625 26.703125 39.890625 \r\nQ 22.75 39.890625 18.8125 39.015625 \r\nQ 14.890625 38.140625 10.796875 36.28125 \r\nz\r\n\" id=\"DejaVuSans-53\"/>\r\n        <path d=\"M 31.78125 66.40625 \r\nQ 24.171875 66.40625 20.328125 58.90625 \r\nQ 16.5 51.421875 16.5 36.375 \r\nQ 16.5 21.390625 20.328125 13.890625 \r\nQ 24.171875 6.390625 31.78125 6.390625 \r\nQ 39.453125 6.390625 43.28125 13.890625 \r\nQ 47.125 21.390625 47.125 36.375 \r\nQ 47.125 51.421875 43.28125 58.90625 \r\nQ 39.453125 66.40625 31.78125 66.40625 \r\nz\r\nM 31.78125 74.21875 \r\nQ 44.046875 74.21875 50.515625 64.515625 \r\nQ 56.984375 54.828125 56.984375 36.375 \r\nQ 56.984375 17.96875 50.515625 8.265625 \r\nQ 44.046875 -1.421875 31.78125 -1.421875 \r\nQ 19.53125 -1.421875 13.0625 8.265625 \r\nQ 6.59375 17.96875 6.59375 36.375 \r\nQ 6.59375 54.828125 13.0625 64.515625 \r\nQ 19.53125 74.21875 31.78125 74.21875 \r\nz\r\n\" id=\"DejaVuSans-48\"/>\r\n       </defs>\r\n       <use xlink:href=\"#DejaVuSans-8722\"/>\r\n       <use x=\"83.789062\" xlink:href=\"#DejaVuSans-50\"/>\r\n       <use x=\"147.412109\" xlink:href=\"#DejaVuSans-53\"/>\r\n       <use x=\"211.035156\" xlink:href=\"#DejaVuSans-48\"/>\r\n       <use x=\"274.658203\" xlink:href=\"#DejaVuSans-48\"/>\r\n      </g>\r\n     </g>\r\n    </g>\r\n    <g id=\"xtick_2\">\r\n     <g id=\"line2d_2\">\r\n      <g>\r\n       <use style=\"stroke:#000000;stroke-width:0.8;\" x=\"97.788694\" xlink:href=\"#mc8d04e0fb0\" y=\"224.64\"/>\r\n      </g>\r\n     </g>\r\n     <g id=\"text_2\">\r\n      <!-- −2000 -->\r\n      <g transform=\"translate(80.87385 239.238437)scale(0.1 -0.1)\">\r\n       <use xlink:href=\"#DejaVuSans-8722\"/>\r\n       <use x=\"83.789062\" xlink:href=\"#DejaVuSans-50\"/>\r\n       <use x=\"147.412109\" xlink:href=\"#DejaVuSans-48\"/>\r\n       <use x=\"211.035156\" xlink:href=\"#DejaVuSans-48\"/>\r\n       <use x=\"274.658203\" xlink:href=\"#DejaVuSans-48\"/>\r\n      </g>\r\n     </g>\r\n    </g>\r\n    <g id=\"xtick_3\">\r\n     <g id=\"line2d_3\">\r\n      <g>\r\n       <use style=\"stroke:#000000;stroke-width:0.8;\" x=\"135.143112\" xlink:href=\"#mc8d04e0fb0\" y=\"224.64\"/>\r\n      </g>\r\n     </g>\r\n     <g id=\"text_3\">\r\n      <!-- −1500 -->\r\n      <g transform=\"translate(118.228268 239.238437)scale(0.1 -0.1)\">\r\n       <defs>\r\n        <path d=\"M 12.40625 8.296875 \r\nL 28.515625 8.296875 \r\nL 28.515625 63.921875 \r\nL 10.984375 60.40625 \r\nL 10.984375 69.390625 \r\nL 28.421875 72.90625 \r\nL 38.28125 72.90625 \r\nL 38.28125 8.296875 \r\nL 54.390625 8.296875 \r\nL 54.390625 0 \r\nL 12.40625 0 \r\nz\r\n\" id=\"DejaVuSans-49\"/>\r\n       </defs>\r\n       <use xlink:href=\"#DejaVuSans-8722\"/>\r\n       <use x=\"83.789062\" xlink:href=\"#DejaVuSans-49\"/>\r\n       <use x=\"147.412109\" xlink:href=\"#DejaVuSans-53\"/>\r\n       <use x=\"211.035156\" xlink:href=\"#DejaVuSans-48\"/>\r\n       <use x=\"274.658203\" xlink:href=\"#DejaVuSans-48\"/>\r\n      </g>\r\n     </g>\r\n    </g>\r\n    <g id=\"xtick_4\">\r\n     <g id=\"line2d_4\">\r\n      <g>\r\n       <use style=\"stroke:#000000;stroke-width:0.8;\" x=\"172.497529\" xlink:href=\"#mc8d04e0fb0\" y=\"224.64\"/>\r\n      </g>\r\n     </g>\r\n     <g id=\"text_4\">\r\n      <!-- −1000 -->\r\n      <g transform=\"translate(155.582685 239.238437)scale(0.1 -0.1)\">\r\n       <use xlink:href=\"#DejaVuSans-8722\"/>\r\n       <use x=\"83.789062\" xlink:href=\"#DejaVuSans-49\"/>\r\n       <use x=\"147.412109\" xlink:href=\"#DejaVuSans-48\"/>\r\n       <use x=\"211.035156\" xlink:href=\"#DejaVuSans-48\"/>\r\n       <use x=\"274.658203\" xlink:href=\"#DejaVuSans-48\"/>\r\n      </g>\r\n     </g>\r\n    </g>\r\n    <g id=\"xtick_5\">\r\n     <g id=\"line2d_5\">\r\n      <g>\r\n       <use style=\"stroke:#000000;stroke-width:0.8;\" x=\"209.851946\" xlink:href=\"#mc8d04e0fb0\" y=\"224.64\"/>\r\n      </g>\r\n     </g>\r\n     <g id=\"text_5\">\r\n      <!-- −500 -->\r\n      <g transform=\"translate(196.118353 239.238437)scale(0.1 -0.1)\">\r\n       <use xlink:href=\"#DejaVuSans-8722\"/>\r\n       <use x=\"83.789062\" xlink:href=\"#DejaVuSans-53\"/>\r\n       <use x=\"147.412109\" xlink:href=\"#DejaVuSans-48\"/>\r\n       <use x=\"211.035156\" xlink:href=\"#DejaVuSans-48\"/>\r\n      </g>\r\n     </g>\r\n    </g>\r\n    <g id=\"xtick_6\">\r\n     <g id=\"line2d_6\">\r\n      <g>\r\n       <use style=\"stroke:#000000;stroke-width:0.8;\" x=\"247.206364\" xlink:href=\"#mc8d04e0fb0\" y=\"224.64\"/>\r\n      </g>\r\n     </g>\r\n     <g id=\"text_6\">\r\n      <!-- 0 -->\r\n      <g transform=\"translate(244.025114 239.238437)scale(0.1 -0.1)\">\r\n       <use xlink:href=\"#DejaVuSans-48\"/>\r\n      </g>\r\n     </g>\r\n    </g>\r\n   </g>\r\n   <g id=\"matplotlib.axis_2\">\r\n    <g id=\"ytick_1\">\r\n     <g id=\"line2d_7\">\r\n      <defs>\r\n       <path d=\"M 0 0 \r\nL -3.5 0 \r\n\" id=\"mde4fddf5eb\" style=\"stroke:#000000;stroke-width:0.8;\"/>\r\n      </defs>\r\n      <g>\r\n       <use style=\"stroke:#000000;stroke-width:0.8;\" x=\"39.65\" xlink:href=\"#mde4fddf5eb\" y=\"214.86673\"/>\r\n      </g>\r\n     </g>\r\n     <g id=\"text_7\">\r\n      <!-- 0 -->\r\n      <g transform=\"translate(26.2875 218.665949)scale(0.1 -0.1)\">\r\n       <use xlink:href=\"#DejaVuSans-48\"/>\r\n      </g>\r\n     </g>\r\n    </g>\r\n    <g id=\"ytick_2\">\r\n     <g id=\"line2d_8\">\r\n      <g>\r\n       <use style=\"stroke:#000000;stroke-width:0.8;\" x=\"39.65\" xlink:href=\"#mde4fddf5eb\" y=\"177.512313\"/>\r\n      </g>\r\n     </g>\r\n     <g id=\"text_8\">\r\n      <!-- 500 -->\r\n      <g transform=\"translate(13.5625 181.311532)scale(0.1 -0.1)\">\r\n       <use xlink:href=\"#DejaVuSans-53\"/>\r\n       <use x=\"63.623047\" xlink:href=\"#DejaVuSans-48\"/>\r\n       <use x=\"127.246094\" xlink:href=\"#DejaVuSans-48\"/>\r\n      </g>\r\n     </g>\r\n    </g>\r\n    <g id=\"ytick_3\">\r\n     <g id=\"line2d_9\">\r\n      <g>\r\n       <use style=\"stroke:#000000;stroke-width:0.8;\" x=\"39.65\" xlink:href=\"#mde4fddf5eb\" y=\"140.157896\"/>\r\n      </g>\r\n     </g>\r\n     <g id=\"text_9\">\r\n      <!-- 1000 -->\r\n      <g transform=\"translate(7.2 143.957114)scale(0.1 -0.1)\">\r\n       <use xlink:href=\"#DejaVuSans-49\"/>\r\n       <use x=\"63.623047\" xlink:href=\"#DejaVuSans-48\"/>\r\n       <use x=\"127.246094\" xlink:href=\"#DejaVuSans-48\"/>\r\n       <use x=\"190.869141\" xlink:href=\"#DejaVuSans-48\"/>\r\n      </g>\r\n     </g>\r\n    </g>\r\n    <g id=\"ytick_4\">\r\n     <g id=\"line2d_10\">\r\n      <g>\r\n       <use style=\"stroke:#000000;stroke-width:0.8;\" x=\"39.65\" xlink:href=\"#mde4fddf5eb\" y=\"102.803478\"/>\r\n      </g>\r\n     </g>\r\n     <g id=\"text_10\">\r\n      <!-- 1500 -->\r\n      <g transform=\"translate(7.2 106.602697)scale(0.1 -0.1)\">\r\n       <use xlink:href=\"#DejaVuSans-49\"/>\r\n       <use x=\"63.623047\" xlink:href=\"#DejaVuSans-53\"/>\r\n       <use x=\"127.246094\" xlink:href=\"#DejaVuSans-48\"/>\r\n       <use x=\"190.869141\" xlink:href=\"#DejaVuSans-48\"/>\r\n      </g>\r\n     </g>\r\n    </g>\r\n    <g id=\"ytick_5\">\r\n     <g id=\"line2d_11\">\r\n      <g>\r\n       <use style=\"stroke:#000000;stroke-width:0.8;\" x=\"39.65\" xlink:href=\"#mde4fddf5eb\" y=\"65.449061\"/>\r\n      </g>\r\n     </g>\r\n     <g id=\"text_11\">\r\n      <!-- 2000 -->\r\n      <g transform=\"translate(7.2 69.24828)scale(0.1 -0.1)\">\r\n       <use xlink:href=\"#DejaVuSans-50\"/>\r\n       <use x=\"63.623047\" xlink:href=\"#DejaVuSans-48\"/>\r\n       <use x=\"127.246094\" xlink:href=\"#DejaVuSans-48\"/>\r\n       <use x=\"190.869141\" xlink:href=\"#DejaVuSans-48\"/>\r\n      </g>\r\n     </g>\r\n    </g>\r\n    <g id=\"ytick_6\">\r\n     <g id=\"line2d_12\">\r\n      <g>\r\n       <use style=\"stroke:#000000;stroke-width:0.8;\" x=\"39.65\" xlink:href=\"#mde4fddf5eb\" y=\"28.094644\"/>\r\n      </g>\r\n     </g>\r\n     <g id=\"text_12\">\r\n      <!-- 2500 -->\r\n      <g transform=\"translate(7.2 31.893862)scale(0.1 -0.1)\">\r\n       <use xlink:href=\"#DejaVuSans-50\"/>\r\n       <use x=\"63.623047\" xlink:href=\"#DejaVuSans-53\"/>\r\n       <use x=\"127.246094\" xlink:href=\"#DejaVuSans-48\"/>\r\n       <use x=\"190.869141\" xlink:href=\"#DejaVuSans-48\"/>\r\n      </g>\r\n     </g>\r\n    </g>\r\n   </g>\r\n   <g id=\"line2d_13\">\r\n    <path clip-path=\"url(#p50ab86a1f0)\" d=\"M 247.206364 214.86673 \r\nL 247.115122 145.015961 \r\nL 246.815785 142.043238 \r\nL 246.30981 139.098637 \r\nL 245.599662 136.196503 \r\nL 244.688802 133.350977 \r\nL 243.581667 130.575921 \r\nL 242.28365 127.884854 \r\nL 240.801076 125.290888 \r\nL 239.141168 122.80666 \r\nL 237.312012 120.444272 \r\nL 235.32252 118.215235 \r\nL 233.182385 116.130407 \r\nL 230.902032 114.199946 \r\nL 228.492573 112.433257 \r\nL 225.965744 110.838947 \r\nL 223.333858 109.424783 \r\nL 220.609735 108.197656 \r\nL 217.806648 107.163542 \r\nL 214.938253 106.327482 \r\nL 212.018525 105.693546 \r\nL 209.061688 105.264825 \r\nL 206.082148 105.043407 \r\nL 201.973589 105.010814 \r\nL 89.538784 104.919572 \r\nL 86.56606 104.620235 \r\nL 83.621459 104.11426 \r\nL 80.719326 103.404112 \r\nL 77.8738 102.493252 \r\nL 75.098743 101.386117 \r\nL 72.407677 100.0881 \r\nL 69.813711 98.605526 \r\nL 67.329482 96.945618 \r\nL 64.967095 95.116462 \r\nL 62.738057 93.12697 \r\nL 60.65323 90.986835 \r\nL 58.722769 88.706482 \r\nL 56.95608 86.297023 \r\nL 55.36177 83.770194 \r\nL 53.947606 81.138308 \r\nL 52.720478 78.414185 \r\nL 51.686365 75.611098 \r\nL 50.850304 72.742703 \r\nL 50.216369 69.822975 \r\nL 49.787648 66.866138 \r\nL 49.56623 63.886598 \r\nL 49.553194 60.898871 \r\nL 49.748602 57.917512 \r\nL 50.151504 54.957046 \r\nL 50.759936 52.031897 \r\nL 51.570934 49.156316 \r\nL 52.580546 46.344311 \r\nL 53.783855 43.609584 \r\nL 55.174998 40.965457 \r\nL 56.747197 38.424812 \r\nL 58.492792 36.000027 \r\nL 60.40328 33.702915 \r\nL 62.469352 31.544667 \r\nL 64.680943 29.535799 \r\nL 67.027279 27.686098 \r\nL 69.496927 26.004574 \r\nL 72.077857 24.49942 \r\nL 74.757494 23.17797 \r\nL 77.522783 22.04666 \r\nL 80.360252 21.111003 \r\nL 83.256078 20.375557 \r\nL 86.196151 19.843905 \r\nL 89.166149 19.518637 \r\nL 92.151602 19.401338 \r\nL 159.763097 19.401338 \r\nL 159.763097 19.401338 \r\n\" style=\"fill:none;stroke:#1f77b4;stroke-linecap:square;stroke-width:1.5;\"/>\r\n   </g>\r\n   <g id=\"patch_3\">\r\n    <path d=\"M 39.65 224.64 \r\nL 39.65 7.2 \r\n\" style=\"fill:none;stroke:#000000;stroke-linecap:square;stroke-linejoin:miter;stroke-width:0.8;\"/>\r\n   </g>\r\n   <g id=\"patch_4\">\r\n    <path d=\"M 257.09 224.64 \r\nL 257.09 7.2 \r\n\" style=\"fill:none;stroke:#000000;stroke-linecap:square;stroke-linejoin:miter;stroke-width:0.8;\"/>\r\n   </g>\r\n   <g id=\"patch_5\">\r\n    <path d=\"M 39.65 224.64 \r\nL 257.09 224.64 \r\n\" style=\"fill:none;stroke:#000000;stroke-linecap:square;stroke-linejoin:miter;stroke-width:0.8;\"/>\r\n   </g>\r\n   <g id=\"patch_6\">\r\n    <path d=\"M 39.65 7.2 \r\nL 257.09 7.2 \r\n\" style=\"fill:none;stroke:#000000;stroke-linecap:square;stroke-linejoin:miter;stroke-width:0.8;\"/>\r\n   </g>\r\n  </g>\r\n </g>\r\n <defs>\r\n  <clipPath id=\"p50ab86a1f0\">\r\n   <rect height=\"217.44\" width=\"217.44\" x=\"39.65\" y=\"7.2\"/>\r\n  </clipPath>\r\n </defs>\r\n</svg>\r\n",
      "image/png": "[encoded data removed]"
     },
     "metadata": {
      "needs_background": "light"
     }
    }
   ],
   "source": [
    "from tma.plot import plot_trajectory\n",
    "plot_trajectory(observer)"
   ]
  },
  {
   "source": [
    "Задаем априорные данные, вектор дистанций, вектор СКО, алгоритмы для сравнения"
   ],
   "cell_type": "markdown",
   "metadata": {}
  },
  {
   "cell_type": "code",
   "execution_count": 3,
   "metadata": {},
   "outputs": [],
   "source": [
    "p0 = [0., 25., 90., 7.]\n",
    "d_arr = [10., 20., 30., 40.]\n",
    "std_arr = [0., 0.1, 0.2, 0.3, 0.5, 1.]\n",
    "alg_arr = ['ММП', 'Метод N пеленгов']\n",
    "def target_func(seed=None):\n",
    "            np.random.seed(seed)\n",
    "            b = 0\n",
    "            c = np.random.uniform(0, 180)\n",
    "            v = np.random.uniform(3, 15)\n",
    "            return [b, target_func.d, c, v]\n",
    "result_df = pd.DataFrame(columns=['Algorithm', 'std', 'd', 'sr_0', 'sr_1', 'sr_2', 'sr_3', 'Ка', 'Nf', 'Nf_max', 'Iter', 'Iter_max', 't', 't_max'])\n",
    "mean_columns = ['Ка', 'Nf', 'Iter', 't']\n",
    "max_columns = ['Nf', 'Iter', 't']"
   ]
  },
  {
   "cell_type": "code",
   "execution_count": 4,
   "metadata": {
    "tags": []
   },
   "outputs": [],
   "source": [
    "model = Model(observer)\n",
    "for d in d_arr:\n",
    "    target_func.d = d\n",
    "    for std in std_arr:\n",
    "        model.noise_std = np.radians(std)\n",
    "        for alg in alg_arr:\n",
    "            dict_results = swarm(model, algorithm_name=alg, n=100, target_func=target_func, p0=p0, seeded=True)\n",
    "            df = get_df(dict_results)\n",
    "            res = pd.DataFrame({'Algorithm': [alg], 'std': [std], 'd': [d]})\n",
    "            for i in range(4):\n",
    "                res['sr_' + str(i)] = [df['Успех'].apply(lambda x: x[i]).mean(axis=0)]\n",
    "            res[mean_columns] = df[mean_columns].mean(axis=0)\n",
    "            res[['Nf_max', 'Iter_max', 't_max']] = df[max_columns].apply(max, axis=0)\n",
    "            result_df = result_df.append(res)"
   ]
  },
  {
   "cell_type": "code",
   "execution_count": 5,
   "metadata": {},
   "outputs": [],
   "source": [
    "result_df['Ка'] = result_df['Ка'].apply(np.sqrt)\n",
    "result_df.rename(columns={'Ка': 'sr_Ka'}, inplace=True)\n",
    "result_df.reset_index(drop=True)\n",
    "Path(\"../tests/test1\").mkdir(parents=True, exist_ok=True)\n",
    "result_df.to_excel('../tests/test1/results.xlsx', index=False)"
   ]
  },
  {
   "cell_type": "code",
   "execution_count": 6,
   "metadata": {},
   "outputs": [
    {
     "output_type": "execute_result",
     "data": {
      "text/plain": [
       "          Algorithm  std     d  sr_0  sr_1  sr_2  sr_3 sr_Ka   Nf Nf_max Iter  \\\n",
       "0               ММП  0.0  10.0  1.00  1.00  1.00  1.00  0.00   15     27   12   \n",
       "0  Метод N пеленгов  0.0  10.0  1.00  1.00  1.00  1.00  0.00  nan    nan  nan   \n",
       "0               ММП  0.1  10.0  1.00  1.00  1.00  1.00  0.10   15     27   12   \n",
       "0  Метод N пеленгов  0.1  10.0  0.96  1.00  1.00  1.00  0.11  nan    nan  nan   \n",
       "0               ММП  0.2  10.0  1.00  1.00  1.00  1.00  0.20   15     27   12   \n",
       "0  Метод N пеленгов  0.2  10.0  0.82  0.96  0.97  0.99  0.21  nan    nan  nan   \n",
       "0               ММП  0.3  10.0  1.00  1.00  1.00  1.00  0.30   15     27   12   \n",
       "0  Метод N пеленгов  0.3  10.0  0.57  0.84  0.84  0.94  0.32  nan    nan  nan   \n",
       "0               ММП  0.5  10.0  0.95  1.00  1.00  1.00  0.50   15     27   12   \n",
       "0  Метод N пеленгов  0.5  10.0  0.09  0.43  0.44  0.69  0.56  nan    nan  nan   \n",
       "0               ММП  1.0  10.0  0.75  0.95  0.96  1.00  1.00   15     27   12   \n",
       "0  Метод N пеленгов  1.0  10.0  0.00  0.02  0.02  0.04  1.32  nan    nan  nan   \n",
       "0               ММП  0.0  20.0  1.00  1.00  1.00  1.00  0.00   10     24    8   \n",
       "0  Метод N пеленгов  0.0  20.0  1.00  1.00  1.00  1.00  0.00  nan    nan  nan   \n",
       "0               ММП  0.1  20.0  1.00  1.00  1.00  1.00  0.10   10     24    8   \n",
       "0  Метод N пеленгов  0.1  20.0  0.76  0.95  0.95  0.99  0.10  nan    nan  nan   \n",
       "0               ММП  0.2  20.0  0.98  1.00  1.00  1.00  0.20   10     24    8   \n",
       "0  Метод N пеленгов  0.2  20.0  0.57  0.74  0.75  0.88  0.21  nan    nan  nan   \n",
       "0               ММП  0.3  20.0  0.96  0.98  0.98  1.00  0.30   10     24    8   \n",
       "0  Метод N пеленгов  0.3  20.0  0.32  0.58  0.58  0.69  0.32  nan    nan  nan   \n",
       "0               ММП  0.5  20.0  0.79  0.97  0.97  0.98  0.50   10     24    8   \n",
       "0  Метод N пеленгов  0.5  20.0  0.00  0.11  0.18  0.36  0.57  nan    nan  nan   \n",
       "0               ММП  1.0  20.0  0.44  0.80  0.81  0.92  1.00   10     24    8   \n",
       "0  Метод N пеленгов  1.0  20.0  0.00  0.00  0.00  0.00  1.41  nan    nan  nan   \n",
       "0               ММП  0.0  30.0  1.00  1.00  1.00  1.00  0.00    9     11    8   \n",
       "0  Метод N пеленгов  0.0  30.0  1.00  1.00  1.00  1.00  0.00  nan    nan  nan   \n",
       "0               ММП  0.1  30.0  0.98  1.00  1.00  1.00  0.10    9     11    8   \n",
       "0  Метод N пеленгов  0.1  30.0  0.63  0.78  0.78  0.92  0.10  nan    nan  nan   \n",
       "0               ММП  0.2  30.0  0.91  0.98  0.98  1.00  0.20    9     11    8   \n",
       "0  Метод N пеленгов  0.2  30.0  0.44  0.58  0.59  0.66  0.21  nan    nan  nan   \n",
       "0               ММП  0.3  30.0  0.82  0.95  0.95  0.98  0.30    9     11    8   \n",
       "0  Метод N пеленгов  0.3  30.0  0.00  0.39  0.47  0.54  0.33  nan    nan  nan   \n",
       "0               ММП  0.5  30.0  0.51  0.88  0.88  0.92  0.50    9     11    8   \n",
       "0  Метод N пеленгов  0.5  30.0  0.00  0.00  0.00  0.01  0.61  nan    nan  nan   \n",
       "0               ММП  1.0  30.0  0.25  0.52  0.53  0.74  1.00    9     11    8   \n",
       "0  Метод N пеленгов  1.0  30.0  0.00  0.00  0.00  0.00  1.80  nan    nan  nan   \n",
       "0               ММП  0.0  40.0  1.00  1.00  1.00  1.00  0.00    9     11    8   \n",
       "0  Метод N пеленгов  0.0  40.0  1.00  1.00  1.00  1.00  0.00  nan    nan  nan   \n",
       "0               ММП  0.1  40.0  0.92  0.98  0.98  1.00  0.10    9     11    8   \n",
       "0  Метод N пеленгов  0.1  40.0  0.50  0.67  0.68  0.71  0.11  nan    nan  nan   \n",
       "0               ММП  0.2  40.0  0.75  0.93  0.93  0.96  0.20    9     11    8   \n",
       "0  Метод N пеленгов  0.2  40.0  0.06  0.45  0.46  0.53  0.22  nan    nan  nan   \n",
       "0               ММП  0.3  40.0  0.55  0.86  0.86  0.92  0.30    9     11    8   \n",
       "0  Метод N пеленгов  0.3  40.0  0.00  0.01  0.10  0.24  0.34  nan    nan  nan   \n",
       "0               ММП  0.5  40.0  0.37  0.63  0.63  0.81  0.50    9     11    8   \n",
       "0  Метод N пеленгов  0.5  40.0  0.00  0.00  0.00  0.00  0.66  nan    nan  nan   \n",
       "0               ММП  1.0  40.0  0.14  0.38  0.40  0.49  1.00    9     11    8   \n",
       "0  Метод N пеленгов  1.0  40.0  0.00  0.00  0.00  0.00  5.46  nan    nan  nan   \n",
       "\n",
       "  Iter_max       t   t_max  \n",
       "0       21  0.0034  0.0075  \n",
       "0      nan  0.0003  0.0023  \n",
       "0       21  0.0034  0.0065  \n",
       "0      nan  0.0003  0.0009  \n",
       "0       21  0.0033  0.0067  \n",
       "0      nan  0.0003  0.0022  \n",
       "0       21  0.0043  0.0547  \n",
       "0      nan  0.0003  0.0028  \n",
       "0       21  0.0036  0.0122  \n",
       "0      nan  0.0003  0.0023  \n",
       "0       21  0.0039  0.0097  \n",
       "0      nan  0.0004  0.0026  \n",
       "0       19  0.0024  0.0065  \n",
       "0      nan  0.0004  0.0061  \n",
       "0       19  0.0029  0.0245  \n",
       "0      nan  0.0003  0.0023  \n",
       "0       19  0.0025  0.0075  \n",
       "0      nan  0.0003  0.0050  \n",
       "0       19  0.0029  0.0211  \n",
       "0      nan  0.0003  0.0034  \n",
       "0       19  0.0024  0.0143  \n",
       "0      nan  0.0003  0.0012  \n",
       "0       19  0.0025  0.0121  \n",
       "0      nan  0.0003  0.0006  \n",
       "0       10  0.0024  0.0145  \n",
       "0      nan  0.0003  0.0008  \n",
       "0       10  0.0022  0.0068  \n",
       "0      nan  0.0003  0.0030  \n",
       "0       10  0.0022  0.0059  \n",
       "0      nan  0.0003  0.0010  \n",
       "0       10  0.0023  0.0166  \n",
       "0      nan  0.0003  0.0004  \n",
       "0       10  0.0029  0.0298  \n",
       "0      nan  0.0003  0.0038  \n",
       "0       10  0.0023  0.0118  \n",
       "0      nan  0.0003  0.0007  \n",
       "0       10  0.0021  0.0053  \n",
       "0      nan  0.0003  0.0013  \n",
       "0       10  0.0021  0.0031  \n",
       "0      nan  0.0003  0.0004  \n",
       "0       10  0.0020  0.0033  \n",
       "0      nan  0.0005  0.0087  \n",
       "0       10  0.0022  0.0041  \n",
       "0      nan  0.0003  0.0019  \n",
       "0       10  0.0022  0.0042  \n",
       "0      nan  0.0003  0.0017  \n",
       "0       10  0.0026  0.0106  \n",
       "0      nan  0.0003  0.0022  "
      ],
      "text/html": "<div>\n<style scoped>\n    .dataframe tbody tr th:only-of-type {\n        vertical-align: middle;\n    }\n\n    .dataframe tbody tr th {\n        vertical-align: top;\n    }\n\n    .dataframe thead th {\n        text-align: right;\n    }\n</style>\n<table border=\"1\" class=\"dataframe\">\n  <thead>\n    <tr style=\"text-align: right;\">\n      <th></th>\n      <th>Algorithm</th>\n      <th>std</th>\n      <th>d</th>\n      <th>sr_0</th>\n      <th>sr_1</th>\n      <th>sr_2</th>\n      <th>sr_3</th>\n      <th>sr_Ka</th>\n      <th>Nf</th>\n      <th>Nf_max</th>\n      <th>Iter</th>\n      <th>Iter_max</th>\n      <th>t</th>\n      <th>t_max</th>\n    </tr>\n  </thead>\n  <tbody>\n    <tr>\n      <th>0</th>\n      <td>ММП</td>\n      <td>0.0</td>\n      <td>10.0</td>\n      <td>1.00</td>\n      <td>1.00</td>\n      <td>1.00</td>\n      <td>1.00</td>\n      <td>0.00</td>\n      <td>15</td>\n      <td>27</td>\n      <td>12</td>\n      <td>21</td>\n      <td>0.0034</td>\n      <td>0.0075</td>\n    </tr>\n    <tr>\n      <th>0</th>\n      <td>Метод N пеленгов</td>\n      <td>0.0</td>\n      <td>10.0</td>\n      <td>1.00</td>\n      <td>1.00</td>\n      <td>1.00</td>\n      <td>1.00</td>\n      <td>0.00</td>\n      <td>nan</td>\n      <td>nan</td>\n      <td>nan</td>\n      <td>nan</td>\n      <td>0.0003</td>\n      <td>0.0023</td>\n    </tr>\n    <tr>\n      <th>0</th>\n      <td>ММП</td>\n      <td>0.1</td>\n      <td>10.0</td>\n      <td>1.00</td>\n      <td>1.00</td>\n      <td>1.00</td>\n      <td>1.00</td>\n      <td>0.10</td>\n      <td>15</td>\n      <td>27</td>\n      <td>12</td>\n      <td>21</td>\n      <td>0.0034</td>\n      <td>0.0065</td>\n    </tr>\n    <tr>\n      <th>0</th>\n      <td>Метод N пеленгов</td>\n      <td>0.1</td>\n      <td>10.0</td>\n      <td>0.96</td>\n      <td>1.00</td>\n      <td>1.00</td>\n      <td>1.00</td>\n      <td>0.11</td>\n      <td>nan</td>\n      <td>nan</td>\n      <td>nan</td>\n      <td>nan</td>\n      <td>0.0003</td>\n      <td>0.0009</td>\n    </tr>\n    <tr>\n      <th>0</th>\n      <td>ММП</td>\n      <td>0.2</td>\n      <td>10.0</td>\n      <td>1.00</td>\n      <td>1.00</td>\n      <td>1.00</td>\n      <td>1.00</td>\n      <td>0.20</td>\n      <td>15</td>\n      <td>27</td>\n      <td>12</td>\n      <td>21</td>\n      <td>0.0033</td>\n      <td>0.0067</td>\n    </tr>\n    <tr>\n      <th>0</th>\n      <td>Метод N пеленгов</td>\n      <td>0.2</td>\n      <td>10.0</td>\n      <td>0.82</td>\n      <td>0.96</td>\n      <td>0.97</td>\n      <td>0.99</td>\n      <td>0.21</td>\n      <td>nan</td>\n      <td>nan</td>\n      <td>nan</td>\n      <td>nan</td>\n      <td>0.0003</td>\n      <td>0.0022</td>\n    </tr>\n    <tr>\n      <th>0</th>\n      <td>ММП</td>\n      <td>0.3</td>\n      <td>10.0</td>\n      <td>1.00</td>\n      <td>1.00</td>\n      <td>1.00</td>\n      <td>1.00</td>\n      <td>0.30</td>\n      <td>15</td>\n      <td>27</td>\n      <td>12</td>\n      <td>21</td>\n      <td>0.0043</td>\n      <td>0.0547</td>\n    </tr>\n    <tr>\n      <th>0</th>\n      <td>Метод N пеленгов</td>\n      <td>0.3</td>\n      <td>10.0</td>\n      <td>0.57</td>\n      <td>0.84</td>\n      <td>0.84</td>\n      <td>0.94</td>\n      <td>0.32</td>\n      <td>nan</td>\n      <td>nan</td>\n      <td>nan</td>\n      <td>nan</td>\n      <td>0.0003</td>\n      <td>0.0028</td>\n    </tr>\n    <tr>\n      <th>0</th>\n      <td>ММП</td>\n      <td>0.5</td>\n      <td>10.0</td>\n      <td>0.95</td>\n      <td>1.00</td>\n      <td>1.00</td>\n      <td>1.00</td>\n      <td>0.50</td>\n      <td>15</td>\n      <td>27</td>\n      <td>12</td>\n      <td>21</td>\n      <td>0.0036</td>\n      <td>0.0122</td>\n    </tr>\n    <tr>\n      <th>0</th>\n      <td>Метод N пеленгов</td>\n      <td>0.5</td>\n      <td>10.0</td>\n      <td>0.09</td>\n      <td>0.43</td>\n      <td>0.44</td>\n      <td>0.69</td>\n      <td>0.56</td>\n      <td>nan</td>\n      <td>nan</td>\n      <td>nan</td>\n      <td>nan</td>\n      <td>0.0003</td>\n      <td>0.0023</td>\n    </tr>\n    <tr>\n      <th>0</th>\n      <td>ММП</td>\n      <td>1.0</td>\n      <td>10.0</td>\n      <td>0.75</td>\n      <td>0.95</td>\n      <td>0.96</td>\n      <td>1.00</td>\n      <td>1.00</td>\n      <td>15</td>\n      <td>27</td>\n      <td>12</td>\n      <td>21</td>\n      <td>0.0039</td>\n      <td>0.0097</td>\n    </tr>\n    <tr>\n      <th>0</th>\n      <td>Метод N пеленгов</td>\n      <td>1.0</td>\n      <td>10.0</td>\n      <td>0.00</td>\n      <td>0.02</td>\n      <td>0.02</td>\n      <td>0.04</td>\n      <td>1.32</td>\n      <td>nan</td>\n      <td>nan</td>\n      <td>nan</td>\n      <td>nan</td>\n      <td>0.0004</td>\n      <td>0.0026</td>\n    </tr>\n    <tr>\n      <th>0</th>\n      <td>ММП</td>\n      <td>0.0</td>\n      <td>20.0</td>\n      <td>1.00</td>\n      <td>1.00</td>\n      <td>1.00</td>\n      <td>1.00</td>\n      <td>0.00</td>\n      <td>10</td>\n      <td>24</td>\n      <td>8</td>\n      <td>19</td>\n      <td>0.0024</td>\n      <td>0.0065</td>\n    </tr>\n    <tr>\n      <th>0</th>\n      <td>Метод N пеленгов</td>\n      <td>0.0</td>\n      <td>20.0</td>\n      <td>1.00</td>\n      <td>1.00</td>\n      <td>1.00</td>\n      <td>1.00</td>\n      <td>0.00</td>\n      <td>nan</td>\n      <td>nan</td>\n      <td>nan</td>\n      <td>nan</td>\n      <td>0.0004</td>\n      <td>0.0061</td>\n    </tr>\n    <tr>\n      <th>0</th>\n      <td>ММП</td>\n      <td>0.1</td>\n      <td>20.0</td>\n      <td>1.00</td>\n      <td>1.00</td>\n      <td>1.00</td>\n      <td>1.00</td>\n      <td>0.10</td>\n      <td>10</td>\n      <td>24</td>\n      <td>8</td>\n      <td>19</td>\n      <td>0.0029</td>\n      <td>0.0245</td>\n    </tr>\n    <tr>\n      <th>0</th>\n      <td>Метод N пеленгов</td>\n      <td>0.1</td>\n      <td>20.0</td>\n      <td>0.76</td>\n      <td>0.95</td>\n      <td>0.95</td>\n      <td>0.99</td>\n      <td>0.10</td>\n      <td>nan</td>\n      <td>nan</td>\n      <td>nan</td>\n      <td>nan</td>\n      <td>0.0003</td>\n      <td>0.0023</td>\n    </tr>\n    <tr>\n      <th>0</th>\n      <td>ММП</td>\n      <td>0.2</td>\n      <td>20.0</td>\n      <td>0.98</td>\n      <td>1.00</td>\n      <td>1.00</td>\n      <td>1.00</td>\n      <td>0.20</td>\n      <td>10</td>\n      <td>24</td>\n      <td>8</td>\n      <td>19</td>\n      <td>0.0025</td>\n      <td>0.0075</td>\n    </tr>\n    <tr>\n      <th>0</th>\n      <td>Метод N пеленгов</td>\n      <td>0.2</td>\n      <td>20.0</td>\n      <td>0.57</td>\n      <td>0.74</td>\n      <td>0.75</td>\n      <td>0.88</td>\n      <td>0.21</td>\n      <td>nan</td>\n      <td>nan</td>\n      <td>nan</td>\n      <td>nan</td>\n      <td>0.0003</td>\n      <td>0.0050</td>\n    </tr>\n    <tr>\n      <th>0</th>\n      <td>ММП</td>\n      <td>0.3</td>\n      <td>20.0</td>\n      <td>0.96</td>\n      <td>0.98</td>\n      <td>0.98</td>\n      <td>1.00</td>\n      <td>0.30</td>\n      <td>10</td>\n      <td>24</td>\n      <td>8</td>\n      <td>19</td>\n      <td>0.0029</td>\n      <td>0.0211</td>\n    </tr>\n    <tr>\n      <th>0</th>\n      <td>Метод N пеленгов</td>\n      <td>0.3</td>\n      <td>20.0</td>\n      <td>0.32</td>\n      <td>0.58</td>\n      <td>0.58</td>\n      <td>0.69</td>\n      <td>0.32</td>\n      <td>nan</td>\n      <td>nan</td>\n      <td>nan</td>\n      <td>nan</td>\n      <td>0.0003</td>\n      <td>0.0034</td>\n    </tr>\n    <tr>\n      <th>0</th>\n      <td>ММП</td>\n      <td>0.5</td>\n      <td>20.0</td>\n      <td>0.79</td>\n      <td>0.97</td>\n      <td>0.97</td>\n      <td>0.98</td>\n      <td>0.50</td>\n      <td>10</td>\n      <td>24</td>\n      <td>8</td>\n      <td>19</td>\n      <td>0.0024</td>\n      <td>0.0143</td>\n    </tr>\n    <tr>\n      <th>0</th>\n      <td>Метод N пеленгов</td>\n      <td>0.5</td>\n      <td>20.0</td>\n      <td>0.00</td>\n      <td>0.11</td>\n      <td>0.18</td>\n      <td>0.36</td>\n      <td>0.57</td>\n      <td>nan</td>\n      <td>nan</td>\n      <td>nan</td>\n      <td>nan</td>\n      <td>0.0003</td>\n      <td>0.0012</td>\n    </tr>\n    <tr>\n      <th>0</th>\n      <td>ММП</td>\n      <td>1.0</td>\n      <td>20.0</td>\n      <td>0.44</td>\n      <td>0.80</td>\n      <td>0.81</td>\n      <td>0.92</td>\n      <td>1.00</td>\n      <td>10</td>\n      <td>24</td>\n      <td>8</td>\n      <td>19</td>\n      <td>0.0025</td>\n      <td>0.0121</td>\n    </tr>\n    <tr>\n      <th>0</th>\n      <td>Метод N пеленгов</td>\n      <td>1.0</td>\n      <td>20.0</td>\n      <td>0.00</td>\n      <td>0.00</td>\n      <td>0.00</td>\n      <td>0.00</td>\n      <td>1.41</td>\n      <td>nan</td>\n      <td>nan</td>\n      <td>nan</td>\n      <td>nan</td>\n      <td>0.0003</td>\n      <td>0.0006</td>\n    </tr>\n    <tr>\n      <th>0</th>\n      <td>ММП</td>\n      <td>0.0</td>\n      <td>30.0</td>\n      <td>1.00</td>\n      <td>1.00</td>\n      <td>1.00</td>\n      <td>1.00</td>\n      <td>0.00</td>\n      <td>9</td>\n      <td>11</td>\n      <td>8</td>\n      <td>10</td>\n      <td>0.0024</td>\n      <td>0.0145</td>\n    </tr>\n    <tr>\n      <th>0</th>\n      <td>Метод N пеленгов</td>\n      <td>0.0</td>\n      <td>30.0</td>\n      <td>1.00</td>\n      <td>1.00</td>\n      <td>1.00</td>\n      <td>1.00</td>\n      <td>0.00</td>\n      <td>nan</td>\n      <td>nan</td>\n      <td>nan</td>\n      <td>nan</td>\n      <td>0.0003</td>\n      <td>0.0008</td>\n    </tr>\n    <tr>\n      <th>0</th>\n      <td>ММП</td>\n      <td>0.1</td>\n      <td>30.0</td>\n      <td>0.98</td>\n      <td>1.00</td>\n      <td>1.00</td>\n      <td>1.00</td>\n      <td>0.10</td>\n      <td>9</td>\n      <td>11</td>\n      <td>8</td>\n      <td>10</td>\n      <td>0.0022</td>\n      <td>0.0068</td>\n    </tr>\n    <tr>\n      <th>0</th>\n      <td>Метод N пеленгов</td>\n      <td>0.1</td>\n      <td>30.0</td>\n      <td>0.63</td>\n      <td>0.78</td>\n      <td>0.78</td>\n      <td>0.92</td>\n      <td>0.10</td>\n      <td>nan</td>\n      <td>nan</td>\n      <td>nan</td>\n      <td>nan</td>\n      <td>0.0003</td>\n      <td>0.0030</td>\n    </tr>\n    <tr>\n      <th>0</th>\n      <td>ММП</td>\n      <td>0.2</td>\n      <td>30.0</td>\n      <td>0.91</td>\n      <td>0.98</td>\n      <td>0.98</td>\n      <td>1.00</td>\n      <td>0.20</td>\n      <td>9</td>\n      <td>11</td>\n      <td>8</td>\n      <td>10</td>\n      <td>0.0022</td>\n      <td>0.0059</td>\n    </tr>\n    <tr>\n      <th>0</th>\n      <td>Метод N пеленгов</td>\n      <td>0.2</td>\n      <td>30.0</td>\n      <td>0.44</td>\n      <td>0.58</td>\n      <td>0.59</td>\n      <td>0.66</td>\n      <td>0.21</td>\n      <td>nan</td>\n      <td>nan</td>\n      <td>nan</td>\n      <td>nan</td>\n      <td>0.0003</td>\n      <td>0.0010</td>\n    </tr>\n    <tr>\n      <th>0</th>\n      <td>ММП</td>\n      <td>0.3</td>\n      <td>30.0</td>\n      <td>0.82</td>\n      <td>0.95</td>\n      <td>0.95</td>\n      <td>0.98</td>\n      <td>0.30</td>\n      <td>9</td>\n      <td>11</td>\n      <td>8</td>\n      <td>10</td>\n      <td>0.0023</td>\n      <td>0.0166</td>\n    </tr>\n    <tr>\n      <th>0</th>\n      <td>Метод N пеленгов</td>\n      <td>0.3</td>\n      <td>30.0</td>\n      <td>0.00</td>\n      <td>0.39</td>\n      <td>0.47</td>\n      <td>0.54</td>\n      <td>0.33</td>\n      <td>nan</td>\n      <td>nan</td>\n      <td>nan</td>\n      <td>nan</td>\n      <td>0.0003</td>\n      <td>0.0004</td>\n    </tr>\n    <tr>\n      <th>0</th>\n      <td>ММП</td>\n      <td>0.5</td>\n      <td>30.0</td>\n      <td>0.51</td>\n      <td>0.88</td>\n      <td>0.88</td>\n      <td>0.92</td>\n      <td>0.50</td>\n      <td>9</td>\n      <td>11</td>\n      <td>8</td>\n      <td>10</td>\n      <td>0.0029</td>\n      <td>0.0298</td>\n    </tr>\n    <tr>\n      <th>0</th>\n      <td>Метод N пеленгов</td>\n      <td>0.5</td>\n      <td>30.0</td>\n      <td>0.00</td>\n      <td>0.00</td>\n      <td>0.00</td>\n      <td>0.01</td>\n      <td>0.61</td>\n      <td>nan</td>\n      <td>nan</td>\n      <td>nan</td>\n      <td>nan</td>\n      <td>0.0003</td>\n      <td>0.0038</td>\n    </tr>\n    <tr>\n      <th>0</th>\n      <td>ММП</td>\n      <td>1.0</td>\n      <td>30.0</td>\n      <td>0.25</td>\n      <td>0.52</td>\n      <td>0.53</td>\n      <td>0.74</td>\n      <td>1.00</td>\n      <td>9</td>\n      <td>11</td>\n      <td>8</td>\n      <td>10</td>\n      <td>0.0023</td>\n      <td>0.0118</td>\n    </tr>\n    <tr>\n      <th>0</th>\n      <td>Метод N пеленгов</td>\n      <td>1.0</td>\n      <td>30.0</td>\n      <td>0.00</td>\n      <td>0.00</td>\n      <td>0.00</td>\n      <td>0.00</td>\n      <td>1.80</td>\n      <td>nan</td>\n      <td>nan</td>\n      <td>nan</td>\n      <td>nan</td>\n      <td>0.0003</td>\n      <td>0.0007</td>\n    </tr>\n    <tr>\n      <th>0</th>\n      <td>ММП</td>\n      <td>0.0</td>\n      <td>40.0</td>\n      <td>1.00</td>\n      <td>1.00</td>\n      <td>1.00</td>\n      <td>1.00</td>\n      <td>0.00</td>\n      <td>9</td>\n      <td>11</td>\n      <td>8</td>\n      <td>10</td>\n      <td>0.0021</td>\n      <td>0.0053</td>\n    </tr>\n    <tr>\n      <th>0</th>\n      <td>Метод N пеленгов</td>\n      <td>0.0</td>\n      <td>40.0</td>\n      <td>1.00</td>\n      <td>1.00</td>\n      <td>1.00</td>\n      <td>1.00</td>\n      <td>0.00</td>\n      <td>nan</td>\n      <td>nan</td>\n      <td>nan</td>\n      <td>nan</td>\n      <td>0.0003</td>\n      <td>0.0013</td>\n    </tr>\n    <tr>\n      <th>0</th>\n      <td>ММП</td>\n      <td>0.1</td>\n      <td>40.0</td>\n      <td>0.92</td>\n      <td>0.98</td>\n      <td>0.98</td>\n      <td>1.00</td>\n      <td>0.10</td>\n      <td>9</td>\n      <td>11</td>\n      <td>8</td>\n      <td>10</td>\n      <td>0.0021</td>\n      <td>0.0031</td>\n    </tr>\n    <tr>\n      <th>0</th>\n      <td>Метод N пеленгов</td>\n      <td>0.1</td>\n      <td>40.0</td>\n      <td>0.50</td>\n      <td>0.67</td>\n      <td>0.68</td>\n      <td>0.71</td>\n      <td>0.11</td>\n      <td>nan</td>\n      <td>nan</td>\n      <td>nan</td>\n      <td>nan</td>\n      <td>0.0003</td>\n      <td>0.0004</td>\n    </tr>\n    <tr>\n      <th>0</th>\n      <td>ММП</td>\n      <td>0.2</td>\n      <td>40.0</td>\n      <td>0.75</td>\n      <td>0.93</td>\n      <td>0.93</td>\n      <td>0.96</td>\n      <td>0.20</td>\n      <td>9</td>\n      <td>11</td>\n      <td>8</td>\n      <td>10</td>\n      <td>0.0020</td>\n      <td>0.0033</td>\n    </tr>\n    <tr>\n      <th>0</th>\n      <td>Метод N пеленгов</td>\n      <td>0.2</td>\n      <td>40.0</td>\n      <td>0.06</td>\n      <td>0.45</td>\n      <td>0.46</td>\n      <td>0.53</td>\n      <td>0.22</td>\n      <td>nan</td>\n      <td>nan</td>\n      <td>nan</td>\n      <td>nan</td>\n      <td>0.0005</td>\n      <td>0.0087</td>\n    </tr>\n    <tr>\n      <th>0</th>\n      <td>ММП</td>\n      <td>0.3</td>\n      <td>40.0</td>\n      <td>0.55</td>\n      <td>0.86</td>\n      <td>0.86</td>\n      <td>0.92</td>\n      <td>0.30</td>\n      <td>9</td>\n      <td>11</td>\n      <td>8</td>\n      <td>10</td>\n      <td>0.0022</td>\n      <td>0.0041</td>\n    </tr>\n    <tr>\n      <th>0</th>\n      <td>Метод N пеленгов</td>\n      <td>0.3</td>\n      <td>40.0</td>\n      <td>0.00</td>\n      <td>0.01</td>\n      <td>0.10</td>\n      <td>0.24</td>\n      <td>0.34</td>\n      <td>nan</td>\n      <td>nan</td>\n      <td>nan</td>\n      <td>nan</td>\n      <td>0.0003</td>\n      <td>0.0019</td>\n    </tr>\n    <tr>\n      <th>0</th>\n      <td>ММП</td>\n      <td>0.5</td>\n      <td>40.0</td>\n      <td>0.37</td>\n      <td>0.63</td>\n      <td>0.63</td>\n      <td>0.81</td>\n      <td>0.50</td>\n      <td>9</td>\n      <td>11</td>\n      <td>8</td>\n      <td>10</td>\n      <td>0.0022</td>\n      <td>0.0042</td>\n    </tr>\n    <tr>\n      <th>0</th>\n      <td>Метод N пеленгов</td>\n      <td>0.5</td>\n      <td>40.0</td>\n      <td>0.00</td>\n      <td>0.00</td>\n      <td>0.00</td>\n      <td>0.00</td>\n      <td>0.66</td>\n      <td>nan</td>\n      <td>nan</td>\n      <td>nan</td>\n      <td>nan</td>\n      <td>0.0003</td>\n      <td>0.0017</td>\n    </tr>\n    <tr>\n      <th>0</th>\n      <td>ММП</td>\n      <td>1.0</td>\n      <td>40.0</td>\n      <td>0.14</td>\n      <td>0.38</td>\n      <td>0.40</td>\n      <td>0.49</td>\n      <td>1.00</td>\n      <td>9</td>\n      <td>11</td>\n      <td>8</td>\n      <td>10</td>\n      <td>0.0026</td>\n      <td>0.0106</td>\n    </tr>\n    <tr>\n      <th>0</th>\n      <td>Метод N пеленгов</td>\n      <td>1.0</td>\n      <td>40.0</td>\n      <td>0.00</td>\n      <td>0.00</td>\n      <td>0.00</td>\n      <td>0.00</td>\n      <td>5.46</td>\n      <td>nan</td>\n      <td>nan</td>\n      <td>nan</td>\n      <td>nan</td>\n      <td>0.0003</td>\n      <td>0.0022</td>\n    </tr>\n  </tbody>\n</table>\n</div>"
     },
     "metadata": {},
     "execution_count": 6
    }
   ],
   "source": [
    "display_df = result_df.copy()\n",
    "precisions = {'sr_Ka' : '{0:.2f}', 'Nf' : '{0:.0f}', 'Nf_max': '{0:.0f}',\\\n",
    "'Iter' : '{0:.0f}', 'Iter_max' : '{0:.0f}', 't' : '{0:.4f}', 't_max' : '{0:.4f}'}\n",
    "for col, precision in precisions.items():\n",
    "    display_df[col] = display_df[col].apply(lambda x: precision.format(x))\n",
    "display_df"
   ]
  }
 ]
}