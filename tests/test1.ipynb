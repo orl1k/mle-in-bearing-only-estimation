{
 "metadata": {
  "language_info": {
   "codemirror_mode": {
    "name": "ipython",
    "version": 3
   },
   "file_extension": ".py",
   "mimetype": "text/x-python",
   "name": "python",
   "nbconvert_exporter": "python",
   "pygments_lexer": "ipython3",
   "version": "3.9.2-final"
  },
  "orig_nbformat": 2,
  "kernelspec": {
   "name": "python3",
   "display_name": "Python 3.9.2 64-bit",
   "metadata": {
    "interpreter": {
     "hash": "41eac51e58bc56b7e72645fd2a426397a0dabf158fb6895686ff6280c78d9f5d"
    }
   }
  }
 },
 "nbformat": 4,
 "nbformat_minor": 2,
 "cells": [
  {
   "cell_type": "code",
   "execution_count": 3,
   "metadata": {},
   "outputs": [],
   "source": [
    "import sys\n",
    "sys.path.append(\"..\")\n",
    "import numpy as np\n",
    "import pandas as pd\n",
    "from project.ship import Ship\n",
    "from project.tests import Tests\n",
    "from project.botma import TMA\n",
    "import time\n",
    "from pathlib import Path\n",
    "from datetime import datetime"
   ]
  },
  {
   "cell_type": "code",
   "execution_count": 8,
   "metadata": {},
   "outputs": [
    {
     "output_type": "stream",
     "name": "stdout",
     "text": [
      "Время последнего моделирования: 26/03/2021 19:02\nНаблюдатель движется прямо по курсу 0.0° 180с\nНаблюдатель перешёл на курс 270.0° за 180с\nНаблюдатель движется прямо по курсу 270.0° 300с\nНаблюдатель перешёл на курс 90.0° за 360с\nНаблюдатель движется прямо по курсу 90.0° 180с\n"
     ]
    }
   ],
   "source": [
    "tests = Tests('test1')\n",
    "print(\"Время последнего моделирования:\", datetime.now().strftime(\"%d/%m/%Y %H:%M\"))\n",
    "\n",
    "# Создаем наблюдателя\n",
    "observer_x, observer_y, observer_course, observer_velocity = 0, 0, 0, 5\n",
    "observer = Ship('Наблюдатель', observer_x, observer_y, observer_course,\n",
    "                observer_velocity, verbose=True)\n",
    "\n",
    "# Моделирование траектории наблюдателя\n",
    "observer.forward_movement(3 * 60)\n",
    "observer.change_course(270, 'left', omega=0.5)\n",
    "observer.forward_movement(5 * 60)\n",
    "observer.change_course(90, 'right', omega=0.5)\n",
    "observer.forward_movement(3 * 60)"
   ]
  },
  {
   "cell_type": "code",
   "execution_count": 3,
   "metadata": {},
   "outputs": [],
   "source": [
    "p0 = [0., 25., 90., 7.]\n",
    "d_arr = [10., 20., 30., 40.]\n",
    "std_arr = [0., 0.1, 0.2, 0.3, 0.5, 1.]\n",
    "alg_arr = ['ММП v2', 'Метод N пеленгов']\n",
    "def target_func(seed=None):\n",
    "            np.random.seed(seed)\n",
    "            b = 0\n",
    "            c = np.random.uniform(0, 180)\n",
    "            v = np.random.uniform(3, 15)\n",
    "            return [b, target_func.d, c, v]\n",
    "result_df = pd.DataFrame(columns=['Algorithm', 'std', 'd', 'sr_0', 'sr_1', 'sr_2', 'sr_3', 'Ка', 'Nf', 'Nf_max', 'Iter', 'Iter_max', 't', 't_max'])\n",
    "mean_columns = ['Ка', 'Nf', 'Iter', 't']\n",
    "max_columns = ['Nf', 'Iter', 't']"
   ]
  },
  {
   "cell_type": "code",
   "execution_count": 9,
   "metadata": {
    "tags": []
   },
   "outputs": [],
   "source": [
    "tma = TMA(observer)\n",
    "for d in d_arr:\n",
    "    target_func.d = d\n",
    "    for std in std_arr:\n",
    "        tma.standart_deviation = np.radians(std)\n",
    "        for alg in alg_arr:\n",
    "            dict_results = tma.swarm(algorithm_name=alg, n=1000, target_func=target_func, p0=p0, seeded=True)\n",
    "            df = tests.get_df(dict_results)\n",
    "            res = pd.DataFrame({'Algorithm': [alg], 'std': [std], 'd': [d]})\n",
    "            for i in range(4):\n",
    "                res['sr_' + str(i)] = [df['Успех'].apply(lambda x: x[i]).mean(axis=0)]\n",
    "            res[mean_columns] = df[mean_columns].mean(axis=0)\n",
    "            res[['Nf_max', 'Iter_max', 't_max']] = df[max_columns].apply(max, axis=0)\n",
    "            result_df = result_df.append(res)"
   ]
  },
  {
   "cell_type": "code",
   "execution_count": 9,
   "metadata": {},
   "outputs": [],
   "source": [
    "result_df['Ка'] = result_df['Ка'].apply(np.sqrt)\n",
    "result_df.rename(columns={'Ка': 'sr_Ka'}, inplace=True)\n",
    "result_df.reset_index(drop=True)\n",
    "Path(\"../tests/test1\").mkdir(parents=True, exist_ok=True)\n",
    "tests.save_df(result_df, name='../tests/test1/results.xlsx')"
   ]
  },
  {
   "cell_type": "code",
   "execution_count": 27,
   "metadata": {},
   "outputs": [
    {
     "output_type": "execute_result",
     "data": {
      "text/plain": [
       "           Algorithm  std   d   sr_0   sr_1   sr_2   sr_3 sr_Ka   Nf Nf_max  \\\n",
       "0             ММП v2  0.0  10  1.000  1.000  1.000  1.000  0.04   15     28   \n",
       "1   Метод N пеленгов  0.0  10  1.000  1.000  1.000  1.000  0.00  nan    nan   \n",
       "2             ММП v2  0.1  10  1.000  1.000  1.000  1.000  0.56   15     28   \n",
       "3   Метод N пеленгов  0.1  10  0.967  0.997  0.997  1.000  0.57  nan    nan   \n",
       "4             ММП v2  0.2  10  1.000  1.000  1.000  1.000  0.67   15     28   \n",
       "5   Метод N пеленгов  0.2  10  0.757  0.966  0.970  0.994  0.68  nan    nan   \n",
       "6             ММП v2  0.3  10  0.996  1.000  1.000  1.000  0.74   15     28   \n",
       "7   Метод N пеленгов  0.3  10  0.521  0.834  0.839  0.960  0.75  nan    nan   \n",
       "8             ММП v2  0.5  10  0.933  0.997  0.997  1.000  0.84   15     28   \n",
       "9   Метод N пеленгов  0.5  10  0.095  0.412  0.420  0.643  0.86  nan    nan   \n",
       "10            ММП v2  1.0  10  0.717  0.933  0.938  0.991  1.00   15     28   \n",
       "11  Метод N пеленгов  1.0  10  0.000  0.012  0.014  0.033  1.07  nan    nan   \n",
       "12            ММП v2  0.0  20  1.000  1.000  1.000  1.000  0.05   10     24   \n",
       "13  Метод N пеленгов  0.0  20  1.000  1.000  1.000  1.000  0.00  nan    nan   \n",
       "14            ММП v2  0.1  20  0.994  1.000  1.000  1.000  0.56   10     24   \n",
       "15  Метод N пеленгов  0.1  20  0.761  0.948  0.953  0.976  0.57  nan    nan   \n",
       "16            ММП v2  0.2  20  0.962  0.994  0.994  1.000  0.67   10     24   \n",
       "17  Метод N пеленгов  0.2  20  0.533  0.740  0.745  0.887  0.68  nan    nan   \n",
       "18            ММП v2  0.3  20  0.917  0.976  0.976  0.994  0.74   10     24   \n",
       "19  Метод N пеленгов  0.3  20  0.314  0.583  0.606  0.683  0.75  nan    nan   \n",
       "20            ММП v2  0.5  20  0.764  0.940  0.941  0.969  0.84   10     25   \n",
       "21  Метод N пеленгов  0.5  20  0.005  0.152  0.215  0.345  0.89  nan    nan   \n",
       "22            ММП v2  1.0  20  0.462  0.765  0.780  0.887  1.00   10     25   \n",
       "23  Метод N пеленгов  1.0  20  0.000  0.000  0.000  0.000  1.27  nan    nan   \n",
       "24            ММП v2  0.0  30  1.000  1.000  1.000  1.000  0.05    8     11   \n",
       "25  Метод N пеленгов  0.0  30  1.000  1.000  1.000  1.000  0.00  nan    nan   \n",
       "26            ММП v2  0.1  30  0.958  0.993  0.993  0.999  0.56    8     11   \n",
       "27  Метод N пеленгов  0.1  30  0.595  0.795  0.798  0.912  0.57  nan    nan   \n",
       "28            ММП v2  0.2  30  0.860  0.958  0.958  0.981  0.67    8     11   \n",
       "29  Метод N пеленгов  0.2  30  0.369  0.575  0.589  0.636  0.68  nan    nan   \n",
       "30            ММП v2  0.3  30  0.756  0.916  0.916  0.958  0.74    8     11   \n",
       "31  Метод N пеленгов  0.3  30  0.040  0.350  0.416  0.507  0.76  nan    nan   \n",
       "32            ММП v2  0.5  30  0.546  0.804  0.805  0.883  0.84    8     11   \n",
       "33  Метод N пеленгов  0.5  30  0.000  0.000  0.002  0.018  0.88  nan    nan   \n",
       "34            ММП v2  1.0  30  0.276  0.548  0.570  0.692  1.00    8     11   \n",
       "35  Метод N пеленгов  1.0  30  0.000  0.000  0.000  0.000  1.41  nan    nan   \n",
       "36            ММП v2  0.0  40  1.000  1.000  1.000  1.000  0.05    8     11   \n",
       "37  Метод N пеленгов  0.0  40  1.000  1.000  1.000  1.000  0.00  nan    nan   \n",
       "38            ММП v2  0.1  40  0.891  0.962  0.962  0.985  0.56    8     11   \n",
       "39  Метод N пеленгов  0.1  40  0.459  0.647  0.649  0.693  0.57  nan    nan   \n",
       "40            ММП v2  0.2  40  0.723  0.891  0.891  0.934  0.67    8     11   \n",
       "41  Метод N пеленгов  0.2  40  0.097  0.424  0.442  0.499  0.68  nan    nan   \n",
       "42            ММП v2  0.3  40  0.569  0.792  0.792  0.873  0.74    8     11   \n",
       "43  Метод N пеленгов  0.3  40  0.000  0.029  0.108  0.254  0.77  nan    nan   \n",
       "44            ММП v2  0.5  40  0.389  0.640  0.642  0.750  0.84    8     11   \n",
       "45  Метод N пеленгов  0.5  40  0.000  0.000  0.000  0.000  0.90  nan    nan   \n",
       "46            ММП v2  1.0  40  0.155  0.392  0.410  0.507  1.00    8     11   \n",
       "47  Метод N пеленгов  1.0  40  0.000  0.000  0.000  0.000  1.51  nan    nan   \n",
       "\n",
       "   Iter Iter_max       t   t_max  \n",
       "0    12       21  0.0029  0.0060  \n",
       "1   nan      nan  0.0002  0.0006  \n",
       "2    12       21  0.0029  0.0057  \n",
       "3   nan      nan  0.0002  0.0005  \n",
       "4    12       21  0.0029  0.0058  \n",
       "5   nan      nan  0.0002  0.0006  \n",
       "6    12       21  0.0029  0.0058  \n",
       "7   nan      nan  0.0002  0.0005  \n",
       "8    12       21  0.0029  0.0056  \n",
       "9   nan      nan  0.0002  0.0005  \n",
       "10   12       21  0.0030  0.0060  \n",
       "11  nan      nan  0.0002  0.0045  \n",
       "12    9       19  0.0021  0.0052  \n",
       "13  nan      nan  0.0002  0.0006  \n",
       "14    9       19  0.0021  0.0051  \n",
       "15  nan      nan  0.0002  0.0006  \n",
       "16    9       19  0.0021  0.0050  \n",
       "17  nan      nan  0.0002  0.0005  \n",
       "18    9       19  0.0021  0.0051  \n",
       "19  nan      nan  0.0002  0.0013  \n",
       "20    9       20  0.0021  0.0050  \n",
       "21  nan      nan  0.0002  0.0006  \n",
       "22    9       20  0.0021  0.0051  \n",
       "23  nan      nan  0.0002  0.0005  \n",
       "24    7       10  0.0018  0.0029  \n",
       "25  nan      nan  0.0002  0.0006  \n",
       "26    7       10  0.0018  0.0030  \n",
       "27  nan      nan  0.0002  0.0027  \n",
       "28    7       10  0.0018  0.0030  \n",
       "29  nan      nan  0.0002  0.0005  \n",
       "30    7       10  0.0018  0.0030  \n",
       "31  nan      nan  0.0002  0.0006  \n",
       "32    7       10  0.0018  0.0036  \n",
       "33  nan      nan  0.0002  0.0033  \n",
       "34    8       10  0.0018  0.0030  \n",
       "35  nan      nan  0.0002  0.0006  \n",
       "36    7       10  0.0018  0.0033  \n",
       "37  nan      nan  0.0002  0.0007  \n",
       "38    7       10  0.0018  0.0059  \n",
       "39  nan      nan  0.0002  0.0005  \n",
       "40    7       10  0.0018  0.0032  \n",
       "41  nan      nan  0.0002  0.0008  \n",
       "42    7       10  0.0018  0.0031  \n",
       "43  nan      nan  0.0002  0.0007  \n",
       "44    7       10  0.0018  0.0030  \n",
       "45  nan      nan  0.0002  0.0006  \n",
       "46    7       10  0.0018  0.0030  \n",
       "47  nan      nan  0.0002  0.0006  "
      ],
      "text/html": "<div>\n<style scoped>\n    .dataframe tbody tr th:only-of-type {\n        vertical-align: middle;\n    }\n\n    .dataframe tbody tr th {\n        vertical-align: top;\n    }\n\n    .dataframe thead th {\n        text-align: right;\n    }\n</style>\n<table border=\"1\" class=\"dataframe\">\n  <thead>\n    <tr style=\"text-align: right;\">\n      <th></th>\n      <th>Algorithm</th>\n      <th>std</th>\n      <th>d</th>\n      <th>sr_0</th>\n      <th>sr_1</th>\n      <th>sr_2</th>\n      <th>sr_3</th>\n      <th>sr_Ka</th>\n      <th>Nf</th>\n      <th>Nf_max</th>\n      <th>Iter</th>\n      <th>Iter_max</th>\n      <th>t</th>\n      <th>t_max</th>\n    </tr>\n  </thead>\n  <tbody>\n    <tr>\n      <th>0</th>\n      <td>ММП v2</td>\n      <td>0.0</td>\n      <td>10</td>\n      <td>1.000</td>\n      <td>1.000</td>\n      <td>1.000</td>\n      <td>1.000</td>\n      <td>0.04</td>\n      <td>15</td>\n      <td>28</td>\n      <td>12</td>\n      <td>21</td>\n      <td>0.0029</td>\n      <td>0.0060</td>\n    </tr>\n    <tr>\n      <th>1</th>\n      <td>Метод N пеленгов</td>\n      <td>0.0</td>\n      <td>10</td>\n      <td>1.000</td>\n      <td>1.000</td>\n      <td>1.000</td>\n      <td>1.000</td>\n      <td>0.00</td>\n      <td>nan</td>\n      <td>nan</td>\n      <td>nan</td>\n      <td>nan</td>\n      <td>0.0002</td>\n      <td>0.0006</td>\n    </tr>\n    <tr>\n      <th>2</th>\n      <td>ММП v2</td>\n      <td>0.1</td>\n      <td>10</td>\n      <td>1.000</td>\n      <td>1.000</td>\n      <td>1.000</td>\n      <td>1.000</td>\n      <td>0.56</td>\n      <td>15</td>\n      <td>28</td>\n      <td>12</td>\n      <td>21</td>\n      <td>0.0029</td>\n      <td>0.0057</td>\n    </tr>\n    <tr>\n      <th>3</th>\n      <td>Метод N пеленгов</td>\n      <td>0.1</td>\n      <td>10</td>\n      <td>0.967</td>\n      <td>0.997</td>\n      <td>0.997</td>\n      <td>1.000</td>\n      <td>0.57</td>\n      <td>nan</td>\n      <td>nan</td>\n      <td>nan</td>\n      <td>nan</td>\n      <td>0.0002</td>\n      <td>0.0005</td>\n    </tr>\n    <tr>\n      <th>4</th>\n      <td>ММП v2</td>\n      <td>0.2</td>\n      <td>10</td>\n      <td>1.000</td>\n      <td>1.000</td>\n      <td>1.000</td>\n      <td>1.000</td>\n      <td>0.67</td>\n      <td>15</td>\n      <td>28</td>\n      <td>12</td>\n      <td>21</td>\n      <td>0.0029</td>\n      <td>0.0058</td>\n    </tr>\n    <tr>\n      <th>5</th>\n      <td>Метод N пеленгов</td>\n      <td>0.2</td>\n      <td>10</td>\n      <td>0.757</td>\n      <td>0.966</td>\n      <td>0.970</td>\n      <td>0.994</td>\n      <td>0.68</td>\n      <td>nan</td>\n      <td>nan</td>\n      <td>nan</td>\n      <td>nan</td>\n      <td>0.0002</td>\n      <td>0.0006</td>\n    </tr>\n    <tr>\n      <th>6</th>\n      <td>ММП v2</td>\n      <td>0.3</td>\n      <td>10</td>\n      <td>0.996</td>\n      <td>1.000</td>\n      <td>1.000</td>\n      <td>1.000</td>\n      <td>0.74</td>\n      <td>15</td>\n      <td>28</td>\n      <td>12</td>\n      <td>21</td>\n      <td>0.0029</td>\n      <td>0.0058</td>\n    </tr>\n    <tr>\n      <th>7</th>\n      <td>Метод N пеленгов</td>\n      <td>0.3</td>\n      <td>10</td>\n      <td>0.521</td>\n      <td>0.834</td>\n      <td>0.839</td>\n      <td>0.960</td>\n      <td>0.75</td>\n      <td>nan</td>\n      <td>nan</td>\n      <td>nan</td>\n      <td>nan</td>\n      <td>0.0002</td>\n      <td>0.0005</td>\n    </tr>\n    <tr>\n      <th>8</th>\n      <td>ММП v2</td>\n      <td>0.5</td>\n      <td>10</td>\n      <td>0.933</td>\n      <td>0.997</td>\n      <td>0.997</td>\n      <td>1.000</td>\n      <td>0.84</td>\n      <td>15</td>\n      <td>28</td>\n      <td>12</td>\n      <td>21</td>\n      <td>0.0029</td>\n      <td>0.0056</td>\n    </tr>\n    <tr>\n      <th>9</th>\n      <td>Метод N пеленгов</td>\n      <td>0.5</td>\n      <td>10</td>\n      <td>0.095</td>\n      <td>0.412</td>\n      <td>0.420</td>\n      <td>0.643</td>\n      <td>0.86</td>\n      <td>nan</td>\n      <td>nan</td>\n      <td>nan</td>\n      <td>nan</td>\n      <td>0.0002</td>\n      <td>0.0005</td>\n    </tr>\n    <tr>\n      <th>10</th>\n      <td>ММП v2</td>\n      <td>1.0</td>\n      <td>10</td>\n      <td>0.717</td>\n      <td>0.933</td>\n      <td>0.938</td>\n      <td>0.991</td>\n      <td>1.00</td>\n      <td>15</td>\n      <td>28</td>\n      <td>12</td>\n      <td>21</td>\n      <td>0.0030</td>\n      <td>0.0060</td>\n    </tr>\n    <tr>\n      <th>11</th>\n      <td>Метод N пеленгов</td>\n      <td>1.0</td>\n      <td>10</td>\n      <td>0.000</td>\n      <td>0.012</td>\n      <td>0.014</td>\n      <td>0.033</td>\n      <td>1.07</td>\n      <td>nan</td>\n      <td>nan</td>\n      <td>nan</td>\n      <td>nan</td>\n      <td>0.0002</td>\n      <td>0.0045</td>\n    </tr>\n    <tr>\n      <th>12</th>\n      <td>ММП v2</td>\n      <td>0.0</td>\n      <td>20</td>\n      <td>1.000</td>\n      <td>1.000</td>\n      <td>1.000</td>\n      <td>1.000</td>\n      <td>0.05</td>\n      <td>10</td>\n      <td>24</td>\n      <td>9</td>\n      <td>19</td>\n      <td>0.0021</td>\n      <td>0.0052</td>\n    </tr>\n    <tr>\n      <th>13</th>\n      <td>Метод N пеленгов</td>\n      <td>0.0</td>\n      <td>20</td>\n      <td>1.000</td>\n      <td>1.000</td>\n      <td>1.000</td>\n      <td>1.000</td>\n      <td>0.00</td>\n      <td>nan</td>\n      <td>nan</td>\n      <td>nan</td>\n      <td>nan</td>\n      <td>0.0002</td>\n      <td>0.0006</td>\n    </tr>\n    <tr>\n      <th>14</th>\n      <td>ММП v2</td>\n      <td>0.1</td>\n      <td>20</td>\n      <td>0.994</td>\n      <td>1.000</td>\n      <td>1.000</td>\n      <td>1.000</td>\n      <td>0.56</td>\n      <td>10</td>\n      <td>24</td>\n      <td>9</td>\n      <td>19</td>\n      <td>0.0021</td>\n      <td>0.0051</td>\n    </tr>\n    <tr>\n      <th>15</th>\n      <td>Метод N пеленгов</td>\n      <td>0.1</td>\n      <td>20</td>\n      <td>0.761</td>\n      <td>0.948</td>\n      <td>0.953</td>\n      <td>0.976</td>\n      <td>0.57</td>\n      <td>nan</td>\n      <td>nan</td>\n      <td>nan</td>\n      <td>nan</td>\n      <td>0.0002</td>\n      <td>0.0006</td>\n    </tr>\n    <tr>\n      <th>16</th>\n      <td>ММП v2</td>\n      <td>0.2</td>\n      <td>20</td>\n      <td>0.962</td>\n      <td>0.994</td>\n      <td>0.994</td>\n      <td>1.000</td>\n      <td>0.67</td>\n      <td>10</td>\n      <td>24</td>\n      <td>9</td>\n      <td>19</td>\n      <td>0.0021</td>\n      <td>0.0050</td>\n    </tr>\n    <tr>\n      <th>17</th>\n      <td>Метод N пеленгов</td>\n      <td>0.2</td>\n      <td>20</td>\n      <td>0.533</td>\n      <td>0.740</td>\n      <td>0.745</td>\n      <td>0.887</td>\n      <td>0.68</td>\n      <td>nan</td>\n      <td>nan</td>\n      <td>nan</td>\n      <td>nan</td>\n      <td>0.0002</td>\n      <td>0.0005</td>\n    </tr>\n    <tr>\n      <th>18</th>\n      <td>ММП v2</td>\n      <td>0.3</td>\n      <td>20</td>\n      <td>0.917</td>\n      <td>0.976</td>\n      <td>0.976</td>\n      <td>0.994</td>\n      <td>0.74</td>\n      <td>10</td>\n      <td>24</td>\n      <td>9</td>\n      <td>19</td>\n      <td>0.0021</td>\n      <td>0.0051</td>\n    </tr>\n    <tr>\n      <th>19</th>\n      <td>Метод N пеленгов</td>\n      <td>0.3</td>\n      <td>20</td>\n      <td>0.314</td>\n      <td>0.583</td>\n      <td>0.606</td>\n      <td>0.683</td>\n      <td>0.75</td>\n      <td>nan</td>\n      <td>nan</td>\n      <td>nan</td>\n      <td>nan</td>\n      <td>0.0002</td>\n      <td>0.0013</td>\n    </tr>\n    <tr>\n      <th>20</th>\n      <td>ММП v2</td>\n      <td>0.5</td>\n      <td>20</td>\n      <td>0.764</td>\n      <td>0.940</td>\n      <td>0.941</td>\n      <td>0.969</td>\n      <td>0.84</td>\n      <td>10</td>\n      <td>25</td>\n      <td>9</td>\n      <td>20</td>\n      <td>0.0021</td>\n      <td>0.0050</td>\n    </tr>\n    <tr>\n      <th>21</th>\n      <td>Метод N пеленгов</td>\n      <td>0.5</td>\n      <td>20</td>\n      <td>0.005</td>\n      <td>0.152</td>\n      <td>0.215</td>\n      <td>0.345</td>\n      <td>0.89</td>\n      <td>nan</td>\n      <td>nan</td>\n      <td>nan</td>\n      <td>nan</td>\n      <td>0.0002</td>\n      <td>0.0006</td>\n    </tr>\n    <tr>\n      <th>22</th>\n      <td>ММП v2</td>\n      <td>1.0</td>\n      <td>20</td>\n      <td>0.462</td>\n      <td>0.765</td>\n      <td>0.780</td>\n      <td>0.887</td>\n      <td>1.00</td>\n      <td>10</td>\n      <td>25</td>\n      <td>9</td>\n      <td>20</td>\n      <td>0.0021</td>\n      <td>0.0051</td>\n    </tr>\n    <tr>\n      <th>23</th>\n      <td>Метод N пеленгов</td>\n      <td>1.0</td>\n      <td>20</td>\n      <td>0.000</td>\n      <td>0.000</td>\n      <td>0.000</td>\n      <td>0.000</td>\n      <td>1.27</td>\n      <td>nan</td>\n      <td>nan</td>\n      <td>nan</td>\n      <td>nan</td>\n      <td>0.0002</td>\n      <td>0.0005</td>\n    </tr>\n    <tr>\n      <th>24</th>\n      <td>ММП v2</td>\n      <td>0.0</td>\n      <td>30</td>\n      <td>1.000</td>\n      <td>1.000</td>\n      <td>1.000</td>\n      <td>1.000</td>\n      <td>0.05</td>\n      <td>8</td>\n      <td>11</td>\n      <td>7</td>\n      <td>10</td>\n      <td>0.0018</td>\n      <td>0.0029</td>\n    </tr>\n    <tr>\n      <th>25</th>\n      <td>Метод N пеленгов</td>\n      <td>0.0</td>\n      <td>30</td>\n      <td>1.000</td>\n      <td>1.000</td>\n      <td>1.000</td>\n      <td>1.000</td>\n      <td>0.00</td>\n      <td>nan</td>\n      <td>nan</td>\n      <td>nan</td>\n      <td>nan</td>\n      <td>0.0002</td>\n      <td>0.0006</td>\n    </tr>\n    <tr>\n      <th>26</th>\n      <td>ММП v2</td>\n      <td>0.1</td>\n      <td>30</td>\n      <td>0.958</td>\n      <td>0.993</td>\n      <td>0.993</td>\n      <td>0.999</td>\n      <td>0.56</td>\n      <td>8</td>\n      <td>11</td>\n      <td>7</td>\n      <td>10</td>\n      <td>0.0018</td>\n      <td>0.0030</td>\n    </tr>\n    <tr>\n      <th>27</th>\n      <td>Метод N пеленгов</td>\n      <td>0.1</td>\n      <td>30</td>\n      <td>0.595</td>\n      <td>0.795</td>\n      <td>0.798</td>\n      <td>0.912</td>\n      <td>0.57</td>\n      <td>nan</td>\n      <td>nan</td>\n      <td>nan</td>\n      <td>nan</td>\n      <td>0.0002</td>\n      <td>0.0027</td>\n    </tr>\n    <tr>\n      <th>28</th>\n      <td>ММП v2</td>\n      <td>0.2</td>\n      <td>30</td>\n      <td>0.860</td>\n      <td>0.958</td>\n      <td>0.958</td>\n      <td>0.981</td>\n      <td>0.67</td>\n      <td>8</td>\n      <td>11</td>\n      <td>7</td>\n      <td>10</td>\n      <td>0.0018</td>\n      <td>0.0030</td>\n    </tr>\n    <tr>\n      <th>29</th>\n      <td>Метод N пеленгов</td>\n      <td>0.2</td>\n      <td>30</td>\n      <td>0.369</td>\n      <td>0.575</td>\n      <td>0.589</td>\n      <td>0.636</td>\n      <td>0.68</td>\n      <td>nan</td>\n      <td>nan</td>\n      <td>nan</td>\n      <td>nan</td>\n      <td>0.0002</td>\n      <td>0.0005</td>\n    </tr>\n    <tr>\n      <th>30</th>\n      <td>ММП v2</td>\n      <td>0.3</td>\n      <td>30</td>\n      <td>0.756</td>\n      <td>0.916</td>\n      <td>0.916</td>\n      <td>0.958</td>\n      <td>0.74</td>\n      <td>8</td>\n      <td>11</td>\n      <td>7</td>\n      <td>10</td>\n      <td>0.0018</td>\n      <td>0.0030</td>\n    </tr>\n    <tr>\n      <th>31</th>\n      <td>Метод N пеленгов</td>\n      <td>0.3</td>\n      <td>30</td>\n      <td>0.040</td>\n      <td>0.350</td>\n      <td>0.416</td>\n      <td>0.507</td>\n      <td>0.76</td>\n      <td>nan</td>\n      <td>nan</td>\n      <td>nan</td>\n      <td>nan</td>\n      <td>0.0002</td>\n      <td>0.0006</td>\n    </tr>\n    <tr>\n      <th>32</th>\n      <td>ММП v2</td>\n      <td>0.5</td>\n      <td>30</td>\n      <td>0.546</td>\n      <td>0.804</td>\n      <td>0.805</td>\n      <td>0.883</td>\n      <td>0.84</td>\n      <td>8</td>\n      <td>11</td>\n      <td>7</td>\n      <td>10</td>\n      <td>0.0018</td>\n      <td>0.0036</td>\n    </tr>\n    <tr>\n      <th>33</th>\n      <td>Метод N пеленгов</td>\n      <td>0.5</td>\n      <td>30</td>\n      <td>0.000</td>\n      <td>0.000</td>\n      <td>0.002</td>\n      <td>0.018</td>\n      <td>0.88</td>\n      <td>nan</td>\n      <td>nan</td>\n      <td>nan</td>\n      <td>nan</td>\n      <td>0.0002</td>\n      <td>0.0033</td>\n    </tr>\n    <tr>\n      <th>34</th>\n      <td>ММП v2</td>\n      <td>1.0</td>\n      <td>30</td>\n      <td>0.276</td>\n      <td>0.548</td>\n      <td>0.570</td>\n      <td>0.692</td>\n      <td>1.00</td>\n      <td>8</td>\n      <td>11</td>\n      <td>8</td>\n      <td>10</td>\n      <td>0.0018</td>\n      <td>0.0030</td>\n    </tr>\n    <tr>\n      <th>35</th>\n      <td>Метод N пеленгов</td>\n      <td>1.0</td>\n      <td>30</td>\n      <td>0.000</td>\n      <td>0.000</td>\n      <td>0.000</td>\n      <td>0.000</td>\n      <td>1.41</td>\n      <td>nan</td>\n      <td>nan</td>\n      <td>nan</td>\n      <td>nan</td>\n      <td>0.0002</td>\n      <td>0.0006</td>\n    </tr>\n    <tr>\n      <th>36</th>\n      <td>ММП v2</td>\n      <td>0.0</td>\n      <td>40</td>\n      <td>1.000</td>\n      <td>1.000</td>\n      <td>1.000</td>\n      <td>1.000</td>\n      <td>0.05</td>\n      <td>8</td>\n      <td>11</td>\n      <td>7</td>\n      <td>10</td>\n      <td>0.0018</td>\n      <td>0.0033</td>\n    </tr>\n    <tr>\n      <th>37</th>\n      <td>Метод N пеленгов</td>\n      <td>0.0</td>\n      <td>40</td>\n      <td>1.000</td>\n      <td>1.000</td>\n      <td>1.000</td>\n      <td>1.000</td>\n      <td>0.00</td>\n      <td>nan</td>\n      <td>nan</td>\n      <td>nan</td>\n      <td>nan</td>\n      <td>0.0002</td>\n      <td>0.0007</td>\n    </tr>\n    <tr>\n      <th>38</th>\n      <td>ММП v2</td>\n      <td>0.1</td>\n      <td>40</td>\n      <td>0.891</td>\n      <td>0.962</td>\n      <td>0.962</td>\n      <td>0.985</td>\n      <td>0.56</td>\n      <td>8</td>\n      <td>11</td>\n      <td>7</td>\n      <td>10</td>\n      <td>0.0018</td>\n      <td>0.0059</td>\n    </tr>\n    <tr>\n      <th>39</th>\n      <td>Метод N пеленгов</td>\n      <td>0.1</td>\n      <td>40</td>\n      <td>0.459</td>\n      <td>0.647</td>\n      <td>0.649</td>\n      <td>0.693</td>\n      <td>0.57</td>\n      <td>nan</td>\n      <td>nan</td>\n      <td>nan</td>\n      <td>nan</td>\n      <td>0.0002</td>\n      <td>0.0005</td>\n    </tr>\n    <tr>\n      <th>40</th>\n      <td>ММП v2</td>\n      <td>0.2</td>\n      <td>40</td>\n      <td>0.723</td>\n      <td>0.891</td>\n      <td>0.891</td>\n      <td>0.934</td>\n      <td>0.67</td>\n      <td>8</td>\n      <td>11</td>\n      <td>7</td>\n      <td>10</td>\n      <td>0.0018</td>\n      <td>0.0032</td>\n    </tr>\n    <tr>\n      <th>41</th>\n      <td>Метод N пеленгов</td>\n      <td>0.2</td>\n      <td>40</td>\n      <td>0.097</td>\n      <td>0.424</td>\n      <td>0.442</td>\n      <td>0.499</td>\n      <td>0.68</td>\n      <td>nan</td>\n      <td>nan</td>\n      <td>nan</td>\n      <td>nan</td>\n      <td>0.0002</td>\n      <td>0.0008</td>\n    </tr>\n    <tr>\n      <th>42</th>\n      <td>ММП v2</td>\n      <td>0.3</td>\n      <td>40</td>\n      <td>0.569</td>\n      <td>0.792</td>\n      <td>0.792</td>\n      <td>0.873</td>\n      <td>0.74</td>\n      <td>8</td>\n      <td>11</td>\n      <td>7</td>\n      <td>10</td>\n      <td>0.0018</td>\n      <td>0.0031</td>\n    </tr>\n    <tr>\n      <th>43</th>\n      <td>Метод N пеленгов</td>\n      <td>0.3</td>\n      <td>40</td>\n      <td>0.000</td>\n      <td>0.029</td>\n      <td>0.108</td>\n      <td>0.254</td>\n      <td>0.77</td>\n      <td>nan</td>\n      <td>nan</td>\n      <td>nan</td>\n      <td>nan</td>\n      <td>0.0002</td>\n      <td>0.0007</td>\n    </tr>\n    <tr>\n      <th>44</th>\n      <td>ММП v2</td>\n      <td>0.5</td>\n      <td>40</td>\n      <td>0.389</td>\n      <td>0.640</td>\n      <td>0.642</td>\n      <td>0.750</td>\n      <td>0.84</td>\n      <td>8</td>\n      <td>11</td>\n      <td>7</td>\n      <td>10</td>\n      <td>0.0018</td>\n      <td>0.0030</td>\n    </tr>\n    <tr>\n      <th>45</th>\n      <td>Метод N пеленгов</td>\n      <td>0.5</td>\n      <td>40</td>\n      <td>0.000</td>\n      <td>0.000</td>\n      <td>0.000</td>\n      <td>0.000</td>\n      <td>0.90</td>\n      <td>nan</td>\n      <td>nan</td>\n      <td>nan</td>\n      <td>nan</td>\n      <td>0.0002</td>\n      <td>0.0006</td>\n    </tr>\n    <tr>\n      <th>46</th>\n      <td>ММП v2</td>\n      <td>1.0</td>\n      <td>40</td>\n      <td>0.155</td>\n      <td>0.392</td>\n      <td>0.410</td>\n      <td>0.507</td>\n      <td>1.00</td>\n      <td>8</td>\n      <td>11</td>\n      <td>7</td>\n      <td>10</td>\n      <td>0.0018</td>\n      <td>0.0030</td>\n    </tr>\n    <tr>\n      <th>47</th>\n      <td>Метод N пеленгов</td>\n      <td>1.0</td>\n      <td>40</td>\n      <td>0.000</td>\n      <td>0.000</td>\n      <td>0.000</td>\n      <td>0.000</td>\n      <td>1.51</td>\n      <td>nan</td>\n      <td>nan</td>\n      <td>nan</td>\n      <td>nan</td>\n      <td>0.0002</td>\n      <td>0.0006</td>\n    </tr>\n  </tbody>\n</table>\n</div>"
     },
     "metadata": {},
     "execution_count": 27
    }
   ],
   "source": [
    "display_df = result_df.copy()\n",
    "precisions = {'sr_Ka' : '{0:.2f}', 'Nf' : '{0:.0f}', 'Nf_max': '{0:.0f}',\\\n",
    "'Iter' : '{0:.0f}', 'Iter_max' : '{0:.0f}', 't' : '{0:.4f}', 't_max' : '{0:.4f}'}\n",
    "for col, precision in precisions.items():\n",
    "    display_df[col] = display_df[col].apply(lambda x: precision.format(x))\n",
    "display_df"
   ]
  }
 ]
}