{
 "metadata": {
  "language_info": {
   "codemirror_mode": {
    "name": "ipython",
    "version": 3
   },
   "file_extension": ".py",
   "mimetype": "text/x-python",
   "name": "python",
   "nbconvert_exporter": "python",
   "pygments_lexer": "ipython3",
   "version": "3.9.2"
  },
  "orig_nbformat": 2,
  "kernelspec": {
   "name": "python392jvsc74a57bd041eac51e58bc56b7e72645fd2a426397a0dabf158fb6895686ff6280c78d9f5d",
   "display_name": "Python 3.9.2 64-bit"
  },
  "metadata": {
   "interpreter": {
    "hash": "41eac51e58bc56b7e72645fd2a426397a0dabf158fb6895686ff6280c78d9f5d"
   }
  }
 },
 "nbformat": 4,
 "nbformat_minor": 2,
 "cells": [
  {
   "cell_type": "code",
   "execution_count": 1,
   "metadata": {},
   "outputs": [],
   "source": [
    "import sys\n",
    "sys.path.append(\"..\")\n",
    "import numpy as np\n",
    "import pandas as pd\n",
    "import seaborn as sns\n",
    "import matplotlib.pyplot as plt\n",
    "from project.object import Object\n",
    "from project.tests import Tests\n",
    "from project.botma import TMA\n",
    "import time\n",
    "from pathlib import Path\n",
    "from datetime import datetime\n",
    "import ast"
   ]
  },
  {
   "cell_type": "code",
   "execution_count": 2,
   "metadata": {},
   "outputs": [
    {
     "output_type": "stream",
     "name": "stdout",
     "text": [
      "Время последнего моделирования: 04/04/2021 07:47\nНаблюдатель движется прямо по курсу 0.0° 180с\nНаблюдатель перешёл на курс 270.0° за 180с\nНаблюдатель движется прямо по курсу 270.0° 300с\nНаблюдатель перешёл на курс 90.0° за 360с\nНаблюдатель движется прямо по курсу 90.0° 180с\n"
     ]
    }
   ],
   "source": [
    "tests = Tests('test3')\n",
    "print(\"Время последнего моделирования:\", datetime.now().strftime(\"%d/%m/%Y %H:%M\"))\n",
    "\n",
    "# Создаем наблюдателя\n",
    "observer_x, observer_y, observer_course, observer_velocity = 0, 0, 0, 5\n",
    "observer = Object('Наблюдатель', observer_x, observer_y, observer_course,\n",
    "                observer_velocity, verbose=True)\n",
    "\n",
    "# Моделирование траектории наблюдателя\n",
    "observer.forward_movement(3 * 60)\n",
    "observer.change_course(270, 'left', omega=0.5)\n",
    "observer.forward_movement(5 * 60)\n",
    "observer.change_course(90, 'right', omega=0.5)\n",
    "observer.forward_movement(3 * 60)"
   ]
  },
  {
   "cell_type": "code",
   "execution_count": 3,
   "metadata": {},
   "outputs": [],
   "source": [
    "end_t = 420 # задаем Твыч"
   ]
  },
  {
   "cell_type": "code",
   "execution_count": 4,
   "metadata": {},
   "outputs": [],
   "source": [
    "p0 = [0., 25., 90., 7.]\n",
    "d_arr = [10., 20., 30., 40.]\n",
    "std_arr = [0., 0.1, 0.2, 0.3, 0.5, 1.]\n",
    "alg_arr = ['ММП v2', 'Метод N пеленгов']\n",
    "def target_func(seed=None):\n",
    "            rng = np.random.RandomState(seed)\n",
    "            b = 0\n",
    "            d = rng.uniform(5, 50)\n",
    "            c = rng.uniform(0, 180)\n",
    "            v = rng.uniform(3, 15)\n",
    "            return [b, d, c, v]\n",
    "result_df = pd.DataFrame(columns=['Algorithm', 'std', 'sr_0', 'sr_1', 'sr_2', 'sr_3', 'Ка', 'Nf', 'Nf_max', 'Iter', 'Iter_max', 't', 't_max'])\n",
    "mean_columns = ['Ка', 'Nf', 'Iter', 't']\n",
    "max_columns = ['Nf', 'Iter', 't']\n",
    "Path(\"../tests/test3/{}/\".format(end_t)).mkdir(parents=True, exist_ok=True)"
   ]
  },
  {
   "cell_type": "code",
   "execution_count": 5,
   "metadata": {
    "tags": []
   },
   "outputs": [
    {
     "output_type": "stream",
     "name": "stdout",
     "text": [
      "Wall time: 2min 23s\n"
     ]
    }
   ],
   "source": [
    "%%time\n",
    "tma = TMA(observer, end_t=end_t)\n",
    "for std in std_arr:\n",
    "    tma.noise_std = np.radians(std)\n",
    "    for alg in alg_arr:\n",
    "        dict_results = tma.swarm(algorithm_name=alg, n=1000, target_func=target_func, p0=p0, seeded=True)\n",
    "        df = tests.get_df(dict_results)\n",
    "        tests.save_df(df, name='../tests/test3/{}/'.format(end_t) + str(alg) + ' ' + str(std) + '.xlsx')\n",
    "        res = pd.DataFrame({'Algorithm': [alg], 'std': [std]})\n",
    "        for i in range(4):\n",
    "            res['sr_' + str(i)] = [df['Успех'].apply(lambda x: x[i]).mean(axis=0)]\n",
    "        res[mean_columns] = df[mean_columns].mean(axis=0)\n",
    "        res[['Nf_max', 'Iter_max', 't_max']] = df[max_columns].apply(max, axis=0)\n",
    "        result_df = result_df.append(res)"
   ]
  },
  {
   "cell_type": "code",
   "execution_count": 6,
   "metadata": {},
   "outputs": [],
   "source": [
    "result_df.reset_index(drop=True)\n",
    "result_df['Ка'] = result_df['Ка'].apply(np.sqrt)\n",
    "tests.save_df(result_df, name='../tests/test3/{}/results.xlsx'.format(end_t))"
   ]
  },
  {
   "cell_type": "code",
   "execution_count": 7,
   "metadata": {},
   "outputs": [],
   "source": [
    "result_df = pd.read_excel('../tests/test3/{}/results.xlsx'.format(end_t))\n",
    "display_df = result_df.copy()\n",
    "precisions = {'Ка' : '{0:.2f}', 'Nf' : '{0:.0f}', 'Nf_max': '{0:.0f}',\\\n",
    "'Iter' : '{0:.0f}', 'Iter_max' : '{0:.0f}', 't' : '{0:.4f}', 't_max' : '{0:.4f}'}\n",
    "for col, precision in precisions.items():\n",
    "    display_df[col] = display_df[col].apply(lambda x: precision.format(x))\n",
    "display_df.rename(columns={'Algorithm':'Алгоритм', 'std':'СКО', 'sr_0':'Рэф1', 'sr_1':'Рэф2', 'sr_2':'Рэф3', 'sr_3':'Рэф4', 'Ка':'sqrt(Ка)'}, inplace=True)"
   ]
  },
  {
   "cell_type": "code",
   "execution_count": 8,
   "metadata": {},
   "outputs": [
    {
     "output_type": "execute_result",
     "data": {
      "text/plain": [
       "            Алгоритм  СКО   Рэф1   Рэф2   Рэф3   Рэф4 sqrt(Ка)   Nf Nf_max  \\\n",
       "0             ММП v2  0.0  0.982  0.996  0.996  0.999     0.00   14     32   \n",
       "1   Метод N пеленгов  0.0  1.000  1.000  1.000  1.000     0.00  nan    nan   \n",
       "2             ММП v2  0.1  0.235  0.362  0.366  0.422     0.10   14     32   \n",
       "3   Метод N пеленгов  0.1  0.019  0.038  0.040  0.059    48.90  nan    nan   \n",
       "4             ММП v2  0.2  0.127  0.233  0.238  0.276     0.20   14     32   \n",
       "5   Метод N пеленгов  0.2  0.003  0.006  0.006  0.016    79.47  nan    nan   \n",
       "6             ММП v2  0.3  0.094  0.161  0.168  0.214     0.30   15     32   \n",
       "7   Метод N пеленгов  0.3  0.000  0.004  0.004  0.004    89.79  nan    nan   \n",
       "8             ММП v2  0.5  0.055  0.108  0.112  0.145     0.50   15     32   \n",
       "9   Метод N пеленгов  0.5  0.000  0.000  0.000  0.001    98.97  nan    nan   \n",
       "10            ММП v2  1.0  0.032  0.059  0.063  0.083     0.99   17     43   \n",
       "11  Метод N пеленгов  1.0  0.000  0.000  0.000  0.000   106.52  nan    nan   \n",
       "\n",
       "   Iter Iter_max       t   t_max  \n",
       "0    12       24  0.0024  0.0056  \n",
       "1   nan      nan  0.0002  0.0013  \n",
       "2    12       24  0.0023  0.0062  \n",
       "3   nan      nan  0.0002  0.0006  \n",
       "4    12       24  0.0024  0.0067  \n",
       "5   nan      nan  0.0002  0.0004  \n",
       "6    13       24  0.0024  0.0056  \n",
       "7   nan      nan  0.0002  0.0010  \n",
       "8    13       29  0.0026  0.0056  \n",
       "9   nan      nan  0.0002  0.0004  \n",
       "10   15       38  0.0028  0.0066  \n",
       "11  nan      nan  0.0002  0.0011  "
      ],
      "text/html": "<div>\n<style scoped>\n    .dataframe tbody tr th:only-of-type {\n        vertical-align: middle;\n    }\n\n    .dataframe tbody tr th {\n        vertical-align: top;\n    }\n\n    .dataframe thead th {\n        text-align: right;\n    }\n</style>\n<table border=\"1\" class=\"dataframe\">\n  <thead>\n    <tr style=\"text-align: right;\">\n      <th></th>\n      <th>Алгоритм</th>\n      <th>СКО</th>\n      <th>Рэф1</th>\n      <th>Рэф2</th>\n      <th>Рэф3</th>\n      <th>Рэф4</th>\n      <th>sqrt(Ка)</th>\n      <th>Nf</th>\n      <th>Nf_max</th>\n      <th>Iter</th>\n      <th>Iter_max</th>\n      <th>t</th>\n      <th>t_max</th>\n    </tr>\n  </thead>\n  <tbody>\n    <tr>\n      <th>0</th>\n      <td>ММП v2</td>\n      <td>0.0</td>\n      <td>0.982</td>\n      <td>0.996</td>\n      <td>0.996</td>\n      <td>0.999</td>\n      <td>0.00</td>\n      <td>14</td>\n      <td>32</td>\n      <td>12</td>\n      <td>24</td>\n      <td>0.0024</td>\n      <td>0.0056</td>\n    </tr>\n    <tr>\n      <th>1</th>\n      <td>Метод N пеленгов</td>\n      <td>0.0</td>\n      <td>1.000</td>\n      <td>1.000</td>\n      <td>1.000</td>\n      <td>1.000</td>\n      <td>0.00</td>\n      <td>nan</td>\n      <td>nan</td>\n      <td>nan</td>\n      <td>nan</td>\n      <td>0.0002</td>\n      <td>0.0013</td>\n    </tr>\n    <tr>\n      <th>2</th>\n      <td>ММП v2</td>\n      <td>0.1</td>\n      <td>0.235</td>\n      <td>0.362</td>\n      <td>0.366</td>\n      <td>0.422</td>\n      <td>0.10</td>\n      <td>14</td>\n      <td>32</td>\n      <td>12</td>\n      <td>24</td>\n      <td>0.0023</td>\n      <td>0.0062</td>\n    </tr>\n    <tr>\n      <th>3</th>\n      <td>Метод N пеленгов</td>\n      <td>0.1</td>\n      <td>0.019</td>\n      <td>0.038</td>\n      <td>0.040</td>\n      <td>0.059</td>\n      <td>48.90</td>\n      <td>nan</td>\n      <td>nan</td>\n      <td>nan</td>\n      <td>nan</td>\n      <td>0.0002</td>\n      <td>0.0006</td>\n    </tr>\n    <tr>\n      <th>4</th>\n      <td>ММП v2</td>\n      <td>0.2</td>\n      <td>0.127</td>\n      <td>0.233</td>\n      <td>0.238</td>\n      <td>0.276</td>\n      <td>0.20</td>\n      <td>14</td>\n      <td>32</td>\n      <td>12</td>\n      <td>24</td>\n      <td>0.0024</td>\n      <td>0.0067</td>\n    </tr>\n    <tr>\n      <th>5</th>\n      <td>Метод N пеленгов</td>\n      <td>0.2</td>\n      <td>0.003</td>\n      <td>0.006</td>\n      <td>0.006</td>\n      <td>0.016</td>\n      <td>79.47</td>\n      <td>nan</td>\n      <td>nan</td>\n      <td>nan</td>\n      <td>nan</td>\n      <td>0.0002</td>\n      <td>0.0004</td>\n    </tr>\n    <tr>\n      <th>6</th>\n      <td>ММП v2</td>\n      <td>0.3</td>\n      <td>0.094</td>\n      <td>0.161</td>\n      <td>0.168</td>\n      <td>0.214</td>\n      <td>0.30</td>\n      <td>15</td>\n      <td>32</td>\n      <td>13</td>\n      <td>24</td>\n      <td>0.0024</td>\n      <td>0.0056</td>\n    </tr>\n    <tr>\n      <th>7</th>\n      <td>Метод N пеленгов</td>\n      <td>0.3</td>\n      <td>0.000</td>\n      <td>0.004</td>\n      <td>0.004</td>\n      <td>0.004</td>\n      <td>89.79</td>\n      <td>nan</td>\n      <td>nan</td>\n      <td>nan</td>\n      <td>nan</td>\n      <td>0.0002</td>\n      <td>0.0010</td>\n    </tr>\n    <tr>\n      <th>8</th>\n      <td>ММП v2</td>\n      <td>0.5</td>\n      <td>0.055</td>\n      <td>0.108</td>\n      <td>0.112</td>\n      <td>0.145</td>\n      <td>0.50</td>\n      <td>15</td>\n      <td>32</td>\n      <td>13</td>\n      <td>29</td>\n      <td>0.0026</td>\n      <td>0.0056</td>\n    </tr>\n    <tr>\n      <th>9</th>\n      <td>Метод N пеленгов</td>\n      <td>0.5</td>\n      <td>0.000</td>\n      <td>0.000</td>\n      <td>0.000</td>\n      <td>0.001</td>\n      <td>98.97</td>\n      <td>nan</td>\n      <td>nan</td>\n      <td>nan</td>\n      <td>nan</td>\n      <td>0.0002</td>\n      <td>0.0004</td>\n    </tr>\n    <tr>\n      <th>10</th>\n      <td>ММП v2</td>\n      <td>1.0</td>\n      <td>0.032</td>\n      <td>0.059</td>\n      <td>0.063</td>\n      <td>0.083</td>\n      <td>0.99</td>\n      <td>17</td>\n      <td>43</td>\n      <td>15</td>\n      <td>38</td>\n      <td>0.0028</td>\n      <td>0.0066</td>\n    </tr>\n    <tr>\n      <th>11</th>\n      <td>Метод N пеленгов</td>\n      <td>1.0</td>\n      <td>0.000</td>\n      <td>0.000</td>\n      <td>0.000</td>\n      <td>0.000</td>\n      <td>106.52</td>\n      <td>nan</td>\n      <td>nan</td>\n      <td>nan</td>\n      <td>nan</td>\n      <td>0.0002</td>\n      <td>0.0011</td>\n    </tr>\n  </tbody>\n</table>\n</div>"
     },
     "metadata": {},
     "execution_count": 8
    }
   ],
   "source": [
    "display_df"
   ]
  },
  {
   "cell_type": "code",
   "execution_count": 9,
   "metadata": {},
   "outputs": [],
   "source": [
    "import docx\n",
    "doc = docx.Document()\n",
    "t = doc.add_table(display_df.shape[0]+1, display_df.shape[1])\n",
    "for j in range(display_df.shape[-1]):\n",
    "    t.cell(0,j).text = display_df.columns[j]\n",
    "for i in range(display_df.shape[0]):\n",
    "    for j in range(display_df.shape[-1]):\n",
    "        t.cell(i+1,j).text = str(display_df.values[i,j])\n",
    "doc.save('../tests/test3/{}/Сводная таблица.docx'.format(end_t))"
   ]
  }
 ]
}